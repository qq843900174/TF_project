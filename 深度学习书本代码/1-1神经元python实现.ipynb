{
 "cells": [
  {
   "cell_type": "code",
   "execution_count": 1,
   "metadata": {},
   "outputs": [],
   "source": [
    "import numpy as np"
   ]
  },
  {
   "cell_type": "code",
   "execution_count": 5,
   "metadata": {},
   "outputs": [],
   "source": [
    "#定义一个Neuron类\n",
    "class Neuron: \n",
    "    def __init__(self, weights, bias): #获得权重和偏置\n",
    "        self.weights = weights\n",
    "        self.bias = bias\n",
    "    def relu(z): #定义激活函数relu\n",
    "        return max(0,z);\n",
    "    def feedforward(self, inputs):\n",
    "        #神经元输入与权重相乘，再与偏置相加\n",
    "        z = np.dot(self.weights, inputs) + self.bias\n",
    "        return relu(z)"
   ]
  },
  {
   "cell_type": "code",
   "execution_count": null,
   "metadata": {},
   "outputs": [],
   "source": []
  }
 ],
 "metadata": {
  "kernelspec": {
   "display_name": "Python 3",
   "language": "python",
   "name": "python3"
  },
  "language_info": {
   "codemirror_mode": {
    "name": "ipython",
    "version": 3
   },
   "file_extension": ".py",
   "mimetype": "text/x-python",
   "name": "python",
   "nbconvert_exporter": "python",
   "pygments_lexer": "ipython3",
   "version": "3.7.6"
  }
 },
 "nbformat": 4,
 "nbformat_minor": 4
}
