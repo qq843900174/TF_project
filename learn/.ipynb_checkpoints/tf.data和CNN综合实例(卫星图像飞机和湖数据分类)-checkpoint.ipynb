{
 "cells": [
  {
   "cell_type": "code",
   "execution_count": 1,
   "metadata": {},
   "outputs": [],
   "source": [
    "import tensorflow as tf"
   ]
  },
  {
   "cell_type": "code",
   "execution_count": 2,
   "metadata": {},
   "outputs": [],
   "source": [
    "import matplotlib.pyplot as plt\n",
    "%matplotlib inline\n",
    "import numpy as np\n",
    "import pathlib"
   ]
  },
  {
   "cell_type": "code",
   "execution_count": 3,
   "metadata": {},
   "outputs": [],
   "source": [
    "data_dir = './dataset/2_class'"
   ]
  },
  {
   "cell_type": "code",
   "execution_count": 4,
   "metadata": {},
   "outputs": [],
   "source": [
    "data_root = pathlib.Path(data_dir)"
   ]
  },
  {
   "cell_type": "code",
   "execution_count": 5,
   "metadata": {},
   "outputs": [
    {
     "data": {
      "text/plain": [
       "WindowsPath('dataset/2_class')"
      ]
     },
     "execution_count": 5,
     "metadata": {},
     "output_type": "execute_result"
    }
   ],
   "source": [
    "data_root"
   ]
  },
  {
   "cell_type": "code",
   "execution_count": 6,
   "metadata": {},
   "outputs": [
    {
     "name": "stdout",
     "output_type": "stream",
     "text": [
      "dataset\\2_class\\airplane\n",
      "dataset\\2_class\\lake\n"
     ]
    }
   ],
   "source": [
    "for item in data_root.iterdir():\n",
    "    print(item)"
   ]
  },
  {
   "cell_type": "code",
   "execution_count": 7,
   "metadata": {},
   "outputs": [],
   "source": [
    "all_image_path = list(data_root.glob('*/*'))"
   ]
  },
  {
   "cell_type": "code",
   "execution_count": 8,
   "metadata": {},
   "outputs": [
    {
     "data": {
      "text/plain": [
       "1400"
      ]
     },
     "execution_count": 8,
     "metadata": {},
     "output_type": "execute_result"
    }
   ],
   "source": [
    "len(all_image_path)"
   ]
  },
  {
   "cell_type": "code",
   "execution_count": 9,
   "metadata": {},
   "outputs": [
    {
     "data": {
      "text/plain": [
       "[WindowsPath('dataset/2_class/airplane/airplane_001.jpg'),\n",
       " WindowsPath('dataset/2_class/airplane/airplane_002.jpg'),\n",
       " WindowsPath('dataset/2_class/airplane/airplane_003.jpg')]"
      ]
     },
     "execution_count": 9,
     "metadata": {},
     "output_type": "execute_result"
    }
   ],
   "source": [
    "all_image_path[:3]"
   ]
  },
  {
   "cell_type": "code",
   "execution_count": 10,
   "metadata": {},
   "outputs": [
    {
     "data": {
      "text/plain": [
       "[WindowsPath('dataset/2_class/lake/lake_698.jpg'),\n",
       " WindowsPath('dataset/2_class/lake/lake_699.jpg'),\n",
       " WindowsPath('dataset/2_class/lake/lake_700.jpg')]"
      ]
     },
     "execution_count": 10,
     "metadata": {},
     "output_type": "execute_result"
    }
   ],
   "source": [
    "all_image_path[-3:]"
   ]
  },
  {
   "cell_type": "code",
   "execution_count": 11,
   "metadata": {},
   "outputs": [],
   "source": [
    "all_image_path = [str(path) for path in all_image_path]"
   ]
  },
  {
   "cell_type": "code",
   "execution_count": 12,
   "metadata": {},
   "outputs": [
    {
     "data": {
      "text/plain": [
       "['dataset\\\\2_class\\\\airplane\\\\airplane_001.jpg',\n",
       " 'dataset\\\\2_class\\\\airplane\\\\airplane_002.jpg',\n",
       " 'dataset\\\\2_class\\\\airplane\\\\airplane_003.jpg',\n",
       " 'dataset\\\\2_class\\\\airplane\\\\airplane_004.jpg',\n",
       " 'dataset\\\\2_class\\\\airplane\\\\airplane_005.jpg',\n",
       " 'dataset\\\\2_class\\\\airplane\\\\airplane_006.jpg',\n",
       " 'dataset\\\\2_class\\\\airplane\\\\airplane_007.jpg',\n",
       " 'dataset\\\\2_class\\\\airplane\\\\airplane_008.jpg',\n",
       " 'dataset\\\\2_class\\\\airplane\\\\airplane_009.jpg',\n",
       " 'dataset\\\\2_class\\\\airplane\\\\airplane_010.jpg',\n",
       " 'dataset\\\\2_class\\\\airplane\\\\airplane_011.jpg',\n",
       " 'dataset\\\\2_class\\\\airplane\\\\airplane_012.jpg']"
      ]
     },
     "execution_count": 12,
     "metadata": {},
     "output_type": "execute_result"
    }
   ],
   "source": [
    "all_image_path[0: 12]"
   ]
  },
  {
   "cell_type": "code",
   "execution_count": 13,
   "metadata": {},
   "outputs": [],
   "source": [
    "import random"
   ]
  },
  {
   "cell_type": "code",
   "execution_count": 14,
   "metadata": {},
   "outputs": [],
   "source": [
    "random.shuffle(all_image_path)"
   ]
  },
  {
   "cell_type": "code",
   "execution_count": 15,
   "metadata": {},
   "outputs": [
    {
     "data": {
      "text/plain": [
       "['dataset\\\\2_class\\\\airplane\\\\airplane_637.jpg',\n",
       " 'dataset\\\\2_class\\\\lake\\\\lake_674.jpg',\n",
       " 'dataset\\\\2_class\\\\lake\\\\lake_257.jpg',\n",
       " 'dataset\\\\2_class\\\\airplane\\\\airplane_310.jpg',\n",
       " 'dataset\\\\2_class\\\\lake\\\\lake_494.jpg',\n",
       " 'dataset\\\\2_class\\\\airplane\\\\airplane_676.jpg',\n",
       " 'dataset\\\\2_class\\\\airplane\\\\airplane_558.jpg',\n",
       " 'dataset\\\\2_class\\\\airplane\\\\airplane_176.jpg',\n",
       " 'dataset\\\\2_class\\\\lake\\\\lake_381.jpg',\n",
       " 'dataset\\\\2_class\\\\airplane\\\\airplane_678.jpg',\n",
       " 'dataset\\\\2_class\\\\lake\\\\lake_134.jpg',\n",
       " 'dataset\\\\2_class\\\\lake\\\\lake_438.jpg']"
      ]
     },
     "execution_count": 15,
     "metadata": {},
     "output_type": "execute_result"
    }
   ],
   "source": [
    "all_image_path[0: 12]"
   ]
  },
  {
   "cell_type": "code",
   "execution_count": 16,
   "metadata": {},
   "outputs": [
    {
     "data": {
      "text/plain": [
       "1400"
      ]
     },
     "execution_count": 16,
     "metadata": {},
     "output_type": "execute_result"
    }
   ],
   "source": [
    "image_count = len(all_image_path)\n",
    "image_count"
   ]
  },
  {
   "cell_type": "code",
   "execution_count": 17,
   "metadata": {},
   "outputs": [],
   "source": [
    "label_names = sorted(item.name for item in data_root.glob('*/'))"
   ]
  },
  {
   "cell_type": "code",
   "execution_count": 18,
   "metadata": {},
   "outputs": [
    {
     "data": {
      "text/plain": [
       "['airplane', 'lake']"
      ]
     },
     "execution_count": 18,
     "metadata": {},
     "output_type": "execute_result"
    }
   ],
   "source": [
    "label_names"
   ]
  },
  {
   "cell_type": "code",
   "execution_count": 19,
   "metadata": {},
   "outputs": [],
   "source": [
    "label_to_index = dict((name, index) for index, name in enumerate(label_names))"
   ]
  },
  {
   "cell_type": "code",
   "execution_count": 20,
   "metadata": {},
   "outputs": [
    {
     "data": {
      "text/plain": [
       "{'airplane': 0, 'lake': 1}"
      ]
     },
     "execution_count": 20,
     "metadata": {},
     "output_type": "execute_result"
    }
   ],
   "source": [
    "label_to_index"
   ]
  },
  {
   "cell_type": "code",
   "execution_count": 21,
   "metadata": {},
   "outputs": [
    {
     "data": {
      "text/plain": [
       "'airplane'"
      ]
     },
     "execution_count": 21,
     "metadata": {},
     "output_type": "execute_result"
    }
   ],
   "source": [
    "pathlib.Path('dataset\\\\2_class\\\\airplane\\\\airplane_349.jpg').parent.name"
   ]
  },
  {
   "cell_type": "code",
   "execution_count": 22,
   "metadata": {},
   "outputs": [],
   "source": [
    "all_image_label = [label_to_index[pathlib.Path(p).parent.name] for p in all_image_path]"
   ]
  },
  {
   "cell_type": "code",
   "execution_count": 23,
   "metadata": {},
   "outputs": [
    {
     "data": {
      "text/plain": [
       "[0, 1, 1, 0, 1]"
      ]
     },
     "execution_count": 23,
     "metadata": {},
     "output_type": "execute_result"
    }
   ],
   "source": [
    "all_image_label[:5]"
   ]
  },
  {
   "cell_type": "code",
   "execution_count": 24,
   "metadata": {},
   "outputs": [
    {
     "data": {
      "text/plain": [
       "['dataset\\\\2_class\\\\airplane\\\\airplane_637.jpg',\n",
       " 'dataset\\\\2_class\\\\lake\\\\lake_674.jpg',\n",
       " 'dataset\\\\2_class\\\\lake\\\\lake_257.jpg',\n",
       " 'dataset\\\\2_class\\\\airplane\\\\airplane_310.jpg',\n",
       " 'dataset\\\\2_class\\\\lake\\\\lake_494.jpg']"
      ]
     },
     "execution_count": 24,
     "metadata": {},
     "output_type": "execute_result"
    }
   ],
   "source": [
    "all_image_path[:5]"
   ]
  },
  {
   "cell_type": "code",
   "execution_count": 25,
   "metadata": {},
   "outputs": [],
   "source": [
    "import IPython.display as display"
   ]
  },
  {
   "cell_type": "code",
   "execution_count": 26,
   "metadata": {},
   "outputs": [],
   "source": [
    "index_to_label = dict((v, k) for k, v in label_to_index.items())"
   ]
  },
  {
   "cell_type": "code",
   "execution_count": 27,
   "metadata": {},
   "outputs": [
    {
     "data": {
      "text/plain": [
       "{0: 'airplane', 1: 'lake'}"
      ]
     },
     "execution_count": 27,
     "metadata": {},
     "output_type": "execute_result"
    }
   ],
   "source": [
    "index_to_label"
   ]
  },
  {
   "cell_type": "code",
   "execution_count": 28,
   "metadata": {},
   "outputs": [
    {
     "data": {
      "image/jpeg": "[encoded data removed]",
      "text/plain": [
       "<IPython.core.display.Image object>"
      ]
     },
     "metadata": {},
     "output_type": "display_data"
    },
    {
     "name": "stdout",
     "output_type": "stream",
     "text": [
      "lake\n",
      "\n"
     ]
    },
    {
     "data": {
      "image/jpeg": "[encoded data removed]",
      "text/plain": [
       "<IPython.core.display.Image object>"
      ]
     },
     "metadata": {},
     "output_type": "display_data"
    },
    {
     "name": "stdout",
     "output_type": "stream",
     "text": [
      "airplane\n",
      "\n"
     ]
    },
    {
     "data": {
      "image/jpeg": "[encoded data removed]",
      "text/plain": [
       "<IPython.core.display.Image object>"
      ]
     },
     "metadata": {},
     "output_type": "display_data"
    },
    {
     "name": "stdout",
     "output_type": "stream",
     "text": [
      "lake\n",
      "\n"
     ]
    }
   ],
   "source": [
    "for n in range(3):\n",
    "    image_index = random.choice(range(len(all_image_path)))\n",
    "    display.display(display.Image(all_image_path[image_index]))\n",
    "    print(index_to_label[all_image_label[image_index]])\n",
    "    print()"
   ]
  },
  {
   "cell_type": "code",
   "execution_count": 29,
   "metadata": {},
   "outputs": [],
   "source": [
    "img_path = all_image_path[0]"
   ]
  },
  {
   "cell_type": "code",
   "execution_count": 30,
   "metadata": {},
   "outputs": [
    {
     "data": {
      "text/plain": [
       "'dataset\\\\2_class\\\\airplane\\\\airplane_637.jpg'"
      ]
     },
     "execution_count": 30,
     "metadata": {},
     "output_type": "execute_result"
    }
   ],
   "source": [
    "img_path"
   ]
  },
  {
   "cell_type": "code",
   "execution_count": 31,
   "metadata": {},
   "outputs": [],
   "source": [
    "img_raw = tf.io.read_file(img_path)"
   ]
  },
  {
   "cell_type": "code",
   "execution_count": 32,
   "metadata": {},
   "outputs": [
    {
     "data": {
      "text/plain": [
       "<tf.Tensor: shape=(), dtype=string, numpy=b'\\xff\\xd8\\xff\\xe0\\x00\\x10JFIF\\x00\\x01\\x01\\x00\\x00\\x01\\x00\\x01\\x00\\x00\\xff\\xdb\\x00C\\x00\\x08\\x06\\x06\\x07\\x06\\x05\\x08\\x07\\x07\\x07\\t\\t\\x08\\n\\x0c\\x14\\r\\x0c\\x0b\\x0b\\x0c\\x19\\x12\\x13\\x0f\\x14\\x1d\\x1a\\x1f\\x1e\\x1d\\x1a\\x1c\\x1c $.\\' \",#\\x1c\\x1c(7),01444\\x1f\\'9=82<.342\\xff\\xdb\\x00C\\x01\\t\\t\\t\\x0c\\x0b\\x0c\\x18\\r\\r\\x182!\\x1c!22222222222222222222222222222222222222222222222222\\xff\\xc0\\x00\\x11\\x08\\x01\\x00\\x01\\x00\\x03\\x01\"\\x00\\x02\\x11\\x01\\x03\\x11\\x01\\xff\\xc4\\x00\\x1f\\x00\\x00\\x01\\x05\\x01\\x01\\x01\\x01\\x01\\x01\\x00\\x00\\x00\\x00\\x00\\x00\\x00\\x00\\x01\\x02\\x03\\x04\\x05\\x06\\x07\\x08\\t\\n\\x0b\\xff\\xc4\\x00\\xb5\\x10\\x00\\x02\\x01\\x03\\x03\\x02\\x04\\x03\\x05\\x05\\x04\\x04\\x00\\x00\\x01}\\x01\\x02\\x03\\x00\\x04\\x11\\x05\\x12!1A\\x06\\x13Qa\\x07\"q\\x142\\x81\\x91\\xa1\\x08#B\\xb1\\xc1\\x15R\\xd1\\xf0$3br\\x82\\t\\n\\x16\\x17\\x18\\x19\\x1a%&\\'()*456789:CDEFGHIJSTUVWXYZcdefghijstuvwxyz\\x83\\x84\\x85\\x86\\x87\\x88\\x89\\x8a\\x92\\x93\\x94\\x95\\x96\\x97\\x98\\x99\\x9a\\xa2\\xa3\\xa4\\xa5\\xa6\\xa7\\xa8\\xa9\\xaa\\xb2\\xb3\\xb4\\xb5\\xb6\\xb7\\xb8\\xb9\\xba\\xc2\\xc3\\xc4\\xc5\\xc6\\xc7\\xc8\\xc9\\xca\\xd2\\xd3\\xd4\\xd5\\xd6\\xd7\\xd8\\xd9\\xda\\xe1\\xe2\\xe3\\xe4\\xe5\\xe6\\xe7\\xe8\\xe9\\xea\\xf1\\xf2\\xf3\\xf4\\xf5\\xf6\\xf7\\xf8\\xf9\\xfa\\xff\\xc4\\x00\\x1f\\x01\\x00\\x03\\x01\\x01\\x01\\x01\\x01\\x01\\x01\\x01\\x01\\x00\\x00\\x00\\x00\\x00\\x00\\x01\\x02\\x03\\x04\\x05\\x06\\x07\\x08\\t\\n\\x0b\\xff\\xc4\\x00\\xb5\\x11\\x00\\x02\\x01\\x02\\x04\\x04\\x03\\x04\\x07\\x05\\x04\\x04\\x00\\x01\\x02w\\x00\\x01\\x02\\x03\\x11\\x04\\x05!1\\x06\\x12AQ\\x07aq\\x13\"2\\x81\\x08\\x14B\\x91\\xa1\\xb1\\xc1\\t#3R\\xf0\\x15br\\xd1\\n\\x16$4\\xe1%\\xf1\\x17\\x18\\x19\\x1a&\\'()*56789:CDEFGHIJSTUVWXYZcdefghijstuvwxyz\\x82\\x83\\x84\\x85\\x86\\x87\\x88\\x89\\x8a\\x92\\x93\\x94\\x95\\x96\\x97\\x98\\x99\\x9a\\xa2\\xa3\\xa4\\xa5\\xa6\\xa7\\xa8\\xa9\\xaa\\xb2\\xb3\\xb4\\xb5\\xb6\\xb7\\xb8\\xb9\\xba\\xc2\\xc3\\xc4\\xc5\\xc6\\xc7\\xc8\\xc9\\xca\\xd2\\xd3\\xd4\\xd5\\xd6\\xd7\\xd8\\xd9\\xda\\xe2\\xe3\\xe4\\xe5\\xe6\\xe7\\xe8\\xe9\\xea\\xf2\\xf3\\xf4\\xf5\\xf6\\xf7\\xf8\\xf9\\xfa\\xff\\xda\\x00\\x0c\\x03\\x01\\x00\\x02\\x11\\x03\\x11\\x00?\\x00\\xc5\\xcej3\\xd4\\xd4\\x8ep3\\x91\\x83P\\x92\\t\\x02\\xa0\\xb1Oe\\xa7g\\xe7\\xcfe\\xa8\\xf7|\\xccz\\xe3\\xa5)\\x04aF3\\xd5\\xbe\\xb4\\x80U\\xe3\\xe6o\\xad*\\xb0<\\xe7\\xad!?\\xc1\\xcf\\xbd8(\\xech\\x00 \\xf5\\x14\\x85\\x88\\xc6E.\\xd3\\xda\\x9a\\xcc\\xc2\\x98\\x0b\\xbc\\x1e\\xabJ\\x9b[\\xf8F\\x07$\\x1a\\x8fp\\xee1N\\xca\\x9e\\x86\\x80\\x11\\xe3IX\\xb1P2{Tb\\xdf\\x07*\\xe4zT\\xd8\\x00SpGJ@F\\xc91\\xc6N\\xff\\x00\\xa9\\xa7#\\xc9\\x1er\\x1f\\x07\\x8c\\x83\\xd2\\x9f\\x93\\xde\\x940\\xef\\xd2\\x98\\r\\xfbG\\xaa\\xabzd`\\xd4\\x83l\\x8b\\x90\\xac>\\x84\\x1f\\xd2\\x90\\xaa7P=\\xa8\\xf2\\x11\\x87\\x07\\x1fJ\\x00\\x02\\x83\\xc2\\xb8\\xfa0\\xc58\\x03\\xb7;r=\\xb9\\xa8\\xcd\\xbb\\xf6\\x90~4\\x80\\xc8\\xad\\x85\\x8f\\xe6\\xcf\\x05h\\x029b\\xdc\\xc1\\xb2}qNn\\x98\\x1c\\x1aw\\x9c\\xcc\\xc7wA\\xfd\\xe5\\xedJZ>\\x0e\\xd1\\xcf\\xf7s\\xfdh\\x024\\xca\\x9c\\x9aqb\\xc7\\xa5;ll>W\\xfc\\xc6)\\xbb_$&\\xd2\\xd8\\xf5\\xa0\\x0b\\r\\xe5\\xa0\\x86\\x17\\x0b\\x93\\xf3\\x10\\xde\\x87\\xd7\\xf0\\xfeu.\\xa0\\xcf\\xe6\\xa0 \\xe1T`\\x8e\\x9f\\xe7\\xfc*\\x88\\xb6Q7\\xdaew\\xcb\\x0c:\\xb1\\xe1\\x87\\x1c\\x01\\xdb\\xf5\\xa9L\\xbet\\xc4\\x80Tgv\\t\\xce=\\xbf\\x9d\\x00+\\xb2\\x07P\\xcb\\xb8*\\xe3\\x18\\x1c\\x9a\\x8c\\xb6\\xe7$\\xf5\\xa8\\xd9\\xcb\\x12I\\xe7<\\x9aU94\\xc0\\x9d]\\xc2y`\\x0eNs\\x8eG\\xe3V>\\xd5)\\x11$\\xa4L\\x91\\x93\\xb1%\\x1b\\x94g\\xd8\\xd4\\x11s\\x93\\xf8\\n\\xb0\\xb12/\\x98q\\x8e\\xc2\\x90\\t+B\"\\n \\xc4\\xc4\\xeeg\\x0cq\\x8fM\\xbd\\x07\\xe1P(i>DR\\xcd\\x8e\\x05<!f$\\x91\\xf54\\xd6\\xc8\\xfb\\xad\\x8f\\xa5!\\x8d\\x88\\x81\"\\x9f\\xc0\\xd4L9#\\xde\\x9e\\xa3\\x0c\\x08\\xf5\\xe2\\x96u>y\\xf69\\xc6h\\x01%VS\\x9ceG\\xa75\\x06\\xfcg=z\\n\\x95g\\x99\\x0f\\xc9#.z\\xe0\\xf5\\xa6\\xbc\\x8b!\\xc1Dlz\\x0cR\\xbb\\xea\\x01\\x11\\xe3#\\xf8y\\xfci\\xe0\\xf0Kt\\xeai\\x9eZ\\x85 \\x121\\xc9\\xcf4\\xbbO\\x96\\x14\\x15\\'\\xa9\\x1d)\\x88\\x01S\\x96\\'\\xad(\\xc1\\xe8j6\\x8d\\xc0<\\x1cR\\x02G\\x19\\xa6\\x04\\xf9`)\\xa5\\xb3\\xd6\\x98\\x1c\\x8e\\xf4\\xed\\xe0\\xf5\\xa0\\x04\\x07&\\x9d\\xc53\\xe5=\\xf1H\\xc8{5\\x00H9\\xe2\\x97\\xf1\\xa8\\x80p}~\\x94\\xf0}E\\x00\\x87\\x1c\\xd2\\xe7\\xda\\x90\\x1c\\x81\\x8c\\x1a]\\xc7\\xa1\\x14\\x0c\\\\\\x03\\xc5\\x00\\x15\\xe8h\\x1bI\\xa4\\xc1^\\xf4\\x80v\\xf2:\\x9a\\x92\\x19Jn|\\x80G\\x00\\x11\\x9c\\xd5w&\\x906\\x05\\x00N\\x19\\x18\\xfc\\xc0\\x1a\\x0c1\\x93\\xd3\\x1d\\xf85\\x00<\\xd4\\xa0\\xe4u\\xa0,4\\xdb\\x91\\xca?\\xe6*\\x19\\x16P\\x1br\\x0c\\xe7\\xaa\\xf1VC\\xd2;\\xe5{S\\xb8\\x8a\\x8c\\xce\\x87\\x0c0GPiRR\\xac\\x08\\xea\\r[\\x93\\x0c\\xcd\\x9e\\xd8^\\x9d\\xeaO&\\x16\\xf96\\xa7NH\\x1c\\xd0+\\x15\\xc2$\\xb1oL\\x8c\\xb6\\xdcc#?Z\\x0c,\\xa7\\x19RG\\xa1\\xe6\\xae\\x18\\x00\\xb61B\\xc5X\\x9c\\xee$\\x1e?/j\\xacl\\xee\\x03n\\xdd\\xb8\\xfdz\\xd1p\\x1f\\x122cp*:\\x9c\\x8a\\x91\\xa7u9\\x07*F6\\xe7\\x8cTM3\\xc7\\x94\\xda\\xe0w\\xc7C\\xf8R\\t\\xcbp\\xd1\\xaf\\xe5\\x8f\\xe5Hc\\xd9\\xb7\\xb6p\\x07zc\\x9ex\\xa90\\x81\\t\\xf9\\x80\\xf6!\\xbf\\xfdT\\x85A#\\x0e\\xa7\\xdb\\xa50\\x05M\\x8a%?x\\x9f\\x90\\x7fZ\\x84\\xfd\\xec\\xf75<\\xaa\\xe7\\x96V\\xc7n8\\xfc\\r@G\\\\\\xd0\\x86H\\xb6\\xae\\x0f\\x98\\xbbd\\x00\\xf6\\xe9\\xf9T{7;9P9\\xe8\\x07\\x15>\\xe3\\x18\\x00qMs\\x83\\x8eO\\xadN\\xa0D#%\\xf9\\xce:\\x9ac\\xa9\\xc9<\\xd5\\x80;\\xf74\\xe2\\x06\\xd3\\x8f\\xca\\x98\\x8c\\xf2\\xe5O\\x04\\x8fqK\\xe7\\x93\\xf7\\x82\\xb0=\\xc8\\xe6\\xa7\\x92 W\\xa5W)\\x8e\\x08\\xe9@\\x08\\\\/!x>\\x86\\x99\\xe7\\xae\\xec\\x1f\\xd6\\xa4\\x11\\x82*\\xbc\\xf10\\xe6\\x98\\x17V1\"nC\\x91\\xedM(\\xc3\\xd0\\xd5H\\x19\\x97\\x18-\\xc5]Y\\xd8\\x11\\x9eF?\\x88f\\x93\\x047s/cJ$\\xa9C\\xc6q\\xf2\\x81\\xfe\\xe9\\xa4\\xf2\\xa3n\\x8d\\x8f\\xf7\\x85\\x03\\x19\\x95=\\xa9\\xea}\\r7\\xec\\xed\\xd0r\\x0f\\xa50\\xa3-\\x02\\xb97~\\x82\\x9b\\x96\\xddQ\\x86a\\xc94\\xf5\\x90\\x1a\\x06\\x81\\x8d \\xc1\\xebN\\xdc3\\xd2\\x9aH\\xcd\\x00.\\x00\"\\xa4\\x00\\x10j\"FE9N3\\xda\\x80\\x1f\\x8e=i\\x03\\xed\\xcb\\x11\\xf7zQ\\xd3\\xbehc\\xb3h\\xc6{\\x91\\xfc\\xa8\\x10C\\xf7\\xb7\\x1e\\xdc\\xf3\\xebS\\x00s\\x93\\xd7\\xd6\\x98\\x01\\x00\\x03\\xcb\\x1eI\\xcdH\\xb8\\xf7\\x14\\x00\\xe0\\xc5N\\x01\\xc5N\\xb30]\\xa4\\x03\\xefQ\\x01K\\x8ac$\\x05\\x18\\xf2)L\\x119\\xe4\\x03LU\\xe7\\xa5K\\xb1\\x87J@B\\xd6\\x0b\\x8c+\\x1a\\x84\\xda\\xc8\\xa4\\x95\\xc3{\\x11V\\xa4\\x94\\x83\\xb1\\x7f\\x13BJGZ\\x00\\xa4D\\xca\\xd9\\t\\xb0\\x8e\\xeb\\x9eh\\x12\\x96!I_\\xf8\\x10\\xfe\\xb5\\xa2\\x1dOP(h\\xa1\\x93\\xaa\\x8a\\x00\\xa2x\\xcb\\x128\\x1f\\xadG\\xf7\\x98\\x0e\\xfdM+d\\r\\xbd\\x87\\'\\xebH\\xa4(\\xe7\\xbd1\\x12\\x0c\\xf7\\xa4e\\xcd/P)\\xca\\xac\\xc1\\x88RB\\xf54\\x81\\x0c\\\\F\\xdb\\x99\\x15\\xc6:\\x1a\\xac\\xc3\\xe6=*\\xcbv\\xc9\\xedT\\xa1\\x99n\\x90\\xc8\\xa3\\x80\\xe5\\x7f#@\\xc7m\\xc1\\xa6\\xb0\\xca\\x90j]\\xb4\\x9bx\\xa0\\n\\xf1\\xa1V8\\xefV@\\\\\\x0c\\x8a@\\xa4\\x1e\\x94\\xf0\\x9e\\xf4\\x08n\\xc5\\xedA\\x8c\\xe3\\x82i\\xe1i\\xdc\\xe2\\x81\\x90|\\xc3\\xad/\\x9c\\xf9\\x19$\\x0fC\\xcdN>\\x83\\x148R>\\xe6~\\x94\\t\\x91\\t#\\'\\xe6Q\\xf8\\x1cR\\x98\\xe3`v\\x92>\\xa2\\x90\\xc2\\x8e8\\xe0\\xd4\\x05^&\\xe0\\xf1@\"M\\x84g\\xa3\\x0e\\xd8<\\xd2\\x18\\x88=y\\xf7\\xa4\\xfb\\xc3\\x92\\x08\\xa6\\x97u\\xe8O\\x14\\x0cR\\xae;R\\xab\\x109\\x14\\xb1\\xdc\\x13\\xc4\\x8a>\\xb50\\x11\\x1f\\xe2 }3@\\x0c\\x8c\\x87=\\x0e\\x00\\xc9\\xc59G\\x98\\xea\\xccrO\\xcc\\xd4\\xf3\\x02\\xf9D.\\ta\\x93\\x83\\x8e\\x07\\xd7\\xfc\\xf1Hah\\xe2\\xc0\\xc8g=\\xc7o\\xf3\\xfc\\xa8\\x10\\xab\\x93\\x92v\\x92Ni\\xe3\\xf1\\x15\\x00\\x0e\\xb8\\xa5\\x12\\x90y\\xa0e\\xa5\\x1d\\xf3R\\xadVI\\x85L\\xb3\\x03\\xd2\\x81\\x13\\x06\\xc1\\xc59\\xa7(0\\x07$TFUA\\xd0n\\xa8G\\'$\\xd0\\x04\\xa1A\\xebN\\xc50\\x12:c\\xf1\\xa7n#\\xaa\\xfeT\\x00c\\x03\\xa5.\\xee8\\xe2\\x902\\x91\\xcf\\x14\\xbc\\x1e\\x86\\x81\\x99\\xcd#\\xa9\\xc3\\x00\\xc4\\x9eqQ\\x86;\\xc9*E:N\\x18\\xb99P3\\xf4\\xab\\x10\\xdbKw)\\xf2Q\\x9d\\xfa\\xe1E;\\n\\xe4k!\\x03\\xad;\\xcc\\xc8\\xc6*f\\xd3o\\x02nkI\\xb1\\xd8\\xec5\\x03\\xdbO\\x19\\xc3A \\xc7\\\\\\xa9\\x14X.$\\x13G<\\xcf\\x0cr\\xabI\\x19\\xc3\\xa7\\xa7\\x15\\x91\\xa1\\xbbK\\x15\\xca\\xb7\\xde[\\x97\\x1di\\xd7z=\\xe5\\xdd\\xdcr\\xe9q\\xb1\\xbf$\"\\xa2\\x9d\\xa5\\xf8\\xfc\\xb8\\xc7z\\xc3\\xb1\\xd4.4K\\xe9\\xad\\xf5\\x0by!fbd\\x8d\\xd0\\xab\\xa9=84\\xec\\x07]\\x82;\\xfe\\x14\\xee\\x0bgo\\x1e\\xe6\\xb1\\xe1\\xd6\\xa7\\xd4&Ami\\x848\\xcb9\\xc2\\x8c\\x7f:\\xdbv\\x89Yv8|\\x8eH\\x18\\x00\\xfaT\\x8cM\\xbd\\xfb\\xd4\\x8a8\\xa6\\x82\\xa7\\xd6\\x9c1\\xd8\\xd0\\x03\\xb6\\xfbS\\xa2C,\\xab\\x1a\\x82Y\\x8e\\x00\\xa8\\xb7\\x1aU\\x95\\x95\\x83)*GB(\\x02i\\xa0\\x92\\x17\\x0b \\x03##\\x9c\\xd36\\x01V\"\\xb9\\xf3\\xbeK\\xa2_<y\\xa7\\x04\\x81\\xd8r\\r@\\xfb|\\xc6\\x11\\x92W<\\x13\\xd6\\x80C\\nT\\x12\\xa6GO\\xc6\\xac\\x1c\\xd3\\x1c\\x9c`\\xd0\\x05d\\\\w\\xa3n\\x1b\\x91R*\\x93\\xe9C\\x0c\\x1a\\x00\\x81\\xe3\\x19\\xa9U\\t\\x01@\\xf6\\xe0\\xd1\\xb0\\x93\\xc75\"\\xae\\xd8\\xd8\\xf2\\x0b|\\xa3\\x9f\\xcf\\xfc\\xfb\\xd0\\x03<\\xc2\\xeeB\\xe7i\\xf9F\\xe3\\xda\\x9c%*\\xc7\\x03\\x8e\\x94\\xed\\x98\\xdeT\\xf1\\xf7G9\\xcf\\xa9\\xff\\x00>\\xb4\\x81\\x0f~i\\x00\\t\\xc3c+\\xfaS\\xf3\\x13\\xf1\\xd0\\xfet\\x82<\\xd24$\\x9c\\xe3\\x8a`!E/\\xb5Xd{\\xe2\\x9d\\xe5\\xbcI\\xbc\\xe4\\xe7\\xa5F\\xc8c\\\\\\xf3B\\xbc\\xa0\\xee$\\xe7\\xda\\x90\\x08]\\x98\\x96<\\xd4\\x82`(\\xf3\\xc9\\x18uS\\xf5\\x1f\\xd7\\xad*\\x98[\\xaa\\x90}\\x8eG\\xf9\\xfch\\x02A(\\xa7\\x87\\xcfz\\xac\\xf1)\\xfb\\xb2\\x83\\xe8\\x08\\xc1\\xff\\x00\\x0f\\xd6\\x9b\\xb6U\\x19\\x00\\x9fq\\xcd0.\\xe6\\x90\\x81\\xd8~UInY~\\xf0\\xa9\\x96\\xe0\\x1a\\x00u\\xd5\\x9c\\xc8\\x8c\\x92\\xc0\\xf1\\xa9\\x1bA+\\xd6\\xafx\\x06\\xee+\\x99\\'\\x84\\xc8\\xabw\\x02ldn\\x1b\\x83\\x8c\\x8f^\\xdf\\x9dY\\xf1\\r\\xd34\\x91\\xd9\\xac\\x8c\\xcb\\x1f\\xcc\\xd9=\\xfbUM?\\xc3\\x07Q\\xb7\\x97S\\xb3\\xb96\\xba\\x84G\\x10\\xba\\x8e\\x18\\x8cu\\xf6\\xf7\\xfd+D\\xae\\xecCgx\\xa8\\xdbx\\xe7\\x1e\\xf4mrrG\\x1d9\\x19\\xaecE\\xf1ik\\xb5\\xd2\\xb5\\xd8\\x85\\xa6\\xa3\\xf2\\x85b0\\x92\\xe4pA\\xf7?\\x81\\xed]\\\\\\x91\\xbc\\xa9\\x85\\xe3q\\xc04\\xe4\\xac$r\\xbe/\\xd6\\x9bH\\xd2Z\\xe2\\xdeU\\x8e\\xeaF\\x0b\\x0b(\\x04\\xa9\\xf5\\xc7\\xb0\\xaeW\\xc5~)\\xb0\\xd6\\xbc/\\xa5\\xdf\\xa5\\xbd\\xbb\\xeb)1\\x8ex%\\x8fs\\xf0\\x0fOT$\\xe4\\x0e\\xdd;UO\\x1f\\xea\\x0fu\\xaf\\x1bE,\\xd0\\xda\\r\\x9f\\xf03\\xd4\\xff\\x00!\\xf8W5\\xa6Z\\xb5\\xf6\\xb3\\x04\\n\\x033\\xc8\\x11I\\x1c\\x82z\\x9f\\xc3\\x9a\\x15\\x92\\xd4\\xab\\x1e\\x9b\\xa3\\xf8Fx\\xb4Xu\\rZd\\x8d\\xe5U8c\\xb1A\\xec\\x00\\xc8\\xce;\\xe3\\xd6\\xb3/\\xe1\\xb3\\x88\\xa4v\\x93\\xcb3\\x83\\xcb\\xb2a1\\xdb\\x00\\xf3\\x9a\\xf4\\x8b{tH\\x94.\\xe6\\xda6\\x82y\\xe0\\n\\x95\\xa2I\\x02\\xee\\x8dN:dT\\xb5q\\\\\\xf2\\x9c\\xe3\\x1c\\xe7\\xd4\\nv\\xee\\x99\\xafL\\x96\\xce\\xc6y\\x18=\\xb4\\x0cT\\r\\xc0\\xc6?\\xc2\\xa1\\x97E\\xd3[\\x83g\\x0e=\\x97\\x14\\xb9Gs\\xceCf\\x94\\x1f\\x7f\\xc2\\xbb;\\xed\\x1bM\\x8a\\xcai\\x85\\xb6\\x0chNC\\x1fJ\\xe2\\x8e\\x1b\\xb8\\xa9j\\xc5&H2\\xc7\\x00rzR\\x9e\\t\\x07\\x82)\\x91\\x00\\x0b3d\\x85\\x04\\xf0y\\xf6\\xa4\\xdc\\xc7\\xae\\xee}h\\x19 jk\\x1c\\xd3\\x0b\\xd4\\x02\\xe5d\\x92X\\xd4\\x9d\\xd16\\xd6\\x07\\xe8\\x0f\\xf5\\xa0D\\xcb\\x9e\\xd419\\xe6\\x95T\\xed\\'=\\x06I\\xcd39\\xeai\\x00\\xf0\\xbcu\\xa778\\xf4^8\\xf5\\xa2>2\\xdf\\xdd\\x1cs\\xdf\\xb5\\x11z\\x9e\\x8b\\xc8\\xfa\\xd3\\xb0\\x0f$\\x02\\x17\\x1d?\\x9fzx\\x00\\xd3p<\\xb5#\\x96=}\\xa9\\x06\\xec\\xf0\\x0f\\xe1H\\t@\\xc1\\xa9\\x14\\xa8\\x19=*\\xb8\\x93\\x9ax$\\x9e\\x07\\x14\\x00\\x1f\\xde6{v\\xa3\\xcb\\x1e\\xd4\\xee\\xdc\\xa7\\xeb@\\x1f\\xec\\x9a`D\\xd0g\\xb5F\\xd0\\x91V\\xbav4\\x84\\xe7\\xd6\\x80)le\\xe8i\\xbb\\x8a\\x9c\\xf7\\x15m\\x90z\\xd4M\\x18#\\xefR\\x01\\x82P\\xc7\\xe6\\xc3\\xff\\x00\\xbc?\\xad.\\xc8\\x98\\xf51\\x9f\\xccT-\\x19C\\xd6\\x9b\\xbc\\xafZ`]U\\x91\\xd7q\\x0cs\\xd0\\x90Nk\\xb7\\xf0\\xfc&\\r&\\xde@H\\xc9-\\xc7\\x06\\xaci\\x91\\x9b}6\\xdd\\n\\x00Ly\\x19\\x1c\\xd5\\x95\\x0c\\x14\\x12?\\x01Z%b\\x19_Y\\xd14\\xcdZ\\xd8\\xfd\\xaa\\xd4K\\x0e2v\\xf1%\\xbbg\\xefF{\\x03\\xd7\\x1d2k\\x96\\xbd\\xd55\\x8f\\x08\\x88#}\\xba\\xbe\\x9a\\xd0\\x95\\xb7\\xba\\x88\\x10\\xe1\\x86q\\xbcs\\xc8\\xe3\\xafn\\xf5\\xa5\\xe2\\x8dz\\xf7\\xc3\\xba_\\xdb\\xad\\xe3S3H\\xb1\\xc5\\xb8dd\\xf5\\x04w\\x18\\x04V\\x8d\\x95\\xf4\\x90Y\\xc1\\xadCd\\xd0\\xc3*\\x89\\'\\xb3\\x98\\x02c<\\x83\\xf4\\x1fx\\x06\\xf4\\xad\\x17\\xbd\\xb9;\\x1e\\x1c\\xee\\xd3\\t.\\\\\\xeen]\\x9b=X\\x9f\\xf1\\xae\\xc3\\xe1\\xa6\\x9f\\x03\\\\\\xdd\\xeawo\\x1cq\\xda\\xa7\\xca\\xf2\\x90\\x00-\\xdf\\xaf@?\\x9dek\\x80_\\xc9\\x14\\xb6\\xf6\\xea\\xad\\xa9\\xdd\\xbc\\x91\\xa2 \\x19\\x19\\xc2\\x8e\\x07\\xfbB\\xbb\\x0b\\xdf\\x02h\\xf0X\\xa1_\\x10\\xab\\xdc,\\x031\\xa0VB\\xf8\\xecGl\\xe7\\xaf\\xadK\\x8d\\xd9|\\xd6GG7\\x8c|?f\\xc63\\xa8#\\x90?\\xe5\\x9a\\x96\\xfeB\\xb3\\x9b\\xc7\\xfa|\\xf3\\xfd\\x9fN\\xb0\\xbf\\xbb\\x94\\x0f\\xb9\\x1c@\\x7fZ\\xca\\xd2\\xfc/\\xa0\\xdb\\xaaOx\\xd3^\\\\1\\xe68\\xd4\\xed\\x1f@1\\xcf\\xe2k\\xb3\\xb7g\\xb6\\xb6\\x11i\\xdaA\\xb6\\x87\\x8d\\xa1\\xc2\\xc2\\x0f\\xbf\\'\\xf5\\xa7\\xcaM\\xc4\\xd3e\\xbb\\x9e\\xd8\\xdc\\xdeY\\x1bY\\xa5?\\xea\\x8bn(\\x07L\\x91V\\xd9\\x89\\x07\\x00\\xd4\\x12Iu$m\\x97\\x8e&\\xc0\\xdac\\xcb\\xfds\\x901\\xfa\\xd4\\x90\\x81\\x12,jN\\x00\\xea\\xc4\\x93\\xfa\\xd2\\x01\\xa7;\\x18\\x15\\xe0\\xf5\\x04f\\xab}\\x86\\xcd\\x88\\xddk\\x17\\\\\\xf2\\x83\\xad\\\\w\\xc5E\\xe6\\xf3\\x93\\x9e\\x07j\\x91\\x94\\x9bK\\xb0\\x95\\x88kH\\xb6\\xe3\\x04\\x01\\x8a\\x8d\\xfc=\\xa56?\\xd1\\x80\\xcf\\xa3\\x11\\xfdkZ\\x12\\x812z\\x9eH4\\xfc\\xab0\\xe0~\"\\x95\\x82\\xe7#}\\xa3h\\xf6\\xf3\\xdb\\xc13\\x18%\\x9f\" \\xcf\\x90O\\xa6O\\xd6\\xb9\\x19\\xadV\\xcf\\xc4:\\x9d\\xba\\x16\\xe1\\xd1\\xbe\\x7fB\\xbf\\xe2Ez\\x96\\xaf\\xa4\\xd9\\xeb:k\\xd8\\\\\\xa6C\\xf2\\x8e\\x071\\xb0\\xe8\\xc2\\xbc\\xb3Q\\xf0\\xe6\\xb5\\xe1\\xfdb\\xde\\xee\\xf2\\xce]F\"\\xe0,\\xb0\\xbb2I\\x81\\x80\\xa4\\x8e\\xe3\\xd0\\xfaS\\xb2a\\xccM\\xc0\\x850\\xa0\\xbb\\x13\\xce{\\x0f\\xf3\\xfaS\\tm\\xbc\\xf1\\xf5\\xad\\xdd\\x1fM\\x9bS\\xbcAyoeo\\x16\\xdd\\xef\\x04N\\xef(\\x00\\xf4<\\xed^}y\\xe0\\xf1[\\xcf\\xe1M9\\xc9\\xd8\\xd3\\xa0\\xe3\\x85\\x7f\\xf1\\x15<\\x85s\\x1c`h\\xfe\\xce\\x912\\xa9m\\xdb\\xd9\\xf7\\x11\\xc7a\\x8f\\xf3\\xd6\\x94\\x90\\x15T\\x11\\x93\\xc9\\x1f\\xe7\\xfc\\xf3]I\\xf0\\xbd\\xa3LI\\x96\\\\\\x93\\xed\\xfe\\x15\\x91w\\xa32jS\\xdbB\\xdf,k\\xb8\\x93\\x8e8\\xfe\\x99\\xa9z\\x02\\xd4\\xcfL\\xe7\\x07\\xa5JT\\xa2\\x8c\\x8e\\xbd*\\x15WIZ20Cc\\xf5\\xa9\\x1aT\\x04\\xe0\\xb1\\x03\\x80O4\\xaeU\\x85\\xf9{\\x8ap\\x02\\xa3\\xde\\x0fC\\x9f\\xc2\\x9f\\xbb\\xd0\\x8a`;\\x03\\xd4\\xd2\\xe4g\\xad47\\xd2\\x82~\\x94\\x08~A\\xefG~\\xb4\\xd0=\\xa9p1\\xd0\\xd0\\x02\\xe0\\x9e\\xf5\\x19\\x1e\\xc2\\x9d\\xb7\\xebM*\\x07s@\\x10J\\x80\\x8f\\xbbUeA\\x9e\\x01\\xabR\\x03\\xd01\\xaa\\xec\\t\\xe8h\\x11\\xeaA\\x86\\xc4U\\x1c\"\\x80)\\xe4\\x9d\\xbbG\\\\b\\xb9\\x8d\\x13\\xc5\\x91\\xeb:\\x80\\xb4\\x8e\\xce\\xe2$r\\xc1n\\x1f\\x05\\x18\\x8e\\xd5\\xd3\\x84\\xc4\\x98\\'\\xf1\\xadob7*\\xea6\\xd0\\xcfh\\xb1\\xdd\\xc4\\xb3F\\x87\\xcc;\\xba.\\x0es\\xfaW\\x99_x\\xb7T\\xd7\\xbcS$\\xc9)\\x86;\\xa4\\xfb\\'\\x95\\x12\\xe1L>\\x98\\xf5\\xe4\\x9f\\\\\\xd7u\\xe2{\\xb2\\x9e\\x1d\\xd4O\\xce$xJ\\xa0\\xc7\\x18\\xce\\t\\xcfn\\xb5\\xcb|/\\xd0WY\\xf1Do*\\x13\\x0c\\x1f6\\xe08\\xc8\\xff\\x00\"\\x9c{\\x81\\xd0\\xd8x~\\x11\\xe2\\t\\xee\\xae\\x83Gk\\xa6[\\xad\\x9d\\xb3G\\x8d\\xc6\\xe1\\xd4\\xb3\\x1e\\xbf\\xc2\\xad\\xf9\\xe3\\xd2\\xb7t\\xad&\\xd5\\xb4\\xef\\xb7O\\xa7\\x98\\x10\\xb8\\x8e(\\xe7\\x983\\xb9\\x04\\x82H\\x00\\x00;\\xf5?\\xadokq\\xdb%\\xc9\\x864_&2Y\\x819\\x05\\xd8\\xe5\\x8f\\xd7\\x9a\\xa2\\x8c\\x079$c\\x00\\x9fOJ\\\\\\xc0W\\x8aP%x\\xe1\\x87\\xc9\\x03\\x961\\xae\\xdc\\xfbdu\\xa9\\x0b\\x16\\x1d\\xf3\\xdf4\\xa6E\\'\\x8cPH#\\xa5+\\xb1\\x8d1\\xa9\\xe4\\x9ej\\x07\\\\\\x1c\\x02s\\x9e\\xf5e@\\x079\\x19\\xa6\\xba\\x96\\xce\\x08\\rL\\n\\x8c\\x8e[\\x1b\\xaa3\\x1b\\x97\\n\\x0f_\\xe5S\\xaa\\xb0g\\x0c\\xd9 u\\xa1\\x01w,\\x0e\\x00\\xf9Fh\\x02\\x85\\x86\\xb3e\\xa9<\\x91[N\\x0c\\xd11W\\x89\\x86\\xd7\\\\{\\x1a\\xd5E$\\x12\\xc6\\xb9\\xfb\\xcf\\x04\\xc1\\xae\\xea2\\\\Y\\xde-\\x8e\\xaa\\xb810\\x18Yq\\xd8\\x91\\xd0\\xfb\\xfe\\x86\\xb3\\x1f[\\xd7\\xbc-2\\xd9\\xf8\\xaa\\xc1\\xd53\\xb1.\\xa2\\xf9\\xc3\\x1fr8<~>\\xd4[\\xb0\\x1dN\\xad\\xaa.\\x97\\xa3]\\xde0\\xff\\x00U\\x19+\\x9e\\xed\\xd8~u\\xe4v\\xfe-\\xd4\\xed|;\\xabi,\\xe6xo\\n\\xc9\\x19l\\x92\\x92\\xef\\x07+\\xf5\\xc1\\xad\\xdf\\x1cx\\x96\\xdfP\\xd2\\xad\\xadl.\\x04\\x91J|\\xd7\\xdap@\\x18\\xc0a\\xeb\\x93\\xfaW\\x1dai5\\xfe\\xadii\\x12\\xfc\\xf20\\xe0\\x0f_\\xfe\\xb5\\x1b\\x02G\\xab\\xf8\\x1fE\\xd2\\xf4\\xff\\x00\\x0b[<\\xaby-\\xe4\\xe9\\xe6L\\xe91Eby\\x1d\\x0e{\\xfaw5\\xd0~\\xec\\x13\\xe5\\xa9E\\xcfB\\xe5\\x8f\\xe6i\\x96\\x96\\xebo\\x12A\\x14[R5\\n\\x88:\\x00\\x061\\xfaT\\xc4\\x102Gz.\\xc0`\\xdb\\x91\\x9a\\xcf\\x97I\\xb3\\x9e\\xe2I\\xdd\\x0f\\x9a\\xc7\\xe6er3\\x8a\\xd0\\xca\\x96\\xe7\\x8aaO\\x9bv\\x06)4\\x08\\xc7>\\x1b\\xb1\\x0e\\xac\\x1aPs\\xc1\\xdd\\x9f\\xc6\\xa9_h\\x16vV\\x7fh3\\xccA\\x91\\x10g\\x07\\xef0Q\\xdb\\xdf5\\xd2*\\xeeb\\x00\\xe0\\n\\xe7|p\\xc6\\xdf\\xc3\\xe2E\\x07\\x0bq\\x13~G?\\xd2\\xa5!\\xdcs\\xf8K$\\x84\\xbbPq\\xc8x\\xfa~ \\xd5v\\xf0\\xb5\\xca\\xa9\"\\xe2,u\\xf9\\x81\\xae\\xb2\\xdc,\\xf0\\xa4\\x88\\xec\\xc8\\xca\\x18\\x1c\\xe7\\xaf5$\\x91mL\\x03\\xd4Sq\\x05&y\\x82\\xe7\\x19\\xe0\\xe3\\xb84\\xe6\\x9a5\\x19n=\\xcdu\\xc7\\xc1\\xd10$^\\xc9\\x9fB\\x80\\xf3\\xfaW\\x0b\\xe3}<XM\\x06\\x9f\\x1d\\xd1\\x96A\\x89[\\xe4\\xdb\\x81\\xc8\\x1d\\x0f=\\xff\\x00J\\x9eV>cAd\\\\p\\xd84\\xf2\\xf8\\xefZ\\xe7\\xc2W^V\\xe1<%q\\xd0\\x82:\\xd5g\\xf0\\xce\\xa0\\x83v\\xe8Xg\\x9c9\\xeb\\xf9Q\\xca\\xc6\\x9a)\\x07\\xf4\"\\x9a\\xeeFy\\x15=\\xce\\x8b}ilf\\x99\\x13j\\xaf,\\x1f\\xa7j\\xcd\\xfb\\xcf\\x80zp@4\\x80\\x90\\xb6\\xe6\\x0b\\x8c\\xb1<\\x01M*Fx\\xa7+<-\\xbd1\\xbb\\x04r\\x01\\xeb\\xf5\\xa8\\x8b\\x97l\\xb3\\x1d\\xc7\\xa9\\xa0\\x0e\\x8fH\\xd3 \\x06\\x05T\\x92!\\x07\\xefF\\x1b\\x86\\'\\xff\\x00\\xd7]<e\\xe7L\\x9d\\xc3\\xd7\\x9ej+K\\x18m\\x19\\xccL\\xe7x\\x1fx\\xfaT7\\xda\\xa4v\\x12*\\x18\\xa5go\\xf9\\xe6\\xb9\\x15v \\xa7u\\xa0j:\\x91\\xbd\\x17\\x1a\\xd4q\\xe9\\xb3|\\x89j`\\xcbm#\\x19\\xdc\\x07\\x07<\\xfap+w\\xc1kc\\xe0\\xdd\\x15\\xad\\xf14\\xd7s6#r\\x80y\\x80u#\\xd1Cg=\\xc7\\x1dj\\xbf\\xdbX[\\x89\\x1c\\xed\\xc8\\xe0\\x1e95\\xcd\\xde\\x14\\x93\\xc4\\x91\\xb9`\\xca\\x96\\xfbI\\x07\\x92s\\xcfC\\xf8~4\\xd7`\\xb5\\xce\\xe9\\x8e\\xf2\\xcd!V-\\xcb\\x1cu&\\xa0w\\x01~P\\x00\\xac\\xd4\\xd4T\\xae\\x00\\xda\\x00\\xa0]\\xf9\\x84*\\xf2\\xb4\\x01m0rH\\xe6\\x9e_#\\x00b\\xa1Y\\x81\\xe0\\x0f\\xc6\\xab\\x7fiY\\x9b\\x83\\x00\\xba\\x80\\xcd\\xde1 \\xdd\\xf9u\\xa6\\x05\\xd1\\x8c\\x0c\\x0e\\xf4\\xf6a\\xda\\xab\\x97\\xc9\\x04S\\xc3\\xe4s@\\x87\\xc9\\xb5T\\x91\\x8e\\x9c\\xd3b\\xf9P\\x03P\\xcb:\\xa9\\x01\\x9b\\n9\\'\\x1d\\x05=\\x1dd@\\xf1\\xb0e<\\x82;\\xd2\\x19!\\x81\\x19\\xb7\\x81\\x83\\x9c\\xe4\\x1a\\xb8\\x9e-\\xd1\\x9bR\\x8b\\xc3\\xfa\\xd9F\\x96\\xe12\\x8f*\\xe5\\x0f8\\n\\xc4\\xf7\\xeb\\x8f\\xf3\\x9a(\\xde\\xbcW1\\xaa\\xb6\\x9b\\xa7k\\xcf\\xae\\xea\\x162\\xce\\xb6\\xd0\\x08\\xd5N6\\xbb\\xb18\\x1f\\x86z\\xd5!2o\\x1e|8\\xd0\\xb4\\x8b\\x18\\xae\\xac~\\xd1\\x04\\xf3\\\\,k\\x18\\x93r\\x9c\\xe4\\x92A\\xf4\\x19\\xef\\\\W\\x86\\xfc=\\xac\\xea\\xf2_\\xea\\xfa\"|\\xd6\\xb2\\x88\\xe3\\xf9\\x82\\x9e\\xff\\x00w<d\\r\\xa3\\xafCZq\\xf8\\x97W\\xd5\\xf4\\x19?\\xb4%7\\x02\\xc270eIf\\x91\\xfeU\\xcf\\xae\\t\\xc0\\xff\\x00z\\xbd\\x17\\xc22\\xc1\\xe1\\xbb\\x1b/\\r\\xdb\\xe97S\\xdd\\x08\\xfc\\xeb\\x9b\\x85\\n\\xb1n\\'\\xe6;\\xb3\\xce3\\xe9\\xd0P\\xc16\\x8e\\x1a-+\\xe2\\x04\\x92\\x98^\\xe2K|\\xe3\\xe7\\x91\\xd4\\x0e\\xdf\\xdd\\x04\\xd6\\xe6\\x99\\xe1\\xbdb\\x1b\\xb8\\xe6\\xd4\\xb5\\xdb\\x8b\\x80\\x87p\\x865*\\xa4\\xfb\\x9e\\xe3\\xda\\xba\\xf6\\xf1\\x0c\\xae\\xbb\\xa1\\xb5\\x84/?31}\\xde\\x84t\\xf6\\xaaSk\\x1a\\x8c\\xf1\\xe5.\\x04d\\xf6T\\x02\\x86\\xd0$G\\xe4\\xb21.\\x08\\xcfcH\\xee\\xa2:k\\xcb#\\r\\xf2\\xb1i\\x08\\xe4\\x93\\x9c\\xd42\\xb9+\\xb7\\x19\\xcdH\\xc9\\xad\\x88\\x11\\xe4\\x8eO5\\xcf\\xf8\\xff\\x00i\\xf0\\xa4\\x99<y\\xa8s\\xe9\\xcdt\\nWf\\x00\\xaes\\xc7\\x8d\\xbb\\xc2\\x17As\\xb8<g\\n\\x7f\\xda\\x14-\\xc1\\x9a^\\x0b\\x9c^x\\x1e\\xd6\\xe4\\x11\\xb9I\\x85\\x9bwURUx\\xc7\\x1fv\\xb5Y\\xce1X\\xbf\\x0fS\\xce\\xf0\\\\p\\x12r\\xf0\\xcc\\xeb\\xeb\\x91)<\\xfeF\\xad\\\\\\xea\\x96Zt&{\\xc9\\xe3\\x8a%8!\\x8e\\t\\xfa\\n\\xa9!#W-\\x8c\\x80s\\x8e\\x82\\xbcw\\xc7W\\xa6\\xf3\\xc5W8\\'l B8\\xeb\\x81\\x93\\xd3\\xdc\\x9a\\xd2\\xd7\\xbe#\\\\\\\\\\xb3\\xc3\\xa4G\\xf6h\\x08\\xc7\\x98\\xfc\\xb9\\xfe\\x83\\xfc\\xf4\\xae6\\xde\\xda\\xebU\\xbe\\x11\\xc1\\xba{\\xa9X\\x92I\\xf5\\xea\\xc4\\x9f\\xcf4\\xe2\\x80\\xf6\\xed+U\\xb6\\xd4\\xecC[\\xc8\\x0bD\\x15_\\x8c`\\xe0U\\x82K\\x03\\xd3\\x00\\xf3\\xc5y\\x1f\\x87\\xbcK>\\x87v\\xf1\\xc0\\x82u\\x95\\x86\\xf8Fw7\\xfb\\xbe\\xfc\\xd7\\xad[4\\xf7V\\xd1\\xca\\xf0\\xbd\\xaa\\xb8\\xcb$\\x98\\xde=\\xb08\\xa5%`L\\xce\\xf1\\tQ\\xa4L\\xb9\\\\\\xb0\\x1f\\xccW\\x11\\x95^\\x17\\x92\\x0f^\\xdf\\x80\\xae\\xd3\\xc4\\xa8\\xb1\\xe8\\x922\\x8eK($\\xf7\\xe6\\xb8\\x94\\xe5\\x9b=\\xab&Z$V\\'\\xa9\\xc9\\xa6(\\x00\\xfc\\xc3&\\xac\\x99b{T\\x8d \\x0b\"gt\\x9e\\xb5_fy\\x14\\x86zT\\x12$\\xd0\\xac\\x88\\xdb\\x81\\xfd\\r\\x06\\x18\\xd9\\xfc\\xc2\\xa0\\xb8\\x18\\xcf\\xb5\\x0e\\xf0Z\\xdb3\\xbf\\x97\\ng\\xb9\\n2O\\xf8\\xd3\\x04\\xe0\\xae\\xe5;\\x87b\\xbc\\xd6\\xc4\\x0em\\xaf\\xc6\\xd0@<dVL\\xb6\\xf6\\xd6wMs1\\x0b\\xbc\\xe0\\x9d\\xbcV\\xaaH\\x13\\x05\\x81\\x1cg\\xa7Z\\x82;\\xe7\\x92\\xf1\\xed\\xa4\\xb7m\\x9fyd\\xc7\\xcb\\x8c\\x7f<\\xe7\\xb5K@\\xa4\\xc6yP\\xcb\\x08h\\xb8Bz\\x83P.\\xe4\\x07f@\\xc9\\xab\\xee\\x10\\xa6\\xd0\\x00\\xf5\\x15A\\xa1v\\x91\\x95q\\xe5c$\\xe7\\x90iX.,a\\x8c\\x89#1\\x1d\\x88\\xecs\\xeb\\\\\\xad\\x9e\\x87\"\\xdeOt\\xbe\\\\\\x97\\xefrLE\\x9b%\\x178\\xce@\\xc7bk\\xacQ\\x95\\xc0\\xe5\\xbb\\x02j\\x1d7M\\x92\\xdaR\\xf3\"\\x80\\x07\\xca\\xc1\\xb3\\xfe{\\xd0\\x80\\xd3R\\x08\\xc0\\xc7\\x06\\x91\\xa6\\x11\\xb8\\x8c\\x8eM8\\x8d\\x839\\xe9L\\xe1\\x9byQ\\x91L\\x08\\xee\\x04\\xe8G\\x93\\xb0\\x92y\\x0f\\xd0\\x0e\\xf5b26\\x01\\xc8\\x14\\xc2Nr})\\xd9\\xdd\\x81\\x8cP\\x80\\x86\\xff\\x00U\\xb2\\xd3-\\xc4\\xb7\\xb7Q\\xc1\\x1fM\\xce\\xd8\\xcf\\xd2\\xb8\\xcf\\x88\\xf7\\x88\\xd6\\x9aj@\\xea\\xc96\\xe92\\xbc\\x83\\x800\\x7f\\xf1\\xea\\xecn\\xect\\xfb\\xc9\\xa1k\\xf8a\\x99am\\xea\\x92\\xa8e\\'\\x18\\xc1\\x07\\xa8\\xac\\xcf\\x13xj\\xdf\\\\H\\xe5\\xf3D\\x02&\\x1bQT\\x04\\xda@\\x1b\\x02\\xf0\\x17\\xa2\\xf2=\\xe9\\xa6\\x03|\\x17\\xe1\\xef\\xb1x/\\xfbr\\xe9\\xa2\\xe6a2\\xc7\\'++\\x00|\\xb1\\xd3\\xfb\\xe5\\x0f\\xe1[\\x19\\x92H\\x1a\\x16\\x92Q\\x95\\x0b!\\x8d\\xf1\\x91\\xdf\\xa7\\xadS\\xf1f\\xa0\\x16\\xc3H\\xf0\\xe6\\x99\\xe6A\\r\\xab\\x06\\xb9b\\xbf\\xc4\\x17\\x1bq\\xdf\\x92s\\xf8b\\x8b;\\x8b\\x90c\\x0f\\x12\\x93\\xbb\\x0f\\xf3\\x0e\\x00\\xee=y\\xa9r\\xd6\\xc0\\x97Sh\\xacq\\xc6\\x02\\xae\\xd5\\x03\\x00g\\xa51c\\x05rsL7\\x0b \\x1d1\\x9a_5I\\x00\\x1a\\xa0$h\\xc1S\\xcdB`\\xcc\\xb8\\xdd\\xd0T\\xc4\\xa2\\xa6I\\xa8\\xa2b\\xd9`s\\xb8\\xe7\\xad&\\x08\\x93\\xc9\\xc6\\x06\\xef\\xce\\xb8/\\x1b\\xeb\\xbadv\\xb7:Lm$\\xb7\\x0e\\xca$e\\xfb\\xa9\\x82\\x0f__\\xa5m\\xeb\\xde5\\xd3\\xb4]\\xd0\\xa3\\xfd\\xaa\\xecq\\xe4\\xc4xS\\xfe\\xd3v\\xfdO\\xb5y\\xfd\\xa6\\xb1\\xa2\\xde\\xeb\\xb7\\x9a\\x8f\\x88\\xedfa\"3\\xa4V\\x98\\x00\\xbf\\x18\\x19>\\xb89\\'\\xbfj\\xa5\\x10L\\xf5\\x1f\\x86\\xce\\x06\\x83\\xa2HH\"O1O\\x19\\x04\\x19\\x1cb\\xbc\\x8b\\xc5\\xc3R\\xb7\\xf1\\r\\xe4:\\xa3Jn\"\\x90\\x80\\xaf\\xd9O+\\x8f\\xc0\\x8a\\xe9\\xd3\\xc6\\x12\\xff\\x00d\\xda\\xda\\xe8\\x9a{Yy \\x90\\xdb\\xf7\\x08\\x86\\xe2@\\x04\\xf5\\xe0\\x8eOpx\\xaeF\\xe5\\xa5\\xd4\\xf5#\\x1d\\xaaI{\\x7f3\\x12\\xce\\x01\\x90\\xbb\\x1e\\xa4\\x0e\\xad\\xf5<U\\xbb-II\\xdc\\xcbg\\x0b\\x18b\\x186{\\xff\\x00\\x85hh\\xed\\xa8\\xdcJ\\xd6\\x961\\xcf\\x18\\x9ca\\xfc\\x8e$\\x93\\xdbw\\xf0\\x8fZ\\xe9\\xf4\\x0f\\x87\\x17\\x17n\\xb3\\xea\\xb2\\x18\\x94\\xe3*\\xa4<\\x9f\\x8fa\\xfa\\xfd+\\xd0\\xe1\\xd3\\xb4\\xef\\n\\xe9\\x17\\x13[\\xda\\xedHP\\xbb\\x903#\\xe3\\xdf\\xfc\\xe2\\xb2\\xe6f\\x9a\\x18^\\x16\\xf0E\\x9e\\x95\\x10\\x9bQc\\xf6\\xc6\\xe8\\x88\\x9b\\x91=\\x9b<\\xb1\\xef\\x9e\\x83\\xb0\\xae\\xb0\\xc3\"\\x10\\x03#\\xa6z\\x86<~|\\xff\\x00\\x9e\\xb4\\xdb[\\x93we\\r\\xc9\\x85\\xe1\\xf3T6\\xc7\\xc6G\\xd7\\x15*\\xb8&\\x9d\\xc81|M\\x1e4\\x13\\xea\\xd2\\'\"\\xb8t\\x003\\x01\\xcdw\\x1e-;t\\xa0}e_\\xe4k\\x89S\\xc7\\\\\\xd4Kr\\xe2*\\xfd\\xd3M\\x07\\xde\\x9e>\\xefJ\\x02\\xf7\\xe2\\xa4\\xa2]g[O\\x10\\xe8\\xd2Z\\x08\\xef\\xc2y\\x8b\\xb2g\\xb7>X\\xef\\xcb\\x05\\xf4\\xe7\\xdf?J\\x80\\xf8m\\xed\\xadf\\x8a\\xcb\\xc4\\x171E\\x1c{\\xa2\\x8ds\\x869\\xce\\x02\\x82\\xbe\\xff\\x00\\x98\\xa6\\xe8\\xbe;\\xd4l xa\\x9eK\\x01\\x8c\\xb2\\xe0m<\\x01\\xceGP\\x07\\xe9P\\xdb\\xea6\\xf7R\\xb4p\\xdc\\xc7$\\x8a\\x01m\\xad\\x9c\\x8f_z\\xd3\\x9a\\xc4X\\xd0\\xd3\\xf4\\x9f\\x18\\xa2\\x84\\xb7\\xd7!\\x93\\x08X\\xf9\\xd2\\xaf\\xa8$e\\xf3\\xfc\\xfbUy\\xac|m\\xa5K\\x1c\\xa0,\\x1ere@*C\\x9fa\\x8czq\\xda\\xa4\\x8e`\\x1c1\\xe4c\\xb7Z\\xb56\\xa9\\x0cQ\\xc0V\\x16M\\x92g\\x0b\\x80\\xa1@\\xff\\x00\\xebRsh\\x14Q\\x9c5\\x0f\\x1c\\xc7\"\\x8d\\xcb!c\\xb0\\x00\\xb1s\\xd7#\\xb6:T\\xa7\\xc4>/\\xb3\\x8fe\\xc6\\x97\\x14\\x98;I\\t\\x92\\x0e\\x7f\\xd9oq[m\\xab\\xc5-\\xc5\\xbc\\x92\\xcd#,aq\\xe6\\x03\\x81\\x85#\\x18\\x1fZ\\xd0\\xb0\\xd5t\\xe0\\xa5o&\\xdc\\x9c\\x1d\\xae\\xb9\\x05\\xba\\x93\\xd3\\xa5%S\\xc8|\\xb69u\\xf1\\xd5\\xdd\\xb3\\x14\\xbd\\xd1%\\x8c\\xfdJ\\xfb\\xf7Zu\\xc7\\xc4\\xabsj\\x04VS}\\xa5[\\xee\\xc8F\\xdcd\\xe7$\\x7f\\x85v\\xed{\\xe1\\xd9\\xd1\\x98\\xb5\\xbe\\xf69$eO\\xd3\\xd2\\xa2\\x9e\\xc7\\xc3z\\x8c\\xc6F{b\\xec\\xbbC\\x16\\x18Q\\xcfo\\xc7\\xbdU\\xd16\\x13L\\xbe:\\x8e\\x93mxP\\xc7\\xe6\\xa6\\xe2\\x84\\xf2\\x0fqVK`u\\xa1\\x9a\\xd1\\x10\\xa4SF\\xea:\\x10G?\\x959\\x04ey\\xda{\\xf0i\\xdc\\x04\\xc9\\xecjD\\xe3\\xbeM!\\x11\\xee\\xc0\\xa1B\\x82X\\x13@\\x10^\\xda}\\xae1\\x90\\x03g\\x00\\x93\\xc63L\\xbf\\xb6-`-\\xc08\\xc7T\\'\\x8cR\\xff\\x00h\\xdb\\xbd\\xd9\\xb6IP\\xc8\\xac\\x01]\\xdc\\xe7\\x19\\xe9S6\\xf6\\x03\\r\\xc6y\\xc8\\xa4\\x06\\\\\\x90\\xc5sl\\x8f\\t\\xf3\\x00;w\\x91\\x8cz\\xd6\\x85\\x84-\\x16\\x14\\x82x\\xcd9\\x95\\x98*\\x9cq\\xd0t\\x02\\x9f\\x1c\\xe1\\xceP\\xab\\x01\\xc6A\\xee84\\xac;\\x93\\xf0rq\\xdf\\xd2\\xa1\\x9d\\x8c@\\x00\\xbb\\x8b\\x1ax\\x97\\xb1\\x1c\\xd2\\x87\\x05\\x80+\\x9a\\xb1\"\\x06&H\\xb2\\x8c\\xaaH\\xe8k\\x87\\xf1\\x0e\\xb9\\xac\\r\\x13\\xcf:\\r\\xd6\\x9d\\x1c\\xed\\xe5\\xfd\\xa8\\x82U\\xa3\\x07\\x18\\xdd\\xc6\\t>\\xbf\\x85w3\\x992\\xbeP`\\x0f\\\\.k#\\\\\\xd1\\x13]\\xb5K{\\x89\\xaeQ\\x94\\xfc\\x827;s\\xd8\\xb2\\xf4\\'\\xfc\\xe6\\xa5\\x0e\\xc7\\x8fyn\\xce\\x16<\\x92O\\x00\\x0eMv\\x9e\\x1b\\xf8s\\xackq\\x0b\\xa6\\xb4q\\x02\\x8c\\x8c\\xf1\\xbf\\xd8z\\x9f\\xf2H\\xae\\xe7\\xc2\\xde\\x1a\\xf0\\xb7\\x864\\xdf\\xb7\\xeb\\xac\\x1e\\xedX\\x83\\x1b)|`\\xf1\\xc2\\xe7=\\xbd\\xabf\\xfb\\xc5\\x9a\\xad\\xfd\\xc1\\x8e\\xc9\\x13K\\xd2c!w\\x9eg\\x98c\\xb68A\\xf4\\xc9\\xf7\\x15nV\\x11\\xc7\\\\\\xf8CK\\xd3\\xe7\\xb7\\xb6\\xf1V\\xbb\\x16\\x9bn\\xd8+anwI \\xecd`0\\xa0\\xe3\\xd3\\x1e\\xfcf\\xbam&\\xfe\\xdf\\xc3p\\xbbhzM\\x81\\xd3\\xdb\\n&\\xb7\\x7f0\\xc8?\\xda\\x97\\xb9\\xeb\\xc7\\xe9U\\xf5\\x1d>\\xd3Q\\xb4\\x16\\xc7\\x98\\x8be\\xc9$\\x93\\x8ez\\xf5\\xebZ\\xb6\\x9fd\\xb1\\xb3\\x8a\\xdfO\\xb3\\x82\\xc8lQ+@\\xa03\\x90:g\\xd3\\xda\\xa54\\r\\x1c\\xae\\xa2\\x93\\xc9\\xab\\xfd\\xbb\\xc2\\x89\\xf6y$\\xcbOi#\\x80\\x19\\xbd\\x94\\xf0\\x7f\\x03\\xf9R\\xe9\\xbe;\\xb5\\x92\\xe5\\xad5x\\xcd\\x85\\xda\\xb6\\x18I\\x9d\\xb9\\xf7\\xf4\\xfck~\\xe2\\xd6\\xd2\\xe4\\x96\\x9a\\xd4\\x13\\xd7\\xcc\\x84\\xec9\\xf5\\xf4\\xfd*\\xb4\\xfaR\\xdc\\xc6R\\xe5m\\xf5(G\\xdd[\\x95\\x02T\\xfa1\\xff\\x00\\x1a\\xab&N\\xa4\\xe9\\xaa%\\xe6\\xa55\\xa5\\xb9FX#Gi\\x14\\xe4\\x12\\xf9 \\x0f\\xc0\\x03\\xf8\\xd5\\x85VS\\xc8\\xcdCege\\xa6[\\xf96\\xd6\\x89i\\x10\\xf9\\x99Yv\\x9f\\xa9=\\xfe\\xb95g~z\\x10\\xdfCSk\\x0e\\xe6\\x07\\x8b\\x9b\\xfe%\\x91\\x06\\x18>`\\xfeF\\xb8\\xc4^\\xbd:\\x9a\\xeb<d\\xe4\\xda\\xdb.\\xde\\xb2\\x1e\\x7f\\n\\xe4\\x10\\x91\\x9f\\x94\\x8ey\\xac\\xde\\xe6\\x88\\x9b\\xa2\\x9ap\\xe9LR\\x1b\\x8a\\x99T\\x01\\xc9\\xc0\\xa4\\x01\\xa9Z\\xdckOq\\xa7\\xda\\xad\\xbb\\xa4H#\\x13\\xb8\\xf9Y\\x9b\\x96e\\xc7~\\xf5\\x96\\xfa\\x0e\\x89c.\\xd5\\x82\\xedgv\\x02\\x02\\x9b\\x8e\\xfc}\\xe3\\x80H\\xeb\\xfd\\r&\\x9f\\xab\\xcf&\\xa55\\x94\\n\\xc9\\x1d\\xbf\\xca\\x1fi\\x19#\\x83\\xcfcZW\\xba\\xc7\\xd8\\x02\\xdf\\xcd\\x1a\\xc8m\\xe3\\xf2\\xc2\\x81\\x81\\x8c\\xf4\\xe3\\x03\\xbfZ\\xben\\xe4\\xd8\\xe6\\xa0\\xf0\\xe5\\xc9\\xd3n5\\x18\\xf5)m\\xdbc9\\x8d\\xc7$g\\x8es\\xd4\\x9e\\x9cT\\xf7\\x10k\\xf6\\xd2\\x8by\\xe1\\x86Q\\x1b\"\\xb3\\xc4\\xc0\\x82H\\x04\\x03\\x9e\\x87\\x04t\\xf5\\xad\\xd4\\xd6\\xb4\\xa9%\\x8d\\xef\"\\xb8\\x82k\\xc7\\x0c\\xc8\\xc9\\x926\\x81\\x81\\x83\\xd0\\x0cg>\\xe6\\xa4\\x8eM.\\x1b\\x9b\\x89\\xefo\\xa2\\xf2\\xa2b\\xc2-\\xe4\\x85c\\xc0\\xe3\\xa6y4\\x86cC\\xa8\\xc9\\xe6\\xc9m$\\x0c\\x82\\x15\\x01\\xe6a\\xf2\\x83\\xfe\\xd1\\xec=\\xeaA\\xab\\xd8\\x14\\x0e\\x97\\xb1\\xc8\\xa5\\x82\\xe5s\\xc1=\\xb9\\x15\\xa5\\xa3i3\\xcdeq2H\\xe6[\\x89\\xca#H\\x16P\\xc9\\xfcNP\\xf1\\x823\\xc7=\\xf9\\xe9Iy\\xa0\\xc1~\\xd6\\xc0\\xd9\\xc6B\\xcf\\xe54\\x81\\xb6\\x97E\\x04\\x92\\x14`\\x0e}\\xe8\\xd0\\n\\xd1\\xcf\\x0c\\xacLS\\xc6\\xe0g;_>\\xdc\\xd4\\xc8\\xad\\xb7>\\xdfJ\\xc9\\xba\\xf0\\xee\\x96a\\xb8\\x92\\x19\\xeem\\xa5\\xf2\\x9eM\\x8a\\xc4\\xfc\\xa4\\xe1\\x01\\xf6<\\xe7\\xe9ZP\\xdb\\xff\\x00g\\xd8Ale2\\x10\\x80\\x92GOj\\x1a\\xb0u\\x11\\xba\\x9c\\x8c\\x1aUvO\\xba\\xcc?\\x1ac6M&sHe\\xa5\\xbc\\xb8^V\\xe2Q\\x9e\\xb8r+OG\\x9a\\xfa\\xeeyW\\xed\\x93\\x0f.=\\xff\\x00{9\\xe4q\\xcda\\x8eH\\xfeT\\xe1#DN\\xd7d\\'\\x8f\\x97\\x8ab\\xb1\\xdf\\xad\\xacm|\\x93\\x85Q+\\x02\\xbb\\xc0\\xc1\\xed\\xfe\\x15&\\xa3}g\\xa4\\xd8\\xbd\\xe5\\xe5\\xc9\\x8a\\x148\\'\\x19\\xe7\\xe9\\xf8\\xd7\\x03\\x05\\xf5\\xd0\\x89@\\xbc\\x9f(y\\xfd\\xe1\\xe3\\x07\\x93\\xed\\xc5R\\xf1\\x0f\\x88\\xae\\xedm\\xa2\\x8ey\\xa5\\x9dY\\xb8F|t\\x1c\\x1c\\xfe4\\xee+\\x1dd^7\\xd2n\\xafLQ]\\x1c;*FY\\x08$\\x9c\\x0fN:\\xf7\\xae\\x91#\\xc1\\xe4\\xfd\\x0e;W\\x98Yk\\xc2{\\x08\\xe3}\"\\xda[8_{\\x08\\xef\\x10K/\\\\+\\x1e\\xb8\\x1c\\x1cd\\x1c\\xe3\\xd2\\xad\\xc7\\xf1\\n\\xe2\\x14\\x1fj\\xfd\\xd3t\\xc4\\x91\\xe7\\x9f\\xc3\\xb7\\xbd;\\x85\\x8fH\\x10\\x12s\\x9a64N\\xb9\\x19\\xcf\\xe9\\\\\\xb5\\xbf\\x8b\\xae\\x8b\\x02\\xf1\\xc0\\x14\\x8c\\x16\\x00\\x9czw\\xadM3\\\\\\x93R/\\xba\\x05\\x8f\\xcb\\xe3!\\xb2\\x0eh\\x13F\\xbb.\\xf22H\\xfcz\\xd24{\\xf2\\x80\\x04$p\\xd8\\xce\\x0f\\xd2\\x99\\xe7\\x82\\xe3#\\x9e\\xdc\\xd4\\xbex\\x03\\xa69\\xf5\\xa1\\x81\\x0c\\xdab\\xcd\\xa6Ib\\x97\\x12*\\xb9\\'s\\r\\xd8\\'\\xb7=\\xb3\\xda\\x8b\\x12\\xe9f\\x91\\xce\\xa4H\\x9f#q\\x80q\\xdcSR\\xed\\x9ey\\x80\\xdeQSp*0\\x0f\\xe3\\xde\\x91\\'\\xf3\\x11\\x19\\x9d\\xc1*\\tR1\\x83SmGrH\\xe5E\\x90\\xc4\\xa0\\xee\\x19$\\x9esR\\x88\\xff\\x00\\x89@\\x03\\xd35Q\\xa2S)usV!\\xdb\\xbb\\xe6\\xc6\\x00\\xefM\\x08\\xb7\\x88\\x960Y\\x80\\'\\xfd\\xacR\\x06\\x838\\xdf\\x90Gj\\x8b\\xcd\\x8b\\x18\\n\\xa3\\xf0\\xa9\"\\x91Y\\xb8\\x1d\\xa9\\x80Jb\\x923\\x1b\\x07t=P\\xaeT\\xfe\\x14\\xc5e\\x1f*\\r\\xaa:\\r\\xb8\\xa9\\xdd\\x81\\xa8\\x8e7u\\xe2\\x8dDs>0\\xff\\x00Uh\\xa4\\xff\\x00\\x1b\\x1c\\xe3\\x9e\\x95\\xc8\\x86@~\\\\\\xed>\\xa3\\xbdu^3pZ\\xd5W\\x93\\xf3\\x1e\\xbfJ\\xe7\\xa0\\xb2I\\xb4\\xc9\\xee\\xcc\\xf1\\xa3\\xc6\\xdf\\xea\\x8fV\\xff\\x009\\xa9h\\xb4F0\\x18\\xed\\xe9Of\\xc9N;\\xd3#\\x1b\\xb8\\xe0sR0\\n\\xca=\\x0e3He].\\xea\\xd1t\\xb9\\x8d\\x91vk\\x89\\x8c\\x936q\\x82y#\\x18\\xacxt\\xd8u\\xadKP\\xbc\\x92\\xe4\\xc5mhQ\\xdc2;#\\x85\\x1c\\x82T\\x1fJ\\xdc\\xd6D\\x1a5\\xbf\\x95.\\xd4\\x8e\\x08\\x95\\x08\\x89\\x08#\\xb7L\\x9c\\x9a\\xc1Y\\x9a\\xcb\\xc10i\\xf0\\xdd\\t.5Y\\xf2b\\xc0\\xce\\xdc\\xe3\\x93\\xdb<u\\xf7\\xa6\\x84i\\xc2o\\xa5\\xdf\\xe2\\xbb\\xb8m\\xa7YA\\xb4\\xb4\\xb4\\x0cCF\\xccp\\x0e\\xdc\\x1c\\x8e\\x0f\\xa5P\\xbb\\xd0\\xce\\x97eo\\x16\\xaba4\\xda\\xc5\\xed\\xce\\xf0\\xb9\\xc0(pr\\xbc\\xe3\\x1fQ\\xde\\xb5o\\xb4\\xcbI\\xaf\\xec\\xed\\xaf\\x96Y\\x16\\xd6<\\x1f(\\x80y\\x1c`\\x92=;TV\\xb1\\xbc\\x9e!\\x1a\\x89\\xba\\x99\\xa0\\xb6\\x8be\\xb7\\x9e\\xdb\\x88\\x00c\\x1c\\xe7>\\x94\\xee\\xae\\x06\\x84\\xf7\\x1af\\x8f\\x85W\\x9a\\xda\\x12\\x165\\x8c\\xfc\\xcd\\xbc\\xff\\x00 9\\xff\\x00<Q\\x16\\xad\\xbeYc\\x13\\x86\\x921\\xb1\\x81\\x00\\xe0\\x7fO\\xc2\\xb0S>\"\\xd7\\xa4\\x90\\x84\\x93O\\xd3\\xd0\\xcb<\\x878\\xc9\\xea\\x7f\\xcf\\xa1\\xa6ZIm\\xfd\\x9b\\xabk\\x8e\\x8e\\x8d#b\\xcd0\\xcb\\x90N>\\x84~\\'\\xa5\\x16\\x0b\\x9d5\\xad\\xcc*g\\x93\\x00\\xb4\\xc5rC`\\x00\\x060=\\xbf\\xc6\\xa1\\xd4oM\\xed\\xe1\\x95\\x97g\\x01B\\x8e\\x80W-\\x15\\x95\\xfc1h\\xd6v\\x93\\x1f>\\xeaR\\xfb\\t\\xe1G\\x19\\xcfr3\\x9a\\xe8n\"hex\\xa4 \\xc8\\x8d\\xb4\\x95\\xe8M&\\xac\\x03\\x0e6\\x9c\\x1aip\\xa8\\xce\\xc4\\xedQ\\x93\\x8a\\x8a\\xee\\xe1ll\\xa4\\xb9\\x91s\\x1a\\x8e\\xddMA\\xa6\\xddK{h^{w\\x841 n^\\x18\\x1a\\x12\\x18\\xd8l5m\\x7fU\\xb4:\\x1c\\xa9\\xb3\\xcag\\xdd#mC\\x8e\\xc7\\xdc\\xfaV\\x9d\\xec76\\xc9<l\\x81n\"F\\xc8\\xeb\\x86\\x03\\xa7\\xe7N\\x8c\\xc7\\x05\\x9d\\xbcv\\xd1\\xac/\\x08\\xdb\\xba?\\x97#\\xe9\\xebT\\xef5h\\xad-n\\'\\xe2g\\x84\\x80\\xc9\\xbb\\x9eM\\x02\\xb9Z\\xda=m\\xecQ\\xa0\\xb2\\x96S\"(\\xf9\\xe5B\\x1f\\xa1\\'\\xb6=G\\xd2\\xbai|?a\\xa8\\xf8]\\xe7\\xb8\\x9e4\\xbe\\x85\\x95\\xdf\\x12e\\x95\\x04\\x989Q\\xd8\\x80G\\xe5\\\\\\xd5\\x96\\xbdu%\\xf4\"K6\\xb4R\\xa5CJ\\x87\\x1bH\\xea8\\x1c\\xf3\\xc1\\xff\\x00\\xebW]}e\\r\\xa6\\x95\\x1e\\xa0\\xb0\\xb3\\xcby\\x08\\x8d\\x88\\x91\\xb6\\xa2\\xf0\\xfd;\\xe5\\x81\\'\\xebL\\x05\\xff\\x00\\x84w\\xc27\\xe1\\xbc\\xcb{!\\x9e\\xf80\\x9c\\xe3\\xd7\\x8a\\xad/\\x80|=)1$m\\x1b\\x8ev\\xc3>\\xe3\\x9e\\xfcs\\xea*\\xa2\\xdc\\xdd\\xdd[,\\xd2\\xbb|\\xc0\\x11\\xb9\\x005\\x19v\\xdc_\\xab\\xe3\\x05\\xbdi\\\\d\\xfa\\x86\\x9b\\x0e\\x9br\\xb1%\\xdd\\xdb6\\xd1\\x9f0/\\xca?\\x009\\xc5\\x16w\\xf3\\xd8\\x96\\x11N\\xc4>2\\x1e%\\xc6}x\\xfc*\\x89\\xcb\\x1f\\x9f&\\x9f\\xb8\\xe3\\x1d)\\\\\\r#\\xac\\xea \\x1c^.\\xe2\\xddE\\xba\\xff\\x00\\x8fj\\xb4<Cv\\xf9\\x1b!\\xd8x#a$s\\xeb\\x9eO\\xe1X\\x85\\x94\\x91\\xb4\\x1003\\x93\\x9c\\x9a7\\xe0\\xf4\\xa2\\xe1c\\xa2\\x83\\xc4\\x17a\\x18\\x18m\\x02\\xfa3\\xba\\xee\\x1f\\xf7\\xc9\\xff\\x00\\xf5\\xd6\\xa6\\x9fx\\xda\\x94N\\xe2\\x15\\x8d\\xa3\\xc6\\xed\\xaeJ\\xfa\\xf0H\\x07\\xf4\\xae/\\xcc\\xcfsW\\xacol\\xa0\\x80\\xc5wa\\x1d\\xd7\\xccY\\x0b\\xaa\\xb6\\xd2F2\\x01\\x14\\\\V;2\\xe9\\x16<\\xc7T-\\xd3\\'\\x19\\xfaz\\xd3nn\\xa0\\xb3\\xb6\\x96\\xe6\\xe0\\xb7\\x95\\x1a\\xe4\\xed\\x19\\'\\xda\\xb8\\xe9%\\xb1TQgi\\x1c/\\x82\\x08\\x11\"\\x82:\\x0e\\x80t\\xc9?Z\\xa8\\xf0\\xf9\\x96\\x93C\\xba\\x16v\\x07\\x1c6\\xe0O\\xa7\\xca\\x06\\x7f\\x11O\\x98,w\\x96\\x97\\xd6w\\x8a\\x9eD\\xf1\\xbb4bM\\x99\\xf9\\x82\\x9e\\x84\\x8a\\x91\\x86\\t!\\xb0q\\xeb\\\\,\\x11\\xc9\\xa7\\xddKu\\x14\\xc1\\x02B#B\\xb3\\xa1\\xc6O#\\x82x\\xe0\\x1c\\x9am\\xfaj\\x1a\\xee\\xa1\\xa6\\xef7\\x01a\\x9b\\x89|\\xa3\\xb5\\x06\\x01\\x0cN\\xdej\\xae\\x85c\\xbf\\x8f%p\\\\\\x8e=iX\\x90O\\xccq\\x8a\\xe6__\\xbc\\x82Y3$l\\x88\\xfb\\x03\\xb4Gk|\\xc4{\\x1e\\xdfZ\\xb7\\x16\\xb5y:\\xef\\x16\\x91H\\x1b\\xbcY\\x00~<\\xfb\\xf1J\\xe2\\xb33\\xbcR\\xe2I\\xady\\xcf\\r\\x9e>\\x9f\\xe1\\\\\\xf2\\xe0\\xe0\\x9eI\\xeb[\\xbe%\\xe2\\xf2\\x05\\xed\\xb5\\x8e3\\xd3\\x9a\\xc4A\\x90\\t\\xebS\\xb9H\\x91FG\\x15.2\\xe8\\x055\\x13\\x8e\\x95&>d\\xa0w1ot\\xfb\\xbd[S\\xd3\\xac I$\\x89\\xa5/*\\x0f\\xe2U\\x19\\xeb\\x83D\\xcdgu\\xe2\\xedCP\\x92\\xc9>\\xcd\\xa7\\xdb\\x1f\\x91@\\xc0p3\\x9e\\xd9\\xe4\\xf5\\xad1:n\\x05K\\xc6\\xd9\\xceA\\xcf\\x15\\x01(c\\x9a\\x10\\x88\\x12Q\\xb5\\xf0\\x00,=\\t\\xebBb2\\x1fP\\xbbO\\x0c\\x8b\\xf9\\x9ax\\xefn_dr\\x9ca\\xb3\\xdcq\\x91\\x8ej\\xfc\\xc0\\xe8\\xfaZ\\xc5wr\\x97\\\\\\x00%N\\x84\\x9f\\x7f\\xcc\\xe6\\xad\\\\\\xc7\\x15\\xf2\\xd9\\xc7**[\\xdacdQ\\xf4$w\\xc9\\xcdg^\\xdeA\\xacx\\x83\\xec\\x92\\x05\\x8cD\\xc5\\xc0a\\x958^\\x06\\x07\\xa0?\\xce\\x9d\\x93\\x0b\\xb4D\\xcf\\xa4Y\\xe9:n\\x8e\\x97mo-\\xc3\\xa9\\xd4nB6\\x1a<\\xf2\\x0e3\\x9e\\xbcq\\xf9U\\xeb\\xe8-o\\xb5[M\\x1bA\\xd5\"\\xbd\\xb3\\xb1\\x87~\\x1c\\x04\\xe7w\\xdd\\xdd\\xb4\\x12@\\x1e\\xf5\\x1d\\xb3Z\\xe8\\xb2\\xdf\\xea\\xf7\\x0e\\x0byi\\r\\xa4*3\\xbc\\xe0\\x0c\\xed\\x1d\\x86:Sb\\xbc\\x8bO\\xf0\\xc4)\\xf6kK\\xcdKZ\\x91\\xd9\\x17h\\xdc\\x85\\xbe\\\\\\xf1\\x93\\xc7\\xa7\\x15HE\\xab\\x08\\xbe\\xdf\\xaf]j\\x93 \\x10\\xd9b5Q&A8\\xe3\\x07\\x1c\\xfb\\xfdi]\\xcbd\\x9f\\xbcML\\xfar\\xe8\\xd0\\x9b2&\\x8e|/\\x9b\\x03>\\xe4V\\xc7${\\xd4+\\xc3\\x16\\xc6qR\\xf7\\x19\\x89\\xab\\\\\\xcf=\\xf8\\xb1\\x86\\x10\\xf1\\xc7\\xb5\\xa4\\xc8\\xea3Z\\xca\\x89\"\\xaa\\xac\\xa5\\x1c\\x80Z7 c\\x8e9\\x1f^\\xf8\\xaa\\r\\xaa\\xd9\\xc5\\xab\\xad\\xbb.\\xe92\\x15\\xdb%O\\xd35zKq1\\x05\\x18\\x01\\xd7\\x12\\r\\xa7\\xf3\\xff\\x00\\xf5S\\xe8\"h\\xa3\\x9e7\\xfd\\xe0}\\x80|\\xb9\\xc1\\x04\\xfdk/P\\xd2\\xc4\\x1a\\x0c7R(Y5K\\xf6\\x89AL3\\xa8p\\x01\\xdd\\xe9\\xd4b\\xb5\\xa0O. \\xaf\\x9c\\x8e\\xbc\\xe7\\xf5\\xa8\\'\\x90\\x9ds\\xc3\\xfbWqK\\xc1 V\\xce2\\xa7>\\xb4\\xae\\x86\\x96\\xa7|\\xf7z\\x95\\xacj7\\xc3\\xb2$\\xc2;&v\\x8cs\\x83\\xf8W-\\xa4\\xda\\xf9\\x9aD\\xf7GU\\xb3y$|\\xfd\\x94H\\xe2P\\xaaB\\x81\\xb7\\xee\\x9e\\x99\\xcf_\\xe5]N\\xa3\\xac]_ZO\\x14\\xd1\\xc2\\x03\\xa3\\x0f\\x94\\x1e\\x01\\x1f\\x8f5\\xb6\\xd1\\xdbE\\x046RY\\x83\\x10O0\\x94\\xe0\\x0ey\\'\\xd2\\xa2\\x05\\xcd\\xecyf\\xaf\\xa9\\xc5\\xa5,\\t:\\xc8\\xe6@H\\xdb\\xdb\\x18\\x15\\x94\\xbe)\\xb0\\x00\\x82\\x93\\x0f\\xaa\\x83\\xfdj\\xe7\\xc4\\xa8\\xed\\x04\\xf6\\x7fd\\x8d\\x806\\xed \\xf9\\xb23\\x9c\\x7fJ\\xdd\\xff\\x00\\x85\\x01\\xaa\\x9d9.\\xd3^\\xb6%\\xd1d\\xf2\\xe4\\x84\\x8e\\x08\\xce2\\t\\xadyU\\x8c\\xf9\\x8ef?\\x11i\\xccy\\x95\\xd4\\xfb\\xa1\\xa9S\\\\\\xd3\\xd8\\x8c]/\\xbeA\\x1f\\xce\\xb6.>\\x00x\\xae7>E\\xf6\\x97\"\\xf6\\xfd\\xe3\\xa9?\\xf8\\xedP\\xb8\\xf8+\\xe3kU\\x03\\xec\\xd6w\\x04\\x9c/\\x93r9\\xfc\\xf1J\\xc3\\xba&\\x0e\\x1c+.\\n\\x91\\x90GzSW\\xee\\xfc-\\xacxz\\xce\\x0f\\xed;&\\x81N#S\\xbdX3\\x01\\xdb\\x04\\xfa\\x1a\\xa1\\x8a\\x86\\x8a\\x13\\xa54\\x82NA+R\\x01N\\xda3@\\x88\\xc3\\x91\\xc3\\x0f\\xc4R\\x86=\\x9a\\xa5\\x18\\x1d\\xa9\\x0e\\xdc\\xf0(\\x01\\xa1\\x98\\x9cn\\xe3\\xd2\\x97#$\\x05\\x14\\xee=\\x05.\\xde\\xf4\\xc0Tf_\\xbb\\xc7\\x1bx\\xe3\\x03\\xda\\xa4\\xdd\\x92Y\\x99\\x99\\x8frrj\\x9c\\xf3\\xbc\\x0c1\\x0b8#\\xf8jc\\xf8\\x81LB\\x95V|\\x9e~\\xb4\\xf1\\x10N\\x994\\xc1\\xf5\\xe9R\\xa9\\x1bA\\xee)\\x013[<1#\\xb60\\xe3 s\\x9e\\x80\\xff\\x00Q\\xebLa\\x82\\xa6\\x81\\xc7\\x1d\\xbd(nS>\\x94\\x0c\\xe7\\xaeg\\xd4\\xec\\xf5\\x99\\xf4\\xe9t\\xf6\\x9c\\xda\\r\\xb3\\xbd\\xb8$+c$\\xfd)\\x96\\x9e \\xb2\\xc34\\xd6\\xee\\x9cm\\n\\xdc\\xf2x\\xcf\\x1e\\x95\\xd0C\\xa5\\x9f\\xedk\\x88\\xf4\\xcb\\xd7\\xd3\\xf4\\xb8\\xed\\x99\\xdfc\\xf3;\\x7ft\\x02I$\\xfe\\x95Ba\\x04\\xf6\\x91\\xdb\\xc9j\\x91\\xc1o\\x8d\\xc8\\xa0\\xab\\xb0\\x07\\xa1b{\\xf1\\xda\\xa9\\xf2\\x93\\xa8[J\\xb3D\\xb2D\\xea\\xeas\\xc8\\xaa\\xf1\\xc0\\x17R\\xbf\\x86\\xd6\\xd4\\xc9}{\\x00\\n\\xf8\\x01b^\\x84\\xe4\\x9e\\xbcV\\x87\\xd9\\xed-\\x89[\\x18\\x1a\\x08X\\xe7ap\\xdf\\xae\\x05ek\\x1a\\xbf\\xf6m\\xbb\\x9bQ\\x8b\\xa9\\xd0\\xa2\\xcc\\xaa\\xad\\xb7\\x07\\xa1\\xcfN\\xb4\\x97\\x90\\xd9\\x0c\\x90\\xda\\xc3m\\x04\\xda\\x1b\\xdcIs\\x14\\xe8d\\x96e\\xdd\\x08q\\xc1*zu?\\x90\\xadX3{\\xe3)\\xee\\x0c\\x07Q\\x9e;,\\x890\\xa5#m\\xdc\\x93\\x9e\\x07\\xa7\\xe2\\x7f\\x0c\\xa9t\\xf12i^\\x1e\\xd3\\xaf\\x12Sr\\xaa\\xd7r\\x87\\xde\\x11\\xb1\\x928\\xe3\\x1dMnN\\xf0^k\\xc61r`\\xb2\\xb6\\x80\\xc1,6\\xee\\xc0H}\\x0e\\xdez~|U\\\\D\\x12\\xbbH\\xec\\xee\\xec\\xe5\\x89%\\x98\\xe4\\x9a\\x8d\\xb2\\xa9\\xf5\\xa7\\xb0\\x0c\\xdf(\\xc0\\xcf\\x15\\x95\\xad\\xde\\xcd\\x00\\x8a\\x1bH\\xd9\\xe6\\x98\\x90\\xbc\\xe3\\x00\\x0f_Z\\x81\\x9a:m\\x95\\xbc\\x12\\\\`\\xa2\\xbc\\xced%\\xf8\\xe7\\x1d\\x01\\xff\\x00=i$I\\xa2rN\\xec\\x13\\xc6\\xe5\\xe3\\xf0\"\\xa0\\xb6\\x17Kl\\xbfk\\x01&\\xe8pA\\xddW\\xa0\\x95\\x94\\xb0Vd\\xc8\\xc6A\\xc5W\\x90!\\xc4`\\x02F\\x0e)\\xb6\\xd6\\xe5\\xbcE\\xa6\\xddH\\x13\\xc8\\x83\\xcc,X\\x80\\x01\\xdb\\xde\\x9c}\\x06*\\xa9\\xd5!\\x17o\\xa7\\xb43o\\xc6\\x0b2|\\xb8#\\xd7\\xf4\\xa43\\xb7\\x17V\\xd7\\x0c\\x12(\\xd4\\x96e\\x00\\xa7\\xbb`\\x1f\\xa6j_\\x1dI\\xf6}\\x1fP\\xc7\\x0c-D8\\xee2Gz\\xe5|4\\x90]\\xf8\\xb2\\xd69\\xe4,\\xca\\xca\\xd1\\x85S\\x86 \\x06\\xc7\\xa63\\x9ekg\\xc6\\xdav\\xb1\\xacjcO\\xd3e\\xb4\\xc5\\xc8\\x05\\xa1\\x92@\\xae\\xd8\\xf4\\x07\\xb7\\xcb\\xda\\x84\\x89f^\\xad\\xe1\\x1dS\\\\\\xb7\\xb1\\x9e\\xdd#\\x8e\\xde\\xde\\xda([\\xcd\\xca\\xe4\\xf2\\xcd\\x80\\x01\\x18\\xe6\\xbe\\x87tT\\xb5T\\xfe\\x1c\\x05\\xf4\\xf4\\x15\\xe7\\x1a\\xde\\xa2\\xfa\\x1f\\x86\\xac\\x17\\xec\\xea\\xce\\x85\\x01\\x8b\\x90\\x01\\x00\\x93\\xee:Uq\\xf1R\\xeak&\\x92]20\\xcb \\xe1\\x1f\\x82\\x01\\x07\\xbf=\\xbd*\\xaeM\\x8fU\\xa8f\\xff\\x00]\\x0fO\\xbcN?\\x03\\\\d_\\x10\\xc8\\xb6\\x8eK\\x8d7k>\\xde\\x16\\\\\\xe3=;Qq\\xf1\\x1fN\\x8a\\xe634\\x13(P\\xc0\\x85\\x19 \\xf4\\xef\\x8e84\\xae;\\x14~-\\xdcl\\xb2\\xd2\\xa2\\xc0%\\xa6v\\x1e\\xc0.?\\xadyq\\xe4\\xe4\\x01]\\x7f\\x8f<Qc\\xe2Y\\xacR\\xca9\\xc2[\\x87,dP\\x01-\\xb7\\x18\\xe7\\xd8\\xd7&\\xaa1\\xd3\\x15,\\xa5\\xa1V\\xea\\xe9l\\xad\\x8c\\xcd\\x1bHr\\x15Q\\x07$\\x9ae\\x85\\xfc\\xb7n\\xea\\xfam\\xc4*\\xab\\xb8\\xbb\\xa1\\x00s\\x8c\\x13\\xd0\\x1c\\xe7\\xf2\\xab\\xc6D\\x83\\xf7\\x84\\x80P\\x86RW8 \\xf5\\xa7\\xbe\\xad=\\xd2\\xcb\\x01\\xb9C\\x1c\\x81w\\x8f-T\\xbe\\x0eFN3\\xd4\\xd0\\x86F\\n1\\xf9N~\\x86\\x95\\x90\\x03Q\\x05\\xb5\\xe9\\x88\\xb2Ny~\\xbf\\xadJy$(\\xc0\\x1cu\\xa0\\x03\\xf1\\xa5\\xfa\\x1agN\\xb4\\x9b\\xb3\\xdb\\x8a@<\\x8c\\xa9\\xe7\\xb7Z\\t\\xc8\\x07 dS\\x0be6\\xec\\xe0\\xf7\\xcd\\x05\\x84\\xaeT\\x82\\xa5@\\x03\\xbfl\\x7f\\x8d4\"U\\x00\\x0eO?J|X\\xe8X\\x0fsU\\x8a\\x95<\\x93@$8\\xe7\\xda\\x86\\x05\\xb2@\\xe8\\xcaqK\\x8e\\xd9\\\\\\x7f\\xbc*,\\x1e\\xe4t\\xfa\\xd0X\\x91\\x81\\xb4\\x9f\\xca\\x81\\x99W\\x9a\\xad\\xbd\\xad\\xc4\\x11J\\x92\\x96\\x98\\xe3\\xee\\xe3oNO\\xa7QP\\xde\\xeb\\xdeT\\xcdki\\x13\\\\\\xdd\\x89U<\\xb6\\x1dI\\xf4\\xabZn\\xabo\\x1f\\x88\\xe6\\x96\\xea\\xd9\\xfe\\xd3\\x1cF(\\x89m\\x81N\\x01\\xc9\\x18?\\xe75wO\\x92\\r6\\xc2\\xe0\\xa2\\x06\\xba\\x9a\\x7f7\\xed-\\x8f\\x94q\\xc0\\xef\\xda\\x9d\\xb4\\xd4DPK$\\xd1)\\xb8\\xb6\\x96\\t\\xba<o\\xc3-T\\xb5\\xf0\\xf5\\x95\\x9d\\x98\\xbe\\x82f\\xb8\\xd5\\xc31X%\\xcf\\x93\\xc9\\xeaz\\x1c\\x80I\\xebQ\\xea\\xfe)\\xdb\\xa9\\xc6\\xb7{\\xe5r\\xa0\\xb3\\xa0\\x18A\\x9e3SE\\xaaZ\\xcdr\\xd6\\xcb2y\\xd1\\xe4\\xed<q\\xech\\xb5\\xb6\\x02\\xc5\\xce\\x8dk\\xa6\\x89\\xafus\\x14\\x92:\\x07\\x82=5\\xcec\\x03\\xfb\\xd9<\\x13\\xecOJ\\x87G\\xd2\\xec!\\xd2%\\xbd\\xb9[\\xd8uW~\\x10\\xc4V\"\\xa4\\xe7\\xafF\\xef\\xcdYci,{\\xe1\\x99\\'\\x8d\\x94na\\xd3=\\xc5-\\xd5\\xed\\xcd\\xcch\\x92\\xcc\\xd2\"\\xfd\\xd1\\x9e\\x056\\xc2\\xc4@\\x80\\xc5\\xbd8\\x15\\x95\\x1e\\xafa.\\xa0-\\xf6\\xac\\xae\\x08\\x00\\xe7\\x18=\\x0f5\\xa4\\xcd\\x85Q\\xeb\\xc9\\x06\\x9f\\xa4\\xe9\\xb6\\xf0\\xdb\\xf9V\\xf0[L\\xc7\\xef\\x89\\x80\\x0ery\\x00\\x9f\\xaf\\xadJ\\x18\\xe9-a\\x9b&6\\xd8\\x0f\\xf0\\xcb\\xf3\\x01\\xf8\\x8f\\xf0\\xa6Cn\\xd1d\\x16\\x07\\x9e0\\xd9\\xe2\\xae\\xcdjc\\x97\\x029a$\\xe7d\\x83\\x80==G\\xebU\\xf3\\xf3\\x929\\xfci\\x88iC\\x9e\\xb4I\\xafj\\xbaq\\x8bM\\xd1\\xe2\\xb7k\\x8b\\xc3\\x82fPs\\x8e\\x00\\xe4\\xe0u\\xc6}\\xe9\\xfd\\xaa\\x9c6\\xab\\x7f\\xe3m*\\xd8\\x88pRFo8\\x80\\xb8\\x00\\x9fC\\xe9\\xe9B\\x03\\xb1\\xf0\\xcaL\\xda\\xdd\\x9f\\x9d\\x04V\\xb3\\xa0-*\\xc2\\x15\\x14a\\x08#\\x0b\\xc1\\x19 \\xf5\\xec*\\x8c\\xba-\\xc7\\x89\\xbe ^6\\x97\\xa9\\x88$\\xb4X\\xe7[\\x96\\x1b\\xfa\\x8d\\xdc\\x00@\\xc7$\\xfd+g@\\xb7\\x8e/\\x15\\xdc\\xa4J\\x89\\x1c\\x10\\xb2\\x95\\x8b\\x05rJ\\xf7P\\x01\\x1d{\\x0fJ\\x9b\\xc1\\x11\\xb1\\xf1o\\x89\\xa6(A\\x12$AG\\x18\\x1d\\x17\\xb7\\xd2\\x9c^\\xe2\\x91\\x8f\\xaf^\\xde\\xdc\\xc8\\xf6\\x97\\x97+8\\x86F\\xc3*\\x05\\x04\\x8c\\x8c\\xf1\\\\\\xee\\xed\\xa4\\xafc[\\xda\\xbc\\x89-\\xe4\\xb2G\\x19\\x8e7l\\xaa\\x97,@\\xfa\\x9a\\xc4\\x95~c\\x8aE!\\xc6\\xee\\xe3\\x00\\x0b\\x896\\x83\\x9c\\x13\\x9aC$\\x92\\x06y\\x1c\\xb3\\x96\\x19\\'\\x9a\\x84\\xa9\\xcdX\\x8a/10\\x1e59\\xfe6\\xc5H\\t\\x86-\\x82\\xdd0)\\xe3\\xd2\\x9aH\\xdcq\\x83\\xee:S\\xc1\\x07\\xa8\\xa0\\x04\\x91\\xa3X\\xcf\\x98\\x14\\x8fq\\x9fZ\\xae\\xf7\\x10*1\\x018\\x04\\xf0\\xb8\\xcf\\xe9N\\xb9[\\xf9\\xcc6\\xbadA\\xae&\\x90\\x0f\\x98p\\x07\\xad$\\xda~\\xb9\\xa7i\\xf7w\\x9a\\x84v\\xad\\x12\\xb6\\xd8R0Iv*[\\x1d\\x06G\\xb8\\xfaU$+\\x99\\xba{\\xdf_Ol\"\\xd0\\x8e\\xc92A.>\\xef?0\\xe4z\\x1f\\xc2\\xb6\\x1f\\x1b\\x8e\\x06\\x07\\xb7\\xf8\\xd3\\xf4\\xf7\\xf1\\x801\\tb\\x92(V\\'y\\x11ge0\\xa8\\x04\\xfd\\xd2x\\x18\\x00{\\xd3\\\\\\x02C\\x0e\\x14\\x9f\\x97\\xe9C\\x19\\x19\\xf4\\xa6\\x9f\\xad<\\x9c\\x9cS1\\xd6\\xa4\\x07\\x03\\xd3\\x9ak\\x12%V\\x04`\\x9d\\xbf\\xd6\\x9c\\xbe\\xf5*A\\x14\\xa4,\\xb9\\xd9\\x90N1\\x93\\x83\\x9f\\xe9@\\x87\\x08\\x99\\xe2\\x07|@+\\xec\\x1b\\x98\\x03\\xd3?\\x8f_\\xd6\\xa3uT\\x05\\x92e|\\xb1\\x19@F>\\xb9\\x02\\x99(\\xcb(\\x04\\x9d\\x83\\x03=\\x87\\xa0\\xf4\\x1ct\\xa4\\xc9a\\x82\\x08\\xc50&O\\x99rEJ\\xa0g\\xda\\xabF\\xfb\\x1b\\xd8\\xd5\\x91\\xd2\\x80?\\xff\\xd9'>"
      ]
     },
     "execution_count": 32,
     "metadata": {},
     "output_type": "execute_result"
    }
   ],
   "source": [
    "img_raw"
   ]
  },
  {
   "cell_type": "code",
   "execution_count": 33,
   "metadata": {},
   "outputs": [],
   "source": [
    "img_tensor = tf.image.decode_image(img_raw)"
   ]
  },
  {
   "cell_type": "code",
   "execution_count": 34,
   "metadata": {},
   "outputs": [
    {
     "data": {
      "text/plain": [
       "TensorShape([256, 256, 3])"
      ]
     },
     "execution_count": 34,
     "metadata": {},
     "output_type": "execute_result"
    }
   ],
   "source": [
    "img_tensor.shape"
   ]
  },
  {
   "cell_type": "code",
   "execution_count": 35,
   "metadata": {},
   "outputs": [
    {
     "data": {
      "text/plain": [
       "<tf.Tensor: shape=(256, 256, 3), dtype=uint8, numpy=\n",
       "array([[[108, 103,  97],\n",
       "        [108, 103,  97],\n",
       "        [107, 102,  96],\n",
       "        ...,\n",
       "        [ 99,  92,  84],\n",
       "        [ 96,  89,  81],\n",
       "        [ 97,  90,  82]],\n",
       "\n",
       "       [[108, 103,  97],\n",
       "        [107, 102,  96],\n",
       "        [107, 102,  96],\n",
       "        ...,\n",
       "        [ 99,  92,  84],\n",
       "        [ 96,  89,  81],\n",
       "        [ 97,  90,  82]],\n",
       "\n",
       "       [[107, 102,  96],\n",
       "        [107, 102,  96],\n",
       "        [107, 102,  96],\n",
       "        ...,\n",
       "        [ 99,  92,  84],\n",
       "        [ 97,  90,  82],\n",
       "        [ 98,  91,  83]],\n",
       "\n",
       "       ...,\n",
       "\n",
       "       [[ 73,  67,  67],\n",
       "        [ 66,  60,  60],\n",
       "        [ 20,  14,  14],\n",
       "        ...,\n",
       "        [114, 109, 103],\n",
       "        [114, 109, 103],\n",
       "        [114, 109, 103]],\n",
       "\n",
       "       [[ 79,  73,  75],\n",
       "        [ 71,  65,  67],\n",
       "        [ 18,  12,  14],\n",
       "        ...,\n",
       "        [114, 109, 103],\n",
       "        [114, 109, 103],\n",
       "        [114, 109, 103]],\n",
       "\n",
       "       [[132, 126, 128],\n",
       "        [ 96,  90,  92],\n",
       "        [ 37,  31,  33],\n",
       "        ...,\n",
       "        [114, 109, 103],\n",
       "        [114, 109, 103],\n",
       "        [114, 109, 103]]], dtype=uint8)>"
      ]
     },
     "execution_count": 35,
     "metadata": {},
     "output_type": "execute_result"
    }
   ],
   "source": [
    "img_tensor"
   ]
  },
  {
   "cell_type": "code",
   "execution_count": 36,
   "metadata": {},
   "outputs": [],
   "source": [
    "img_tensor = tf.cast(img_tensor, tf.float32)"
   ]
  },
  {
   "cell_type": "code",
   "execution_count": 37,
   "metadata": {},
   "outputs": [],
   "source": [
    "img_tensor = img_tensor / 255"
   ]
  },
  {
   "cell_type": "code",
   "execution_count": 38,
   "metadata": {},
   "outputs": [
    {
     "data": {
      "text/plain": [
       "1.0"
      ]
     },
     "execution_count": 38,
     "metadata": {},
     "output_type": "execute_result"
    }
   ],
   "source": [
    "img_tensor.numpy().max()"
   ]
  },
  {
   "cell_type": "code",
   "execution_count": 39,
   "metadata": {},
   "outputs": [
    {
     "data": {
      "text/plain": [
       "0.0"
      ]
     },
     "execution_count": 39,
     "metadata": {},
     "output_type": "execute_result"
    }
   ],
   "source": [
    "img_tensor.numpy().min()"
   ]
  },
  {
   "cell_type": "code",
   "execution_count": 40,
   "metadata": {},
   "outputs": [],
   "source": [
    "def load_preprosess_image(img_path):\n",
    "    img_raw = tf.io.read_file(img_path)\n",
    "    img_tensor = tf.image.decode_jpeg(img_raw, channels = 3)\n",
    "    img_tensor = tf.image.resize(img_tensor, [256, 256])\n",
    "    img_tensor = tf.cast(img_tensor, tf.float32)\n",
    "    img = img_tensor / 255\n",
    "    return img"
   ]
  },
  {
   "cell_type": "code",
   "execution_count": 41,
   "metadata": {},
   "outputs": [],
   "source": [
    "image_temp_path = all_image_path[100]"
   ]
  },
  {
   "cell_type": "code",
   "execution_count": 42,
   "metadata": {},
   "outputs": [
    {
     "data": {
      "text/plain": [
       "<matplotlib.image.AxesImage at 0x22cae962408>"
      ]
     },
     "execution_count": 42,
     "metadata": {},
     "output_type": "execute_result"
    },
    {
     "data": {
      "image/png": "[encoded data removed]",
      "text/plain": [
       "<Figure size 432x288 with 1 Axes>"
      ]
     },
     "metadata": {
      "needs_background": "light"
     },
     "output_type": "display_data"
    }
   ],
   "source": [
    "plt.imshow(load_preprosess_image(image_temp_path))"
   ]
  },
  {
   "cell_type": "code",
   "execution_count": 43,
   "metadata": {},
   "outputs": [],
   "source": [
    "path_ds = tf.data.Dataset.from_tensor_slices(all_image_path)"
   ]
  },
  {
   "cell_type": "code",
   "execution_count": 44,
   "metadata": {},
   "outputs": [
    {
     "data": {
      "text/plain": [
       "<TensorSliceDataset shapes: (), types: tf.string>"
      ]
     },
     "execution_count": 44,
     "metadata": {},
     "output_type": "execute_result"
    }
   ],
   "source": [
    "path_ds"
   ]
  },
  {
   "cell_type": "code",
   "execution_count": 45,
   "metadata": {},
   "outputs": [],
   "source": [
    "image_dataset = path_ds.map(load_preprosess_image)"
   ]
  },
  {
   "cell_type": "code",
   "execution_count": 46,
   "metadata": {},
   "outputs": [],
   "source": [
    "label_dataset = tf.data.Dataset.from_tensor_slices(all_image_label)"
   ]
  },
  {
   "cell_type": "code",
   "execution_count": 47,
   "metadata": {},
   "outputs": [
    {
     "name": "stdout",
     "output_type": "stream",
     "text": [
      "0\n",
      "1\n",
      "1\n",
      "0\n",
      "1\n",
      "0\n",
      "0\n",
      "0\n",
      "1\n",
      "0\n"
     ]
    }
   ],
   "source": [
    "for label in label_dataset.take(10):\n",
    "    print(label.numpy())"
   ]
  },
  {
   "cell_type": "code",
   "execution_count": 48,
   "metadata": {},
   "outputs": [
    {
     "name": "stdout",
     "output_type": "stream",
     "text": [
      "[[[0.42352942 0.40392157 0.38039216]\n",
      "  [0.42352942 0.40392157 0.38039216]\n",
      "  [0.41960785 0.4        0.3764706 ]\n",
      "  ...\n",
      "  [0.3882353  0.36078432 0.32941177]\n",
      "  [0.3764706  0.34901962 0.31764707]\n",
      "  [0.38039216 0.3529412  0.32156864]]\n",
      "\n",
      " [[0.42352942 0.40392157 0.38039216]\n",
      "  [0.41960785 0.4        0.3764706 ]\n",
      "  [0.41960785 0.4        0.3764706 ]\n",
      "  ...\n",
      "  [0.3882353  0.36078432 0.32941177]\n",
      "  [0.3764706  0.34901962 0.31764707]\n",
      "  [0.38039216 0.3529412  0.32156864]]\n",
      "\n",
      " [[0.41960785 0.4        0.3764706 ]\n",
      "  [0.41960785 0.4        0.3764706 ]\n",
      "  [0.41960785 0.4        0.3764706 ]\n",
      "  ...\n",
      "  [0.3882353  0.36078432 0.32941177]\n",
      "  [0.38039216 0.3529412  0.32156864]\n",
      "  [0.38431373 0.35686275 0.3254902 ]]\n",
      "\n",
      " ...\n",
      "\n",
      " [[0.28627452 0.2627451  0.2627451 ]\n",
      "  [0.25882354 0.23529412 0.23529412]\n",
      "  [0.07843138 0.05490196 0.05490196]\n",
      "  ...\n",
      "  [0.44705883 0.42745098 0.40392157]\n",
      "  [0.44705883 0.42745098 0.40392157]\n",
      "  [0.44705883 0.42745098 0.40392157]]\n",
      "\n",
      " [[0.30980393 0.28627452 0.29411766]\n",
      "  [0.2784314  0.25490198 0.2627451 ]\n",
      "  [0.07058824 0.04705882 0.05490196]\n",
      "  ...\n",
      "  [0.44705883 0.42745098 0.40392157]\n",
      "  [0.44705883 0.42745098 0.40392157]\n",
      "  [0.44705883 0.42745098 0.40392157]]\n",
      "\n",
      " [[0.5176471  0.49411765 0.5019608 ]\n",
      "  [0.3764706  0.3529412  0.36078432]\n",
      "  [0.14509805 0.12156863 0.12941177]\n",
      "  ...\n",
      "  [0.44705883 0.42745098 0.40392157]\n",
      "  [0.44705883 0.42745098 0.40392157]\n",
      "  [0.44705883 0.42745098 0.40392157]]]\n"
     ]
    }
   ],
   "source": [
    "for img in image_dataset.take(1):\n",
    "    print(img.numpy())"
   ]
  },
  {
   "cell_type": "code",
   "execution_count": 49,
   "metadata": {},
   "outputs": [
    {
     "data": {
      "text/plain": [
       "<MapDataset shapes: (256, 256, 3), types: tf.float32>"
      ]
     },
     "execution_count": 49,
     "metadata": {},
     "output_type": "execute_result"
    }
   ],
   "source": [
    "image_dataset"
   ]
  },
  {
   "cell_type": "code",
   "execution_count": 50,
   "metadata": {},
   "outputs": [],
   "source": [
    "dataset = tf.data.Dataset.zip((image_dataset, label_dataset))"
   ]
  },
  {
   "cell_type": "code",
   "execution_count": 51,
   "metadata": {},
   "outputs": [
    {
     "data": {
      "text/plain": [
       "<ZipDataset shapes: ((256, 256, 3), ()), types: (tf.float32, tf.int32)>"
      ]
     },
     "execution_count": 51,
     "metadata": {},
     "output_type": "execute_result"
    }
   ],
   "source": [
    "dataset"
   ]
  },
  {
   "cell_type": "code",
   "execution_count": 52,
   "metadata": {},
   "outputs": [],
   "source": [
    "#划分测试数据和训练数据"
   ]
  },
  {
   "cell_type": "code",
   "execution_count": 53,
   "metadata": {},
   "outputs": [],
   "source": [
    "test_count = int(image_count * 0.2)\n",
    "train_count = image_count - test_count"
   ]
  },
  {
   "cell_type": "code",
   "execution_count": 54,
   "metadata": {},
   "outputs": [
    {
     "data": {
      "text/plain": [
       "(280, 1120)"
      ]
     },
     "execution_count": 54,
     "metadata": {},
     "output_type": "execute_result"
    }
   ],
   "source": [
    "test_count, train_count"
   ]
  },
  {
   "cell_type": "code",
   "execution_count": 55,
   "metadata": {},
   "outputs": [],
   "source": [
    "train_dataset = dataset.skip(test_count)"
   ]
  },
  {
   "cell_type": "code",
   "execution_count": 56,
   "metadata": {},
   "outputs": [],
   "source": [
    "test_dataset = dataset.take(test_count)"
   ]
  },
  {
   "cell_type": "code",
   "execution_count": 57,
   "metadata": {},
   "outputs": [],
   "source": [
    "BATCH_SIZE = 32"
   ]
  },
  {
   "cell_type": "code",
   "execution_count": 58,
   "metadata": {},
   "outputs": [],
   "source": [
    "train_dataset = train_dataset.repeat().shuffle(buffer_size = train_count).batch(BATCH_SIZE)"
   ]
  },
  {
   "cell_type": "code",
   "execution_count": 59,
   "metadata": {},
   "outputs": [],
   "source": [
    "test_dataset = test_dataset.batch(BATCH_SIZE)"
   ]
  },
  {
   "cell_type": "code",
   "execution_count": 60,
   "metadata": {},
   "outputs": [],
   "source": [
    "#增加批标准化优化方法层\n",
    "model = tf.keras.Sequential()  #顺序模型\n",
    "model.add(tf.keras.layers.Conv2D(64, (3, 3), input_shape = (256, 256, 3), padding = 'same'))\n",
    "model.add(tf.keras.layers.BatchNormalization())\n",
    "model.add(tf.keras.layers.Activation('relu'))\n",
    "model.add(tf.keras.layers.Dropout(0.5))\n",
    "          \n",
    "model.add(tf.keras.layers.Conv2D(64, (3, 3), padding = 'same'))\n",
    "model.add(tf.keras.layers.BatchNormalization())\n",
    "model.add(tf.keras.layers.Activation('relu'))\n",
    "model.add(tf.keras.layers.Dropout(0.5))\n",
    "\n",
    "model.add(tf.keras.layers.MaxPooling2D())\n",
    "model.add(tf.keras.layers.Conv2D(128, (3, 3), padding = 'same'))\n",
    "model.add(tf.keras.layers.BatchNormalization())\n",
    "model.add(tf.keras.layers.Activation('relu'))\n",
    "model.add(tf.keras.layers.Dropout(0.5))\n",
    "\n",
    "model.add(tf.keras.layers.MaxPooling2D())\n",
    "model.add(tf.keras.layers.Conv2D(128, (3, 3), padding = 'same'))\n",
    "model.add(tf.keras.layers.BatchNormalization())\n",
    "model.add(tf.keras.layers.Activation('relu'))\n",
    "model.add(tf.keras.layers.Dropout(0.5))\n",
    "\n",
    "model.add(tf.keras.layers.MaxPooling2D())\n",
    "model.add(tf.keras.layers.Conv2D(256, (3, 3), padding = 'same'))\n",
    "model.add(tf.keras.layers.BatchNormalization())\n",
    "model.add(tf.keras.layers.Activation('relu'))\n",
    "model.add(tf.keras.layers.Dropout(0.5))\n",
    "\n",
    "model.add(tf.keras.layers.MaxPooling2D())\n",
    "model.add(tf.keras.layers.Conv2D(256, (3, 3), padding = 'same'))\n",
    "model.add(tf.keras.layers.BatchNormalization())\n",
    "model.add(tf.keras.layers.Activation('relu'))\n",
    "model.add(tf.keras.layers.Dropout(0.5))\n",
    "\n",
    "model.add(tf.keras.layers.MaxPooling2D())\n",
    "model.add(tf.keras.layers.Conv2D(512, (3, 3), padding = 'same'))\n",
    "model.add(tf.keras.layers.BatchNormalization())\n",
    "model.add(tf.keras.layers.Activation('relu'))\n",
    "model.add(tf.keras.layers.Dropout(0.5))\n",
    "\n",
    "model.add(tf.keras.layers.MaxPooling2D())\n",
    "model.add(tf.keras.layers.Conv2D(512, (3, 3), padding = 'same'))\n",
    "model.add(tf.keras.layers.BatchNormalization())\n",
    "model.add(tf.keras.layers.Activation('relu'))\n",
    "model.add(tf.keras.layers.Dropout(0.5))\n",
    "\n",
    "model.add(tf.keras.layers.MaxPooling2D())\n",
    "model.add(tf.keras.layers.Conv2D(1024, (3, 3), padding = 'same'))\n",
    "model.add(tf.keras.layers.BatchNormalization())\n",
    "model.add(tf.keras.layers.Activation('relu'))\n",
    "model.add(tf.keras.layers.Dropout(0.5))\n",
    "\n",
    "model.add(tf.keras.layers.GlobalAveragePooling2D())\n",
    "model.add(tf.keras.layers.Dense(1024))\n",
    "model.add(tf.keras.layers.BatchNormalization())\n",
    "model.add(tf.keras.layers.Activation('relu'))\n",
    "model.add(tf.keras.layers.Dropout(0.5))\n",
    "\n",
    "model.add(tf.keras.layers.Dense(256))\n",
    "model.add(tf.keras.layers.BatchNormalization())\n",
    "model.add(tf.keras.layers.Activation('relu'))\n",
    "model.add(tf.keras.layers.Dropout(0.5))\n",
    "\n",
    "model.add(tf.keras.layers.Dense(1, activation = 'sigmoid'))"
   ]
  },
  {
   "cell_type": "code",
   "execution_count": 61,
   "metadata": {},
   "outputs": [
    {
     "data": {
      "text/plain": [
       "\"\\nmodel = tf.keras.Sequential()  #顺序模型\\nmodel.add(tf.keras.layers.Conv2D(64, (3, 3), input_shape = (256, 256, 3), activation = 'relu'))\\nmodel.add(tf.keras.layers.Conv2D(64, (3, 3), activation = 'relu'))\\nmodel.add(tf.keras.layers.MaxPooling2D())\\nmodel.add(tf.keras.layers.Conv2D(128, (3, 3), activation = 'relu'))\\nmodel.add(tf.keras.layers.Conv2D(128, (3, 3), activation = 'relu'))\\nmodel.add(tf.keras.layers.MaxPooling2D())\\nmodel.add(tf.keras.layers.Conv2D(256, (3, 3), activation = 'relu'))\\nmodel.add(tf.keras.layers.Conv2D(256, (3, 3), activation = 'relu'))\\nmodel.add(tf.keras.layers.MaxPooling2D())\\nmodel.add(tf.keras.layers.Conv2D(512, (3, 3), activation = 'relu'))\\n#model.add(tf.keras.layers.MaxPooling2D())\\nmodel.add(tf.keras.layers.Conv2D(512, (3, 3), activation = 'relu'))\\nmodel.add(tf.keras.layers.MaxPooling2D())\\nmodel.add(tf.keras.layers.Conv2D(1024, (3, 3), activation = 'relu'))\\nmodel.add(tf.keras.layers.Dropout(0.5))\\nmodel.add(tf.keras.layers.GlobalAveragePooling2D())\\nmodel.add(tf.keras.layers.Dense(1024, activation = 'relu'))\\nmodel.add(tf.keras.layers.Dense(256, activation = 'relu'))\\nmodel.add(tf.keras.layers.Dense(64, activation = 'relu'))\\nmodel.add(tf.keras.layers.Dense(1, activation = 'sigmoid'))\\n\""
      ]
     },
     "execution_count": 61,
     "metadata": {},
     "output_type": "execute_result"
    }
   ],
   "source": [
    "'''\n",
    "model = tf.keras.Sequential()  #顺序模型\n",
    "model.add(tf.keras.layers.Conv2D(64, (3, 3), input_shape = (256, 256, 3), activation = 'relu'))\n",
    "model.add(tf.keras.layers.Conv2D(64, (3, 3), activation = 'relu'))\n",
    "model.add(tf.keras.layers.MaxPooling2D())\n",
    "model.add(tf.keras.layers.Conv2D(128, (3, 3), activation = 'relu'))\n",
    "model.add(tf.keras.layers.Conv2D(128, (3, 3), activation = 'relu'))\n",
    "model.add(tf.keras.layers.MaxPooling2D())\n",
    "model.add(tf.keras.layers.Conv2D(256, (3, 3), activation = 'relu'))\n",
    "model.add(tf.keras.layers.Conv2D(256, (3, 3), activation = 'relu'))\n",
    "model.add(tf.keras.layers.MaxPooling2D())\n",
    "model.add(tf.keras.layers.Conv2D(512, (3, 3), activation = 'relu'))\n",
    "#model.add(tf.keras.layers.MaxPooling2D())\n",
    "model.add(tf.keras.layers.Conv2D(512, (3, 3), activation = 'relu'))\n",
    "model.add(tf.keras.layers.MaxPooling2D())\n",
    "model.add(tf.keras.layers.Conv2D(1024, (3, 3), activation = 'relu'))\n",
    "model.add(tf.keras.layers.Dropout(0.5))\n",
    "model.add(tf.keras.layers.GlobalAveragePooling2D())\n",
    "model.add(tf.keras.layers.Dense(1024, activation = 'relu'))\n",
    "model.add(tf.keras.layers.Dense(256, activation = 'relu'))\n",
    "model.add(tf.keras.layers.Dense(64, activation = 'relu'))\n",
    "model.add(tf.keras.layers.Dense(1, activation = 'sigmoid'))\n",
    "'''"
   ]
  },
  {
   "cell_type": "code",
   "execution_count": 62,
   "metadata": {},
   "outputs": [
    {
     "name": "stdout",
     "output_type": "stream",
     "text": [
      "Model: \"sequential\"\n",
      "_________________________________________________________________\n",
      "Layer (type)                 Output Shape              Param #   \n",
      "=================================================================\n",
      "conv2d (Conv2D)              (None, 256, 256, 64)      1792      \n",
      "_________________________________________________________________\n",
      "batch_normalization (BatchNo (None, 256, 256, 64)      256       \n",
      "_________________________________________________________________\n",
      "activation (Activation)      (None, 256, 256, 64)      0         \n",
      "_________________________________________________________________\n",
      "dropout (Dropout)            (None, 256, 256, 64)      0         \n",
      "_________________________________________________________________\n",
      "conv2d_1 (Conv2D)            (None, 256, 256, 64)      36928     \n",
      "_________________________________________________________________\n",
      "batch_normalization_1 (Batch (None, 256, 256, 64)      256       \n",
      "_________________________________________________________________\n",
      "activation_1 (Activation)    (None, 256, 256, 64)      0         \n",
      "_________________________________________________________________\n",
      "dropout_1 (Dropout)          (None, 256, 256, 64)      0         \n",
      "_________________________________________________________________\n",
      "max_pooling2d (MaxPooling2D) (None, 128, 128, 64)      0         \n",
      "_________________________________________________________________\n",
      "conv2d_2 (Conv2D)            (None, 128, 128, 128)     73856     \n",
      "_________________________________________________________________\n",
      "batch_normalization_2 (Batch (None, 128, 128, 128)     512       \n",
      "_________________________________________________________________\n",
      "activation_2 (Activation)    (None, 128, 128, 128)     0         \n",
      "_________________________________________________________________\n",
      "dropout_2 (Dropout)          (None, 128, 128, 128)     0         \n",
      "_________________________________________________________________\n",
      "max_pooling2d_1 (MaxPooling2 (None, 64, 64, 128)       0         \n",
      "_________________________________________________________________\n",
      "conv2d_3 (Conv2D)            (None, 64, 64, 128)       147584    \n",
      "_________________________________________________________________\n",
      "batch_normalization_3 (Batch (None, 64, 64, 128)       512       \n",
      "_________________________________________________________________\n",
      "activation_3 (Activation)    (None, 64, 64, 128)       0         \n",
      "_________________________________________________________________\n",
      "dropout_3 (Dropout)          (None, 64, 64, 128)       0         \n",
      "_________________________________________________________________\n",
      "max_pooling2d_2 (MaxPooling2 (None, 32, 32, 128)       0         \n",
      "_________________________________________________________________\n",
      "conv2d_4 (Conv2D)            (None, 32, 32, 256)       295168    \n",
      "_________________________________________________________________\n",
      "batch_normalization_4 (Batch (None, 32, 32, 256)       1024      \n",
      "_________________________________________________________________\n",
      "activation_4 (Activation)    (None, 32, 32, 256)       0         \n",
      "_________________________________________________________________\n",
      "dropout_4 (Dropout)          (None, 32, 32, 256)       0         \n",
      "_________________________________________________________________\n",
      "max_pooling2d_3 (MaxPooling2 (None, 16, 16, 256)       0         \n",
      "_________________________________________________________________\n",
      "conv2d_5 (Conv2D)            (None, 16, 16, 256)       590080    \n",
      "_________________________________________________________________\n",
      "batch_normalization_5 (Batch (None, 16, 16, 256)       1024      \n",
      "_________________________________________________________________\n",
      "activation_5 (Activation)    (None, 16, 16, 256)       0         \n",
      "_________________________________________________________________\n",
      "dropout_5 (Dropout)          (None, 16, 16, 256)       0         \n",
      "_________________________________________________________________\n",
      "max_pooling2d_4 (MaxPooling2 (None, 8, 8, 256)         0         \n",
      "_________________________________________________________________\n",
      "conv2d_6 (Conv2D)            (None, 8, 8, 512)         1180160   \n",
      "_________________________________________________________________\n",
      "batch_normalization_6 (Batch (None, 8, 8, 512)         2048      \n",
      "_________________________________________________________________\n",
      "activation_6 (Activation)    (None, 8, 8, 512)         0         \n",
      "_________________________________________________________________\n",
      "dropout_6 (Dropout)          (None, 8, 8, 512)         0         \n",
      "_________________________________________________________________\n",
      "max_pooling2d_5 (MaxPooling2 (None, 4, 4, 512)         0         \n",
      "_________________________________________________________________\n",
      "conv2d_7 (Conv2D)            (None, 4, 4, 512)         2359808   \n",
      "_________________________________________________________________\n",
      "batch_normalization_7 (Batch (None, 4, 4, 512)         2048      \n",
      "_________________________________________________________________\n",
      "activation_7 (Activation)    (None, 4, 4, 512)         0         \n",
      "_________________________________________________________________\n",
      "dropout_7 (Dropout)          (None, 4, 4, 512)         0         \n",
      "_________________________________________________________________\n",
      "max_pooling2d_6 (MaxPooling2 (None, 2, 2, 512)         0         \n",
      "_________________________________________________________________\n",
      "conv2d_8 (Conv2D)            (None, 2, 2, 1024)        4719616   \n",
      "_________________________________________________________________\n",
      "batch_normalization_8 (Batch (None, 2, 2, 1024)        4096      \n",
      "_________________________________________________________________\n",
      "activation_8 (Activation)    (None, 2, 2, 1024)        0         \n",
      "_________________________________________________________________\n",
      "dropout_8 (Dropout)          (None, 2, 2, 1024)        0         \n",
      "_________________________________________________________________\n",
      "global_average_pooling2d (Gl (None, 1024)              0         \n",
      "_________________________________________________________________\n",
      "dense (Dense)                (None, 1024)              1049600   \n",
      "_________________________________________________________________\n",
      "batch_normalization_9 (Batch (None, 1024)              4096      \n",
      "_________________________________________________________________\n",
      "activation_9 (Activation)    (None, 1024)              0         \n",
      "_________________________________________________________________\n",
      "dropout_9 (Dropout)          (None, 1024)              0         \n",
      "_________________________________________________________________\n",
      "dense_1 (Dense)              (None, 256)               262400    \n",
      "_________________________________________________________________\n",
      "batch_normalization_10 (Batc (None, 256)               1024      \n",
      "_________________________________________________________________\n",
      "activation_10 (Activation)   (None, 256)               0         \n",
      "_________________________________________________________________\n",
      "dropout_10 (Dropout)         (None, 256)               0         \n",
      "_________________________________________________________________\n",
      "dense_2 (Dense)              (None, 1)                 257       \n",
      "=================================================================\n",
      "Total params: 10,734,145\n",
      "Trainable params: 10,725,697\n",
      "Non-trainable params: 8,448\n",
      "_________________________________________________________________\n"
     ]
    }
   ],
   "source": [
    "model.summary()"
   ]
  },
  {
   "cell_type": "code",
   "execution_count": 63,
   "metadata": {},
   "outputs": [],
   "source": [
    "model.compile(optimizer = 'adam',\n",
    "             loss = 'binary_crossentropy',\n",
    "             metrics = ['acc'])"
   ]
  },
  {
   "cell_type": "code",
   "execution_count": 64,
   "metadata": {},
   "outputs": [],
   "source": [
    "steps_per_epoch = train_count//BATCH_SIZE\n",
    "validation_steps = test_count//BATCH_SIZE"
   ]
  },
  {
   "cell_type": "code",
   "execution_count": 65,
   "metadata": {},
   "outputs": [
    {
     "name": "stdout",
     "output_type": "stream",
     "text": [
      "Train for 35 steps, validate for 8 steps\n",
      "Epoch 1/30\n",
      " 1/35 [..............................] - ETA: 29:45"
     ]
    },
    {
     "ename": "ResourceExhaustedError",
     "evalue": " OOM when allocating tensor with shape[32,64,256,256] and type float on /job:localhost/replica:0/task:0/device:GPU:0 by allocator GPU_0_bfc\n\t [[node sequential/batch_normalization_1/FusedBatchNormV3 (defined at <ipython-input-65-2181883632be>:5) ]]\nHint: If you want to see a list of allocated tensors when OOM happens, add report_tensor_allocations_upon_oom to RunOptions for current allocation info.\n [Op:__inference_distributed_function_5242]\n\nFunction call stack:\ndistributed_function\n",
     "output_type": "error",
     "traceback": [
      "\u001b[1;31m---------------------------------------------------------------------------\u001b[0m",
      "\u001b[1;31mResourceExhaustedError\u001b[0m                    Traceback (most recent call last)",
      "\u001b[1;32m<ipython-input-65-2181883632be>\u001b[0m in \u001b[0;36m<module>\u001b[1;34m\u001b[0m\n\u001b[0;32m      3\u001b[0m                     \u001b[0msteps_per_epoch\u001b[0m \u001b[1;33m=\u001b[0m \u001b[0msteps_per_epoch\u001b[0m\u001b[1;33m,\u001b[0m\u001b[1;33m\u001b[0m\u001b[1;33m\u001b[0m\u001b[0m\n\u001b[0;32m      4\u001b[0m                     \u001b[0mvalidation_data\u001b[0m \u001b[1;33m=\u001b[0m \u001b[0mtest_dataset\u001b[0m\u001b[1;33m,\u001b[0m\u001b[1;33m\u001b[0m\u001b[1;33m\u001b[0m\u001b[0m\n\u001b[1;32m----> 5\u001b[1;33m                     validation_steps = validation_steps)\n\u001b[0m",
      "\u001b[1;32me:\\miniconda\\lib\\site-packages\\tensorflow_core\\python\\keras\\engine\\training.py\u001b[0m in \u001b[0;36mfit\u001b[1;34m(self, x, y, batch_size, epochs, verbose, callbacks, validation_split, validation_data, shuffle, class_weight, sample_weight, initial_epoch, steps_per_epoch, validation_steps, validation_freq, max_queue_size, workers, use_multiprocessing, **kwargs)\u001b[0m\n\u001b[0;32m    817\u001b[0m         \u001b[0mmax_queue_size\u001b[0m\u001b[1;33m=\u001b[0m\u001b[0mmax_queue_size\u001b[0m\u001b[1;33m,\u001b[0m\u001b[1;33m\u001b[0m\u001b[1;33m\u001b[0m\u001b[0m\n\u001b[0;32m    818\u001b[0m         \u001b[0mworkers\u001b[0m\u001b[1;33m=\u001b[0m\u001b[0mworkers\u001b[0m\u001b[1;33m,\u001b[0m\u001b[1;33m\u001b[0m\u001b[1;33m\u001b[0m\u001b[0m\n\u001b[1;32m--> 819\u001b[1;33m         use_multiprocessing=use_multiprocessing)\n\u001b[0m\u001b[0;32m    820\u001b[0m \u001b[1;33m\u001b[0m\u001b[0m\n\u001b[0;32m    821\u001b[0m   def evaluate(self,\n",
      "\u001b[1;32me:\\miniconda\\lib\\site-packages\\tensorflow_core\\python\\keras\\engine\\training_v2.py\u001b[0m in \u001b[0;36mfit\u001b[1;34m(self, model, x, y, batch_size, epochs, verbose, callbacks, validation_split, validation_data, shuffle, class_weight, sample_weight, initial_epoch, steps_per_epoch, validation_steps, validation_freq, max_queue_size, workers, use_multiprocessing, **kwargs)\u001b[0m\n\u001b[0;32m    340\u001b[0m                 \u001b[0mmode\u001b[0m\u001b[1;33m=\u001b[0m\u001b[0mModeKeys\u001b[0m\u001b[1;33m.\u001b[0m\u001b[0mTRAIN\u001b[0m\u001b[1;33m,\u001b[0m\u001b[1;33m\u001b[0m\u001b[1;33m\u001b[0m\u001b[0m\n\u001b[0;32m    341\u001b[0m                 \u001b[0mtraining_context\u001b[0m\u001b[1;33m=\u001b[0m\u001b[0mtraining_context\u001b[0m\u001b[1;33m,\u001b[0m\u001b[1;33m\u001b[0m\u001b[1;33m\u001b[0m\u001b[0m\n\u001b[1;32m--> 342\u001b[1;33m                 total_epochs=epochs)\n\u001b[0m\u001b[0;32m    343\u001b[0m             \u001b[0mcbks\u001b[0m\u001b[1;33m.\u001b[0m\u001b[0mmake_logs\u001b[0m\u001b[1;33m(\u001b[0m\u001b[0mmodel\u001b[0m\u001b[1;33m,\u001b[0m \u001b[0mepoch_logs\u001b[0m\u001b[1;33m,\u001b[0m \u001b[0mtraining_result\u001b[0m\u001b[1;33m,\u001b[0m \u001b[0mModeKeys\u001b[0m\u001b[1;33m.\u001b[0m\u001b[0mTRAIN\u001b[0m\u001b[1;33m)\u001b[0m\u001b[1;33m\u001b[0m\u001b[1;33m\u001b[0m\u001b[0m\n\u001b[0;32m    344\u001b[0m \u001b[1;33m\u001b[0m\u001b[0m\n",
      "\u001b[1;32me:\\miniconda\\lib\\site-packages\\tensorflow_core\\python\\keras\\engine\\training_v2.py\u001b[0m in \u001b[0;36mrun_one_epoch\u001b[1;34m(model, iterator, execution_function, dataset_size, batch_size, strategy, steps_per_epoch, num_samples, mode, training_context, total_epochs)\u001b[0m\n\u001b[0;32m    126\u001b[0m         step=step, mode=mode, size=current_batch_size) as batch_logs:\n\u001b[0;32m    127\u001b[0m       \u001b[1;32mtry\u001b[0m\u001b[1;33m:\u001b[0m\u001b[1;33m\u001b[0m\u001b[1;33m\u001b[0m\u001b[0m\n\u001b[1;32m--> 128\u001b[1;33m         \u001b[0mbatch_outs\u001b[0m \u001b[1;33m=\u001b[0m \u001b[0mexecution_function\u001b[0m\u001b[1;33m(\u001b[0m\u001b[0miterator\u001b[0m\u001b[1;33m)\u001b[0m\u001b[1;33m\u001b[0m\u001b[1;33m\u001b[0m\u001b[0m\n\u001b[0m\u001b[0;32m    129\u001b[0m       \u001b[1;32mexcept\u001b[0m \u001b[1;33m(\u001b[0m\u001b[0mStopIteration\u001b[0m\u001b[1;33m,\u001b[0m \u001b[0merrors\u001b[0m\u001b[1;33m.\u001b[0m\u001b[0mOutOfRangeError\u001b[0m\u001b[1;33m)\u001b[0m\u001b[1;33m:\u001b[0m\u001b[1;33m\u001b[0m\u001b[1;33m\u001b[0m\u001b[0m\n\u001b[0;32m    130\u001b[0m         \u001b[1;31m# TODO(kaftan): File bug about tf function and errors.OutOfRangeError?\u001b[0m\u001b[1;33m\u001b[0m\u001b[1;33m\u001b[0m\u001b[1;33m\u001b[0m\u001b[0m\n",
      "\u001b[1;32me:\\miniconda\\lib\\site-packages\\tensorflow_core\\python\\keras\\engine\\training_v2_utils.py\u001b[0m in \u001b[0;36mexecution_function\u001b[1;34m(input_fn)\u001b[0m\n\u001b[0;32m     96\u001b[0m     \u001b[1;31m# `numpy` translates Tensors to values in Eager mode.\u001b[0m\u001b[1;33m\u001b[0m\u001b[1;33m\u001b[0m\u001b[1;33m\u001b[0m\u001b[0m\n\u001b[0;32m     97\u001b[0m     return nest.map_structure(_non_none_constant_value,\n\u001b[1;32m---> 98\u001b[1;33m                               distributed_function(input_fn))\n\u001b[0m\u001b[0;32m     99\u001b[0m \u001b[1;33m\u001b[0m\u001b[0m\n\u001b[0;32m    100\u001b[0m   \u001b[1;32mreturn\u001b[0m \u001b[0mexecution_function\u001b[0m\u001b[1;33m\u001b[0m\u001b[1;33m\u001b[0m\u001b[0m\n",
      "\u001b[1;32me:\\miniconda\\lib\\site-packages\\tensorflow_core\\python\\eager\\def_function.py\u001b[0m in \u001b[0;36m__call__\u001b[1;34m(self, *args, **kwds)\u001b[0m\n\u001b[0;32m    566\u001b[0m         \u001b[0mxla_context\u001b[0m\u001b[1;33m.\u001b[0m\u001b[0mExit\u001b[0m\u001b[1;33m(\u001b[0m\u001b[1;33m)\u001b[0m\u001b[1;33m\u001b[0m\u001b[1;33m\u001b[0m\u001b[0m\n\u001b[0;32m    567\u001b[0m     \u001b[1;32melse\u001b[0m\u001b[1;33m:\u001b[0m\u001b[1;33m\u001b[0m\u001b[1;33m\u001b[0m\u001b[0m\n\u001b[1;32m--> 568\u001b[1;33m       \u001b[0mresult\u001b[0m \u001b[1;33m=\u001b[0m \u001b[0mself\u001b[0m\u001b[1;33m.\u001b[0m\u001b[0m_call\u001b[0m\u001b[1;33m(\u001b[0m\u001b[1;33m*\u001b[0m\u001b[0margs\u001b[0m\u001b[1;33m,\u001b[0m \u001b[1;33m**\u001b[0m\u001b[0mkwds\u001b[0m\u001b[1;33m)\u001b[0m\u001b[1;33m\u001b[0m\u001b[1;33m\u001b[0m\u001b[0m\n\u001b[0m\u001b[0;32m    569\u001b[0m \u001b[1;33m\u001b[0m\u001b[0m\n\u001b[0;32m    570\u001b[0m     \u001b[1;32mif\u001b[0m \u001b[0mtracing_count\u001b[0m \u001b[1;33m==\u001b[0m \u001b[0mself\u001b[0m\u001b[1;33m.\u001b[0m\u001b[0m_get_tracing_count\u001b[0m\u001b[1;33m(\u001b[0m\u001b[1;33m)\u001b[0m\u001b[1;33m:\u001b[0m\u001b[1;33m\u001b[0m\u001b[1;33m\u001b[0m\u001b[0m\n",
      "\u001b[1;32me:\\miniconda\\lib\\site-packages\\tensorflow_core\\python\\eager\\def_function.py\u001b[0m in \u001b[0;36m_call\u001b[1;34m(self, *args, **kwds)\u001b[0m\n\u001b[0;32m    630\u001b[0m         \u001b[1;31m# Lifting succeeded, so variables are initialized and we can run the\u001b[0m\u001b[1;33m\u001b[0m\u001b[1;33m\u001b[0m\u001b[1;33m\u001b[0m\u001b[0m\n\u001b[0;32m    631\u001b[0m         \u001b[1;31m# stateless function.\u001b[0m\u001b[1;33m\u001b[0m\u001b[1;33m\u001b[0m\u001b[1;33m\u001b[0m\u001b[0m\n\u001b[1;32m--> 632\u001b[1;33m         \u001b[1;32mreturn\u001b[0m \u001b[0mself\u001b[0m\u001b[1;33m.\u001b[0m\u001b[0m_stateless_fn\u001b[0m\u001b[1;33m(\u001b[0m\u001b[1;33m*\u001b[0m\u001b[0margs\u001b[0m\u001b[1;33m,\u001b[0m \u001b[1;33m**\u001b[0m\u001b[0mkwds\u001b[0m\u001b[1;33m)\u001b[0m\u001b[1;33m\u001b[0m\u001b[1;33m\u001b[0m\u001b[0m\n\u001b[0m\u001b[0;32m    633\u001b[0m     \u001b[1;32melse\u001b[0m\u001b[1;33m:\u001b[0m\u001b[1;33m\u001b[0m\u001b[1;33m\u001b[0m\u001b[0m\n\u001b[0;32m    634\u001b[0m       \u001b[0mcanon_args\u001b[0m\u001b[1;33m,\u001b[0m \u001b[0mcanon_kwds\u001b[0m \u001b[1;33m=\u001b[0m\u001b[0;31m \u001b[0m\u001b[0;31m\\\u001b[0m\u001b[1;33m\u001b[0m\u001b[1;33m\u001b[0m\u001b[0m\n",
      "\u001b[1;32me:\\miniconda\\lib\\site-packages\\tensorflow_core\\python\\eager\\function.py\u001b[0m in \u001b[0;36m__call__\u001b[1;34m(self, *args, **kwargs)\u001b[0m\n\u001b[0;32m   2361\u001b[0m     \u001b[1;32mwith\u001b[0m \u001b[0mself\u001b[0m\u001b[1;33m.\u001b[0m\u001b[0m_lock\u001b[0m\u001b[1;33m:\u001b[0m\u001b[1;33m\u001b[0m\u001b[1;33m\u001b[0m\u001b[0m\n\u001b[0;32m   2362\u001b[0m       \u001b[0mgraph_function\u001b[0m\u001b[1;33m,\u001b[0m \u001b[0margs\u001b[0m\u001b[1;33m,\u001b[0m \u001b[0mkwargs\u001b[0m \u001b[1;33m=\u001b[0m \u001b[0mself\u001b[0m\u001b[1;33m.\u001b[0m\u001b[0m_maybe_define_function\u001b[0m\u001b[1;33m(\u001b[0m\u001b[0margs\u001b[0m\u001b[1;33m,\u001b[0m \u001b[0mkwargs\u001b[0m\u001b[1;33m)\u001b[0m\u001b[1;33m\u001b[0m\u001b[1;33m\u001b[0m\u001b[0m\n\u001b[1;32m-> 2363\u001b[1;33m     \u001b[1;32mreturn\u001b[0m \u001b[0mgraph_function\u001b[0m\u001b[1;33m.\u001b[0m\u001b[0m_filtered_call\u001b[0m\u001b[1;33m(\u001b[0m\u001b[0margs\u001b[0m\u001b[1;33m,\u001b[0m \u001b[0mkwargs\u001b[0m\u001b[1;33m)\u001b[0m  \u001b[1;31m# pylint: disable=protected-access\u001b[0m\u001b[1;33m\u001b[0m\u001b[1;33m\u001b[0m\u001b[0m\n\u001b[0m\u001b[0;32m   2364\u001b[0m \u001b[1;33m\u001b[0m\u001b[0m\n\u001b[0;32m   2365\u001b[0m   \u001b[1;33m@\u001b[0m\u001b[0mproperty\u001b[0m\u001b[1;33m\u001b[0m\u001b[1;33m\u001b[0m\u001b[0m\n",
      "\u001b[1;32me:\\miniconda\\lib\\site-packages\\tensorflow_core\\python\\eager\\function.py\u001b[0m in \u001b[0;36m_filtered_call\u001b[1;34m(self, args, kwargs)\u001b[0m\n\u001b[0;32m   1609\u001b[0m          if isinstance(t, (ops.Tensor,\n\u001b[0;32m   1610\u001b[0m                            resource_variable_ops.BaseResourceVariable))),\n\u001b[1;32m-> 1611\u001b[1;33m         self.captured_inputs)\n\u001b[0m\u001b[0;32m   1612\u001b[0m \u001b[1;33m\u001b[0m\u001b[0m\n\u001b[0;32m   1613\u001b[0m   \u001b[1;32mdef\u001b[0m \u001b[0m_call_flat\u001b[0m\u001b[1;33m(\u001b[0m\u001b[0mself\u001b[0m\u001b[1;33m,\u001b[0m \u001b[0margs\u001b[0m\u001b[1;33m,\u001b[0m \u001b[0mcaptured_inputs\u001b[0m\u001b[1;33m,\u001b[0m \u001b[0mcancellation_manager\u001b[0m\u001b[1;33m=\u001b[0m\u001b[1;32mNone\u001b[0m\u001b[1;33m)\u001b[0m\u001b[1;33m:\u001b[0m\u001b[1;33m\u001b[0m\u001b[1;33m\u001b[0m\u001b[0m\n",
      "\u001b[1;32me:\\miniconda\\lib\\site-packages\\tensorflow_core\\python\\eager\\function.py\u001b[0m in \u001b[0;36m_call_flat\u001b[1;34m(self, args, captured_inputs, cancellation_manager)\u001b[0m\n\u001b[0;32m   1690\u001b[0m       \u001b[1;31m# No tape is watching; skip to running the function.\u001b[0m\u001b[1;33m\u001b[0m\u001b[1;33m\u001b[0m\u001b[1;33m\u001b[0m\u001b[0m\n\u001b[0;32m   1691\u001b[0m       return self._build_call_outputs(self._inference_function.call(\n\u001b[1;32m-> 1692\u001b[1;33m           ctx, args, cancellation_manager=cancellation_manager))\n\u001b[0m\u001b[0;32m   1693\u001b[0m     forward_backward = self._select_forward_and_backward_functions(\n\u001b[0;32m   1694\u001b[0m         \u001b[0margs\u001b[0m\u001b[1;33m,\u001b[0m\u001b[1;33m\u001b[0m\u001b[1;33m\u001b[0m\u001b[0m\n",
      "\u001b[1;32me:\\miniconda\\lib\\site-packages\\tensorflow_core\\python\\eager\\function.py\u001b[0m in \u001b[0;36mcall\u001b[1;34m(self, ctx, args, cancellation_manager)\u001b[0m\n\u001b[0;32m    543\u001b[0m               \u001b[0minputs\u001b[0m\u001b[1;33m=\u001b[0m\u001b[0margs\u001b[0m\u001b[1;33m,\u001b[0m\u001b[1;33m\u001b[0m\u001b[1;33m\u001b[0m\u001b[0m\n\u001b[0;32m    544\u001b[0m               \u001b[0mattrs\u001b[0m\u001b[1;33m=\u001b[0m\u001b[1;33m(\u001b[0m\u001b[1;34m\"executor_type\"\u001b[0m\u001b[1;33m,\u001b[0m \u001b[0mexecutor_type\u001b[0m\u001b[1;33m,\u001b[0m \u001b[1;34m\"config_proto\"\u001b[0m\u001b[1;33m,\u001b[0m \u001b[0mconfig\u001b[0m\u001b[1;33m)\u001b[0m\u001b[1;33m,\u001b[0m\u001b[1;33m\u001b[0m\u001b[1;33m\u001b[0m\u001b[0m\n\u001b[1;32m--> 545\u001b[1;33m               ctx=ctx)\n\u001b[0m\u001b[0;32m    546\u001b[0m         \u001b[1;32melse\u001b[0m\u001b[1;33m:\u001b[0m\u001b[1;33m\u001b[0m\u001b[1;33m\u001b[0m\u001b[0m\n\u001b[0;32m    547\u001b[0m           outputs = execute.execute_with_cancellation(\n",
      "\u001b[1;32me:\\miniconda\\lib\\site-packages\\tensorflow_core\\python\\eager\\execute.py\u001b[0m in \u001b[0;36mquick_execute\u001b[1;34m(op_name, num_outputs, inputs, attrs, ctx, name)\u001b[0m\n\u001b[0;32m     65\u001b[0m     \u001b[1;32melse\u001b[0m\u001b[1;33m:\u001b[0m\u001b[1;33m\u001b[0m\u001b[1;33m\u001b[0m\u001b[0m\n\u001b[0;32m     66\u001b[0m       \u001b[0mmessage\u001b[0m \u001b[1;33m=\u001b[0m \u001b[0me\u001b[0m\u001b[1;33m.\u001b[0m\u001b[0mmessage\u001b[0m\u001b[1;33m\u001b[0m\u001b[1;33m\u001b[0m\u001b[0m\n\u001b[1;32m---> 67\u001b[1;33m     \u001b[0msix\u001b[0m\u001b[1;33m.\u001b[0m\u001b[0mraise_from\u001b[0m\u001b[1;33m(\u001b[0m\u001b[0mcore\u001b[0m\u001b[1;33m.\u001b[0m\u001b[0m_status_to_exception\u001b[0m\u001b[1;33m(\u001b[0m\u001b[0me\u001b[0m\u001b[1;33m.\u001b[0m\u001b[0mcode\u001b[0m\u001b[1;33m,\u001b[0m \u001b[0mmessage\u001b[0m\u001b[1;33m)\u001b[0m\u001b[1;33m,\u001b[0m \u001b[1;32mNone\u001b[0m\u001b[1;33m)\u001b[0m\u001b[1;33m\u001b[0m\u001b[1;33m\u001b[0m\u001b[0m\n\u001b[0m\u001b[0;32m     68\u001b[0m   \u001b[1;32mexcept\u001b[0m \u001b[0mTypeError\u001b[0m \u001b[1;32mas\u001b[0m \u001b[0me\u001b[0m\u001b[1;33m:\u001b[0m\u001b[1;33m\u001b[0m\u001b[1;33m\u001b[0m\u001b[0m\n\u001b[0;32m     69\u001b[0m     keras_symbolic_tensors = [\n",
      "\u001b[1;32me:\\miniconda\\lib\\site-packages\\six.py\u001b[0m in \u001b[0;36mraise_from\u001b[1;34m(value, from_value)\u001b[0m\n",
      "\u001b[1;31mResourceExhaustedError\u001b[0m:  OOM when allocating tensor with shape[32,64,256,256] and type float on /job:localhost/replica:0/task:0/device:GPU:0 by allocator GPU_0_bfc\n\t [[node sequential/batch_normalization_1/FusedBatchNormV3 (defined at <ipython-input-65-2181883632be>:5) ]]\nHint: If you want to see a list of allocated tensors when OOM happens, add report_tensor_allocations_upon_oom to RunOptions for current allocation info.\n [Op:__inference_distributed_function_5242]\n\nFunction call stack:\ndistributed_function\n"
     ]
    }
   ],
   "source": [
    "history = model.fit(train_dataset, \n",
    "                    epochs= 30,\n",
    "                    steps_per_epoch = steps_per_epoch,\n",
    "                    validation_data = test_dataset,\n",
    "                    validation_steps = validation_steps)"
   ]
  },
  {
   "cell_type": "code",
   "execution_count": null,
   "metadata": {},
   "outputs": [],
   "source": [
    "history.history.keys()"
   ]
  },
  {
   "cell_type": "code",
   "execution_count": null,
   "metadata": {},
   "outputs": [],
   "source": [
    "plt.plot(history.epoch, history.history.get('acc'), label = 'acc')\n",
    "plt.plot(history.epoch, history.history.get('val_acc'), label = 'val_acc')\n",
    "plt.legend()"
   ]
  },
  {
   "cell_type": "code",
   "execution_count": null,
   "metadata": {},
   "outputs": [],
   "source": [
    "plt.plot(history.epoch, history.history.get('loss'), label = 'loss')\n",
    "plt.plot(history.epoch, history.history.get('val_loss'), label = 'val_loss')\n",
    "plt.legend()"
   ]
  },
  {
   "cell_type": "code",
   "execution_count": null,
   "metadata": {},
   "outputs": [],
   "source": [
    "test_loss, test_acc = model.evaluate(test_dataset, verbose = 2)\n",
    "print('\\n Test accuracy:', test_acc)"
   ]
  },
  {
   "cell_type": "code",
   "execution_count": null,
   "metadata": {},
   "outputs": [],
   "source": []
  }
 ],
 "metadata": {
  "kernelspec": {
   "display_name": "Python 3",
   "language": "python",
   "name": "python3"
  },
  "language_info": {
   "codemirror_mode": {
    "name": "ipython",
    "version": 3
   },
   "file_extension": ".py",
   "mimetype": "text/x-python",
   "name": "python",
   "nbconvert_exporter": "python",
   "pygments_lexer": "ipython3",
   "version": "3.7.6"
  }
 },
 "nbformat": 4,
 "nbformat_minor": 4
}
