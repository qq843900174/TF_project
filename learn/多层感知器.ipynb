{
 "cells": [
  {
   "cell_type": "code",
   "execution_count": 1,
   "metadata": {},
   "outputs": [],
   "source": [
    "import tensorflow as tf"
   ]
  },
  {
   "cell_type": "code",
   "execution_count": 3,
   "metadata": {},
   "outputs": [],
   "source": [
    "import pandas as pd\n",
    "import numpy as np\n",
    "import matplotlib.pyplot as plt\n",
    "%matplotlib inline"
   ]
  },
  {
   "cell_type": "code",
   "execution_count": 4,
   "metadata": {},
   "outputs": [],
   "source": [
    "data = pd.read_csv('dataset/Advertising.csv')"
   ]
  },
  {
   "cell_type": "code",
   "execution_count": 5,
   "metadata": {},
   "outputs": [
    {
     "data": {
      "text/html": [
       "<div>\n",
       "<style scoped>\n",
       "    .dataframe tbody tr th:only-of-type {\n",
       "        vertical-align: middle;\n",
       "    }\n",
       "\n",
       "    .dataframe tbody tr th {\n",
       "        vertical-align: top;\n",
       "    }\n",
       "\n",
       "    .dataframe thead th {\n",
       "        text-align: right;\n",
       "    }\n",
       "</style>\n",
       "<table border=\"1\" class=\"dataframe\">\n",
       "  <thead>\n",
       "    <tr style=\"text-align: right;\">\n",
       "      <th></th>\n",
       "      <th>Unnamed: 0</th>\n",
       "      <th>TV</th>\n",
       "      <th>radio</th>\n",
       "      <th>newspaper</th>\n",
       "      <th>sales</th>\n",
       "    </tr>\n",
       "  </thead>\n",
       "  <tbody>\n",
       "    <tr>\n",
       "      <th>0</th>\n",
       "      <td>1</td>\n",
       "      <td>230.1</td>\n",
       "      <td>37.8</td>\n",
       "      <td>69.2</td>\n",
       "      <td>22.1</td>\n",
       "    </tr>\n",
       "    <tr>\n",
       "      <th>1</th>\n",
       "      <td>2</td>\n",
       "      <td>44.5</td>\n",
       "      <td>39.3</td>\n",
       "      <td>45.1</td>\n",
       "      <td>10.4</td>\n",
       "    </tr>\n",
       "    <tr>\n",
       "      <th>2</th>\n",
       "      <td>3</td>\n",
       "      <td>17.2</td>\n",
       "      <td>45.9</td>\n",
       "      <td>69.3</td>\n",
       "      <td>9.3</td>\n",
       "    </tr>\n",
       "    <tr>\n",
       "      <th>3</th>\n",
       "      <td>4</td>\n",
       "      <td>151.5</td>\n",
       "      <td>41.3</td>\n",
       "      <td>58.5</td>\n",
       "      <td>18.5</td>\n",
       "    </tr>\n",
       "    <tr>\n",
       "      <th>4</th>\n",
       "      <td>5</td>\n",
       "      <td>180.8</td>\n",
       "      <td>10.8</td>\n",
       "      <td>58.4</td>\n",
       "      <td>12.9</td>\n",
       "    </tr>\n",
       "  </tbody>\n",
       "</table>\n",
       "</div>"
      ],
      "text/plain": [
       "   Unnamed: 0     TV  radio  newspaper  sales\n",
       "0           1  230.1   37.8       69.2   22.1\n",
       "1           2   44.5   39.3       45.1   10.4\n",
       "2           3   17.2   45.9       69.3    9.3\n",
       "3           4  151.5   41.3       58.5   18.5\n",
       "4           5  180.8   10.8       58.4   12.9"
      ]
     },
     "execution_count": 5,
     "metadata": {},
     "output_type": "execute_result"
    }
   ],
   "source": [
    "data.head()"
   ]
  },
  {
   "cell_type": "code",
   "execution_count": 6,
   "metadata": {},
   "outputs": [
    {
     "data": {
      "text/plain": [
       "<matplotlib.collections.PathCollection at 0x1b7e3b6cf08>"
      ]
     },
     "execution_count": 6,
     "metadata": {},
     "output_type": "execute_result"
    },
    {
     "data": {
      "image/png": "[encoded data removed]",
      "text/plain": [
       "<Figure size 432x288 with 1 Axes>"
      ]
     },
     "metadata": {
      "needs_background": "light"
     },
     "output_type": "display_data"
    }
   ],
   "source": [
    "plt.scatter(data.TV, data.sales)"
   ]
  },
  {
   "cell_type": "code",
   "execution_count": 7,
   "metadata": {},
   "outputs": [],
   "source": [
    "x = data.iloc[:, 1:-1]\n",
    "y = data.iloc[:, -1]"
   ]
  },
  {
   "cell_type": "code",
   "execution_count": 8,
   "metadata": {},
   "outputs": [],
   "source": [
    "model = tf.keras.Sequential([tf.keras.layers.Dense(10, input_shape=(3,), activation='relu'),\n",
    "                            tf.keras.layers.Dense(1)]\n",
    ")"
   ]
  },
  {
   "cell_type": "code",
   "execution_count": 9,
   "metadata": {},
   "outputs": [
    {
     "name": "stdout",
     "output_type": "stream",
     "text": [
      "Model: \"sequential\"\n",
      "_________________________________________________________________\n",
      "Layer (type)                 Output Shape              Param #   \n",
      "=================================================================\n",
      "dense (Dense)                (None, 10)                40        \n",
      "_________________________________________________________________\n",
      "dense_1 (Dense)              (None, 1)                 11        \n",
      "=================================================================\n",
      "Total params: 51\n",
      "Trainable params: 51\n",
      "Non-trainable params: 0\n",
      "_________________________________________________________________\n"
     ]
    }
   ],
   "source": [
    "model.summary()"
   ]
  },
  {
   "cell_type": "code",
   "execution_count": 10,
   "metadata": {},
   "outputs": [],
   "source": [
    "model.compile(optimizer = 'adam',\n",
    "             loss = 'mse'\n",
    "             )"
   ]
  },
  {
   "cell_type": "code",
   "execution_count": 11,
   "metadata": {},
   "outputs": [
    {
     "name": "stdout",
     "output_type": "stream",
     "text": [
      "Train on 200 samples\n",
      "Epoch 1/100\n",
      "200/200 [==============================] - 1s 5ms/sample - loss: 19358.3978\n",
      "Epoch 2/100\n",
      "200/200 [==============================] - 0s 211us/sample - loss: 17479.3087\n",
      "Epoch 3/100\n",
      "200/200 [==============================] - 0s 166us/sample - loss: 15708.6498\n",
      "Epoch 4/100\n",
      "200/200 [==============================] - 0s 150us/sample - loss: 14083.3014\n",
      "Epoch 5/100\n",
      "200/200 [==============================] - 0s 135us/sample - loss: 12562.4109\n",
      "Epoch 6/100\n",
      "200/200 [==============================] - 0s 134us/sample - loss: 11208.3178\n",
      "Epoch 7/100\n",
      "200/200 [==============================] - 0s 191us/sample - loss: 9935.4557\n",
      "Epoch 8/100\n",
      "200/200 [==============================] - 0s 145us/sample - loss: 8773.0373\n",
      "Epoch 9/100\n",
      "200/200 [==============================] - 0s 138us/sample - loss: 7749.1032\n",
      "Epoch 10/100\n",
      "200/200 [==============================] - 0s 157us/sample - loss: 6796.3654\n",
      "Epoch 11/100\n",
      "200/200 [==============================] - 0s 159us/sample - loss: 5953.3864\n",
      "Epoch 12/100\n",
      "200/200 [==============================] - 0s 143us/sample - loss: 5196.9255\n",
      "Epoch 13/100\n",
      "200/200 [==============================] - 0s 223us/sample - loss: 4559.4025\n",
      "Epoch 14/100\n",
      "200/200 [==============================] - 0s 140us/sample - loss: 3987.8684\n",
      "Epoch 15/100\n",
      "200/200 [==============================] - 0s 163us/sample - loss: 3432.6534\n",
      "Epoch 16/100\n",
      "200/200 [==============================] - 0s 160us/sample - loss: 2992.1013\n",
      "Epoch 17/100\n",
      "200/200 [==============================] - 0s 164us/sample - loss: 2564.9666\n",
      "Epoch 18/100\n",
      "200/200 [==============================] - 0s 175us/sample - loss: 2182.2901\n",
      "Epoch 19/100\n",
      "200/200 [==============================] - 0s 174us/sample - loss: 1841.8814\n",
      "Epoch 20/100\n",
      "200/200 [==============================] - 0s 161us/sample - loss: 1527.6800\n",
      "Epoch 21/100\n",
      "200/200 [==============================] - 0s 254us/sample - loss: 1261.8120\n",
      "Epoch 22/100\n",
      "200/200 [==============================] - 0s 208us/sample - loss: 1033.8215\n",
      "Epoch 23/100\n",
      "200/200 [==============================] - 0s 149us/sample - loss: 841.2276\n",
      "Epoch 24/100\n",
      "200/200 [==============================] - 0s 166us/sample - loss: 678.2776\n",
      "Epoch 25/100\n",
      "200/200 [==============================] - 0s 195us/sample - loss: 545.4502\n",
      "Epoch 26/100\n",
      "200/200 [==============================] - 0s 155us/sample - loss: 448.1324\n",
      "Epoch 27/100\n",
      "200/200 [==============================] - 0s 192us/sample - loss: 377.7067\n",
      "Epoch 28/100\n",
      "200/200 [==============================] - 0s 237us/sample - loss: 326.7674\n",
      "Epoch 29/100\n",
      "200/200 [==============================] - 0s 204us/sample - loss: 293.9126\n",
      "Epoch 30/100\n",
      "200/200 [==============================] - 0s 180us/sample - loss: 269.3756\n",
      "Epoch 31/100\n",
      "200/200 [==============================] - 0s 168us/sample - loss: 255.3948\n",
      "Epoch 32/100\n",
      "200/200 [==============================] - 0s 219us/sample - loss: 245.2860\n",
      "Epoch 33/100\n",
      "200/200 [==============================] - 0s 264us/sample - loss: 236.3308\n",
      "Epoch 34/100\n",
      "200/200 [==============================] - 0s 198us/sample - loss: 227.9959\n",
      "Epoch 35/100\n",
      "200/200 [==============================] - 0s 175us/sample - loss: 220.6787\n",
      "Epoch 36/100\n",
      "200/200 [==============================] - 0s 135us/sample - loss: 214.2170\n",
      "Epoch 37/100\n",
      "200/200 [==============================] - 0s 150us/sample - loss: 207.8136\n",
      "Epoch 38/100\n",
      "200/200 [==============================] - 0s 180us/sample - loss: 201.5040\n",
      "Epoch 39/100\n",
      "200/200 [==============================] - 0s 155us/sample - loss: 196.2233\n",
      "Epoch 40/100\n",
      "200/200 [==============================] - 0s 140us/sample - loss: 190.0690\n",
      "Epoch 41/100\n",
      "200/200 [==============================] - 0s 143us/sample - loss: 185.0327\n",
      "Epoch 42/100\n",
      "200/200 [==============================] - 0s 144us/sample - loss: 179.2633\n",
      "Epoch 43/100\n",
      "200/200 [==============================] - 0s 145us/sample - loss: 174.5695\n",
      "Epoch 44/100\n",
      "200/200 [==============================] - 0s 163us/sample - loss: 170.0801\n",
      "Epoch 45/100\n",
      "200/200 [==============================] - 0s 151us/sample - loss: 165.9577\n",
      "Epoch 46/100\n",
      "200/200 [==============================] - 0s 143us/sample - loss: 161.7713\n",
      "Epoch 47/100\n",
      "200/200 [==============================] - 0s 190us/sample - loss: 157.5106\n",
      "Epoch 48/100\n",
      "200/200 [==============================] - 0s 165us/sample - loss: 153.9241\n",
      "Epoch 49/100\n",
      "200/200 [==============================] - 0s 175us/sample - loss: 150.2972\n",
      "Epoch 50/100\n",
      "200/200 [==============================] - 0s 160us/sample - loss: 146.8421\n",
      "Epoch 51/100\n",
      "200/200 [==============================] - 0s 177us/sample - loss: 143.4078\n",
      "Epoch 52/100\n",
      "200/200 [==============================] - 0s 173us/sample - loss: 140.3826\n",
      "Epoch 53/100\n",
      "200/200 [==============================] - 0s 175us/sample - loss: 137.1808\n",
      "Epoch 54/100\n",
      "200/200 [==============================] - 0s 185us/sample - loss: 133.9851\n",
      "Epoch 55/100\n",
      "200/200 [==============================] - 0s 179us/sample - loss: 130.8719\n",
      "Epoch 56/100\n",
      "200/200 [==============================] - 0s 187us/sample - loss: 127.9414\n",
      "Epoch 57/100\n",
      "200/200 [==============================] - 0s 194us/sample - loss: 125.0127\n",
      "Epoch 58/100\n",
      "200/200 [==============================] - 0s 162us/sample - loss: 122.2056\n",
      "Epoch 59/100\n",
      "200/200 [==============================] - 0s 160us/sample - loss: 119.8666\n",
      "Epoch 60/100\n",
      "200/200 [==============================] - 0s 198us/sample - loss: 117.5301\n",
      "Epoch 61/100\n",
      "200/200 [==============================] - 0s 160us/sample - loss: 115.2703\n",
      "Epoch 62/100\n",
      "200/200 [==============================] - 0s 170us/sample - loss: 112.8149\n",
      "Epoch 63/100\n",
      "200/200 [==============================] - 0s 188us/sample - loss: 110.5340\n",
      "Epoch 64/100\n",
      "200/200 [==============================] - 0s 168us/sample - loss: 108.4643\n",
      "Epoch 65/100\n",
      "200/200 [==============================] - 0s 182us/sample - loss: 106.2598\n",
      "Epoch 66/100\n",
      "200/200 [==============================] - 0s 190us/sample - loss: 104.2303\n",
      "Epoch 67/100\n",
      "200/200 [==============================] - 0s 172us/sample - loss: 102.4403\n",
      "Epoch 68/100\n",
      "200/200 [==============================] - 0s 185us/sample - loss: 100.3822\n",
      "Epoch 69/100\n",
      "200/200 [==============================] - 0s 194us/sample - loss: 98.6111\n",
      "Epoch 70/100\n",
      "200/200 [==============================] - 0s 171us/sample - loss: 96.5484\n",
      "Epoch 71/100\n",
      "200/200 [==============================] - 0s 189us/sample - loss: 94.8360\n",
      "Epoch 72/100\n",
      "200/200 [==============================] - 0s 197us/sample - loss: 93.0461\n",
      "Epoch 73/100\n",
      "200/200 [==============================] - 0s 170us/sample - loss: 91.2877\n",
      "Epoch 74/100\n",
      "200/200 [==============================] - 0s 165us/sample - loss: 89.5792\n",
      "Epoch 75/100\n",
      "200/200 [==============================] - 0s 199us/sample - loss: 88.0049\n",
      "Epoch 76/100\n",
      "200/200 [==============================] - 0s 156us/sample - loss: 86.5486\n",
      "Epoch 77/100\n",
      "200/200 [==============================] - 0s 176us/sample - loss: 85.0097\n",
      "Epoch 78/100\n",
      "200/200 [==============================] - 0s 168us/sample - loss: 83.3761\n",
      "Epoch 79/100\n",
      "200/200 [==============================] - 0s 190us/sample - loss: 81.9719\n",
      "Epoch 80/100\n",
      "200/200 [==============================] - 0s 187us/sample - loss: 80.5074\n",
      "Epoch 81/100\n",
      "200/200 [==============================] - 0s 199us/sample - loss: 78.8292\n",
      "Epoch 82/100\n",
      "200/200 [==============================] - 0s 188us/sample - loss: 77.6088\n",
      "Epoch 83/100\n",
      "200/200 [==============================] - 0s 210us/sample - loss: 76.1948\n",
      "Epoch 84/100\n",
      "200/200 [==============================] - 0s 149us/sample - loss: 74.7338\n",
      "Epoch 85/100\n",
      "200/200 [==============================] - 0s 189us/sample - loss: 73.4829\n",
      "Epoch 86/100\n",
      "200/200 [==============================] - 0s 182us/sample - loss: 72.1557\n",
      "Epoch 87/100\n",
      "200/200 [==============================] - 0s 169us/sample - loss: 70.9353\n",
      "Epoch 88/100\n",
      "200/200 [==============================] - 0s 174us/sample - loss: 69.7391\n",
      "Epoch 89/100\n",
      "200/200 [==============================] - 0s 189us/sample - loss: 68.4764\n",
      "Epoch 90/100\n",
      "200/200 [==============================] - 0s 192us/sample - loss: 67.1859\n",
      "Epoch 91/100\n",
      "200/200 [==============================] - 0s 183us/sample - loss: 66.0987\n",
      "Epoch 92/100\n"
     ]
    },
    {
     "name": "stdout",
     "output_type": "stream",
     "text": [
      "200/200 [==============================] - 0s 185us/sample - loss: 65.0155\n",
      "Epoch 93/100\n",
      "200/200 [==============================] - 0s 179us/sample - loss: 63.9452\n",
      "Epoch 94/100\n",
      "200/200 [==============================] - 0s 176us/sample - loss: 62.8834\n",
      "Epoch 95/100\n",
      "200/200 [==============================] - 0s 163us/sample - loss: 61.8293\n",
      "Epoch 96/100\n",
      "200/200 [==============================] - 0s 165us/sample - loss: 60.8143\n",
      "Epoch 97/100\n",
      "200/200 [==============================] - 0s 170us/sample - loss: 59.8115\n",
      "Epoch 98/100\n",
      "200/200 [==============================] - 0s 189us/sample - loss: 58.9402\n",
      "Epoch 99/100\n",
      "200/200 [==============================] - 0s 171us/sample - loss: 57.9087\n",
      "Epoch 100/100\n",
      "200/200 [==============================] - 0s 179us/sample - loss: 56.9502\n"
     ]
    },
    {
     "data": {
      "text/plain": [
       "<tensorflow.python.keras.callbacks.History at 0x1b7e5c8edc8>"
      ]
     },
     "execution_count": 11,
     "metadata": {},
     "output_type": "execute_result"
    }
   ],
   "source": [
    "model.fit(x, y, epochs = 100)"
   ]
  },
  {
   "cell_type": "code",
   "execution_count": 12,
   "metadata": {},
   "outputs": [],
   "source": [
    "test = data.iloc[:10, 1:-1]"
   ]
  },
  {
   "cell_type": "code",
   "execution_count": 13,
   "metadata": {},
   "outputs": [
    {
     "data": {
      "text/plain": [
       "array([[28.420603 ],\n",
       "       [10.939261 ],\n",
       "       [13.138163 ],\n",
       "       [20.32729  ],\n",
       "       [27.266539 ],\n",
       "       [12.008541 ],\n",
       "       [ 5.3862123],\n",
       "       [ 6.768458 ],\n",
       "       [ 0.9351939],\n",
       "       [16.993507 ]], dtype=float32)"
      ]
     },
     "execution_count": 13,
     "metadata": {},
     "output_type": "execute_result"
    }
   ],
   "source": [
    "model.predict(test)"
   ]
  },
  {
   "cell_type": "code",
   "execution_count": 14,
   "metadata": {},
   "outputs": [
    {
     "data": {
      "text/html": [
       "<div>\n",
       "<style scoped>\n",
       "    .dataframe tbody tr th:only-of-type {\n",
       "        vertical-align: middle;\n",
       "    }\n",
       "\n",
       "    .dataframe tbody tr th {\n",
       "        vertical-align: top;\n",
       "    }\n",
       "\n",
       "    .dataframe thead th {\n",
       "        text-align: right;\n",
       "    }\n",
       "</style>\n",
       "<table border=\"1\" class=\"dataframe\">\n",
       "  <thead>\n",
       "    <tr style=\"text-align: right;\">\n",
       "      <th></th>\n",
       "      <th>TV</th>\n",
       "      <th>radio</th>\n",
       "      <th>newspaper</th>\n",
       "    </tr>\n",
       "  </thead>\n",
       "  <tbody>\n",
       "    <tr>\n",
       "      <th>0</th>\n",
       "      <td>230.1</td>\n",
       "      <td>37.8</td>\n",
       "      <td>69.2</td>\n",
       "    </tr>\n",
       "    <tr>\n",
       "      <th>1</th>\n",
       "      <td>44.5</td>\n",
       "      <td>39.3</td>\n",
       "      <td>45.1</td>\n",
       "    </tr>\n",
       "    <tr>\n",
       "      <th>2</th>\n",
       "      <td>17.2</td>\n",
       "      <td>45.9</td>\n",
       "      <td>69.3</td>\n",
       "    </tr>\n",
       "    <tr>\n",
       "      <th>3</th>\n",
       "      <td>151.5</td>\n",
       "      <td>41.3</td>\n",
       "      <td>58.5</td>\n",
       "    </tr>\n",
       "    <tr>\n",
       "      <th>4</th>\n",
       "      <td>180.8</td>\n",
       "      <td>10.8</td>\n",
       "      <td>58.4</td>\n",
       "    </tr>\n",
       "    <tr>\n",
       "      <th>5</th>\n",
       "      <td>8.7</td>\n",
       "      <td>48.9</td>\n",
       "      <td>75.0</td>\n",
       "    </tr>\n",
       "    <tr>\n",
       "      <th>6</th>\n",
       "      <td>57.5</td>\n",
       "      <td>32.8</td>\n",
       "      <td>23.5</td>\n",
       "    </tr>\n",
       "    <tr>\n",
       "      <th>7</th>\n",
       "      <td>120.2</td>\n",
       "      <td>19.6</td>\n",
       "      <td>11.6</td>\n",
       "    </tr>\n",
       "    <tr>\n",
       "      <th>8</th>\n",
       "      <td>8.6</td>\n",
       "      <td>2.1</td>\n",
       "      <td>1.0</td>\n",
       "    </tr>\n",
       "    <tr>\n",
       "      <th>9</th>\n",
       "      <td>199.8</td>\n",
       "      <td>2.6</td>\n",
       "      <td>21.2</td>\n",
       "    </tr>\n",
       "  </tbody>\n",
       "</table>\n",
       "</div>"
      ],
      "text/plain": [
       "      TV  radio  newspaper\n",
       "0  230.1   37.8       69.2\n",
       "1   44.5   39.3       45.1\n",
       "2   17.2   45.9       69.3\n",
       "3  151.5   41.3       58.5\n",
       "4  180.8   10.8       58.4\n",
       "5    8.7   48.9       75.0\n",
       "6   57.5   32.8       23.5\n",
       "7  120.2   19.6       11.6\n",
       "8    8.6    2.1        1.0\n",
       "9  199.8    2.6       21.2"
      ]
     },
     "execution_count": 14,
     "metadata": {},
     "output_type": "execute_result"
    }
   ],
   "source": [
    "test"
   ]
  },
  {
   "cell_type": "code",
   "execution_count": null,
   "metadata": {},
   "outputs": [],
   "source": []
  }
 ],
 "metadata": {
  "kernelspec": {
   "display_name": "Python 3",
   "language": "python",
   "name": "python3"
  },
  "language_info": {
   "codemirror_mode": {
    "name": "ipython",
    "version": 3
   },
   "file_extension": ".py",
   "mimetype": "text/x-python",
   "name": "python",
   "nbconvert_exporter": "python",
   "pygments_lexer": "ipython3",
   "version": "3.7.6"
  }
 },
 "nbformat": 4,
 "nbformat_minor": 4
}
