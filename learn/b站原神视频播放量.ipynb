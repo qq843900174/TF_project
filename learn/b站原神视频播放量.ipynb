{
 "cells": [
  {
   "cell_type": "code",
   "execution_count": 8,
   "metadata": {},
   "outputs": [],
   "source": [
    "import tensorflow as tf"
   ]
  },
  {
   "cell_type": "code",
   "execution_count": 9,
   "metadata": {},
   "outputs": [],
   "source": [
    "import pandas as pd\n",
    "import numpy as np\n",
    "import matplotlib.pyplot as plt\n",
    "%matplotlib inline"
   ]
  },
  {
   "cell_type": "code",
   "execution_count": 13,
   "metadata": {},
   "outputs": [],
   "source": [
    "data = pd.read_csv('D:/深度学习配置/tensorflow官网数据集/阿里云数据集/b站原神视频标签/bilibili_原神_热门TOP1000.csv')"
   ]
  },
  {
   "cell_type": "code",
   "execution_count": 14,
   "metadata": {},
   "outputs": [
    {
     "data": {
      "text/html": [
       "<div>\n",
       "<style scoped>\n",
       "    .dataframe tbody tr th:only-of-type {\n",
       "        vertical-align: middle;\n",
       "    }\n",
       "\n",
       "    .dataframe tbody tr th {\n",
       "        vertical-align: top;\n",
       "    }\n",
       "\n",
       "    .dataframe thead th {\n",
       "        text-align: right;\n",
       "    }\n",
       "</style>\n",
       "<table border=\"1\" class=\"dataframe\">\n",
       "  <thead>\n",
       "    <tr style=\"text-align: right;\">\n",
       "      <th></th>\n",
       "      <th>标题</th>\n",
       "      <th>标题_链接</th>\n",
       "      <th>图片</th>\n",
       "      <th>视频时长</th>\n",
       "      <th>关键词1</th>\n",
       "      <th>播放量</th>\n",
       "      <th>时间</th>\n",
       "      <th>作者_链接</th>\n",
       "      <th>作者</th>\n",
       "    </tr>\n",
       "  </thead>\n",
       "  <tbody>\n",
       "    <tr>\n",
       "      <th>0</th>\n",
       "      <td>原神岩神瞳位置大全！130个岩神瞳一集视频一个神瞳~【啊滨】</td>\n",
       "      <td>https://www.bilibili.com/video/BV1vp4y1a7Ea?fr...</td>\n",
       "      <td>https://search.bilibili.com/all?keyword=%E5%8E...</td>\n",
       "      <td>1:41:44</td>\n",
       "      <td>原神</td>\n",
       "      <td>\\n        532.8万\\n</td>\n",
       "      <td>\\n        2020-09-19\\n</td>\n",
       "      <td>https://space.bilibili.com/14444722?from=search</td>\n",
       "      <td>疯子啊滨</td>\n",
       "    </tr>\n",
       "    <tr>\n",
       "      <th>1</th>\n",
       "      <td>《原神》新地区预告-「浮世浮生千岩间」</td>\n",
       "      <td>https://www.bilibili.com/video/BV1MJ411H77i?fr...</td>\n",
       "      <td>https://search.bilibili.com/all?keyword=%E5%8E...</td>\n",
       "      <td>1:47</td>\n",
       "      <td>原神</td>\n",
       "      <td>\\n        489.2万\\n</td>\n",
       "      <td>\\n        2020-01-14\\n</td>\n",
       "      <td>https://space.bilibili.com/401742377?from=search</td>\n",
       "      <td>原神</td>\n",
       "    </tr>\n",
       "    <tr>\n",
       "      <th>2</th>\n",
       "      <td>原神风神瞳位置大全！超详细的位置视频【啊滨】</td>\n",
       "      <td>https://www.bilibili.com/video/BV1e54y1C7de?fr...</td>\n",
       "      <td>https://search.bilibili.com/all?keyword=%E5%8E...</td>\n",
       "      <td>1:04:24</td>\n",
       "      <td>原神</td>\n",
       "      <td>\\n        444.1万\\n</td>\n",
       "      <td>\\n        2020-09-17\\n</td>\n",
       "      <td>https://space.bilibili.com/14444722?from=search</td>\n",
       "      <td>疯子啊滨</td>\n",
       "    </tr>\n",
       "    <tr>\n",
       "      <th>3</th>\n",
       "      <td>【原神】蒙 德 人</td>\n",
       "      <td>https://www.bilibili.com/video/BV1n54y1S79k?fr...</td>\n",
       "      <td>https://search.bilibili.com/all?keyword=%E5%8E...</td>\n",
       "      <td>8:43</td>\n",
       "      <td>原神</td>\n",
       "      <td>\\n        410.5万\\n</td>\n",
       "      <td>\\n        2020-07-23\\n</td>\n",
       "      <td>https://space.bilibili.com/11685197?from=search</td>\n",
       "      <td>不死な千咲</td>\n",
       "    </tr>\n",
       "    <tr>\n",
       "      <th>4</th>\n",
       "      <td>【原神】100W创世结晶全部抽完之后，我的账号变成了什么样子（朴实无华的原神视频</td>\n",
       "      <td>https://www.bilibili.com/video/BV1Ka4y177tf?fr...</td>\n",
       "      <td>https://search.bilibili.com/all?keyword=%E5%8E...</td>\n",
       "      <td>3:06</td>\n",
       "      <td>原神</td>\n",
       "      <td>\\n        395.5万\\n</td>\n",
       "      <td>\\n        2020-09-19\\n</td>\n",
       "      <td>https://space.bilibili.com/43222001?from=search</td>\n",
       "      <td>卡特亚</td>\n",
       "    </tr>\n",
       "  </tbody>\n",
       "</table>\n",
       "</div>"
      ],
      "text/plain": [
       "                                         标题  \\\n",
       "0            原神岩神瞳位置大全！130个岩神瞳一集视频一个神瞳~【啊滨】   \n",
       "1                       《原神》新地区预告-「浮世浮生千岩间」   \n",
       "2                    原神风神瞳位置大全！超详细的位置视频【啊滨】   \n",
       "3                                 【原神】蒙 德 人   \n",
       "4  【原神】100W创世结晶全部抽完之后，我的账号变成了什么样子（朴实无华的原神视频   \n",
       "\n",
       "                                               标题_链接  \\\n",
       "0  https://www.bilibili.com/video/BV1vp4y1a7Ea?fr...   \n",
       "1  https://www.bilibili.com/video/BV1MJ411H77i?fr...   \n",
       "2  https://www.bilibili.com/video/BV1e54y1C7de?fr...   \n",
       "3  https://www.bilibili.com/video/BV1n54y1S79k?fr...   \n",
       "4  https://www.bilibili.com/video/BV1Ka4y177tf?fr...   \n",
       "\n",
       "                                                  图片     视频时长 关键词1  \\\n",
       "0  https://search.bilibili.com/all?keyword=%E5%8E...  1:41:44   原神   \n",
       "1  https://search.bilibili.com/all?keyword=%E5%8E...     1:47   原神   \n",
       "2  https://search.bilibili.com/all?keyword=%E5%8E...  1:04:24   原神   \n",
       "3  https://search.bilibili.com/all?keyword=%E5%8E...     8:43   原神   \n",
       "4  https://search.bilibili.com/all?keyword=%E5%8E...     3:06   原神   \n",
       "\n",
       "                        播放量                            时间  \\\n",
       "0  \\n        532.8万\\n        \\n        2020-09-19\\n         \n",
       "1  \\n        489.2万\\n        \\n        2020-01-14\\n         \n",
       "2  \\n        444.1万\\n        \\n        2020-09-17\\n         \n",
       "3  \\n        410.5万\\n        \\n        2020-07-23\\n         \n",
       "4  \\n        395.5万\\n        \\n        2020-09-19\\n         \n",
       "\n",
       "                                              作者_链接     作者  \n",
       "0   https://space.bilibili.com/14444722?from=search   疯子啊滨  \n",
       "1  https://space.bilibili.com/401742377?from=search     原神  \n",
       "2   https://space.bilibili.com/14444722?from=search   疯子啊滨  \n",
       "3   https://space.bilibili.com/11685197?from=search  不死な千咲  \n",
       "4   https://space.bilibili.com/43222001?from=search    卡特亚  "
      ]
     },
     "execution_count": 14,
     "metadata": {},
     "output_type": "execute_result"
    }
   ],
   "source": [
    "data.head()"
   ]
  },
  {
   "cell_type": "code",
   "execution_count": 15,
   "metadata": {},
   "outputs": [
    {
     "data": {
      "text/plain": [
       "<matplotlib.collections.PathCollection at 0x246e2fdeec8>"
      ]
     },
     "execution_count": 15,
     "metadata": {},
     "output_type": "execute_result"
    },
    {
     "name": "stderr",
     "output_type": "stream",
     "text": [
      "e:\\miniconda\\lib\\site-packages\\matplotlib\\backends\\backend_agg.py:238: RuntimeWarning: Glyph 19975 missing from current font.\n",
      "  font.set_text(s, 0.0, flags=flags)\n",
      "e:\\miniconda\\lib\\site-packages\\matplotlib\\backends\\backend_agg.py:201: RuntimeWarning: Glyph 19975 missing from current font.\n",
      "  font.set_text(s, 0, flags=flags)\n"
     ]
    },
    {
     "data": {
      "image/png": "[encoded data removed]",
      "text/plain": [
       "<Figure size 432x288 with 1 Axes>"
      ]
     },
     "metadata": {
      "needs_background": "light"
     },
     "output_type": "display_data"
    }
   ],
   "source": [
    "plt.scatter(data.视频时长, data.播放量)"
   ]
  },
  {
   "cell_type": "code",
   "execution_count": null,
   "metadata": {},
   "outputs": [],
   "source": []
  }
 ],
 "metadata": {
  "kernelspec": {
   "display_name": "Python 3",
   "language": "python",
   "name": "python3"
  },
  "language_info": {
   "codemirror_mode": {
    "name": "ipython",
    "version": 3
   },
   "file_extension": ".py",
   "mimetype": "text/x-python",
   "name": "python",
   "nbconvert_exporter": "python",
   "pygments_lexer": "ipython3",
   "version": "3.7.6"
  }
 },
 "nbformat": 4,
 "nbformat_minor": 4
}
