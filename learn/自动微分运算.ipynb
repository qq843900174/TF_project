{
 "cells": [
  {
   "cell_type": "code",
   "execution_count": 1,
   "metadata": {},
   "outputs": [],
   "source": [
    "import tensorflow as tf"
   ]
  },
  {
   "cell_type": "code",
   "execution_count": 2,
   "metadata": {},
   "outputs": [],
   "source": [
    "v = tf.Variable(0.0)"
   ]
  },
  {
   "cell_type": "code",
   "execution_count": 3,
   "metadata": {},
   "outputs": [
    {
     "data": {
      "text/plain": [
       "1.0"
      ]
     },
     "execution_count": 3,
     "metadata": {},
     "output_type": "execute_result"
    }
   ],
   "source": [
    "(v + 1).numpy()"
   ]
  },
  {
   "cell_type": "code",
   "execution_count": 4,
   "metadata": {},
   "outputs": [
    {
     "data": {
      "text/plain": [
       "<tf.Variable 'UnreadVariable' shape=() dtype=float32, numpy=5.0>"
      ]
     },
     "execution_count": 4,
     "metadata": {},
     "output_type": "execute_result"
    }
   ],
   "source": [
    "v.assign(5)"
   ]
  },
  {
   "cell_type": "code",
   "execution_count": 5,
   "metadata": {},
   "outputs": [
    {
     "data": {
      "text/plain": [
       "<tf.Variable 'Variable:0' shape=() dtype=float32, numpy=5.0>"
      ]
     },
     "execution_count": 5,
     "metadata": {},
     "output_type": "execute_result"
    }
   ],
   "source": [
    "v"
   ]
  },
  {
   "cell_type": "code",
   "execution_count": 6,
   "metadata": {},
   "outputs": [
    {
     "data": {
      "text/plain": [
       "<tf.Variable 'UnreadVariable' shape=() dtype=float32, numpy=6.0>"
      ]
     },
     "execution_count": 6,
     "metadata": {},
     "output_type": "execute_result"
    }
   ],
   "source": [
    "v.assign_add(1)"
   ]
  },
  {
   "cell_type": "code",
   "execution_count": 7,
   "metadata": {},
   "outputs": [
    {
     "data": {
      "text/plain": [
       "<tf.Tensor: shape=(), dtype=float32, numpy=6.0>"
      ]
     },
     "execution_count": 7,
     "metadata": {},
     "output_type": "execute_result"
    }
   ],
   "source": [
    "v.read_value()"
   ]
  },
  {
   "cell_type": "code",
   "execution_count": 8,
   "metadata": {},
   "outputs": [],
   "source": [
    "#求解微分并跟踪\n",
    "w = tf.Variable([[1.0]])\n",
    "with tf.GradientTape() as t:\n",
    "    loss = w * w"
   ]
  },
  {
   "cell_type": "code",
   "execution_count": 9,
   "metadata": {},
   "outputs": [],
   "source": [
    "grad = t.gradient(loss, w)"
   ]
  },
  {
   "cell_type": "code",
   "execution_count": 10,
   "metadata": {},
   "outputs": [
    {
     "data": {
      "text/plain": [
       "<tf.Tensor: shape=(1, 1), dtype=float32, numpy=array([[2.]], dtype=float32)>"
      ]
     },
     "execution_count": 10,
     "metadata": {},
     "output_type": "execute_result"
    }
   ],
   "source": [
    "grad"
   ]
  },
  {
   "cell_type": "code",
   "execution_count": 11,
   "metadata": {},
   "outputs": [],
   "source": [
    "w = tf.constant(3.0)\n",
    "with tf.GradientTape() as t:\n",
    "    t.watch(w)\n",
    "    loss = w * w"
   ]
  },
  {
   "cell_type": "code",
   "execution_count": 12,
   "metadata": {},
   "outputs": [],
   "source": [
    "dloss_dw = t.gradient(loss, w) "
   ]
  },
  {
   "cell_type": "code",
   "execution_count": 13,
   "metadata": {},
   "outputs": [
    {
     "data": {
      "text/plain": [
       "<tf.Tensor: shape=(), dtype=float32, numpy=6.0>"
      ]
     },
     "execution_count": 13,
     "metadata": {},
     "output_type": "execute_result"
    }
   ],
   "source": [
    "dloss_dw"
   ]
  },
  {
   "cell_type": "code",
   "execution_count": 14,
   "metadata": {},
   "outputs": [],
   "source": [
    "w = tf.constant(3.0)\n",
    "with tf.GradientTape(persistent=True) as t:\n",
    "    t.watch(w)\n",
    "    y = w * w\n",
    "    z = y * y"
   ]
  },
  {
   "cell_type": "code",
   "execution_count": 15,
   "metadata": {},
   "outputs": [],
   "source": [
    "dy_dw = t.gradient(y, w) "
   ]
  },
  {
   "cell_type": "code",
   "execution_count": 16,
   "metadata": {},
   "outputs": [
    {
     "data": {
      "text/plain": [
       "<tf.Tensor: shape=(), dtype=float32, numpy=6.0>"
      ]
     },
     "execution_count": 16,
     "metadata": {},
     "output_type": "execute_result"
    }
   ],
   "source": [
    "dy_dw"
   ]
  },
  {
   "cell_type": "code",
   "execution_count": 17,
   "metadata": {},
   "outputs": [],
   "source": [
    "dz_dw = t.gradient(z, w) "
   ]
  },
  {
   "cell_type": "code",
   "execution_count": 18,
   "metadata": {},
   "outputs": [
    {
     "data": {
      "text/plain": [
       "<tf.Tensor: shape=(), dtype=float32, numpy=108.0>"
      ]
     },
     "execution_count": 18,
     "metadata": {},
     "output_type": "execute_result"
    }
   ],
   "source": [
    "dz_dw"
   ]
  },
  {
   "cell_type": "code",
   "execution_count": 19,
   "metadata": {},
   "outputs": [
    {
     "name": "stdout",
     "output_type": "stream",
     "text": [
      "Downloading data from https://storage.googleapis.com/tensorflow/tf-keras-datasets/mnist.npz\n",
      "11493376/11490434 [==============================] - 17s 1us/step\n"
     ]
    }
   ],
   "source": [
    "(train_image, train_labels), (test_image, test_labels) = tf.keras.datasets.mnist.load_data()"
   ]
  },
  {
   "cell_type": "code",
   "execution_count": 20,
   "metadata": {},
   "outputs": [],
   "source": [
    "train_image = tf.expand_dims(train_image, -1)"
   ]
  },
  {
   "cell_type": "code",
   "execution_count": 21,
   "metadata": {},
   "outputs": [],
   "source": [
    "test_image = tf.expand_dims(test_image, -1)"
   ]
  },
  {
   "cell_type": "code",
   "execution_count": 22,
   "metadata": {},
   "outputs": [
    {
     "data": {
      "text/plain": [
       "TensorShape([60000, 28, 28, 1])"
      ]
     },
     "execution_count": 22,
     "metadata": {},
     "output_type": "execute_result"
    }
   ],
   "source": [
    "train_image.shape"
   ]
  },
  {
   "cell_type": "code",
   "execution_count": 23,
   "metadata": {},
   "outputs": [],
   "source": [
    "train_image = tf.cast(train_image / 255, tf.float32)"
   ]
  },
  {
   "cell_type": "code",
   "execution_count": 24,
   "metadata": {},
   "outputs": [],
   "source": [
    "test_image = tf.cast(test_image / 255, tf.float32)"
   ]
  },
  {
   "cell_type": "code",
   "execution_count": 25,
   "metadata": {},
   "outputs": [],
   "source": [
    "train_labels = tf.cast(train_labels, tf.int64)"
   ]
  },
  {
   "cell_type": "code",
   "execution_count": 26,
   "metadata": {},
   "outputs": [],
   "source": [
    "test_labels = tf.cast(test_labels, tf.int64)"
   ]
  },
  {
   "cell_type": "code",
   "execution_count": 27,
   "metadata": {},
   "outputs": [],
   "source": [
    "dataset = tf.data.Dataset.from_tensor_slices((train_image, train_labels))"
   ]
  },
  {
   "cell_type": "code",
   "execution_count": 28,
   "metadata": {},
   "outputs": [],
   "source": [
    "test_dataset = tf.data.Dataset.from_tensor_slices((test_image, test_labels))"
   ]
  },
  {
   "cell_type": "code",
   "execution_count": 29,
   "metadata": {},
   "outputs": [
    {
     "data": {
      "text/plain": [
       "<TensorSliceDataset shapes: ((28, 28, 1), ()), types: (tf.float32, tf.int64)>"
      ]
     },
     "execution_count": 29,
     "metadata": {},
     "output_type": "execute_result"
    }
   ],
   "source": [
    "dataset"
   ]
  },
  {
   "cell_type": "code",
   "execution_count": 30,
   "metadata": {},
   "outputs": [],
   "source": [
    "dataset = dataset.shuffle(10000).batch(32)"
   ]
  },
  {
   "cell_type": "code",
   "execution_count": 31,
   "metadata": {},
   "outputs": [],
   "source": [
    "test_dataset = test_dataset.batch(32)"
   ]
  },
  {
   "cell_type": "code",
   "execution_count": 32,
   "metadata": {},
   "outputs": [],
   "source": [
    "model = tf.keras.Sequential([\n",
    "    tf.keras.layers.Conv2D(16, [3, 3], activation='relu', input_shape = (None, None, 1)),\n",
    "    tf.keras.layers.Conv2D(32, [3, 3], activation='relu'),\n",
    "    tf.keras.layers.GlobalAveragePooling2D(),\n",
    "    tf.keras.layers.Dense(10)\n",
    "])"
   ]
  },
  {
   "cell_type": "code",
   "execution_count": 33,
   "metadata": {},
   "outputs": [
    {
     "data": {
      "text/plain": [
       "[<tf.Variable 'conv2d/kernel:0' shape=(3, 3, 1, 16) dtype=float32, numpy=\n",
       " array([[[[ 1.32877037e-01,  1.87556460e-01, -1.24352708e-01,\n",
       "            3.85888815e-02, -4.21582013e-02, -1.65927440e-01,\n",
       "           -1.87321603e-02, -1.00766391e-01,  1.59790367e-02,\n",
       "            1.69163197e-02, -1.57553345e-01, -1.25417471e-01,\n",
       "           -2.65746862e-02,  1.92104116e-01,  1.03223786e-01,\n",
       "            1.80624858e-01]],\n",
       " \n",
       "         [[-7.23953098e-02,  1.68898061e-01,  1.59280583e-01,\n",
       "            1.44520000e-01,  1.43795863e-01,  3.86726856e-02,\n",
       "           -1.71341032e-01, -1.41529173e-01,  6.15416914e-02,\n",
       "            1.24566928e-01, -3.11055183e-02,  4.00313139e-02,\n",
       "            1.65294960e-01,  7.47096092e-02,  1.58628985e-01,\n",
       "            7.11383969e-02]],\n",
       " \n",
       "         [[ 5.56776673e-02, -1.44803420e-01, -2.80339271e-02,\n",
       "           -1.88772082e-01, -4.81897593e-03,  1.43317178e-01,\n",
       "            1.10292986e-01, -1.80366680e-01,  1.87844783e-02,\n",
       "            7.61889070e-02,  9.81536657e-02,  7.18925893e-03,\n",
       "           -1.97962597e-01, -8.33012536e-02,  1.98864490e-02,\n",
       "            2.85789371e-04]]],\n",
       " \n",
       " \n",
       "        [[[ 1.14263371e-01, -1.40200347e-01,  1.66613504e-01,\n",
       "           -1.87636167e-01, -1.13984346e-02,  5.90795726e-02,\n",
       "           -8.03668126e-02, -1.31364554e-01, -1.22486725e-01,\n",
       "            1.35648653e-01, -1.56730220e-01, -1.52265951e-01,\n",
       "            1.05391994e-01, -1.28489405e-01,  1.92513764e-02,\n",
       "            1.71607688e-01]],\n",
       " \n",
       "         [[ 2.37524509e-05,  1.91490129e-01,  1.43593103e-02,\n",
       "            1.03574261e-01,  1.64666250e-01,  8.70704204e-02,\n",
       "           -9.13562328e-02, -7.18121678e-02, -4.82276380e-02,\n",
       "            9.11807269e-02,  6.56150281e-03,  1.34969279e-01,\n",
       "           -1.94578454e-01, -3.18579674e-02,  3.00454646e-02,\n",
       "            1.73256323e-01]],\n",
       " \n",
       "         [[-7.57761076e-02, -1.70355111e-01, -7.99300373e-02,\n",
       "           -1.51121616e-03, -8.47681388e-02, -1.49118111e-01,\n",
       "            1.20060489e-01,  1.25971898e-01, -1.27739787e-01,\n",
       "            1.35430977e-01, -4.88720834e-03, -1.50132835e-01,\n",
       "            9.61502343e-02,  7.56348521e-02, -7.43773058e-02,\n",
       "            9.83585864e-02]]],\n",
       " \n",
       " \n",
       "        [[[ 9.96539742e-02,  4.41691279e-02,  2.04150081e-02,\n",
       "           -6.27442151e-02,  1.49576589e-01,  9.17484313e-02,\n",
       "            9.00033265e-02,  1.21854842e-02, -1.17923215e-01,\n",
       "            1.74472973e-01,  1.29839972e-01, -1.76059023e-01,\n",
       "           -4.28630561e-02, -1.08783357e-01,  9.00918394e-02,\n",
       "           -9.97004360e-02]],\n",
       " \n",
       "         [[-1.49785101e-01, -8.46041217e-02,  9.35468078e-03,\n",
       "           -7.41347224e-02,  1.08456030e-01,  5.80170602e-02,\n",
       "            4.71662283e-02,  5.12784123e-02,  6.10990375e-02,\n",
       "           -3.42847109e-02,  1.94320366e-01, -1.16647966e-01,\n",
       "           -1.13603145e-01,  1.37951031e-01,  6.83611780e-02,\n",
       "           -1.52661696e-01]],\n",
       " \n",
       "         [[ 1.54160559e-02,  1.71575412e-01, -7.85203725e-02,\n",
       "           -9.25002247e-02,  2.09372044e-02,  9.41518098e-02,\n",
       "            1.17179587e-01, -1.94230631e-01,  3.15010697e-02,\n",
       "           -4.46855575e-02,  1.56241789e-01, -6.22071624e-02,\n",
       "           -1.67012662e-01, -1.92926347e-01,  1.63452312e-01,\n",
       "           -1.96254686e-01]]]], dtype=float32)>,\n",
       " <tf.Variable 'conv2d/bias:0' shape=(16,) dtype=float32, numpy=\n",
       " array([0., 0., 0., 0., 0., 0., 0., 0., 0., 0., 0., 0., 0., 0., 0., 0.],\n",
       "       dtype=float32)>,\n",
       " <tf.Variable 'conv2d_1/kernel:0' shape=(3, 3, 16, 32) dtype=float32, numpy=\n",
       " array([[[[-3.88236269e-02,  4.15846333e-02, -8.06795210e-02, ...,\n",
       "            1.80012807e-02, -1.04847848e-01,  3.11087593e-02],\n",
       "          [ 5.65158576e-03, -6.03048056e-02,  1.15894951e-01, ...,\n",
       "           -5.38711473e-02, -4.28978205e-02,  3.40939090e-02],\n",
       "          [ 2.62704715e-02, -4.55290526e-02, -6.55647367e-03, ...,\n",
       "            8.79080072e-02,  8.91213939e-02, -2.30929330e-02],\n",
       "          ...,\n",
       "          [-4.01824415e-02, -7.01329112e-03,  5.18385693e-02, ...,\n",
       "           -1.26734376e-05, -2.30916962e-02,  5.44086024e-02],\n",
       "          [ 5.89933023e-02,  1.01459026e-03, -7.15016797e-02, ...,\n",
       "           -3.30824926e-02,  4.29782644e-02,  1.15263991e-01],\n",
       "          [ 6.45981729e-03, -3.20294127e-02, -3.89274210e-03, ...,\n",
       "           -7.62218460e-02, -9.13440511e-02, -2.11097524e-02]],\n",
       " \n",
       "         [[-8.50713402e-02,  6.15583733e-02, -8.82886574e-02, ...,\n",
       "           -9.06291530e-02, -5.66646121e-02,  1.87548921e-02],\n",
       "          [-5.74201643e-02, -6.07292540e-02,  2.93288752e-02, ...,\n",
       "           -1.14489526e-01, -1.92056447e-02, -7.36978352e-02],\n",
       "          [ 9.89902765e-03,  8.25750008e-02, -2.21729502e-02, ...,\n",
       "           -1.06004156e-01, -9.60121527e-02,  4.27686498e-02],\n",
       "          ...,\n",
       "          [ 1.15018301e-01,  2.12932900e-02, -6.39396086e-02, ...,\n",
       "           -1.16150476e-01, -1.82882473e-02, -1.41217783e-02],\n",
       "          [-1.02170736e-01, -9.05096531e-02,  3.53755131e-02, ...,\n",
       "           -4.14164737e-02,  6.13632277e-02,  4.99762967e-02],\n",
       "          [-2.69176215e-02,  9.24135670e-02, -9.01111439e-02, ...,\n",
       "           -5.51052913e-02,  7.51059875e-02, -1.63458139e-02]],\n",
       " \n",
       "         [[ 2.32064500e-02,  3.72195467e-02, -9.72945690e-02, ...,\n",
       "           -1.04387626e-02, -4.76385280e-02,  3.52831185e-03],\n",
       "          [ 8.72299001e-02,  6.25646338e-02, -5.60234450e-02, ...,\n",
       "            5.51365316e-04,  1.03165112e-01, -5.09836972e-02],\n",
       "          [ 7.42801651e-02, -1.32076442e-02, -6.90273792e-02, ...,\n",
       "           -8.93208310e-02, -3.24520320e-02,  2.23508105e-02],\n",
       "          ...,\n",
       "          [ 7.96220228e-02, -3.32570076e-02,  7.68877640e-02, ...,\n",
       "            9.11817029e-02, -1.02585264e-01, -1.10894091e-01],\n",
       "          [-9.49710384e-02, -1.03165902e-01, -9.05609354e-02, ...,\n",
       "            5.11111990e-02, -3.99089381e-02,  2.52230391e-02],\n",
       "          [ 8.12660679e-02, -1.09876245e-02,  9.31526348e-02, ...,\n",
       "           -7.02503100e-02,  2.17556134e-02,  3.45756114e-03]]],\n",
       " \n",
       " \n",
       "        [[[-5.50261661e-02,  6.39959648e-02, -9.75400284e-02, ...,\n",
       "            1.22122243e-02, -1.12700284e-01,  1.08211197e-01],\n",
       "          [-1.72438249e-02, -1.71320513e-02,  1.07138745e-01, ...,\n",
       "           -1.08985290e-01, -5.30771911e-03, -2.51378715e-02],\n",
       "          [-6.89042509e-02, -1.52370706e-02, -1.09610885e-01, ...,\n",
       "           -1.10283330e-01, -5.70095703e-02, -7.62793049e-02],\n",
       "          ...,\n",
       "          [-7.64175504e-03,  5.24513945e-02,  1.06530413e-02, ...,\n",
       "            3.77690271e-02, -1.08127095e-01, -1.82044581e-02],\n",
       "          [ 1.08552910e-01,  8.86318460e-02, -2.00624615e-02, ...,\n",
       "           -7.55252987e-02, -6.18890226e-02,  9.79830846e-02],\n",
       "          [ 6.89359233e-02,  1.46902874e-02,  3.75193432e-02, ...,\n",
       "            2.68545374e-02,  3.32953110e-02, -1.23525411e-02]],\n",
       " \n",
       "         [[ 2.36044601e-02,  8.62420872e-02,  1.11301623e-01, ...,\n",
       "           -1.02295235e-01,  1.09136201e-01, -2.25833207e-02],\n",
       "          [-8.48813057e-02, -1.23982802e-02,  1.09238997e-02, ...,\n",
       "           -4.18286398e-02, -3.68647277e-02,  1.04279794e-01],\n",
       "          [-7.50058815e-02,  9.82717499e-02,  5.36205396e-02, ...,\n",
       "           -7.80423135e-02,  1.04437023e-03,  8.88528600e-02],\n",
       "          ...,\n",
       "          [-5.77895381e-02, -7.75530115e-02, -9.77798700e-02, ...,\n",
       "           -6.68242499e-02,  4.18267623e-02, -5.13351709e-02],\n",
       "          [ 5.38137928e-02,  5.83972111e-02, -5.03555387e-02, ...,\n",
       "           -6.54553771e-02,  7.38321766e-02, -4.17279676e-02],\n",
       "          [ 1.09693490e-01,  3.45765725e-02,  3.23719308e-02, ...,\n",
       "            1.53841600e-02, -3.36319208e-05, -5.13046011e-02]],\n",
       " \n",
       "         [[ 1.09428592e-01,  9.32218954e-02, -4.96189296e-03, ...,\n",
       "            6.71423152e-02, -8.88691619e-02,  7.34338909e-03],\n",
       "          [ 1.98639855e-02,  9.51365903e-02,  1.01647578e-01, ...,\n",
       "            4.64565381e-02,  7.92607144e-02, -4.71837074e-02],\n",
       "          [-3.17745060e-02, -9.34436396e-02,  1.07541896e-01, ...,\n",
       "            8.57839808e-02, -7.30959028e-02, -8.07178468e-02],\n",
       "          ...,\n",
       "          [-7.41190538e-02,  8.27520713e-02,  9.27303657e-02, ...,\n",
       "            2.86980942e-02, -3.01060826e-03, -9.73664671e-02],\n",
       "          [ 1.58556774e-02, -8.52759704e-02,  7.70164505e-02, ...,\n",
       "            6.13908693e-02,  1.02434017e-01,  1.04071282e-01],\n",
       "          [ 5.97450957e-02,  9.44820866e-02,  1.01430796e-01, ...,\n",
       "            8.88176486e-02,  7.66044334e-02, -3.55551690e-02]]],\n",
       " \n",
       " \n",
       "        [[[ 9.99458060e-02,  5.08373603e-02,  3.49038914e-02, ...,\n",
       "           -4.84109670e-02, -8.80199000e-02,  4.02738079e-02],\n",
       "          [ 7.54529759e-02,  9.74789783e-02,  1.37469172e-03, ...,\n",
       "           -9.77528393e-02, -1.38521194e-04,  2.40096822e-02],\n",
       "          [ 1.84831396e-02, -8.21216181e-02, -7.21015185e-02, ...,\n",
       "           -3.73325273e-02,  7.18752369e-02, -5.47946692e-02],\n",
       "          ...,\n",
       "          [ 8.08789060e-02, -8.87528062e-04, -5.28882518e-02, ...,\n",
       "            6.58623800e-02, -3.09441909e-02, -7.31746554e-02],\n",
       "          [-1.07359141e-03,  1.09191693e-01,  4.22348753e-02, ...,\n",
       "           -1.13796994e-01, -6.50370568e-02,  7.95631930e-02],\n",
       "          [-1.12889491e-01, -1.12953134e-01,  9.46700498e-02, ...,\n",
       "           -1.02502763e-01, -4.39429209e-02,  2.06067488e-02]],\n",
       " \n",
       "         [[-7.46908486e-02,  8.79134163e-02, -1.23282596e-02, ...,\n",
       "           -1.87402591e-02,  4.73257080e-02, -6.89373240e-02],\n",
       "          [-1.00412197e-01, -9.63476971e-02, -4.53428477e-02, ...,\n",
       "            1.13600962e-01, -7.00365752e-02, -2.08294466e-02],\n",
       "          [-1.09312013e-01,  4.75950912e-02, -1.02458790e-01, ...,\n",
       "           -2.08572075e-02, -9.55668837e-03, -3.76734659e-02],\n",
       "          ...,\n",
       "          [ 2.64083967e-02,  1.06523402e-01,  6.67390600e-02, ...,\n",
       "           -7.92367756e-02,  1.03474505e-01, -9.70276445e-03],\n",
       "          [ 3.69421020e-02,  4.40411493e-02, -1.17763743e-01, ...,\n",
       "            9.64205042e-02,  1.12001486e-01,  1.02804624e-01],\n",
       "          [-1.13936923e-01, -4.86026779e-02, -4.24025208e-03, ...,\n",
       "           -6.86447918e-02,  8.51284638e-02,  5.46720549e-02]],\n",
       " \n",
       "         [[-1.13615088e-01,  5.94986752e-02,  1.03747554e-01, ...,\n",
       "            1.35591403e-02,  1.10680722e-01,  6.62634149e-02],\n",
       "          [-9.14404541e-02,  4.41951081e-02,  7.37529173e-02, ...,\n",
       "            4.58183512e-02, -9.75411534e-02,  7.21042380e-02],\n",
       "          [-5.13682738e-02,  6.06805012e-02,  4.38374206e-02, ...,\n",
       "           -8.18503648e-02, -9.79998782e-02, -4.76794094e-02],\n",
       "          ...,\n",
       "          [-4.57454324e-02, -1.04184255e-01, -1.04174197e-01, ...,\n",
       "            6.61972389e-02,  8.49853233e-02,  5.33266887e-02],\n",
       "          [ 1.01906590e-01,  5.95505759e-02, -4.67382148e-02, ...,\n",
       "           -6.92318976e-02,  4.39339355e-02, -8.76485854e-02],\n",
       "          [ 7.60563537e-02, -1.00144371e-01,  1.16347753e-01, ...,\n",
       "            1.00711830e-01, -1.15326419e-01,  5.97855076e-02]]]],\n",
       "       dtype=float32)>,\n",
       " <tf.Variable 'conv2d_1/bias:0' shape=(32,) dtype=float32, numpy=\n",
       " array([0., 0., 0., 0., 0., 0., 0., 0., 0., 0., 0., 0., 0., 0., 0., 0., 0.,\n",
       "        0., 0., 0., 0., 0., 0., 0., 0., 0., 0., 0., 0., 0., 0., 0.],\n",
       "       dtype=float32)>,\n",
       " <tf.Variable 'dense/kernel:0' shape=(32, 10) dtype=float32, numpy=\n",
       " array([[ 2.07926601e-01, -2.15622738e-01, -2.95553088e-01,\n",
       "         -5.56468964e-03, -3.03045511e-01,  5.02466261e-02,\n",
       "         -2.02802166e-01, -1.24737889e-01, -3.77739459e-01,\n",
       "         -2.10730374e-01],\n",
       "        [ 3.57511044e-02,  4.67771292e-03,  3.73326331e-01,\n",
       "         -4.78494167e-03, -1.87886357e-01, -1.37542248e-01,\n",
       "          2.80017644e-01, -3.34612906e-01,  3.63302976e-01,\n",
       "         -1.33656174e-01],\n",
       "        [ 1.33597165e-01, -6.31338656e-02, -2.20582873e-01,\n",
       "         -2.21067324e-01,  2.78613418e-01,  1.48146480e-01,\n",
       "         -1.86104357e-01, -2.28661835e-01,  2.64083296e-01,\n",
       "         -1.07420981e-02],\n",
       "        [ 2.02711970e-01, -2.77187467e-01, -4.60032523e-02,\n",
       "         -3.66765678e-01,  7.93933868e-05, -1.82177022e-01,\n",
       "         -2.79321074e-01, -1.48150966e-01,  2.67361432e-01,\n",
       "          2.28074819e-01],\n",
       "        [-6.31347895e-02, -6.68342113e-02,  1.38726801e-01,\n",
       "         -3.01181793e-01,  1.39047951e-01, -3.51752818e-01,\n",
       "          3.70861143e-01,  9.66983736e-02, -9.55206156e-03,\n",
       "         -1.65732622e-01],\n",
       "        [-2.37042308e-02,  4.84237075e-02, -2.77732551e-01,\n",
       "         -1.35885954e-01,  2.54724294e-01,  3.16154450e-01,\n",
       "          1.34535521e-01, -2.26731062e-01, -1.46105662e-01,\n",
       "         -5.35292029e-02],\n",
       "        [ 9.02854204e-02,  2.77507454e-01,  1.06428921e-01,\n",
       "         -3.49060476e-01, -2.71676749e-01,  2.56481320e-01,\n",
       "         -9.81054008e-02,  3.12699586e-01, -2.67464906e-01,\n",
       "          1.15316033e-01],\n",
       "        [-2.99821347e-01,  8.79676044e-02, -2.27748364e-01,\n",
       "         -1.64725870e-01,  5.27070761e-02, -3.61001909e-01,\n",
       "         -4.06909585e-02, -3.25366139e-01, -3.66433144e-01,\n",
       "         -1.37313709e-01],\n",
       "        [-2.02196836e-03, -8.72496665e-02, -3.32393229e-01,\n",
       "         -2.80607104e-01, -1.47644281e-02,  2.13632017e-01,\n",
       "          7.37946033e-02, -3.09284538e-01,  2.60215551e-01,\n",
       "         -1.03350580e-02],\n",
       "        [-3.12801063e-01, -2.63082594e-01, -3.26700091e-01,\n",
       "          4.18429673e-02, -2.08505556e-01,  2.95565635e-01,\n",
       "          2.07964510e-01, -2.42409512e-01, -1.95098162e-01,\n",
       "          1.43153995e-01],\n",
       "        [ 1.44177377e-02, -1.33284450e-01,  3.72006863e-01,\n",
       "         -2.88887382e-01, -1.97061896e-03,  2.35353082e-01,\n",
       "          3.25787872e-01,  1.62321359e-01,  3.99195850e-02,\n",
       "          3.10228378e-01],\n",
       "        [-1.12847924e-01, -2.50960469e-01,  1.54097825e-01,\n",
       "         -3.22611809e-01,  1.01048321e-01,  1.13167107e-01,\n",
       "         -3.10165316e-01,  3.09401304e-01,  1.42663151e-01,\n",
       "         -1.12955779e-01],\n",
       "        [-2.50272572e-01, -2.48191118e-01, -3.16181183e-02,\n",
       "         -4.44935858e-02, -1.08044952e-01,  1.61728948e-01,\n",
       "         -1.91226900e-02, -3.64189416e-01, -2.99823582e-01,\n",
       "         -1.45322755e-01],\n",
       "        [-3.70637417e-01, -3.44299674e-01, -3.00393015e-01,\n",
       "          1.01735264e-01, -1.95068970e-01, -7.08067417e-03,\n",
       "          2.94285744e-01,  1.50886983e-01, -6.58798218e-02,\n",
       "          1.09366745e-01],\n",
       "        [-1.79940671e-01, -1.81572720e-01, -5.61786294e-02,\n",
       "         -1.33482814e-02, -3.23612362e-01,  1.41510695e-01,\n",
       "          8.49673152e-03,  1.63534492e-01, -2.66561866e-01,\n",
       "          1.50836796e-01],\n",
       "        [-3.75956923e-01,  8.18880796e-02,  1.58382326e-01,\n",
       "          2.07276016e-01,  4.85055149e-02,  2.25044221e-01,\n",
       "          1.41259164e-01,  4.00478244e-02, -3.14352632e-01,\n",
       "          6.74377084e-02],\n",
       "        [-1.65882289e-01,  3.15530032e-01, -9.05418694e-02,\n",
       "          1.97593421e-01,  7.59029090e-02,  1.73685580e-01,\n",
       "         -7.36591220e-03, -3.33580375e-01, -1.88833192e-01,\n",
       "          3.56652945e-01],\n",
       "        [-7.44440556e-02, -3.22366804e-01, -6.54115975e-02,\n",
       "         -2.77028680e-02,  2.56369859e-01, -2.72032976e-01,\n",
       "          8.05863738e-02,  2.68671542e-01, -2.11773887e-01,\n",
       "         -2.77571172e-01],\n",
       "        [-6.52594864e-02, -1.03567719e-01, -3.73876542e-01,\n",
       "          1.69717461e-01, -3.53897780e-01, -3.63458127e-01,\n",
       "          1.47366911e-01, -2.04476669e-01,  2.87466675e-01,\n",
       "          2.82511741e-01],\n",
       "        [-1.73430040e-01, -1.06499493e-01,  3.60276133e-01,\n",
       "         -2.56245136e-01,  3.75539958e-02,  1.56717926e-01,\n",
       "         -3.72818112e-03,  1.89892054e-02,  2.23506361e-01,\n",
       "          5.77764213e-02],\n",
       "        [ 1.89753324e-01,  2.17221707e-01,  2.37088829e-01,\n",
       "         -1.36650831e-01, -2.94260055e-01, -1.50237098e-01,\n",
       "          3.28025669e-01, -1.04028583e-01,  3.66344303e-01,\n",
       "         -1.64747402e-01],\n",
       "        [-2.33262062e-01, -1.62606299e-01, -3.88894081e-02,\n",
       "         -4.99112904e-02, -7.03841448e-02,  1.88398033e-01,\n",
       "         -1.49400219e-01,  2.18405128e-02, -3.14820766e-01,\n",
       "          3.01853329e-01],\n",
       "        [-2.95631677e-01, -1.40563130e-01,  3.49672347e-01,\n",
       "          1.90919250e-01,  1.44332349e-02,  2.78328329e-01,\n",
       "         -2.25598782e-01,  9.25571024e-02, -3.75063449e-01,\n",
       "          4.13444638e-02],\n",
       "        [-1.10705018e-01, -1.79089308e-02, -7.05797076e-02,\n",
       "         -1.62122652e-01,  2.55321115e-01,  2.69479126e-01,\n",
       "          3.36078674e-01, -3.28928173e-01, -3.66692692e-01,\n",
       "          1.23805493e-01],\n",
       "        [-1.16056144e-01, -1.48344442e-01,  3.63694936e-01,\n",
       "          1.74888164e-01,  4.17044759e-02, -4.12713885e-02,\n",
       "          4.58783507e-02,  2.28507310e-01, -1.84320107e-01,\n",
       "         -5.12442589e-02],\n",
       "        [ 1.81458026e-01, -3.58414561e-01, -3.09566796e-01,\n",
       "         -1.77997008e-01,  3.74896079e-01, -2.87333190e-01,\n",
       "          3.08071077e-02,  2.31530070e-02,  4.50661480e-02,\n",
       "          1.71467155e-01],\n",
       "        [ 1.60199374e-01,  1.28369838e-01,  2.25249797e-01,\n",
       "         -1.06732696e-01,  2.39328057e-01, -2.37949863e-01,\n",
       "         -2.11975202e-01, -3.53831649e-01, -1.91568956e-01,\n",
       "         -2.03448638e-01],\n",
       "        [ 1.24146491e-01, -2.67589092e-01, -2.83849239e-03,\n",
       "         -3.02892506e-01,  3.30639333e-01,  1.08281404e-01,\n",
       "          1.63694531e-01, -2.85906315e-01,  3.53519917e-02,\n",
       "          1.28389269e-01],\n",
       "        [-1.15954220e-01,  9.02190804e-02, -9.45508480e-02,\n",
       "          3.11080247e-01, -2.95275927e-01, -5.60743511e-02,\n",
       "          2.60180861e-01, -1.62387326e-01, -2.34342068e-01,\n",
       "         -9.69688892e-02],\n",
       "        [ 2.95790166e-01, -1.40124992e-01,  1.01813406e-01,\n",
       "         -1.96284875e-01,  1.64133340e-01, -1.19918793e-01,\n",
       "          2.03331739e-01, -3.38797957e-01, -1.33084044e-01,\n",
       "         -5.14103472e-02],\n",
       "        [ 3.59988123e-01, -3.60916018e-01,  2.03153640e-01,\n",
       "         -1.90563008e-01,  1.10814869e-01, -1.34945348e-01,\n",
       "          2.50120014e-01,  1.77170187e-01,  2.14759022e-01,\n",
       "         -2.71106482e-01],\n",
       "        [ 3.75040203e-01, -1.48759604e-01,  2.29489475e-01,\n",
       "          3.44510376e-02,  2.63905317e-01,  1.97869986e-01,\n",
       "          1.94184750e-01, -7.30020404e-02,  2.40364075e-02,\n",
       "         -1.36678234e-01]], dtype=float32)>,\n",
       " <tf.Variable 'dense/bias:0' shape=(10,) dtype=float32, numpy=array([0., 0., 0., 0., 0., 0., 0., 0., 0., 0.], dtype=float32)>]"
      ]
     },
     "execution_count": 33,
     "metadata": {},
     "output_type": "execute_result"
    }
   ],
   "source": [
    "#model的可训练参数\n",
    "model.trainable_variables"
   ]
  },
  {
   "cell_type": "code",
   "execution_count": 34,
   "metadata": {},
   "outputs": [],
   "source": [
    "optimizer = tf.keras.optimizers.Adam()"
   ]
  },
  {
   "cell_type": "code",
   "execution_count": 35,
   "metadata": {},
   "outputs": [],
   "source": [
    "loss_function = tf.keras.losses.SparseCategoricalCrossentropy(from_logits=True)"
   ]
  },
  {
   "cell_type": "code",
   "execution_count": 36,
   "metadata": {},
   "outputs": [],
   "source": [
    "features, labels = next(iter(dataset))"
   ]
  },
  {
   "cell_type": "code",
   "execution_count": 37,
   "metadata": {},
   "outputs": [
    {
     "data": {
      "text/plain": [
       "TensorShape([32, 28, 28, 1])"
      ]
     },
     "execution_count": 37,
     "metadata": {},
     "output_type": "execute_result"
    }
   ],
   "source": [
    "features.shape"
   ]
  },
  {
   "cell_type": "code",
   "execution_count": 38,
   "metadata": {},
   "outputs": [
    {
     "data": {
      "text/plain": [
       "TensorShape([32])"
      ]
     },
     "execution_count": 38,
     "metadata": {},
     "output_type": "execute_result"
    }
   ],
   "source": [
    "labels.shape"
   ]
  },
  {
   "cell_type": "code",
   "execution_count": 39,
   "metadata": {},
   "outputs": [],
   "source": [
    "predictions = model(features)"
   ]
  },
  {
   "cell_type": "code",
   "execution_count": 40,
   "metadata": {},
   "outputs": [
    {
     "data": {
      "text/plain": [
       "TensorShape([32, 10])"
      ]
     },
     "execution_count": 40,
     "metadata": {},
     "output_type": "execute_result"
    }
   ],
   "source": [
    "predictions.shape"
   ]
  },
  {
   "cell_type": "code",
   "execution_count": 41,
   "metadata": {},
   "outputs": [
    {
     "data": {
      "text/plain": [
       "<tf.Tensor: shape=(32,), dtype=int64, numpy=\n",
       "array([6, 6, 6, 6, 6, 6, 6, 6, 6, 6, 6, 6, 6, 6, 6, 6, 6, 6, 6, 6, 6, 6,\n",
       "       6, 6, 6, 6, 6, 6, 6, 6, 6, 6], dtype=int64)>"
      ]
     },
     "execution_count": 41,
     "metadata": {},
     "output_type": "execute_result"
    }
   ],
   "source": [
    "tf.argmax(predictions, axis = 1)"
   ]
  },
  {
   "cell_type": "code",
   "execution_count": 42,
   "metadata": {},
   "outputs": [
    {
     "data": {
      "text/plain": [
       "<tf.Tensor: shape=(32,), dtype=int64, numpy=\n",
       "array([5, 2, 2, 9, 6, 4, 2, 9, 7, 4, 5, 0, 1, 5, 6, 5, 6, 2, 6, 0, 1, 6,\n",
       "       3, 5, 4, 9, 2, 1, 7, 9, 9, 8], dtype=int64)>"
      ]
     },
     "execution_count": 42,
     "metadata": {},
     "output_type": "execute_result"
    }
   ],
   "source": [
    "labels"
   ]
  },
  {
   "cell_type": "code",
   "execution_count": 43,
   "metadata": {},
   "outputs": [],
   "source": [
    "def loss(model, x, y):\n",
    "    #预测\n",
    "    y_ = model(x)\n",
    "    #计算返回loss损失值\n",
    "    return loss_function(y, y_)"
   ]
  },
  {
   "cell_type": "code",
   "execution_count": 44,
   "metadata": {},
   "outputs": [],
   "source": [
    "train_loss = tf.keras.metrics.Mean('train_loss')\n",
    "train_acc = tf.keras.metrics.SparseCategoricalAccuracy('train_acc')"
   ]
  },
  {
   "cell_type": "code",
   "execution_count": 45,
   "metadata": {},
   "outputs": [],
   "source": [
    "test_loss = tf.keras.metrics.Mean('test_loss')\n",
    "test_acc = tf.keras.metrics.SparseCategoricalAccuracy('test_acc')"
   ]
  },
  {
   "cell_type": "code",
   "execution_count": 46,
   "metadata": {},
   "outputs": [],
   "source": [
    "def train_step(images, labels):\n",
    "    with tf.GradientTape() as t:\n",
    "        pred = model(images)\n",
    "        loss_step = loss_function(labels, pred)\n",
    "        #loss_step = loss(model, images, labels)\n",
    "    #损失与模型可训练参数的梯度\n",
    "    grads = t.gradient(loss_step, model.trainable_variables)\n",
    "    #应用优化函数\n",
    "    optimizer.apply_gradients(zip(grads, model.trainable_variables))\n",
    "    train_loss(loss_step)\n",
    "    train_acc(labels, pred)"
   ]
  },
  {
   "cell_type": "code",
   "execution_count": 47,
   "metadata": {},
   "outputs": [],
   "source": [
    "def test_step(images, labels):\n",
    "    pred = model(images)\n",
    "    loss_step = loss_function(labels, pred)\n",
    "    test_loss(loss_step)\n",
    "    test_acc(labels, pred)"
   ]
  },
  {
   "cell_type": "code",
   "execution_count": 48,
   "metadata": {},
   "outputs": [],
   "source": [
    "def train():\n",
    "    for epoch in range(10):\n",
    "        for (batch, (images, labels)) in enumerate(dataset):\n",
    "            train_step(images, labels)\n",
    "        print('Epoch{} is finished, loss = {}, acc = {}'.format(epoch, \n",
    "                                                                train_loss.result(),\n",
    "                                                                train_acc.result())) \n",
    "        for (batch, (images, labels)) in enumerate(test_dataset):\n",
    "            test_step(images, labels)                                                        \n",
    "        print('                     test_loss = {}, test_acc = {}'.format(\n",
    "                                                     test_loss.result(),\n",
    "                                                     test_acc.result()))\n",
    "        train_loss.reset_states()\n",
    "        train_acc.reset_states()\n",
    "        test_loss.reset_states()\n",
    "        test_acc.reset_states()"
   ]
  },
  {
   "cell_type": "code",
   "execution_count": 49,
   "metadata": {},
   "outputs": [
    {
     "name": "stdout",
     "output_type": "stream",
     "text": [
      "Epoch0 is finished, loss = 1.7122447490692139, acc = 0.3732999861240387\n",
      "                     test_loss = 1.3978724479675293, test_acc = 0.5249999761581421\n",
      "Epoch1 is finished, loss = 1.2994446754455566, acc = 0.5620333552360535\n",
      "                     test_loss = 1.1335800886154175, test_acc = 0.6312000155448914\n",
      "Epoch2 is finished, loss = 1.0641064643859863, acc = 0.6588166952133179\n",
      "                     test_loss = 0.9239758253097534, test_acc = 0.7089999914169312\n",
      "Epoch3 is finished, loss = 0.8961315751075745, acc = 0.7181166410446167\n",
      "                     test_loss = 0.8396769165992737, test_acc = 0.7178999781608582\n",
      "Epoch4 is finished, loss = 0.7885327339172363, acc = 0.7516166567802429\n",
      "                     test_loss = 0.7127339839935303, test_acc = 0.7824000120162964\n",
      "Epoch5 is finished, loss = 0.7094447016716003, acc = 0.7794333100318909\n",
      "                     test_loss = 0.6425023078918457, test_acc = 0.7975000143051147\n",
      "Epoch6 is finished, loss = 0.6455734372138977, acc = 0.8007000088691711\n",
      "                     test_loss = 0.60956209897995, test_acc = 0.8077999949455261\n",
      "Epoch7 is finished, loss = 0.5924429893493652, acc = 0.8193333148956299\n",
      "                     test_loss = 0.5205330848693848, test_acc = 0.8454999923706055\n",
      "Epoch8 is finished, loss = 0.5500543117523193, acc = 0.8338500261306763\n",
      "                     test_loss = 0.5044336318969727, test_acc = 0.8432999849319458\n",
      "Epoch9 is finished, loss = 0.5130478143692017, acc = 0.8444833159446716\n",
      "                     test_loss = 0.4433008134365082, test_acc = 0.8715999722480774\n"
     ]
    }
   ],
   "source": [
    "train()"
   ]
  },
  {
   "cell_type": "markdown",
   "metadata": {},
   "source": [
    "# tf.keras.metrics 汇总计算模块"
   ]
  },
  {
   "cell_type": "code",
   "execution_count": 50,
   "metadata": {},
   "outputs": [],
   "source": [
    "m = tf.keras.metrics.Mean('acc')"
   ]
  },
  {
   "cell_type": "code",
   "execution_count": 51,
   "metadata": {},
   "outputs": [
    {
     "data": {
      "text/plain": [
       "<tf.Tensor: shape=(), dtype=float32, numpy=10.0>"
      ]
     },
     "execution_count": 51,
     "metadata": {},
     "output_type": "execute_result"
    }
   ],
   "source": [
    "m(10)"
   ]
  },
  {
   "cell_type": "code",
   "execution_count": 52,
   "metadata": {},
   "outputs": [
    {
     "data": {
      "text/plain": [
       "<tf.Tensor: shape=(), dtype=float32, numpy=15.0>"
      ]
     },
     "execution_count": 52,
     "metadata": {},
     "output_type": "execute_result"
    }
   ],
   "source": [
    "m(20)"
   ]
  },
  {
   "cell_type": "code",
   "execution_count": 53,
   "metadata": {},
   "outputs": [
    {
     "data": {
      "text/plain": [
       "15.0"
      ]
     },
     "execution_count": 53,
     "metadata": {},
     "output_type": "execute_result"
    }
   ],
   "source": [
    "m.result().numpy()"
   ]
  },
  {
   "cell_type": "code",
   "execution_count": 54,
   "metadata": {},
   "outputs": [
    {
     "data": {
      "text/plain": [
       "<tf.Tensor: shape=(), dtype=float32, numpy=25.0>"
      ]
     },
     "execution_count": 54,
     "metadata": {},
     "output_type": "execute_result"
    }
   ],
   "source": [
    "m([30, 40])"
   ]
  },
  {
   "cell_type": "code",
   "execution_count": 55,
   "metadata": {},
   "outputs": [
    {
     "data": {
      "text/plain": [
       "25.0"
      ]
     },
     "execution_count": 55,
     "metadata": {},
     "output_type": "execute_result"
    }
   ],
   "source": [
    "m.result().numpy()"
   ]
  },
  {
   "cell_type": "code",
   "execution_count": 56,
   "metadata": {},
   "outputs": [],
   "source": [
    "#重置状态\n",
    "m.reset_states()"
   ]
  },
  {
   "cell_type": "code",
   "execution_count": 57,
   "metadata": {},
   "outputs": [
    {
     "data": {
      "text/plain": [
       "<tf.Tensor: shape=(), dtype=float32, numpy=1.0>"
      ]
     },
     "execution_count": 57,
     "metadata": {},
     "output_type": "execute_result"
    }
   ],
   "source": [
    "m(1)"
   ]
  },
  {
   "cell_type": "code",
   "execution_count": 58,
   "metadata": {},
   "outputs": [
    {
     "data": {
      "text/plain": [
       "<tf.Tensor: shape=(), dtype=float32, numpy=1.5>"
      ]
     },
     "execution_count": 58,
     "metadata": {},
     "output_type": "execute_result"
    }
   ],
   "source": [
    "m(2)"
   ]
  },
  {
   "cell_type": "code",
   "execution_count": 59,
   "metadata": {},
   "outputs": [
    {
     "data": {
      "text/plain": [
       "1.5"
      ]
     },
     "execution_count": 59,
     "metadata": {},
     "output_type": "execute_result"
    }
   ],
   "source": [
    "m.result().numpy()"
   ]
  },
  {
   "cell_type": "code",
   "execution_count": 60,
   "metadata": {},
   "outputs": [],
   "source": [
    "a = tf.keras.metrics.SparseCategoricalAccuracy('acc')"
   ]
  },
  {
   "cell_type": "code",
   "execution_count": 61,
   "metadata": {},
   "outputs": [
    {
     "data": {
      "text/plain": [
       "<tf.Tensor: shape=(), dtype=float32, numpy=0.71875>"
      ]
     },
     "execution_count": 61,
     "metadata": {},
     "output_type": "execute_result"
    }
   ],
   "source": [
    "a(labels, model(features))"
   ]
  },
  {
   "cell_type": "code",
   "execution_count": null,
   "metadata": {},
   "outputs": [],
   "source": []
  }
 ],
 "metadata": {
  "kernelspec": {
   "display_name": "Python 3",
   "language": "python",
   "name": "python3"
  },
  "language_info": {
   "codemirror_mode": {
    "name": "ipython",
    "version": 3
   },
   "file_extension": ".py",
   "mimetype": "text/x-python",
   "name": "python",
   "nbconvert_exporter": "python",
   "pygments_lexer": "ipython3",
   "version": "3.7.6"
  }
 },
 "nbformat": 4,
 "nbformat_minor": 4
}
