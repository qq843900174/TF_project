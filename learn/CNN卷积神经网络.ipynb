{
 "cells": [
  {
   "cell_type": "code",
   "execution_count": 86,
   "metadata": {},
   "outputs": [],
   "source": [
    "import tensorflow as tf"
   ]
  },
  {
   "cell_type": "code",
   "execution_count": 87,
   "metadata": {},
   "outputs": [],
   "source": [
    "import tensorflow.keras \n",
    "from tensorflow.keras import layers"
   ]
  },
  {
   "cell_type": "code",
   "execution_count": 88,
   "metadata": {},
   "outputs": [],
   "source": [
    "from tensorflow import keras\n",
    "import matplotlib.pyplot as plt\n",
    "%matplotlib inline\n",
    "import numpy as np"
   ]
  },
  {
   "cell_type": "code",
   "execution_count": 89,
   "metadata": {},
   "outputs": [],
   "source": [
    "fashion_mnist = keras.datasets.fashion_mnist\n",
    "(train_images, train_labels),(test_images, test_labels) = fashion_mnist.load_data()"
   ]
  },
  {
   "cell_type": "code",
   "execution_count": 90,
   "metadata": {},
   "outputs": [
    {
     "data": {
      "text/plain": [
       "(60000, 28, 28)"
      ]
     },
     "execution_count": 90,
     "metadata": {},
     "output_type": "execute_result"
    }
   ],
   "source": [
    "train_images.shape"
   ]
  },
  {
   "cell_type": "code",
   "execution_count": 91,
   "metadata": {},
   "outputs": [],
   "source": [
    "#扩展维度,channel数\n",
    "train_images = np.expand_dims(train_images, -1)"
   ]
  },
  {
   "cell_type": "code",
   "execution_count": 92,
   "metadata": {},
   "outputs": [
    {
     "data": {
      "text/plain": [
       "(60000, 28, 28, 1)"
      ]
     },
     "execution_count": 92,
     "metadata": {},
     "output_type": "execute_result"
    }
   ],
   "source": [
    "train_images.shape"
   ]
  },
  {
   "cell_type": "code",
   "execution_count": 93,
   "metadata": {},
   "outputs": [],
   "source": [
    "model = tf.keras.Sequential()\n",
    "#32为filter的个数，32个卷积核，生成32个通道，图像变成H * W * 32；\n",
    "#卷积核大小3 * 3；\n",
    "#输入的形状：H * W * Channel，[1:]除去第0尾的数据（因为第0尾是个数）。\n",
    "model.add(tf.keras.layers.Conv2D(64, (3, 3), \n",
    "          input_shape = train_images.shape[1:], \n",
    "          #input_shape(28, 28, 1),\n",
    "          #边缘填充，same与原图一样大小，valid不填充。\n",
    "          padding = 'same',\n",
    "          activation = 'relu'))\n",
    "#增加两个Conv2D层提高拟合能力\n",
    "model.add(tf.keras.layers.Conv2D(64, (3, 3), padding = 'same', activation = 'relu'))\n",
    "#把图像缩小，缩小到原来一半，28 * 28 → 14 * 14\n",
    "model.add(tf.keras.layers.MaxPool2D())\n",
    "#model.add(tf.keras.layers.Dropout(0.5))\n",
    "#卷积核2倍递增\n",
    "model.add(tf.keras.layers.Conv2D(128, (3, 3), activation = 'relu', padding = 'same'))\n",
    "model.add(tf.keras.layers.Conv2D(128, (3, 3), activation = 'relu', padding = 'same'))\n",
    "model.add(tf.keras.layers.MaxPool2D())\n",
    "model.add(tf.keras.layers.Dropout(0.5))\n",
    "model.add(tf.keras.layers.Conv2D(256, (3, 3), activation = 'relu', padding = 'same'))\n",
    "model.add(tf.keras.layers.Conv2D(256, (3, 3), activation = 'relu', padding = 'same'))\n",
    "model.add(tf.keras.layers.MaxPool2D())\n",
    "#model.add(tf.keras.layers.Dropout(0.5))\n",
    "model.add(tf.keras.layers.Conv2D(256, (3, 3), activation = 'relu', padding = 'same'))\n",
    "model.add(tf.keras.layers.Conv2D(256, (3, 3), activation = 'relu', padding = 'same'))\n",
    "#model.add(tf.keras.layers.Dropout(0.5))\n",
    "#全局平均值化(None,12,12,64) → (None,64)\n",
    "model.add(tf.keras.layers.GlobalAveragePooling2D())\n",
    "model.add(tf.keras.layers.Dense(256, activation = 'relu'))\n",
    "model.add(tf.keras.layers.Dense(10, activation = 'softmax'))"
   ]
  },
  {
   "cell_type": "code",
   "execution_count": 94,
   "metadata": {},
   "outputs": [
    {
     "name": "stdout",
     "output_type": "stream",
     "text": [
      "Model: \"sequential_4\"\n",
      "_________________________________________________________________\n",
      "Layer (type)                 Output Shape              Param #   \n",
      "=================================================================\n",
      "conv2d_26 (Conv2D)           (None, 28, 28, 64)        640       \n",
      "_________________________________________________________________\n",
      "conv2d_27 (Conv2D)           (None, 28, 28, 64)        36928     \n",
      "_________________________________________________________________\n",
      "max_pooling2d_10 (MaxPooling (None, 14, 14, 64)        0         \n",
      "_________________________________________________________________\n",
      "conv2d_28 (Conv2D)           (None, 14, 14, 128)       73856     \n",
      "_________________________________________________________________\n",
      "conv2d_29 (Conv2D)           (None, 14, 14, 128)       147584    \n",
      "_________________________________________________________________\n",
      "dropout_9 (Dropout)          (None, 14, 14, 128)       0         \n",
      "_________________________________________________________________\n",
      "conv2d_30 (Conv2D)           (None, 14, 14, 256)       295168    \n",
      "_________________________________________________________________\n",
      "conv2d_31 (Conv2D)           (None, 14, 14, 256)       590080    \n",
      "_________________________________________________________________\n",
      "max_pooling2d_11 (MaxPooling (None, 7, 7, 256)         0         \n",
      "_________________________________________________________________\n",
      "conv2d_32 (Conv2D)           (None, 7, 7, 256)         590080    \n",
      "_________________________________________________________________\n",
      "conv2d_33 (Conv2D)           (None, 7, 7, 256)         590080    \n",
      "_________________________________________________________________\n",
      "global_average_pooling2d_4 ( (None, 256)               0         \n",
      "_________________________________________________________________\n",
      "dense_7 (Dense)              (None, 256)               65792     \n",
      "_________________________________________________________________\n",
      "dense_8 (Dense)              (None, 10)                2570      \n",
      "=================================================================\n",
      "Total params: 2,392,778\n",
      "Trainable params: 2,392,778\n",
      "Non-trainable params: 0\n",
      "_________________________________________________________________\n"
     ]
    }
   ],
   "source": [
    "model.summary()"
   ]
  },
  {
   "cell_type": "code",
   "execution_count": 95,
   "metadata": {},
   "outputs": [],
   "source": [
    "model.compile(optimizer = 'adam',\n",
    "              loss = 'sparse_categorical_crossentropy',\n",
    "              metrics = ['acc'])"
   ]
  },
  {
   "cell_type": "code",
   "execution_count": 96,
   "metadata": {},
   "outputs": [],
   "source": [
    "test_images = np.expand_dims(test_images, -1)"
   ]
  },
  {
   "cell_type": "code",
   "execution_count": 97,
   "metadata": {},
   "outputs": [
    {
     "name": "stdout",
     "output_type": "stream",
     "text": [
      "Train on 60000 samples, validate on 10000 samples\n",
      "Epoch 1/30\n",
      "60000/60000 [==============================] - 137s 2ms/sample - loss: 0.7403 - acc: 0.7201 - val_loss: 0.5095 - val_acc: 0.8208\n",
      "Epoch 2/30\n",
      "60000/60000 [==============================] - 121s 2ms/sample - loss: 0.4296 - acc: 0.8405 - val_loss: 0.4369 - val_acc: 0.8394\n",
      "Epoch 3/30\n",
      "60000/60000 [==============================] - 134s 2ms/sample - loss: 0.3673 - acc: 0.8609 - val_loss: 0.3719 - val_acc: 0.8574TA: 1s \n",
      "Epoch 4/30\n",
      "60000/60000 [==============================] - 126s 2ms/sample - loss: 0.3287 - acc: 0.8755 - val_loss: 0.3326 - val_acc: 0.8748\n",
      "Epoch 5/30\n",
      "60000/60000 [==============================] - 122s 2ms/sample - loss: 0.3026 - acc: 0.8852 - val_loss: 0.3397 - val_acc: 0.8741\n",
      "Epoch 6/30\n",
      "60000/60000 [==============================] - 127s 2ms/sample - loss: 0.2835 - acc: 0.8930 - val_loss: 0.3057 - val_acc: 0.8887\n",
      "Epoch 7/30\n",
      "60000/60000 [==============================] - 130s 2ms/sample - loss: 0.2712 - acc: 0.8974 - val_loss: 0.2776 - val_acc: 0.8950oss: 0.2712\n",
      "Epoch 8/30\n",
      "60000/60000 [==============================] - 126s 2ms/sample - loss: 0.2556 - acc: 0.9032 - val_loss: 0.2835 - val_acc: 0.8936\n",
      "Epoch 9/30\n",
      "60000/60000 [==============================] - 128s 2ms/sample - loss: 0.2467 - acc: 0.9069 - val_loss: 0.2700 - val_acc: 0.8992\n",
      "Epoch 10/30\n",
      "60000/60000 [==============================] - 123s 2ms/sample - loss: 0.2421 - acc: 0.9092 - val_loss: 0.2679 - val_acc: 0.9004\n",
      "Epoch 11/30\n",
      "60000/60000 [==============================] - 132s 2ms/sample - loss: 0.2318 - acc: 0.9123 - val_loss: 0.2948 - val_acc: 0.8945\n",
      "Epoch 12/30\n",
      "60000/60000 [==============================] - 122s 2ms/sample - loss: 0.2291 - acc: 0.9147 - val_loss: 0.2637 - val_acc: 0.9038\n",
      "Epoch 13/30\n",
      "60000/60000 [==============================] - 127s 2ms/sample - loss: 0.2249 - acc: 0.9154 - val_loss: 0.2758 - val_acc: 0.8966\n",
      "Epoch 14/30\n",
      "60000/60000 [==============================] - 125s 2ms/sample - loss: 0.2152 - acc: 0.9190 - val_loss: 0.2569 - val_acc: 0.9043\n",
      "Epoch 15/30\n",
      "60000/60000 [==============================] - 125s 2ms/sample - loss: 0.2149 - acc: 0.9192 - val_loss: 0.2675 - val_acc: 0.9015 0.2153 - acc: 0 - ETA\n",
      "Epoch 16/30\n",
      "60000/60000 [==============================] - 127s 2ms/sample - loss: 0.2131 - acc: 0.9199 - val_loss: 0.2595 - val_acc: 0.9041\n",
      "Epoch 17/30\n",
      "60000/60000 [==============================] - 124s 2ms/sample - loss: 0.2080 - acc: 0.9209 - val_loss: 0.2633 - val_acc: 0.9031\n",
      "Epoch 18/30\n",
      "60000/60000 [==============================] - 129s 2ms/sample - loss: 0.2058 - acc: 0.9225 - val_loss: 0.2642 - val_acc: 0.9036\n",
      "Epoch 19/30\n",
      "60000/60000 [==============================] - 122s 2ms/sample - loss: 0.2032 - acc: 0.9254 - val_loss: 0.2605 - val_acc: 0.9067\n",
      "Epoch 20/30\n",
      "60000/60000 [==============================] - 131s 2ms/sample - loss: 0.2003 - acc: 0.9257 - val_loss: 0.2532 - val_acc: 0.9075\n",
      "Epoch 21/30\n",
      "60000/60000 [==============================] - 111s 2ms/sample - loss: 0.1967 - acc: 0.9263 - val_loss: 0.2629 - val_acc: 0.9067\n",
      "Epoch 22/30\n",
      "60000/60000 [==============================] - 95s 2ms/sample - loss: 0.2025 - acc: 0.9251 - val_loss: 0.2528 - val_acc: 0.9110\n",
      "Epoch 23/30\n",
      "60000/60000 [==============================] - 95s 2ms/sample - loss: 0.1931 - acc: 0.9284 - val_loss: 0.2446 - val_acc: 0.9110\n",
      "Epoch 24/30\n",
      "60000/60000 [==============================] - 95s 2ms/sample - loss: 0.1982 - acc: 0.9265 - val_loss: 0.2749 - val_acc: 0.9048\n",
      "Epoch 25/30\n",
      "60000/60000 [==============================] - 95s 2ms/sample - loss: 0.1935 - acc: 0.9276 - val_loss: 0.2610 - val_acc: 0.9089\n",
      "Epoch 26/30\n",
      "60000/60000 [==============================] - 95s 2ms/sample - loss: 0.2041 - acc: 0.9247 - val_loss: 0.2603 - val_acc: 0.9093\n",
      "Epoch 27/30\n",
      "60000/60000 [==============================] - 95s 2ms/sample - loss: 0.1911 - acc: 0.9296 - val_loss: 0.2615 - val_acc: 0.9063\n",
      "Epoch 28/30\n",
      "60000/60000 [==============================] - 95s 2ms/sample - loss: 0.1911 - acc: 0.9297 - val_loss: 0.2502 - val_acc: 0.9133\n",
      "Epoch 29/30\n",
      "60000/60000 [==============================] - 95s 2ms/sample - loss: 0.1866 - acc: 0.9307 - val_loss: 0.2678 - val_acc: 0.9062\n",
      "Epoch 30/30\n",
      "60000/60000 [==============================] - 95s 2ms/sample - loss: 0.1906 - acc: 0.9303 - val_loss: 0.2740 - val_acc: 0.9062\n"
     ]
    }
   ],
   "source": [
    "history = model.fit(train_images, \n",
    "                    train_labels, \n",
    "                    epochs = 30, \n",
    "                    validation_data = (test_images, test_labels))"
   ]
  },
  {
   "cell_type": "code",
   "execution_count": 98,
   "metadata": {},
   "outputs": [
    {
     "data": {
      "text/plain": [
       "dict_keys(['loss', 'acc', 'val_loss', 'val_acc'])"
      ]
     },
     "execution_count": 98,
     "metadata": {},
     "output_type": "execute_result"
    }
   ],
   "source": [
    "history.history.keys()"
   ]
  },
  {
   "cell_type": "code",
   "execution_count": 99,
   "metadata": {},
   "outputs": [
    {
     "data": {
      "text/plain": [
       "[<matplotlib.lines.Line2D at 0x260d2845fc8>]"
      ]
     },
     "execution_count": 99,
     "metadata": {},
     "output_type": "execute_result"
    },
    {
     "data": {
      "image/png": "[encoded data removed]",
      "text/plain": [
       "<Figure size 432x288 with 1 Axes>"
      ]
     },
     "metadata": {
      "needs_background": "light"
     },
     "output_type": "display_data"
    }
   ],
   "source": [
    "plt.plot(history.epoch, history.history.get('acc'), label = 'acc')\n",
    "plt.plot(history.epoch, history.history.get('val_acc'), label='val_acc')"
   ]
  },
  {
   "cell_type": "code",
   "execution_count": 100,
   "metadata": {},
   "outputs": [
    {
     "data": {
      "text/plain": [
       "[<matplotlib.lines.Line2D at 0x260d27dbe48>]"
      ]
     },
     "execution_count": 100,
     "metadata": {},
     "output_type": "execute_result"
    },
    {
     "data": {
      "image/png": "[encoded data removed]",
      "text/plain": [
       "<Figure size 432x288 with 1 Axes>"
      ]
     },
     "metadata": {
      "needs_background": "light"
     },
     "output_type": "display_data"
    }
   ],
   "source": [
    "plt.plot(history.epoch, history.history.get('loss'), label = 'loss')\n",
    "plt.plot(history.epoch, history.history.get('val_loss'), label='val_loss')"
   ]
  },
  {
   "cell_type": "code",
   "execution_count": null,
   "metadata": {},
   "outputs": [],
   "source": []
  }
 ],
 "metadata": {
  "kernelspec": {
   "display_name": "Python 3",
   "language": "python",
   "name": "python3"
  },
  "language_info": {
   "codemirror_mode": {
    "name": "ipython",
    "version": 3
   },
   "file_extension": ".py",
   "mimetype": "text/x-python",
   "name": "python",
   "nbconvert_exporter": "python",
   "pygments_lexer": "ipython3",
   "version": "3.7.6"
  }
 },
 "nbformat": 4,
 "nbformat_minor": 4
}
