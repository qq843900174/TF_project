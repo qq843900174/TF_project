{
 "cells": [
  {
   "cell_type": "code",
   "execution_count": 2,
   "metadata": {},
   "outputs": [],
   "source": [
    "import tensorflow as tf"
   ]
  },
  {
   "cell_type": "code",
   "execution_count": 3,
   "metadata": {},
   "outputs": [
    {
     "name": "stdout",
     "output_type": "stream",
     "text": [
      "Tensorflow Version: 2.1.0\n"
     ]
    }
   ],
   "source": [
    "print('Tensorflow Version: {}'.format(tf.__version__))"
   ]
  },
  {
   "cell_type": "code",
   "execution_count": 4,
   "metadata": {},
   "outputs": [],
   "source": [
    "import pandas as pd\n",
    "import numpy as np\n",
    "import matplotlib.pyplot as plt\n",
    "%matplotlib inline"
   ]
  },
  {
   "cell_type": "code",
   "execution_count": 7,
   "metadata": {},
   "outputs": [],
   "source": [
    "data = pd.read_csv('dataset/credit-a.csv', header=None)"
   ]
  },
  {
   "cell_type": "code",
   "execution_count": 8,
   "metadata": {},
   "outputs": [
    {
     "data": {
      "text/html": [
       "<div>\n",
       "<style scoped>\n",
       "    .dataframe tbody tr th:only-of-type {\n",
       "        vertical-align: middle;\n",
       "    }\n",
       "\n",
       "    .dataframe tbody tr th {\n",
       "        vertical-align: top;\n",
       "    }\n",
       "\n",
       "    .dataframe thead th {\n",
       "        text-align: right;\n",
       "    }\n",
       "</style>\n",
       "<table border=\"1\" class=\"dataframe\">\n",
       "  <thead>\n",
       "    <tr style=\"text-align: right;\">\n",
       "      <th></th>\n",
       "      <th>0</th>\n",
       "      <th>1</th>\n",
       "      <th>2</th>\n",
       "      <th>3</th>\n",
       "      <th>4</th>\n",
       "      <th>5</th>\n",
       "      <th>6</th>\n",
       "      <th>7</th>\n",
       "      <th>8</th>\n",
       "      <th>9</th>\n",
       "      <th>10</th>\n",
       "      <th>11</th>\n",
       "      <th>12</th>\n",
       "      <th>13</th>\n",
       "      <th>14</th>\n",
       "      <th>15</th>\n",
       "    </tr>\n",
       "  </thead>\n",
       "  <tbody>\n",
       "    <tr>\n",
       "      <th>0</th>\n",
       "      <td>0</td>\n",
       "      <td>30.83</td>\n",
       "      <td>0.000</td>\n",
       "      <td>0</td>\n",
       "      <td>0</td>\n",
       "      <td>9</td>\n",
       "      <td>0</td>\n",
       "      <td>1.25</td>\n",
       "      <td>0</td>\n",
       "      <td>0</td>\n",
       "      <td>1</td>\n",
       "      <td>1</td>\n",
       "      <td>0</td>\n",
       "      <td>202</td>\n",
       "      <td>0.0</td>\n",
       "      <td>-1</td>\n",
       "    </tr>\n",
       "    <tr>\n",
       "      <th>1</th>\n",
       "      <td>1</td>\n",
       "      <td>58.67</td>\n",
       "      <td>4.460</td>\n",
       "      <td>0</td>\n",
       "      <td>0</td>\n",
       "      <td>8</td>\n",
       "      <td>1</td>\n",
       "      <td>3.04</td>\n",
       "      <td>0</td>\n",
       "      <td>0</td>\n",
       "      <td>6</td>\n",
       "      <td>1</td>\n",
       "      <td>0</td>\n",
       "      <td>43</td>\n",
       "      <td>560.0</td>\n",
       "      <td>-1</td>\n",
       "    </tr>\n",
       "    <tr>\n",
       "      <th>2</th>\n",
       "      <td>1</td>\n",
       "      <td>24.50</td>\n",
       "      <td>0.500</td>\n",
       "      <td>0</td>\n",
       "      <td>0</td>\n",
       "      <td>8</td>\n",
       "      <td>1</td>\n",
       "      <td>1.50</td>\n",
       "      <td>0</td>\n",
       "      <td>1</td>\n",
       "      <td>0</td>\n",
       "      <td>1</td>\n",
       "      <td>0</td>\n",
       "      <td>280</td>\n",
       "      <td>824.0</td>\n",
       "      <td>-1</td>\n",
       "    </tr>\n",
       "    <tr>\n",
       "      <th>3</th>\n",
       "      <td>0</td>\n",
       "      <td>27.83</td>\n",
       "      <td>1.540</td>\n",
       "      <td>0</td>\n",
       "      <td>0</td>\n",
       "      <td>9</td>\n",
       "      <td>0</td>\n",
       "      <td>3.75</td>\n",
       "      <td>0</td>\n",
       "      <td>0</td>\n",
       "      <td>5</td>\n",
       "      <td>0</td>\n",
       "      <td>0</td>\n",
       "      <td>100</td>\n",
       "      <td>3.0</td>\n",
       "      <td>-1</td>\n",
       "    </tr>\n",
       "    <tr>\n",
       "      <th>4</th>\n",
       "      <td>0</td>\n",
       "      <td>20.17</td>\n",
       "      <td>5.625</td>\n",
       "      <td>0</td>\n",
       "      <td>0</td>\n",
       "      <td>9</td>\n",
       "      <td>0</td>\n",
       "      <td>1.71</td>\n",
       "      <td>0</td>\n",
       "      <td>1</td>\n",
       "      <td>0</td>\n",
       "      <td>1</td>\n",
       "      <td>2</td>\n",
       "      <td>120</td>\n",
       "      <td>0.0</td>\n",
       "      <td>-1</td>\n",
       "    </tr>\n",
       "  </tbody>\n",
       "</table>\n",
       "</div>"
      ],
      "text/plain": [
       "   0      1      2   3   4   5   6     7   8   9   10  11  12   13     14  15\n",
       "0   0  30.83  0.000   0   0   9   0  1.25   0   0   1   1   0  202    0.0  -1\n",
       "1   1  58.67  4.460   0   0   8   1  3.04   0   0   6   1   0   43  560.0  -1\n",
       "2   1  24.50  0.500   0   0   8   1  1.50   0   1   0   1   0  280  824.0  -1\n",
       "3   0  27.83  1.540   0   0   9   0  3.75   0   0   5   0   0  100    3.0  -1\n",
       "4   0  20.17  5.625   0   0   9   0  1.71   0   1   0   1   2  120    0.0  -1"
      ]
     },
     "execution_count": 8,
     "metadata": {},
     "output_type": "execute_result"
    }
   ],
   "source": [
    "data.head()"
   ]
  },
  {
   "cell_type": "code",
   "execution_count": 10,
   "metadata": {},
   "outputs": [
    {
     "data": {
      "text/plain": [
       " 1    357\n",
       "-1    296\n",
       "Name: 15, dtype: int64"
      ]
     },
     "execution_count": 10,
     "metadata": {},
     "output_type": "execute_result"
    }
   ],
   "source": [
    "data.iloc[:, -1].value_counts()"
   ]
  },
  {
   "cell_type": "code",
   "execution_count": 11,
   "metadata": {},
   "outputs": [],
   "source": [
    "x = data.iloc[:,:-1]\n",
    "y = data.iloc[:, -1].replace(-1, 0)"
   ]
  },
  {
   "cell_type": "code",
   "execution_count": 12,
   "metadata": {},
   "outputs": [],
   "source": [
    "model = tf.keras.Sequential()"
   ]
  },
  {
   "cell_type": "code",
   "execution_count": 16,
   "metadata": {},
   "outputs": [],
   "source": [
    "model.add(tf.keras.layers.Dense(4, input_shape=(15,), activation='relu'))\n",
    "model.add(tf.keras.layers.Dense(4, activation='relu'))\n",
    "model.add(tf.keras.layers.Dense(1, activation='sigmoid'))"
   ]
  },
  {
   "cell_type": "code",
   "execution_count": 17,
   "metadata": {},
   "outputs": [
    {
     "name": "stdout",
     "output_type": "stream",
     "text": [
      "Model: \"sequential\"\n",
      "_________________________________________________________________\n",
      "Layer (type)                 Output Shape              Param #   \n",
      "=================================================================\n",
      "dense (Dense)                (None, 4)                 64        \n",
      "_________________________________________________________________\n",
      "dense_1 (Dense)              (None, 4)                 20        \n",
      "_________________________________________________________________\n",
      "dense_2 (Dense)              (None, 1)                 5         \n",
      "=================================================================\n",
      "Total params: 89\n",
      "Trainable params: 89\n",
      "Non-trainable params: 0\n",
      "_________________________________________________________________\n"
     ]
    }
   ],
   "source": [
    "model.summary()"
   ]
  },
  {
   "cell_type": "code",
   "execution_count": 18,
   "metadata": {},
   "outputs": [],
   "source": [
    "model.compile( optimizer = 'adam',\n",
    "               loss = 'binary_crossentropy',\n",
    "               metrics = ['acc']\n",
    ")"
   ]
  },
  {
   "cell_type": "code",
   "execution_count": 19,
   "metadata": {},
   "outputs": [
    {
     "name": "stdout",
     "output_type": "stream",
     "text": [
      "Train on 653 samples\n",
      "Epoch 1/100\n",
      "653/653 [==============================] - 8s 12ms/sample - loss: 20.3784 - acc: 0.3721\n",
      "Epoch 2/100\n",
      "653/653 [==============================] - 0s 331us/sample - loss: 7.2428 - acc: 0.4686\n",
      "Epoch 3/100\n",
      "653/653 [==============================] - 0s 298us/sample - loss: 4.7530 - acc: 0.5130\n",
      "Epoch 4/100\n",
      "653/653 [==============================] - 0s 284us/sample - loss: 3.4803 - acc: 0.5590\n",
      "Epoch 5/100\n",
      "653/653 [==============================] - 0s 292us/sample - loss: 2.9298 - acc: 0.6172\n",
      "Epoch 6/100\n",
      "653/653 [==============================] - 0s 285us/sample - loss: 2.6200 - acc: 0.6309\n",
      "Epoch 7/100\n",
      "653/653 [==============================] - 0s 296us/sample - loss: 2.3960 - acc: 0.6386\n",
      "Epoch 8/100\n",
      "653/653 [==============================] - 0s 195us/sample - loss: 2.1959 - acc: 0.6340\n",
      "Epoch 9/100\n",
      "653/653 [==============================] - 0s 192us/sample - loss: 1.9751 - acc: 0.6386\n",
      "Epoch 10/100\n",
      "653/653 [==============================] - 0s 192us/sample - loss: 1.8152 - acc: 0.6539\n",
      "Epoch 11/100\n",
      "653/653 [==============================] - 0s 191us/sample - loss: 1.6669 - acc: 0.6386\n",
      "Epoch 12/100\n",
      "653/653 [==============================] - 0s 194us/sample - loss: 1.4312 - acc: 0.6738\n",
      "Epoch 13/100\n",
      "653/653 [==============================] - 0s 191us/sample - loss: 1.2729 - acc: 0.6830\n",
      "Epoch 14/100\n",
      "653/653 [==============================] - 0s 194us/sample - loss: 1.1761 - acc: 0.6799\n",
      "Epoch 15/100\n",
      "653/653 [==============================] - 0s 194us/sample - loss: 1.1008 - acc: 0.6784\n",
      "Epoch 16/100\n",
      "653/653 [==============================] - 0s 194us/sample - loss: 1.0337 - acc: 0.7029\n",
      "Epoch 17/100\n",
      "653/653 [==============================] - 0s 182us/sample - loss: 0.9669 - acc: 0.7136\n",
      "Epoch 18/100\n",
      "653/653 [==============================] - 0s 172us/sample - loss: 1.0232 - acc: 0.7152\n",
      "Epoch 19/100\n",
      "653/653 [==============================] - 0s 162us/sample - loss: 0.8741 - acc: 0.7213\n",
      "Epoch 20/100\n",
      "653/653 [==============================] - 0s 156us/sample - loss: 0.8306 - acc: 0.7167\n",
      "Epoch 21/100\n",
      "653/653 [==============================] - 0s 162us/sample - loss: 0.7928 - acc: 0.7335\n",
      "Epoch 22/100\n",
      "653/653 [==============================] - 0s 161us/sample - loss: 0.8099 - acc: 0.7228\n",
      "Epoch 23/100\n",
      "653/653 [==============================] - 0s 184us/sample - loss: 0.7424 - acc: 0.7397\n",
      "Epoch 24/100\n",
      "653/653 [==============================] - 0s 188us/sample - loss: 0.8813 - acc: 0.7228\n",
      "Epoch 25/100\n",
      "653/653 [==============================] - 0s 183us/sample - loss: 1.3329 - acc: 0.7351\n",
      "Epoch 26/100\n",
      "653/653 [==============================] - 0s 184us/sample - loss: 0.7038 - acc: 0.7366\n",
      "Epoch 27/100\n",
      "653/653 [==============================] - 0s 187us/sample - loss: 0.6541 - acc: 0.7381\n",
      "Epoch 28/100\n",
      "653/653 [==============================] - 0s 178us/sample - loss: 0.6138 - acc: 0.7550\n",
      "Epoch 29/100\n",
      "653/653 [==============================] - 0s 192us/sample - loss: 0.6393 - acc: 0.7519\n",
      "Epoch 30/100\n",
      "653/653 [==============================] - 0s 188us/sample - loss: 0.7488 - acc: 0.7473\n",
      "Epoch 31/100\n",
      "653/653 [==============================] - 0s 171us/sample - loss: 0.7403 - acc: 0.7320\n",
      "Epoch 32/100\n",
      "653/653 [==============================] - 0s 180us/sample - loss: 0.5973 - acc: 0.7718\n",
      "Epoch 33/100\n",
      "653/653 [==============================] - 0s 196us/sample - loss: 0.5786 - acc: 0.7657\n",
      "Epoch 34/100\n",
      "653/653 [==============================] - 0s 188us/sample - loss: 0.5648 - acc: 0.7734\n",
      "Epoch 35/100\n",
      "653/653 [==============================] - 0s 192us/sample - loss: 0.5655 - acc: 0.7718\n",
      "Epoch 36/100\n",
      "653/653 [==============================] - 0s 198us/sample - loss: 0.7051 - acc: 0.7550\n",
      "Epoch 37/100\n",
      "653/653 [==============================] - 0s 201us/sample - loss: 2.9017 - acc: 0.7152\n",
      "Epoch 38/100\n",
      "653/653 [==============================] - 0s 191us/sample - loss: 1.7303 - acc: 0.7489\n",
      "Epoch 39/100\n",
      "653/653 [==============================] - 0s 196us/sample - loss: 0.7203 - acc: 0.7718\n",
      "Epoch 40/100\n",
      "653/653 [==============================] - 0s 194us/sample - loss: 0.5795 - acc: 0.7779\n",
      "Epoch 41/100\n",
      "653/653 [==============================] - 0s 196us/sample - loss: 0.5646 - acc: 0.7948\n",
      "Epoch 42/100\n",
      "653/653 [==============================] - 0s 178us/sample - loss: 0.5615 - acc: 0.7734\n",
      "Epoch 43/100\n",
      "653/653 [==============================] - ETA: 0s - loss: 0.6493 - acc: 0.778 - 0s 190us/sample - loss: 0.6447 - acc: 0.7779\n",
      "Epoch 44/100\n",
      "653/653 [==============================] - 0s 179us/sample - loss: 0.5305 - acc: 0.7871\n",
      "Epoch 45/100\n",
      "653/653 [==============================] - 0s 183us/sample - loss: 0.5123 - acc: 0.8025\n",
      "Epoch 46/100\n",
      "653/653 [==============================] - 0s 172us/sample - loss: 0.6551 - acc: 0.7779\n",
      "Epoch 47/100\n",
      "653/653 [==============================] - 0s 173us/sample - loss: 0.9315 - acc: 0.7871\n",
      "Epoch 48/100\n",
      "653/653 [==============================] - 0s 179us/sample - loss: 0.4987 - acc: 0.8116\n",
      "Epoch 49/100\n",
      "653/653 [==============================] - 0s 184us/sample - loss: 0.4567 - acc: 0.8193\n",
      "Epoch 50/100\n",
      "653/653 [==============================] - 0s 189us/sample - loss: 0.4524 - acc: 0.8162\n",
      "Epoch 51/100\n",
      "653/653 [==============================] - 0s 189us/sample - loss: 0.4407 - acc: 0.8331\n",
      "Epoch 52/100\n",
      "653/653 [==============================] - 0s 172us/sample - loss: 0.4442 - acc: 0.8208\n",
      "Epoch 53/100\n",
      "653/653 [==============================] - 0s 178us/sample - loss: 0.5885 - acc: 0.7933\n",
      "Epoch 54/100\n",
      "653/653 [==============================] - 0s 176us/sample - loss: 0.7302 - acc: 0.7963\n",
      "Epoch 55/100\n",
      "653/653 [==============================] - 0s 173us/sample - loss: 1.5152 - acc: 0.7550\n",
      "Epoch 56/100\n",
      "653/653 [==============================] - 0s 175us/sample - loss: 1.5448 - acc: 0.7611\n",
      "Epoch 57/100\n",
      "653/653 [==============================] - 0s 192us/sample - loss: 0.6270 - acc: 0.7871\n",
      "Epoch 58/100\n",
      "653/653 [==============================] - 0s 171us/sample - loss: 0.5789 - acc: 0.7841\n",
      "Epoch 59/100\n",
      "653/653 [==============================] - 0s 178us/sample - loss: 0.4999 - acc: 0.8040\n",
      "Epoch 60/100\n",
      "653/653 [==============================] - 0s 186us/sample - loss: 0.4934 - acc: 0.8208\n",
      "Epoch 61/100\n",
      "653/653 [==============================] - 0s 176us/sample - loss: 0.4370 - acc: 0.8239\n",
      "Epoch 62/100\n",
      "653/653 [==============================] - 0s 195us/sample - loss: 0.4107 - acc: 0.8285\n",
      "Epoch 63/100\n",
      "653/653 [==============================] - 0s 173us/sample - loss: 0.4602 - acc: 0.8270\n",
      "Epoch 64/100\n",
      "653/653 [==============================] - 0s 175us/sample - loss: 0.4196 - acc: 0.8224\n",
      "Epoch 65/100\n",
      "653/653 [==============================] - 0s 184us/sample - loss: 0.4312 - acc: 0.8300\n",
      "Epoch 66/100\n",
      "653/653 [==============================] - 0s 185us/sample - loss: 0.4289 - acc: 0.8361\n",
      "Epoch 67/100\n",
      "653/653 [==============================] - 0s 190us/sample - loss: 0.4079 - acc: 0.8254\n",
      "Epoch 68/100\n",
      "653/653 [==============================] - 0s 182us/sample - loss: 0.3983 - acc: 0.8254\n",
      "Epoch 69/100\n",
      "653/653 [==============================] - 0s 182us/sample - loss: 1.2890 - acc: 0.7749\n",
      "Epoch 70/100\n",
      "653/653 [==============================] - 0s 178us/sample - loss: 1.2555 - acc: 0.7795\n",
      "Epoch 71/100\n",
      "653/653 [==============================] - 0s 186us/sample - loss: 0.5351 - acc: 0.8055\n",
      "Epoch 72/100\n",
      "653/653 [==============================] - 0s 177us/sample - loss: 0.4662 - acc: 0.8178\n",
      "Epoch 73/100\n",
      "653/653 [==============================] - 0s 189us/sample - loss: 1.0266 - acc: 0.7764\n",
      "Epoch 74/100\n",
      "653/653 [==============================] - 0s 175us/sample - loss: 1.0360 - acc: 0.7902\n",
      "Epoch 75/100\n",
      "653/653 [==============================] - 0s 189us/sample - loss: 0.5007 - acc: 0.8025\n",
      "Epoch 76/100\n",
      "653/653 [==============================] - 0s 194us/sample - loss: 0.4522 - acc: 0.8147\n",
      "Epoch 77/100\n",
      "653/653 [==============================] - 0s 193us/sample - loss: 0.4111 - acc: 0.8331\n",
      "Epoch 78/100\n",
      "653/653 [==============================] - 0s 188us/sample - loss: 0.3888 - acc: 0.8407\n",
      "Epoch 79/100\n",
      "653/653 [==============================] - 0s 194us/sample - loss: 0.4530 - acc: 0.8254\n",
      "Epoch 80/100\n",
      "653/653 [==============================] - 0s 194us/sample - loss: 1.6550 - acc: 0.7519\n",
      "Epoch 81/100\n"
     ]
    },
    {
     "name": "stdout",
     "output_type": "stream",
     "text": [
      "653/653 [==============================] - 0s 180us/sample - loss: 1.1303 - acc: 0.7841\n",
      "Epoch 82/100\n",
      "653/653 [==============================] - 0s 176us/sample - loss: 0.5014 - acc: 0.8055\n",
      "Epoch 83/100\n",
      "653/653 [==============================] - 0s 186us/sample - loss: 0.4604 - acc: 0.8254\n",
      "Epoch 84/100\n",
      "653/653 [==============================] - 0s 185us/sample - loss: 0.3914 - acc: 0.8285\n",
      "Epoch 85/100\n",
      "653/653 [==============================] - 0s 177us/sample - loss: 0.4049 - acc: 0.8315\n",
      "Epoch 86/100\n",
      "653/653 [==============================] - 0s 186us/sample - loss: 0.3709 - acc: 0.8423\n",
      "Epoch 87/100\n",
      "653/653 [==============================] - 0s 282us/sample - loss: 0.4355 - acc: 0.8423\n",
      "Epoch 88/100\n",
      "653/653 [==============================] - 0s 193us/sample - loss: 1.6514 - acc: 0.7596\n",
      "Epoch 89/100\n",
      "653/653 [==============================] - 0s 193us/sample - loss: 0.8798 - acc: 0.7887\n",
      "Epoch 90/100\n",
      "653/653 [==============================] - 0s 204us/sample - loss: 0.4612 - acc: 0.8040\n",
      "Epoch 91/100\n",
      "653/653 [==============================] - 0s 192us/sample - loss: 0.3931 - acc: 0.8361\n",
      "Epoch 92/100\n",
      "653/653 [==============================] - 0s 195us/sample - loss: 0.3753 - acc: 0.8361\n",
      "Epoch 93/100\n",
      "653/653 [==============================] - 0s 199us/sample - loss: 0.3701 - acc: 0.8530\n",
      "Epoch 94/100\n",
      "653/653 [==============================] - 0s 189us/sample - loss: 0.3683 - acc: 0.8438\n",
      "Epoch 95/100\n",
      "653/653 [==============================] - 0s 196us/sample - loss: 0.3920 - acc: 0.8361\n",
      "Epoch 96/100\n",
      "653/653 [==============================] - 0s 181us/sample - loss: 0.3570 - acc: 0.8606\n",
      "Epoch 97/100\n",
      "653/653 [==============================] - 0s 183us/sample - loss: 0.3697 - acc: 0.8560\n",
      "Epoch 98/100\n",
      "653/653 [==============================] - 0s 186us/sample - loss: 0.4327 - acc: 0.8239\n",
      "Epoch 99/100\n",
      "653/653 [==============================] - 0s 193us/sample - loss: 0.3980 - acc: 0.8392\n",
      "Epoch 100/100\n",
      "653/653 [==============================] - 0s 186us/sample - loss: 0.3719 - acc: 0.8469\n"
     ]
    }
   ],
   "source": [
    "history = model.fit(x, y, epochs=100)"
   ]
  },
  {
   "cell_type": "code",
   "execution_count": 21,
   "metadata": {},
   "outputs": [
    {
     "data": {
      "text/plain": [
       "dict_keys(['loss', 'acc'])"
      ]
     },
     "execution_count": 21,
     "metadata": {},
     "output_type": "execute_result"
    }
   ],
   "source": [
    "history.history.keys()"
   ]
  },
  {
   "cell_type": "code",
   "execution_count": 22,
   "metadata": {},
   "outputs": [
    {
     "data": {
      "text/plain": [
       "[<matplotlib.lines.Line2D at 0x1867f295308>]"
      ]
     },
     "execution_count": 22,
     "metadata": {},
     "output_type": "execute_result"
    },
    {
     "data": {
      "image/png": "[encoded data removed]",
      "text/plain": [
       "<Figure size 432x288 with 1 Axes>"
      ]
     },
     "metadata": {
      "needs_background": "light"
     },
     "output_type": "display_data"
    }
   ],
   "source": [
    "plt.plot(history.epoch, history.history.get('loss'))"
   ]
  },
  {
   "cell_type": "code",
   "execution_count": 23,
   "metadata": {},
   "outputs": [
    {
     "data": {
      "text/plain": [
       "[<matplotlib.lines.Line2D at 0x18677b695c8>]"
      ]
     },
     "execution_count": 23,
     "metadata": {},
     "output_type": "execute_result"
    },
    {
     "data": {
      "image/png": "[encoded data removed]",
      "text/plain": [
       "<Figure size 432x288 with 1 Axes>"
      ]
     },
     "metadata": {
      "needs_background": "light"
     },
     "output_type": "display_data"
    }
   ],
   "source": [
    "plt.plot(history.epoch, history.history.get('acc'))"
   ]
  },
  {
   "cell_type": "code",
   "execution_count": null,
   "metadata": {},
   "outputs": [],
   "source": []
  }
 ],
 "metadata": {
  "kernelspec": {
   "display_name": "Python 3",
   "language": "python",
   "name": "python3"
  },
  "language_info": {
   "codemirror_mode": {
    "name": "ipython",
    "version": 3
   },
   "file_extension": ".py",
   "mimetype": "text/x-python",
   "name": "python",
   "nbconvert_exporter": "python",
   "pygments_lexer": "ipython3",
   "version": "3.7.6"
  }
 },
 "nbformat": 4,
 "nbformat_minor": 4
}
