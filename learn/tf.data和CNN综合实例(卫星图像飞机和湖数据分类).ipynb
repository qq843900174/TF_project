{
 "cells": [
  {
   "cell_type": "code",
   "execution_count": 1,
   "metadata": {},
   "outputs": [],
   "source": [
    "import tensorflow as tf"
   ]
  },
  {
   "cell_type": "code",
   "execution_count": 2,
   "metadata": {},
   "outputs": [],
   "source": [
    "import matplotlib.pyplot as plt\n",
    "%matplotlib inline\n",
    "import numpy as np\n",
    "import pathlib"
   ]
  },
  {
   "cell_type": "code",
   "execution_count": 3,
   "metadata": {},
   "outputs": [],
   "source": [
    "data_dir = './dataset/2_class'"
   ]
  },
  {
   "cell_type": "code",
   "execution_count": 4,
   "metadata": {},
   "outputs": [],
   "source": [
    "data_root = pathlib.Path(data_dir)"
   ]
  },
  {
   "cell_type": "code",
   "execution_count": 5,
   "metadata": {},
   "outputs": [
    {
     "data": {
      "text/plain": [
       "WindowsPath('dataset/2_class')"
      ]
     },
     "execution_count": 5,
     "metadata": {},
     "output_type": "execute_result"
    }
   ],
   "source": [
    "data_root"
   ]
  },
  {
   "cell_type": "code",
   "execution_count": 6,
   "metadata": {},
   "outputs": [
    {
     "name": "stdout",
     "output_type": "stream",
     "text": [
      "dataset\\2_class\\airplane\n",
      "dataset\\2_class\\lake\n"
     ]
    }
   ],
   "source": [
    "for item in data_root.iterdir():\n",
    "    print(item)"
   ]
  },
  {
   "cell_type": "code",
   "execution_count": 7,
   "metadata": {},
   "outputs": [],
   "source": [
    "all_image_path = list(data_root.glob('*/*'))"
   ]
  },
  {
   "cell_type": "code",
   "execution_count": 8,
   "metadata": {},
   "outputs": [
    {
     "data": {
      "text/plain": [
       "1400"
      ]
     },
     "execution_count": 8,
     "metadata": {},
     "output_type": "execute_result"
    }
   ],
   "source": [
    "len(all_image_path)"
   ]
  },
  {
   "cell_type": "code",
   "execution_count": 9,
   "metadata": {},
   "outputs": [
    {
     "data": {
      "text/plain": [
       "[WindowsPath('dataset/2_class/airplane/airplane_001.jpg'),\n",
       " WindowsPath('dataset/2_class/airplane/airplane_002.jpg'),\n",
       " WindowsPath('dataset/2_class/airplane/airplane_003.jpg')]"
      ]
     },
     "execution_count": 9,
     "metadata": {},
     "output_type": "execute_result"
    }
   ],
   "source": [
    "all_image_path[:3]"
   ]
  },
  {
   "cell_type": "code",
   "execution_count": 10,
   "metadata": {},
   "outputs": [
    {
     "data": {
      "text/plain": [
       "[WindowsPath('dataset/2_class/lake/lake_698.jpg'),\n",
       " WindowsPath('dataset/2_class/lake/lake_699.jpg'),\n",
       " WindowsPath('dataset/2_class/lake/lake_700.jpg')]"
      ]
     },
     "execution_count": 10,
     "metadata": {},
     "output_type": "execute_result"
    }
   ],
   "source": [
    "all_image_path[-3:]"
   ]
  },
  {
   "cell_type": "code",
   "execution_count": 11,
   "metadata": {},
   "outputs": [],
   "source": [
    "all_image_path = [str(path) for path in all_image_path]"
   ]
  },
  {
   "cell_type": "code",
   "execution_count": 12,
   "metadata": {},
   "outputs": [
    {
     "data": {
      "text/plain": [
       "['dataset\\\\2_class\\\\airplane\\\\airplane_001.jpg',\n",
       " 'dataset\\\\2_class\\\\airplane\\\\airplane_002.jpg',\n",
       " 'dataset\\\\2_class\\\\airplane\\\\airplane_003.jpg',\n",
       " 'dataset\\\\2_class\\\\airplane\\\\airplane_004.jpg',\n",
       " 'dataset\\\\2_class\\\\airplane\\\\airplane_005.jpg',\n",
       " 'dataset\\\\2_class\\\\airplane\\\\airplane_006.jpg',\n",
       " 'dataset\\\\2_class\\\\airplane\\\\airplane_007.jpg',\n",
       " 'dataset\\\\2_class\\\\airplane\\\\airplane_008.jpg',\n",
       " 'dataset\\\\2_class\\\\airplane\\\\airplane_009.jpg',\n",
       " 'dataset\\\\2_class\\\\airplane\\\\airplane_010.jpg',\n",
       " 'dataset\\\\2_class\\\\airplane\\\\airplane_011.jpg',\n",
       " 'dataset\\\\2_class\\\\airplane\\\\airplane_012.jpg']"
      ]
     },
     "execution_count": 12,
     "metadata": {},
     "output_type": "execute_result"
    }
   ],
   "source": [
    "all_image_path[0: 12]"
   ]
  },
  {
   "cell_type": "code",
   "execution_count": 13,
   "metadata": {},
   "outputs": [],
   "source": [
    "import random"
   ]
  },
  {
   "cell_type": "code",
   "execution_count": 14,
   "metadata": {},
   "outputs": [],
   "source": [
    "random.shuffle(all_image_path)"
   ]
  },
  {
   "cell_type": "code",
   "execution_count": 15,
   "metadata": {},
   "outputs": [
    {
     "data": {
      "text/plain": [
       "['dataset\\\\2_class\\\\airplane\\\\airplane_512.jpg',\n",
       " 'dataset\\\\2_class\\\\airplane\\\\airplane_484.jpg',\n",
       " 'dataset\\\\2_class\\\\airplane\\\\airplane_386.jpg',\n",
       " 'dataset\\\\2_class\\\\lake\\\\lake_286.jpg',\n",
       " 'dataset\\\\2_class\\\\lake\\\\lake_205.jpg',\n",
       " 'dataset\\\\2_class\\\\airplane\\\\airplane_540.jpg',\n",
       " 'dataset\\\\2_class\\\\airplane\\\\airplane_550.jpg',\n",
       " 'dataset\\\\2_class\\\\airplane\\\\airplane_164.jpg',\n",
       " 'dataset\\\\2_class\\\\airplane\\\\airplane_254.jpg',\n",
       " 'dataset\\\\2_class\\\\airplane\\\\airplane_025.jpg',\n",
       " 'dataset\\\\2_class\\\\airplane\\\\airplane_130.jpg',\n",
       " 'dataset\\\\2_class\\\\airplane\\\\airplane_470.jpg']"
      ]
     },
     "execution_count": 15,
     "metadata": {},
     "output_type": "execute_result"
    }
   ],
   "source": [
    "all_image_path[0: 12]"
   ]
  },
  {
   "cell_type": "code",
   "execution_count": 16,
   "metadata": {},
   "outputs": [
    {
     "data": {
      "text/plain": [
       "1400"
      ]
     },
     "execution_count": 16,
     "metadata": {},
     "output_type": "execute_result"
    }
   ],
   "source": [
    "image_count = len(all_image_path)\n",
    "image_count"
   ]
  },
  {
   "cell_type": "code",
   "execution_count": 17,
   "metadata": {},
   "outputs": [],
   "source": [
    "label_names = sorted(item.name for item in data_root.glob('*/'))"
   ]
  },
  {
   "cell_type": "code",
   "execution_count": 18,
   "metadata": {},
   "outputs": [
    {
     "data": {
      "text/plain": [
       "['airplane', 'lake']"
      ]
     },
     "execution_count": 18,
     "metadata": {},
     "output_type": "execute_result"
    }
   ],
   "source": [
    "label_names"
   ]
  },
  {
   "cell_type": "code",
   "execution_count": 19,
   "metadata": {},
   "outputs": [],
   "source": [
    "label_to_index = dict((name, index) for index, name in enumerate(label_names))"
   ]
  },
  {
   "cell_type": "code",
   "execution_count": 20,
   "metadata": {},
   "outputs": [
    {
     "data": {
      "text/plain": [
       "{'airplane': 0, 'lake': 1}"
      ]
     },
     "execution_count": 20,
     "metadata": {},
     "output_type": "execute_result"
    }
   ],
   "source": [
    "label_to_index"
   ]
  },
  {
   "cell_type": "code",
   "execution_count": 21,
   "metadata": {},
   "outputs": [
    {
     "data": {
      "text/plain": [
       "'airplane'"
      ]
     },
     "execution_count": 21,
     "metadata": {},
     "output_type": "execute_result"
    }
   ],
   "source": [
    "pathlib.Path('dataset\\\\2_class\\\\airplane\\\\airplane_349.jpg').parent.name"
   ]
  },
  {
   "cell_type": "code",
   "execution_count": 22,
   "metadata": {},
   "outputs": [],
   "source": [
    "all_image_label = [label_to_index[pathlib.Path(p).parent.name] for p in all_image_path]"
   ]
  },
  {
   "cell_type": "code",
   "execution_count": 23,
   "metadata": {},
   "outputs": [
    {
     "data": {
      "text/plain": [
       "[0, 0, 0, 1, 1]"
      ]
     },
     "execution_count": 23,
     "metadata": {},
     "output_type": "execute_result"
    }
   ],
   "source": [
    "all_image_label[:5]"
   ]
  },
  {
   "cell_type": "code",
   "execution_count": 24,
   "metadata": {},
   "outputs": [
    {
     "data": {
      "text/plain": [
       "['dataset\\\\2_class\\\\airplane\\\\airplane_512.jpg',\n",
       " 'dataset\\\\2_class\\\\airplane\\\\airplane_484.jpg',\n",
       " 'dataset\\\\2_class\\\\airplane\\\\airplane_386.jpg',\n",
       " 'dataset\\\\2_class\\\\lake\\\\lake_286.jpg',\n",
       " 'dataset\\\\2_class\\\\lake\\\\lake_205.jpg']"
      ]
     },
     "execution_count": 24,
     "metadata": {},
     "output_type": "execute_result"
    }
   ],
   "source": [
    "all_image_path[:5]"
   ]
  },
  {
   "cell_type": "code",
   "execution_count": 25,
   "metadata": {},
   "outputs": [],
   "source": [
    "import IPython.display as display"
   ]
  },
  {
   "cell_type": "code",
   "execution_count": 26,
   "metadata": {},
   "outputs": [],
   "source": [
    "index_to_label = dict((v, k) for k, v in label_to_index.items())"
   ]
  },
  {
   "cell_type": "code",
   "execution_count": 27,
   "metadata": {},
   "outputs": [
    {
     "data": {
      "text/plain": [
       "{0: 'airplane', 1: 'lake'}"
      ]
     },
     "execution_count": 27,
     "metadata": {},
     "output_type": "execute_result"
    }
   ],
   "source": [
    "index_to_label"
   ]
  },
  {
   "cell_type": "code",
   "execution_count": 28,
   "metadata": {},
   "outputs": [
    {
     "data": {
      "image/jpeg": "[encoded data removed]",
      "text/plain": [
       "<IPython.core.display.Image object>"
      ]
     },
     "metadata": {},
     "output_type": "display_data"
    },
    {
     "name": "stdout",
     "output_type": "stream",
     "text": [
      "lake\n",
      "\n"
     ]
    },
    {
     "data": {
      "image/jpeg": "[encoded data removed]",
      "text/plain": [
       "<IPython.core.display.Image object>"
      ]
     },
     "metadata": {},
     "output_type": "display_data"
    },
    {
     "name": "stdout",
     "output_type": "stream",
     "text": [
      "airplane\n",
      "\n"
     ]
    },
    {
     "data": {
      "image/jpeg": "[encoded data removed]",
      "text/plain": [
       "<IPython.core.display.Image object>"
      ]
     },
     "metadata": {},
     "output_type": "display_data"
    },
    {
     "name": "stdout",
     "output_type": "stream",
     "text": [
      "lake\n",
      "\n"
     ]
    }
   ],
   "source": [
    "for n in range(3):\n",
    "    image_index = random.choice(range(len(all_image_path)))\n",
    "    display.display(display.Image(all_image_path[image_index]))\n",
    "    print(index_to_label[all_image_label[image_index]])\n",
    "    print()"
   ]
  },
  {
   "cell_type": "code",
   "execution_count": 29,
   "metadata": {},
   "outputs": [],
   "source": [
    "img_path = all_image_path[0]"
   ]
  },
  {
   "cell_type": "code",
   "execution_count": 30,
   "metadata": {},
   "outputs": [
    {
     "data": {
      "text/plain": [
       "'dataset\\\\2_class\\\\airplane\\\\airplane_512.jpg'"
      ]
     },
     "execution_count": 30,
     "metadata": {},
     "output_type": "execute_result"
    }
   ],
   "source": [
    "img_path"
   ]
  },
  {
   "cell_type": "code",
   "execution_count": 31,
   "metadata": {},
   "outputs": [],
   "source": [
    "img_raw = tf.io.read_file(img_path)"
   ]
  },
  {
   "cell_type": "code",
   "execution_count": 32,
   "metadata": {},
   "outputs": [
    {
     "data": {
      "text/plain": [
       "<tf.Tensor: shape=(), dtype=string, numpy=b'\\xff\\xd8\\xff\\xe0\\x00\\x10JFIF\\x00\\x01\\x01\\x00\\x00\\x01\\x00\\x01\\x00\\x00\\xff\\xdb\\x00C\\x00\\x08\\x06\\x06\\x07\\x06\\x05\\x08\\x07\\x07\\x07\\t\\t\\x08\\n\\x0c\\x14\\r\\x0c\\x0b\\x0b\\x0c\\x19\\x12\\x13\\x0f\\x14\\x1d\\x1a\\x1f\\x1e\\x1d\\x1a\\x1c\\x1c $.\\' \",#\\x1c\\x1c(7),01444\\x1f\\'9=82<.342\\xff\\xdb\\x00C\\x01\\t\\t\\t\\x0c\\x0b\\x0c\\x18\\r\\r\\x182!\\x1c!22222222222222222222222222222222222222222222222222\\xff\\xc0\\x00\\x11\\x08\\x01\\x00\\x01\\x00\\x03\\x01\"\\x00\\x02\\x11\\x01\\x03\\x11\\x01\\xff\\xc4\\x00\\x1f\\x00\\x00\\x01\\x05\\x01\\x01\\x01\\x01\\x01\\x01\\x00\\x00\\x00\\x00\\x00\\x00\\x00\\x00\\x01\\x02\\x03\\x04\\x05\\x06\\x07\\x08\\t\\n\\x0b\\xff\\xc4\\x00\\xb5\\x10\\x00\\x02\\x01\\x03\\x03\\x02\\x04\\x03\\x05\\x05\\x04\\x04\\x00\\x00\\x01}\\x01\\x02\\x03\\x00\\x04\\x11\\x05\\x12!1A\\x06\\x13Qa\\x07\"q\\x142\\x81\\x91\\xa1\\x08#B\\xb1\\xc1\\x15R\\xd1\\xf0$3br\\x82\\t\\n\\x16\\x17\\x18\\x19\\x1a%&\\'()*456789:CDEFGHIJSTUVWXYZcdefghijstuvwxyz\\x83\\x84\\x85\\x86\\x87\\x88\\x89\\x8a\\x92\\x93\\x94\\x95\\x96\\x97\\x98\\x99\\x9a\\xa2\\xa3\\xa4\\xa5\\xa6\\xa7\\xa8\\xa9\\xaa\\xb2\\xb3\\xb4\\xb5\\xb6\\xb7\\xb8\\xb9\\xba\\xc2\\xc3\\xc4\\xc5\\xc6\\xc7\\xc8\\xc9\\xca\\xd2\\xd3\\xd4\\xd5\\xd6\\xd7\\xd8\\xd9\\xda\\xe1\\xe2\\xe3\\xe4\\xe5\\xe6\\xe7\\xe8\\xe9\\xea\\xf1\\xf2\\xf3\\xf4\\xf5\\xf6\\xf7\\xf8\\xf9\\xfa\\xff\\xc4\\x00\\x1f\\x01\\x00\\x03\\x01\\x01\\x01\\x01\\x01\\x01\\x01\\x01\\x01\\x00\\x00\\x00\\x00\\x00\\x00\\x01\\x02\\x03\\x04\\x05\\x06\\x07\\x08\\t\\n\\x0b\\xff\\xc4\\x00\\xb5\\x11\\x00\\x02\\x01\\x02\\x04\\x04\\x03\\x04\\x07\\x05\\x04\\x04\\x00\\x01\\x02w\\x00\\x01\\x02\\x03\\x11\\x04\\x05!1\\x06\\x12AQ\\x07aq\\x13\"2\\x81\\x08\\x14B\\x91\\xa1\\xb1\\xc1\\t#3R\\xf0\\x15br\\xd1\\n\\x16$4\\xe1%\\xf1\\x17\\x18\\x19\\x1a&\\'()*56789:CDEFGHIJSTUVWXYZcdefghijstuvwxyz\\x82\\x83\\x84\\x85\\x86\\x87\\x88\\x89\\x8a\\x92\\x93\\x94\\x95\\x96\\x97\\x98\\x99\\x9a\\xa2\\xa3\\xa4\\xa5\\xa6\\xa7\\xa8\\xa9\\xaa\\xb2\\xb3\\xb4\\xb5\\xb6\\xb7\\xb8\\xb9\\xba\\xc2\\xc3\\xc4\\xc5\\xc6\\xc7\\xc8\\xc9\\xca\\xd2\\xd3\\xd4\\xd5\\xd6\\xd7\\xd8\\xd9\\xda\\xe2\\xe3\\xe4\\xe5\\xe6\\xe7\\xe8\\xe9\\xea\\xf2\\xf3\\xf4\\xf5\\xf6\\xf7\\xf8\\xf9\\xfa\\xff\\xda\\x00\\x0c\\x03\\x01\\x00\\x02\\x11\\x03\\x11\\x00?\\x00W!\\x8f\\xd2\\x83\\x80\\xbdh\\x18\\xc1\\x07\\xadF\\xe9\\x95 \\x9e{b\\x95\\xf5.\\xc7\\x13\\xac\\xcd\\xe7j\\x12\\x1c\\xf0\\x0e*]\\x06\\xdb\\xcf\\xd4\\xa38\\xce\\x0ej\\xdd\\xe7\\x87\\xe7i\\x1eE`\\xdb\\x8eq\\xde\\xa1\\x8a\\x0b\\xfd9\\xb7\\xc7\\x19\\x0c8\\xc8\\x15\\xd5Ji\\x19\\xca7;2\\x0epi\\xbbk\\x99\\x8b\\xc4\\x97q\\xfc\\xb2\\xc3\\xb8\\x8f^\\rh[\\xf8\\x92\\xd5\\xc6%FC]\\xd0\\xa8\\xacd\\xe2\\xcdr\\xa4\\x0cSpA\\xa6G\\xa8\\xd9M\\xf7.\\x17>\\x86\\xac\\x00\\xae2\\x8e\\x1b\\xe8j\\xd5Bl\\xc8\\xe8\\xc0=\\xaaC\\x19\\x03\\x91I\\x8d\\xa3 Us \\xb0\\xca\\x0fZ\\t\\xc9\\xa2\\x9d\\xc4\\x03\\xad2PY\\x08\\x07\\x15 \\xe9\\xd2\\xa2\\xb8\\x04\\x80\\x05sW\\x95\\x91\\xad4B\\xbf,D\\xf5\\xc5r\\xb72\\x0b\\x8dL\\x0eG\\xb5uS\\x11\\x15\\xbb\\x1c\\xe3\\x8a\\xe4\\xe0\\x06[\\xd9\\x1c\\xf3\\xc8\\xc6\\x05y\\x93gTQ\\xbd\\x03yQ\\x84#\\r\\x8cdT\\x17s\\x05\\x8c\\xa0\\'\\xe789\\xa9\\xd3j\\xa8\\xf9\\xb9#\\xbfZ\\xcc\\xd4U\\xfc\\xc5\\x19\\xe0r\\rbk\\xb2\\x1c#\\x120\\x00dg\\x15Z\\xfa=\\xb2c#\\x1e\\xd4\\xc3\\xe6&\\x00c\\xc0\\xe4\\xd4\\r!\\',hH\\xcaR\\xb9(;\\x14s\\xc1\\xa9=6\\x9e\\xb5]\\xdf\\xe4Q\\xefNW\\xc4\\x95d!e\\x87p\\xc0\\x14\\xf8m\\x82\\xa1s\\xf4\\x15<#\\xcc\\xed\\xc7SS\\xb9U^1\\x85\\xedH\\xa2\\xabA\\x94\\x08G\\xd6\\x95\"X\\xc8\\xc0\\xcf\\xd6\\x9e.9\\'\\xd6\\xa0\\x92B[\\xad\\x00X\\x07k\\x7fAN\\xf3<\\xb0J\\xd5\\x11)S\\x90rMI\\xbc\\xb6rh\\x01\\xc6r\\xbdy\\'\\xd6\\xab\\xfd\\xed\\xc6\\x95\\x86\\xe3\\xc1\\xa6\\xe7h\\xc52F\\x94 f\\x90\\x0c\\x0ei7\\x80y\\xe6\\x90\\xbeMP\\xce\\xfbr\\x9e\\xbdh#\\x8f\\xad1\\x14\\x82w~\\x15(\\xe4\\xe7\\xd0T\\x01\\x13\\xf0:f\\x950J\\xfc\\xb4\\xf2\\xc0\\xf5\\x14\\x0cu\\x1cSLbK\\x0c2\\x1c4Js\\xedT\\xe6\\xd0\\xac\\xe7\\\\\\xec\\xd8\\xde\\xd5\\xa1\\x9e=\\xe8\\xc15J\\xa3B\\xe5G;/\\x862\\xff\\x00\\xb8\\x9b\\x07\\x1d\\x1a\\xab\\xff\\x00fj\\xb6\\xac|\\xa9\\x18\\xe3\\xfb\\xa6\\xba\\xc0\\xbc\\x02z\\xd2\\xaa\\x15b\\xd9\\xe0\\xd6\\xab\\x11.\\xa0\\xe9\\xa3\\x94:\\xce\\xafj\\xaa\\xb2\\xab2\\xaf\\xf7\\x96\\xac\\xc1\\xe2\\xa4e\\x02xH#\\xd2\\xb7n\\xa3O(\\x0c\\x03\\x9e\\xd5\\x94\\xf66\\xb27\\xcf\\x02\\xe4w\\xc6+h\\xe2\\x17R\\x1d2\\xc4\\x1a\\xed\\x84\\xd8\\xcb\\x94\\'\\xb3\\n\\xb8\\x93A(\\xccs)\\xcf\\xbds\\xf7\\x1a\\x1c\\x12)1\\xe5\\x1b\\xf4\\xabZf\\x84\\xb0\\xedyd,z\\x81\\x9a\\xbf\\xac\"}\\x99\\xb5\\xb7\\x03?\\xadF\\xf8-\\xd4U\\xb7\\x92\\x05\\x88,i\\xce*\\x88_\\xded\\x823X\\xd4\\xab\\xcc\\\\ab\\x9e\\xa8\\xcc\\x96\\x8c1\\x9fZ\\xe6\\xf4\\xf5p\\x9e`\\xeaI5\\xa9\\xe2;\\xa6\\x87\\xf7a\\x88\\xc8\\xc5U\\xd2\\xe2+\\x00\\xf9w\\x0e\\xf5\\xca\\xd9\\xb4Q\\xa1\\x9c\\xc4\\x18\\xa8\\xc8\\x1c\\xd6m\\xcc\\x86k\\x9eO\\xca\\x05h\\xb2\\x06\\r\\x8c\\x80\\xa39\\xcde1\\x1f;u\\'\\xa5ARvDl\\xca\\xdb\\xf0p\\rR#\\x07\\x9eEIr\\xdb>_Jb\\xf3\\x83T\\x8ev\\xf5\\x1e\\xdf\\xc3\\xebS,[\\xe5\\xe4\\xe0\\n\"P\\\\dg\\xd2\\x9ep\\\\\\xa9\\x18\\x03\\xad\\x03D\\xe2L&\\x10c\\xde\\xabM(\\x04 9\\xa7I(Pv\\xf4\\xaam\\x92I\\xc7\\xd6\\x81\\xdfA\\xe1\\xf2O<\\nv\\xe5\\xc75\\x11<\\x01\\x83K\\x82W\\x93\\xcd1\\\\x+\\x9c\\x8a\\x03\\x1cb\\x98\\xa4\\x01\\x93M.2O\\xad\\x08c\\x83\\x11\\xcd5\\xb7;\\x0e\\xd4\\x9b\\xc6=)\\x85\\xf1\\xdf5Bc\\xdbo\\xd6\\x9b\\x95\\xc8\\xe0\\xd3~\\xf1\\xcei2s\\x8aAs\\xd0\\xc7\\'5 SM\\xf2\\xf0\\xc3\\x9a\\x95S\\x9e\\xb4\\x86FT\\x86\\xc9\\x14\\xe0F)\\xc5y\\xc5(P\\x01\\xc75#\\x1b\\xb4\\x11\\xd6\\x9c\\x9c7\\'\"\\x90G\\x9e\\xe7\\x14\\xf1\\x10\\xe2\\x81\\x93(R\\xb4\\x85GJj\\x928\\xa7\\xe7\\xbd\\x03L\\xaf\"n\\x7faU&\\x80\\xee\\xabl\\xe41\\xe34\\xdd\\xdb\\x9b\\x91B\\x19\\x0cqc\\xafJ\\x9c\\x85\\xda9\\xe6\\xb3\\xf5\\xb9\\xe4\\xb5\\xb1ic8\\xec)lf&\\xc2)\\'?9\\\\\\x9a\\x04\\xf4. *I\\'\\xf0\\xa7;\\x129\\x15V\\x0b\\xb8\\xee.\\x0cHI#\\xadM;2\\xc6\\xde\\xc2\\x9a\\x0b\\x9c\\x9e\\xb9\\'\\x9f\\x7f\\x1a\\xe7\\xabsWmJ\\xc6\\x00\\x00\\x8e1\\xcdf>\\xe95b\\xdc\\x10\\x83\\x93\\x9a\\xd5\\x88\\xe5r\\x00aI\\x96\\x85\\x98\\x8c\\x10[#\\x1c\\x81Y\\x92\\x90\\xad\\x84\\xe9\\xdc\\x1a\\xb9p\\xe0\\x9c\\x1f\\x94\\x9e\\xd5F|\\x82}(\"d2\"\\x95\\'95\\x02\\xa6q\\xce=\\xa9N\\xe3\\x9e\\xc2\\x95\\x07\\xcf\\xd78\\xa7c\\x12\\xc2\\x8d\\x85qK#\\xf2T\\xf0\\x07z\\x15\\xb0\\x07\\xf7\\x8dC;\\x00O<PP\\xd2C\\x1c\\xf6\\xa4,1\\x83Q\\xef\\xe2\\x98I?J`H\\xd2d`SU\\xfdM7\\x1d\\xa9:\\x1cP\\x08\\x97 \\xf1\\x91Q\\xb1\\xc9 v\\xa4\\xdd\\x8f\\xad0\\xbe\\x1a\\x84\\x81\\xb1\\xfdE0\\x90\\r5\\x9f\\x9aL\\x93\\xdb4\\xdb%\\xb2M\\xe0\\nM\\xd9\\xe9\\xd6\\x95#$g\\x14\\xf1\\x0e\\xdei6M\\xcfE\\x01\\x8d?\\x9cR\\xc62\\xa2\\x94\\xae\\x06A\\xa5sT\\'Zh8lR\\xe7\\x03\\x93J6\\xe3#\\x9a\\x18\\xc9S\\x19\\xc5<\\x95<\\n\\x85_\\x07\\xa5\\x07\\x8c\\x91\\xcei\\x00\\xf0pi\\x1c\\x9c\\xf0i\\x80\\xb3\\x0e\\x98\\xa4fj\\x00h\\x94\\xe7i\\x14\\xe1\\xd7\\xa5 ^A\\xc6j\\xc68\\x04P;\\x95\\xae\\xa2\\x86h\\nJ2\\xbe\\x86\\xa9\\xc9\\xa6C \\x08\\xae\\xea=\\x8dW\\xbci\\xff\\x00\\xb4\\xd01\\xf9\\x06H\\xc7CO\\x0e\\xc3\\x90\\xc4c\\xde\\x9aBl\\xbde\\xa6Ci\\x96F,\\xc7\\xa95\\x06\\xaa\\xfeE\\x9b\\x95\\x04\\x9aT\\xba\\x98`dU]Z\\xeb\\x162\\xbb\\x11\\x9d\\xa6\\x86\\x86\\x8ej\\xc1|\\xd7\\x92C\\xd5\\x9a\\xb5\\x90mS\\x85\\xe3\\xd0V~\\x94\\xac\"\\xdc\\xc3*{V\\xa1_\\xdc\\xf0\\xd8\\xef\\xf5\\xa9l\\xd5\\x19\\xb7\\xc32\\xa2\\xa7Lf\\xab\\xe1\\x9e6;\\xbaT\\xa5\\xf1)&\\xa2+\\x92}\\r\\x08\\xced%pE*\\xa1\\x07v8\\xa5rP}\\xdf\\xa6i\\x0c\\xa5\\xc1\\x1d\\rQ\\x90y\\x87$\\xe3\\xe9Q?\\xcf\\x93H\\xf9\\x07\\x00\\xf1K\\xbb\\xb1\\xa0\\x08@9\\xc5=X\\x03Mc\\xe9J\\xab\\x91\\xc7z\\x05rBT\\xf4\\xa8\\x1c\\xfc\\xd8\\x14\\xac\\x8c\\xacT\\xe38\\xcd:(\\x03\\xbf\\xce\\xc0\\x01L\\\\\\xc4qm\\xf3\\x94I\\x9d\\xb9\\xe7\\x14\\x92a\\xa4\\x7f)H\\\\\\xf1\\x9fJ\\x95\\x91T\\xf1\\xd4R+\\xa1l.\\x03c&\\x80b%\\xbey|\\xd4\\xca\\x88\\xa7\\x00UIu\\x01\\x1c\\x9eYS\\x92p\\xa7\\xb1\\xa6\\xbd\\xd1*\\x178$\\xf2}\\xa9\\x11\\xa9m\\xa5D\\x19-\\x8aO5q\\x90sXWq\\xb8\\x9fts\\x1cv\\x15j6-\\x16\\xdeI\\xef@\\xecz\\xda\\x9c\\x0eE)a\\xb6\\x9c\\x08\\xdb\\xcd1\\x941\\x18\\xa4lW\\x9b\\xe6\\x18\\x14\\xd4b\\x87\\x19\\xce*\\xd1@F\\xdcb\\xa0hv\\xb5\\x03&\\x0e\\x1f\\x9e\\xf8\\xa7H\\xc01\\xda>\\\\T*\\x0e1Jr\\x07=(\\x18\\xbb\\x89\\x14\\x05\\'\\xad&8\\x15\"\\x8d\\xa2\\x80&\\x8f\\x07\\x15\\x9f\\xac\\xce\\xf1\\xacQ\\xa1*\\x1d\\xb0\\xc4U\\xe8\\xc7<\\xf4\\xa7\\xba\\xa4\\xb8VP\\xc0\\xfa\\x8a\\x13\\x06\\x8aV+\\x04\\xe8\\xc6V\\x07\\r\\x85\\xcf5nM\\x1e)O\\xee6g\\xdc\\xe2\\xaa\\xb5\\x94K!(6\\xf3\\xda\\xa2s4\\x12e\\' \\x9e\\x80\\xd6\\x88\\xcd\\xa2y4\\xa7\\x8d\\xc0p\\xcb\\xc7\\\\\\xe4\\x1a\\xe7\\xfcC\\xfe\\x8fm\\xe4n\\x0c]\\x80\\xae\\x84\\xde\\xca\\xb17\\xda\\\\\\x16\\x1c\\x8fz\\xe3\\xb5\\'k\\xbdAI\\xdc\\xd8\\xe7\\x8e\\x95,\\xd2$\\xf6Q\\xb0\\x88\\x0e\\xf5=\\xcb4ppF)aR\\x14`\\x1cc\\xa8\\xa8n\\x98\\x13\\xb3\\xf8\\x8df\\xcd\\x9e\\x88\\xa4\\x99B\\x18\\x8d\\xc4\\xf5\\xe3\\xa5(\\x99\\x17;\\x97\\x9a\\xbdl\\xf0%\\xb9\\xdd\\x8d\\xd5\\x998\\x06B\\x14\\x8c\\x13\\x9ah\\xc6L\\x92\\xe6D\\x95\\x06\\xd1\\xc0\\x15P\\x90\\xab\\x81\\xcd#d\\xf1\\x9e\\x050\\xb6N\\x05U\\x8c\\xdb\\x1b\\xcb\\x1cP\\xc0\\x95\\xc5HY@\\xceqMI\\x96V(\\xa4\\x13\\xeb\\x9a\\x040)\\xc61O\\nv\\x92F\\x05Fn\\xe2\\x8e}\\x8d\\x93\\xcdT\\xbe\\x95Z\\xe4\\x14wX\\xcfozb4B\\x83\\xb7\\xd6\\x98&\\x8cg$\\x02=j\\x84\\xd3\\x91o\\xb5\\x1b\\x0c;\\xd5H\\x15\\xca\\x8c\\x92O\\xa9\\xefHV.,\\xf29`\\xdcd\\xf1Q\\x06\\x7f1\\xb9\\x1c\\xf75n\\x1b&\\x94\\x16\\xc9QP\\x8bI\\x8d\\xc1\\x03\\xeec\\xae:S\\x19Z_1\\xa4\\x03$*\\x9e3R<JP\\x8f\\xe2\\x1c\\xd6\\xb5\\xbd\\x9a4;$<\\xf5\\xa5\\xb8X`\\x8c\\xbb*\\x90\\xa3\\x8a.\\x163V\\xcd\\xa7\\x8b\\x11\\x8c0\\xe3\\xe9S\\xdbi\\xc6\\x05\\xdb#n8\\xe4\\xd5\\x98/\\x16FP\\x13nzqWE\\xbbH}\\xaan4w\\x07\\xe5\\x18\\xebB\\xb6\\x0eiJ\\xfb\\xe6\\x91\\x868\\xc52\\xc7\\xab\\xa9\\xeai\\xac\\x03t\\xa1\\x13\\x198\\xa3i<\\xd2\\x01@\\x04c\\x14\\x8e0\\x06\\x06i\\xa7*iD\\x838\\xa0e6\\xbe\\x88K\\xb1\\x86\\xdcz\\xd5\\x90\\xf9P\\xc3\\xa5G$qK\\x9d\\xea\\x0f\\xd6\\xa9Mg\\'\\x96M\\xbc\\x8c\\x8c:\\x0c\\xf1M\\x05\\xcdH\\xa7\\x8d\\xb9\\xcf\\xd6\\x92[\\xf0\\x84\\x08\\xd3q\\xac\\x88/\\xde\\xdf\\x11].\\x0ff\\xecj\\xea\\xca\\x8c21\\xf8Ur\\xdcM\\x8f\\x17\\x8cI\\xca\\xf3Q<\\xdb\\x8eJg\\xd2\\x97\\xccA\\xd4S$\\x9b\\x18\\x11\\xe0\\x13\\xde\\x9aV&\\xe4\\x97@-\\x9bLx8\\xef\\\\\\x9cN\\xf2\\xea\\x0cs\\x908\\xc5l_K<Q\\x92\\xed\\x95\\xc7J\\xca\\xd2T\\xbb\\xbb\\x95\\xeas\\x9a\\x86k\\x13Y7,\\'#\\x03\\xd6\\xb3ZU\\x17X\\xea{\\x1a\\xd7\\xbbb\\xb6\\x98\\xc0\\x07\\x15\\x80\\xd2\\x04}\\xd8\\xe6\\xa0\\xd2L\\x9ah2\\xa5\\x94\\x92}\\rR\\nv\\x96\\xefV\\x96\\xfd\\xc0$\\x81\\xd3\\x1d*\\xac\\x8eq\\xc7z\\xa4a&@I\\xc9\\xc7Z\\x14|\\xc3=\\xe9\\x1c\\x95n\\xd9\"\\xa8\\xddK,[dRN\\x0e6\\xfa\\xd5\\x19\\xb1\\xfa\\x9b2@\\xc21\\xd7\\x8c\\xd6u\\xb9kdR\\x0bn>\\xb5g/3\\xfe\\xf3\\x93\\xe9SGj\\xe5\\x86\\xe4\\xc0\\xf7\\xa6\\x98\\x88\\xc2\\xef\\x1b\\x9b?\\x95Lm<\\xc8\\x81\\xc8\\xce{\\xd5\\xa4\\x89P6\\x08+\\x8e\\xd5b(d\\x93\\x01\\x17\\x8aM\\x8d\"\\xb4V\\xf1n\\x06X\\xf7\\x8cv\\xa8o\\xa5\\xb6\\xb1\\x8c\\xb1\\xc2\\xa9<z\\xfd*\\xdd\\xeb5\\x99\\x8d\\x18\\x1f5\\x8e\\x14f\\xa1\\xd4\\xb4\\xd5\\xba\\xb3G~]>n)\\\\vc-5\\x08\\xee\\x17\\xe4\\x04-\\\\\\x0c\\xac2:\\xd6m\\xac(#C\\x08\\xc8>\\x95\\xb1mhX\\xee \\x80;Rli\\x0c\\x81\\xbc\\xec\\xec\\x04b\\xac>\\x9c&\\x84\\x89:\\x1fZ\\x9db\\xd9\\xc0\\x18\\x15.H\\x18\\'\\x8a\\x10\\xecV\\xb3\\xd3aI\\xc1\\x18\\xc8\\x1c\\x13S\\xbeC\\xe3<\\x8e\\xd4\\xe4m\\xae\\x0e;\\xd4\\xf7qmp\\xfca\\x86E;\\x05\\x8e\\x8c\\xb0\\xc98\\xe6\\x9a\\x1bsS\\xd9H\\xa8\\xd5\\xd0\\x13\\x93Hd\\xad\\xb8\\x0c\\x83Qy\\xacr\\x00\\xe6\\x96w\\x06.\\x08\\xa8\\xac\\xce_i\\xeb@\\x133|\\xbc\\xd4i\\x83\\xc85+\\x80\\x18\\xd4\\x18!\\xc6\\x06(\\x01$m\\xa8{Tq\\xb9\\xc7&\\x89\\x9b\\x0c\\xa0\\x9c\\xd2q\\xd6\\x81\\x8c\\xb8T\\x98md\\x075\\x9aRk\\x179$\\xc2z`\\xe7\\x15\\xae\\x81I\\xc9=*w\\x8e9\\x06\\x18\\x03\\xc5R`\\xd5\\xcc\\xa4d\\xb8L\\x86\\xcf\\xd2\\xab\\xa3\\x9bi\\xfc\\xb9\\xc1x\\x9b\\xee\\xb1\\xedZ\\x13\\xe9\\x88>xX\\xa3{w\\xa9\\x12\\xccI\\x10\\x13\\x00\\xc3\\xaf4\\xeeG)\\x8b\\xad\\xca\\x16\\r\\x880\\r\\x1aL{\\x11}zUm]\\x92K\\xa5\\x89x]\\xd8\\xc7\\xd2\\xb4l\\xa3UE\\x1d\\x80\\xebQ&o\\x04?RrR\\xb2\\x12\\x11!$\\xf1\\xba\\xaej2oeT<\\x8a\\x83p\\x8e0\\xc7\\x93P9\\x14\\xe6O)\\x82\\xb7J\\xa8\\xe4\\xe4\\x95\\x1c\\x1a\\xb34\\x86BKw\\xe9Tn%\\xf2\\x90\\xfc\\xc3\\x81V\\x8ey1\\x9b\\xb1&\\x0bv\\xe9R\\xf9)\"#0\\xe8s\\x8a\\xc9\\xb52\\xc9+J\\xf8\\xc7b\\rh\\xda\\xbb\\xb3\\x155L\\xce\\xe4\\xfeXIK\\x0c`\\xf4\\x14\\xe9\\x94\\xb4l\\x01\\xc3\\x11\\xc1\\x14\\xe6!FM]\\xb1\\xb1m\\xa2Y\\x879\\xf9A\\xa9e\\xc67)\\xd9iW\\x11Z;\\x93\\xb9\\x80\\xc8\\x15n\\xc5.\\x14\\xa3\\xc8q\\xdc\\x82+E\\xa5\\xd86\\xa9\\xe7\\xbdD\\xa3/\\xeei-M\\xacR\\xd4l\\x05\\xec\\xd1\\xc8[\\x0e\\x9d*o\\xb3(\\x8cF\\xe7w\\xa8\\xab2p*\\xb7\\x9c\\x0b\\xe3p-N\\xd6%\\xd9\\x0bogoo\\xc2/\\x1dj\\xd4\\x8f\\x18\\x18Q\\x8a\\x81\\x8b\\x04\\xe0sM\\x19=H\\xa0W\\x1c_<\\x1aL\\xe4`rj\\xbc\\x93\\xed\\xb9T\\xed\\x8c\\xe6\\xa6f\\xc4~b\\x1e\\x9dh\\xb8\\xae<0A\\x99\\x1b\\x02\\xa0}Agr\\x8a\\xf9\\xdb\\xc5D\\xcc\\x1f;\\x8eA\\xaa\\x12\\\\[\\xd9\\x16\\x04mc\\xd3\\xde\\x9e\\xe2\\xb9\\xe9{\\x86\\xc2k<\\xfd\\xec\\xd6\\x86\\xd0F;T\\x12@\\xbcs\\xde\\x91E)\\t\\xedV\"\\xdc\\xa0\\x1e\\xf5\\'\\x90\\xbb\\x83`S\\xc1]\\xfe\\xf4\\x01\\x1b\\x93\\xdc\\xd1\\xe6\\xa8\\xc6H\\xfc\\xea\\x19\\xe4\\xdaH\\xc5T\\x9a\\x12\\xdf\\xbd\\x8d\\xca\\x91\\xd4v\\xa0\\tgo2l\\xafJ\\x95\\x08\\x11d\\xf6\\xac\\x8f2\\xe5d?&\\xe0;\\x8a\\xb5gp$|\\xe0\\x9cuR*\\xecKe\\xf8-\\xe6\\xbb\\x99R\\x18\\xc9b\\xd8\\x18\\xad-SE:L\\x11\\xfd\\xaa|]\\xb9\\xc9\\x84\\x0e\\x8b\\xebW\\xf4=b\\xce\\xcaq$\\xf0\\x8f\\x97\\x9e+#Z\\xd4\\xbf\\xb4uY\\xee\\xcbgq;}qO\\x94I\\x99\\xa6W\\xdeWq\\xc5Z\\x8eB\\x901oJ\\xa2\\x81\\x8b\\xe4\\x8c\\x03Vn\\xf6\\xad\\xa1\\xc9\\xc0\\xa9h\\xd2\\'.\\xf9\\x9bS!q\\x81\\xd2\\xba\\x18\\xe2\\x02\\xdc\\xb1\\x15\\x83b\\xa9-\\xeb\\x94\\xe3-]\\x1c\\xd8KL\\x0c\\xe4\\n\\xcd\\x9b\\xc4\\xc3\\x95S\\xcel\\x1c\\x9c\\xf1N\\x8e\\x1d\\xeb\\xf3\\xf1I\\x12y\\xb3\\x16<w\\xc5[c\\x85\\xfaR\\t\\x18wl\\x04\\xdbGA\\xc7\\x15F{1u\\x03\\xe4s\\xda\\xad\\\\e\\xa5c\\xea\\xd4\\xa4\\x80\\xa0v\\xabG,\\xcc\\xb8,\\x1e\\x18\\xc8\\x079\\x1d*\\xdcH!\\\\\\x9e\\xb5c*8,3RC\\x0eT\\xcd \\xca)\\xe0Sl\\x94\\x88\\x84O\\xe5\\x99\\x88\\xcb\\x0c\\x10+R\\t\\xe4hp\\xd4\\x8a\\x15\\xa3\\xdf\\xb3\\x19\\x14\\x81\\x82\\xfb\\x1a\\x93E\\xa1.1\\xf3\\x1e\\xb4\\x81\\x809\\xe8i\\x85\\xfe\\\\\\x93J\\xa4\\x14\\xdc\\xc7\\x8a{\\x15\\xcc$\\xd2\\x15\\xea\\xa4\\x86\\xefX\\xb6NSP\\x97vpO\\x19\\xadY%i\\xa4\\x08\\x18\\x05\\x15\\tE\\xea@$R\\xbd\\xc8\\x90\\xfb\\x9b\\xa6C\\x18A\\x90M$\\xcc\\xdb\\x86\\x0f\\x06\\xa3\\xb6\\x91\\xaerL{\\x02\\xfa\\xd47W)\\x1e\\x11\\x1f\\xe6=(D\\x84\\x91\\x82\\xden\\xfc\\x15\\x15J\\xf3R\\x95TG\\x00\\xca\\x91\\xcbVt\\xefre\\xf3Z@\\xdd\\x8a\\x8a~\\xef\\xba\\xa4\\x11\\xc7CUa\\x17\\x12\\xf6E\\xe0\\xf3\\xb4f\\xab_\\x16\\xba\\t \\x03\\xe5\\x1d\\r5\\x19w\\xb1\\x19,F1V`\\x82P\\xa0:\\xf0\\xddM4\\x07\\xaa\\x90T\\xf4\\xa8\\xe6<qS\\xb0\\xdc~\\xf6)<\\xbc\\xa9\\x1c\\x13RjW\\x0f\\x85\\xe9L\\xe8\\xc0\\x8a$R\\t\\xf4\\xa8\\xd2W-\\x8cR\\x01\\xf2\\xe1\\x81\\xca\\x8c\\x9a\\x84G\\x94<S\\xa4s\\xbf\\xe6\\x18\\xa7\\xa3\\xab\\x1c\\x03\\xc0\\xa6\\x04\\x02\\x11\\x10\\xcdT\\x9e&Y~\\xd1np\\xc3\\xef\\x0fZ\\xbb3m\\x06\\xab\\x0c\\x8eI\\xc05I\\x92\\xd1\\xadaq\\r\\xf5\\x94\\x8d\\x81\\xb9W\\x90z\\xd6-\\xf5\\x93\"\\t!s\\x9e\\xb8\\'\\xadL\\x86+y\\x83! \\x91\\xc8\\xcf\\x06\\xa5i\\xe3s\\x8d\\xc2\\xab\\x98\\x123\\xec\\xdf\\xce\\xc7\\xdeR:\\x83M\\xd6\\xaeJ[\\x95\\xdc@\\xad\\x10\\xaa\\xbc\\x8cW=\\xadJZM\\x9e\\xa7\\x15\\r\\x9a$;C\\x89\\xb7n?\\x9dm]\\x12\"+\\x9e=\\xaa\\x9e\\x93\\x10\\x11d\\xf5=)u\\x19$\\x89\\n\\xa7\\'\\xa5f\\xcd\\x96\\x85{\\x7f\\x99\\xa4+\\xc68\\x15Z\\xe9\\xe5e`\\xa4\\xe3\\xa5^\\xb7\\x11\\xdb\\xda\\xe5\\x9b\\x96\\xe4\\xd5Fl\\x86\\xc7\\x03\\xb5\\x08\\xcer)3*E\\xb5\\x97$\\xf7\\xa8\\x14nojsnw9\\xe9\\x9a\\x117>\\xd0p;\\x9fJ\\xa3\\x07\\xab \\x16^u\\xe7\\x98\\xcf\\x88\\xfb\\xd6\\xd2\\xe1\\x01\\x00\\xe5\\x08\\xe0TM\\x04^Z\\x85<\\x0eO\\xbd\\x1c\\xf0;S\\xb0\\xd0\\xf6sM\\xe3o4\\x84\\x85\\x1c\\xd6cO#\\xdd\\xb6r\\xb1\\x83\\xf2\\x9fZ{\\x03d\\xd34\\xcfv\\x91\\xa0\\xca\\x8eH\\xa9\\x1ef\\xc2\\xa1\\xc8\\\\\\xf3M\\x1c1\\x91N\\x1b\\x18\\'\\xda\\x84\\xc3\\xaf \\xe74\\x997b\\xa3\\x1eA\\xe7\\xd2\\xa5\\xc8\\x8dK\\xbfaB\\xa0U\\xde\\xdc\\n\\x87P\\x90\\xc5a!\\\\\\x12\\xc3\\x14\\x92\\x11\\x1c\\x9a\\x8cB,\\xa1\\xf9\\x9b<V\\x0e\\xc6\\xf3\\xfe\\xd1#\\x1cs\\xc7\\xa5%\\xa4\\'\\xceg\\xe4\\x83\\xd0\\x9e\\x95t&\\xed\\xcc\\xc0\\x95^\\x08\\xc5i\\x141\\x15\\x16D\\xca\\xe3>\\xde\\x954v\\xac\\xee\\x15\\xd7 \\xf7\\xaa+t#\\x98\\xb2/\\xcb\\xda\\xba+)\\xa2\\xb9\\xb7\\x02<\\x06\\x03\\x91C\\x04@a\\x8a\\x08\\xfe\\xe8\\x00{Tq\\xdc\\xac\\x87\\xe5\\xe8z\\x1a\\xb1y\\x03\\xcb\\tTb\\x0bqX\\xb1;\\xa4\\xc1\\x08#oQR\\x0e\\'\\xad0\\x1d\\x8d4n\\x1d\\r!\\\\\\x01\\x93N9# \\xd2-\\x01\\x1b\\x874\\x9b\\x10\\x90q\\xcdF$;\\xb1\\xde\\x9e\\xcf\\xb7\\xa8\\xa4\\x04r\\xc4\\xac\\xc0\\x1a\\x8f\\xcbH\\xd8\\x80\\xc2\\xac\\x02\\x18n\\xc5@bW#\\'\\x06\\x98\\\\\\x82Df\\x93\\xe9\\xda\\xa3t\\xcb\\xe3\\x04\\n\\xb3\\xb4\\x82B\\xf2}j\\'ICd\\x8c\\xd0\\x059Py\\x87\\x07\\xa5BP\\xf3VZ29\\xc1\\xe7\\xad9a.\\xbe\\x9c\\xd3)\"\\x18\\x99\\x95OZ\\xc4\\xbd&k\\xe4P\\xbd\\xf3]\\x05\\xc2\\x88cnr@\\xac\\x0btk\\x9dA\\x9f\\x9c\\x0e\\x05Ke\\xa3n\\xd0\\x88 \\x1cv\\xc7\\x15V\\xe0\\x99\\xae\\x80#\\x8e\\xb5sa\\x8e\"\\xc7\\xa0\\xedXF\\xfcEr\\xee\\xc7\\x83\\xc0\\x15%7\\xa0\\xeb\\x92D\\x8c\\xa0\\xf1\\xda\\xa127\\x97\\x86?J\\xb1-\\xccO\\x00\\x95\\x13$\\xf1U\\xd2\\xdeI\\xfeb0*\\x91\\x8c\\x99\\x02\\x86\\x90\\xed^\\x06y5m\\x16!\\x1bDT\\x81\\xeb\\xebK\\x11\\n\\x8c\\x9eY\\x1d\\xb9\\xebNT\\xefT\\x916\\x05^\\x00\\xedRc\\x14\\x87\\x08\\xbb\\x8dA\\x1d\\xe2J\\xc7nJ\\x8e3N\\xc1\\xb1\\x0e\\xa6$\\xfb+4`\\xf5\\xe7\\x14\\xd8\\x0e\\xe8\\x90\\x05\\xce\\xe1\\xcf\\x1d*Y&\\x0e\\xe6<\\xfd\\xee\\xd4\\xaa|\\xb92\\xbd\\x87\"\\xa5\\x89\\x8d \\x1f\\x95~\\xe8\\xa8\\xa5\\x12\\xaa\\x86\\x8ds\\x83\\xcdL\\x9f3\\x13\\x8e\\xb5ac2\\x9f-zuc\\xe9I\\x13b\\x9c\\xb2}\\xa24\\nq\\x83\\xc8\\xa5\\xb8\\x84\\xdc[\\xf9*jim\\xbc\\x99\\xb6\\xf3\\xf3\\x1f\\x95qZ\\xban\\x9c\\xd2H\\xae\\xd8\\x0b\\x9e\\xb4\\r#\\x9d\\x87\\xc3\\xf3\\xa4r\\x11(\\xf9\\x06v\\x91QM;[\\xc0\\xf1\\x88\\x81\\x0e\\xb8\\xdd\\x81\\x90k\\xd5\\xa2\\xd3\\xa0\\x92 \\xae\\x99\\x0c:\\xd7)\\xacxybwhN\\xe0\\x7f\\x87\\x14\\xd4\\x8b\\xb1\\xc0\\x88\\xc6I\\xc0\\xeb\\xda\\xb5tk\\x0b\\x99nD\\x91\\x0c.y\\xcd[\\xb2\\xd0^\\xe2\\xe8\\xa8\\x18\\x8f\\xde\\xbb\\xbd7N\\x8a\\xd2\\xdb\\xcb\\x00g\\xbdi}\\t\\xd8\\xe7\\xdbL,J.}s\\xefYR\\xe8\\x87\\xcc,>\\xf5wS\\xf9V\\xd0\\xbbm\\xe9\\\\\\xb5\\xdd\\xe1\\x91\\xc8_\\x95sJ\\xc3:\\xb2\\x07z\\x8fhl\\xe2\\x96L\\xf6\\xa6\\xc7\\xb8\\x1ezT\\x00\\x82<74H\\x85\\x87J\\x97\\x04\\x9aP;P2\\xb7\\xddS\\xedP\\xe5\\x8d[\\x921\\xd7=j!\\x18\\xc5;\\x08\\x8e(\\xc8<\\x8f\\xc6\\x92v pi\\xf8e\\xcf\\xcdQ8\\xces\\xcd!\\x95\\xdeR\\xa8F3R[3I\\x9e:SZ<\\x8c\\n|YB\\x14u\\xa4Q\\x06\\xa4\\x8b\\x1d\\xa9\\x90\\xe78\\xac\\x9d%s\\x1bI\\xf7\\x99\\x8f\\xdd\\x1d\\xabb\\xe84\\xdb\\x91\\xc8\\xda\\xdd\\xb1\\xc0\\xac\\xb8\\x95t\\xf7e\\x87<\\xf74\\xc2\\xe5\\x9b\\xd9\\x8cvN\\x08\\xc1\\xc7S\\\\\\xcc\\x90\\xc6\\xed\\x1a\\x96m\\xc7\\xb8\\xad\\xa9\\xe6\\x92`U\\xceA\\xedU\\x8c)\\xc7\\x00\\x91\\xd2\\x8b\\x03\\x93\\x12(\\xd5c\\x0b\\xe9\\xdc\\xd4\\xc1\\x8a\\xae\\xd0sQ\\xf7\\xa9\\x17\\x1d\\x05;\\x124\\xa7<\\xf7\\xa7\\x00)\\xd2`b\\x93*\\x07\\'\\x1fZc)\\xea!\\x8d\\xb6\\xd58-\\xc6k2K\\x81f\\x12&\\x1f\\xbc=\\x87z\\xbf,\\x86v\\xda\\x14\\xec\\x06\\xaa\\xdei\\xeb;\\xc7&\\xf2\\x1dx\\xa9\\xb9\\x0c\\x8a\\x14\\x91\\xe7\\xdf\\xbb \\xf6\\xf4\\xad\\x11\\xc3\\n\\xaf\\x02\\xa2\\x0c\\'$pj\\xc0\\x05\\x9b\\xad!\\x12\\xc47\\xc81\\xc5t6~\\x1d\\xba\\x9fN\\xfe\\xd3Q\\xb2\\x02\\xdbU\\xcfF>\\x95\\x9f\\xa7i\\xff\\x00hFi\\x06#\\xf5\\xf5\\xae\\x86\\xcfR\\xbf6i\\xa7I&\\xfb83\\xb0\\x81\\x8cPZG;-\\xb3-\\xc4\\xd3J6\\xe7\\xe4V\\xc7\\x00\\xf7\\xa8\\xec\\xa2\\xb9\\x19\\xb7Y\\x0f\\xcc}s\\x81\\xebZ:\\xc5\\xd9E[XSt\\xb2\\x1c(\\xebR\\xd9\\xd8Icd\\xbeh*X\\xe5\\x98\\xf54\\xd8\\xech\\xc3\\xa8\\xcbh\\x82\\xdc\\xf2v\\xf0sO\\xfbLwQ\\x1c\\x9f\\x9f\\xd2\\xb3_\\xcb\\r\\xe6\\xe4\\x97#\\x194\\xcd\\xc2\\x02df\\xdb\\x8eq\\x9e\\xb4\\xac\\x06\\x82\\xc0\\x90\\x82\\xf8\\x01\\x8f\\xa5W\\x97TX:s\\x9fJ\\xc7\\x97S\\x99\\xd8\\x9c\\xf0j\\x8c\\x92\\xb19\\'&\\xb4\\x8a%\\x9a\\x9a\\x86\\xa9\\xf6\\x98\\xd5\\x06F:\\xfb\\xd6Il\\xd2|\\xcdOT\\xe3>\\x95d\\x9d\\xb8\\x01\\x8ei\\xd9\\xda*4\\\\\\x0e\\xb4\\xees\\x8c\\xd6E\\x0f\\xdd\\xc7Jg^\\x95\\x14\\xd2\\xf9]y\\xa4I\\x83s\\xd2\\x80\\x1c\\xecA \\xf6\\xa8\\xfc\\xd5\\x00\\x8e\\xf4\\xc9\\xa5\\xfb\\xdbMU\\x12\\x02y\\xe4\\xd0\\x16-\\x19\\x14\\x8e*2\\xd8\\xaa\\xed)\\xe4\\x01\\xc5@gh\\xf9=\\x0fj\\x06\\x8b\\xc7\\x1d\\xa9\\x85\\x8e\\xf1T\\xa0\\xd4\\x16R@ \\x7f\\xbdSIp\\xa2\\x1d\\xc1\\xd7=\\xf0hHw\\x12\\xfe\\xe3\\xc8\\x84\\xbfz\\xca3\\x890\\xfd\\xcdP\\xbb\\xd6\\x9a\\xe2_$.W=ML\\x8a$Q\\x86\\n})\\x92X\\x04\\x13\\x9aBq\\xf8\\xd2\\x88\\x19Sv\\xe0EP\\xd4\\x0c\\xe8\\xab\\xe4\\x90}ph\\x19fY\\x168\\xcb\\xb7AR\\xda2N\\xb9\\x07\\x15E\\x18<\\x18\\x93\\xd3\\xa1\\xa2&1\\xa30\\xcf\\xb6*[\\x02\\xe5\\xc5\\xcc*\\xa4/\\xcc\\xc3\\x8a\\xe7\\xefu\\t\\xbc\\xf4\\x0c\\xa4)\\xe2\\xb4c\\x90\\xcawm\\xc14\\x92A\\x1c\\x87\\xe6]\\xc4w\\xa0W,XI\\x18\\x87\\x9cg\\x1d\\xea)YX\\x92:zS|\\xac\\x0c\\xe7\\x81\\xda\\xa0\\xb9\\x91\\xe1\\xb6\\x91\\x90e\\x80\\xe2\\x91,\\x9e%Uv\\xc3\\x0c\\x91\\xc8\\xad\\x0b\\x0bF\\x9d\\xb01\\xee}+\\x0fD-:n`ZF85\\xd5Y\\x9f\\xb34\\x91\\x85\\xc9\\xc7\\x14\\xaeTQ\\xa5\\x14\\x91,^D\\x04\\x16\\x1c\\x1cT\\xb2\\xcb\\r\\x8c\\x00;m\\x07\\xd3\\xa95Z?*\\xc2\\x16\\x9eVU\\'\\x9cUk+{\\xddb\\x7f\\xed\\x0f)\\x8d\\xb4\\'\\xe5\\x1f\\xde\\xa6\\x91e%\\x9e\\xe6\\xc7Z[\\xd9ai\\x11\\xf0G\\x1d\\x05t\\xda\\x8e\\xbb\\xfd\\xa1d\\xaa\\xf1$j\\x0eq\\x8eEC\\xab\\xeaV\\xa2\\xc8F\\x144\\xb9\\xc0U\\xfe\\x1cW1=\\xc3H0X\\xfd*\\xd4I\\xb9z[\\xd5\\xc7\\x07$V|\\xf7/+\\x03\\xbc\\xe2\\xa2\\xdf\\xc1\\x14\\xd1\\x93\\xc58\\xa168\\xc9\\xcd(\\x1b\\x8eM Lri\\xdb\\x80\\xe9T!\\xd9\\x02\\x82\\xe1ED\\xd2\\x01U\\xden@\\x04\\x93I\\xc8\\x0fB\\x00\\x8eM\\x05\\x87@\\x7f\\x1as{To\\xc0\\xe7\\xbdH\\xca\\xb2\\x1c\\xb9\\xefJ\\x01\\x11\\x92x\\x18\\xa7\\x95\\x0c}\\xe9\\xb7\\x00\\xac;E E8\\xdb.y\\xc8\\xa4\\x91\\x82d\\xa8\\x14\\x82\"\\xa3\\x83M\\x91[gL\\xd00\\x8d\\xd9\\xce\\x0f\\x14\\x8f\\x0b\\x129\\xe2\\x96\\x14<{\\xd5\\xb2\\x01m\\xa3\\xd2\\x81\\xa3\\x93\\xd6\\x9b\\xc8\\x95\\x11~S\\x9c\\xe4V\\x14\\xfa\\x8d\\xcc\\xd2\\xf9J\\xc7o\\xb1\\xad/\\x11\\xef[\\xe6\\x1b\\xb8\\x15\\x95k \\xdc#\\xda\\x01\\xcesTL\\x8b\\xaa\\x165\\\\\\xf5\\xf7\\xa9V}\\xc3\\x00\\xd5v94\\x9b\\x8a\\x91\\xda\\xa5\\x92\\x8dh\\xa6.\\x80\\x13\\xc5f_\\xfd\\xa3\\xedJ#\\xdd\\xe5\\xfbU\\xa8\\x98\\x102pj`\\xdf\\x95Ihd\\x10\\xc8\\xf6\\xd8rA\\xa9\\xca\\x88\\xe1\\xe4f\\xa4\\x1d\\x06M\\x04\\t\\x0e\\x07J\\x10\\xca\\xaa\\x00\\x1f(\\xc5H\\xb8=i\\xd2F\\x14\\xe2\\x98p\\xa0n8\\x14\\x10\\xc7\\x90\\xbc\\x809\\xefU&\\x91VD\\x85\\x97*\\xfd\\xcd-\\xc5\\xca\\xc2\\xa0\\xa9\\x1b\\xa9\\xf6{Zug_3\\'844\\x0bs\\x7fH\\xd2c\\x82\\xd0\\xcc\\x91\\x82\\xdd@\\xf4\\xad;X<\\xb4k\\x8b\\x8c)\\xc1<\\xf6\\x14Z\\xdeB\\xea\\x10m@\\xa3$V.\\xb1\\xa8M;\\x04\\x87\\x1eZ\\x9e\\xc7\\xae)(\\x9at,\\xdb\\xd9\\xdc\\xf8\\x9bVKxx\\xb7R2\\xc4pk\\xa9\\xd7\\xb5\\x18t\\x1d<i\\x16\\x05VM\\xbf9Q\\xf7j\\x1d\\'\\\\\\xd2\\xeet\\x80be\\xb6\\xb9\\xb7S\\x80F\\x0b\\x1a\\xe2\\xeen\\x1ey\\x9eI\\x1c\\xbb1\\xceOz\\xd6*\\xc6m\\x95\\xdd\\x8e\\xf2wd\\x93\\xc9\\xa6d\\x9asd\\x9a\\x02\\x1a\\xbb\\x02\\x00\\x0f\\x18\\xa7\\xa8\\x03\\xad(\\xc2\\x8ej7\\x93\\x07\\x03\\x9fzM\\x80\\xe2G\\'<TE\\xbb\\xf6\\xa3\\x92:f\\xa2yR\\x16\\xc19oS\\xd2\\xa2\\xe2d\\x8a\\xbb\\x93{|\\xab\\xfa\\x9a\\x86I\\x97n\\xd5\\x01@\\xef\\xde\\x9b#\\xb3\\xa1l\\xe4\\n\\xa70-\\x1b`\\x9c\\xe3\\x8aAs\\xd3\\x0c\\xe5s\\xceMF.C\\x9c\\x1e\\x08\\xa62099\\xa80\\t,)\\x8c\\xb9\\xe7\\xa7\\x98\\x07\\xadGt\\xc3h\\x03\\x9a\\xab\\xc6p{w\\xab;\\xa3D\\xc1\\xe74\\x86F\\xaaJ\\xe7\\xd6\\x90\\xbe\\x14\\xa8\\xa52s\\xc7Jj\\x80A4XdlHp\\x01\\xc1\\xa7o#\\x9c\\xf2ha\\x92H\\xa8\\x82\\xe5\\x8eh\\x19\\xcbx\\x89\\x84\\x97G\\x03\\x91\\xde\\xb2,c\\x1eqby\\x1cb\\xbb\\rGL\\x8a\\xe66`p\\xdf\\xce\\xb8\\xb9\\xd5\\xed\\xe5p\\t\\x05j\\x90\\x99\\xa0UK\\x13\\xda\\xa2s\\x82\\x00\\xeb\\xefQ[\\xcf\\xbd>f\\xcbR\\xa9i$8\\xe7\\x1cT\\xb2.[\\x81\\xc7SV\\x81\\xcdU\\x81[8+\\xc5]\\x8e&c\\xec*\\nLz\\xb1\\xdb\\x83\\xcd9\\x1c\\x83OH\\x8684\\xbb>\\\\\\xa8\\xc9\\xedM\\x0c\\xa7}z\\xb6\\xdb\\x0b\\x0e\\xb5E\\xeeE\\xda\\xa9\\x04\\xa8\\xceFj;\\xd2\\xd3\\xdc\\x95\\x98m\\x0b\\xd0R\\xc5\\x13\\x9c|\\xbc\\x0f\\xd6\\xad\"X\\xaf\\x1b<\\x88v\\x82s[\\x9a^\\x9b+\\xb0.v\\xa8\\xe4\\x9a\\xa7\\x0ck\\x1e\\xd2\\xc3\\xdf\\x15\\xa4\\xb7\\xe7\\xc81\\x81\\x8fLS\\xb0-\\x07\\xce#\\x82\\xe0\\xaa\\xb6O\\xadVf\\xa8\\xb2Y\\xb9\\xe4\\xfa\\xd3\\xfau\\xa1Dm\\x8b\\xc2\\xf4\\x03-\\xd7\\xde\\x8c\\x13\\xce0)\\xc1rrF)O<f\\xafa\\x11\\xe0\\x8a\\x1d\\xf6\\x81\\xcd9\\xf8\\x15\\x0e\\x0b5K`\\x05\\xf3\\x8c\\x8e*gH\\xf0\\x1b\\x1bW\\x1d*-\\xa3\\x8e\\xf5V\\xf5\\xe5H\\x8f\\x96\\xc00\\xe7&\\xa4\\x0bR\\xb9\\xf2\\xf6\\xa8\\x00{U\\x19\\x90H\\x08#\"\\xb1\\xa7\\xd7e\\x01\"\\xdaA\\xee\\xc7\\xbd6-jY\\'U\\xe8\\xbd\\xe9\\xd8\\x96l\\xc2\\x82\\x18\\xd9r\\xc4\\x1f^i1\\xdf\\x14\\xa8\\xdej\\xee\\xed\\xebN\\x1d1HG\\xa3\\xb0\\xe0\\x93QI\\x12\\x88\\xb2\\x17\\x9a\\x96BT\\x01\\x8c\\xe6\\xa3\\x90\\xb1\\x8f\\x0bH\\xd0\\xa6\\xa8Y\\xf0j;\\x8e\\t\\x1e\\x9d*\\xce>ROZ\\xa8Ag>\\x99\\xa0d{\\xdfo?\\x85 \\x95\\x93\\x83\\x9ejy\\x07\\x01EF\\xe9\\xf2d\\xf5\\xa6\\x03\\x83\\x83\\x80)Bc#5\\x1f\\x96W\\x1c\\xd6&\\xbd\\xa95\\xba\\x04\\x86L1<\\xe0\\xd0#R\\xee\\xe25\\x85\\x86\\xf5\\xce9\\x19\\xaeVx\\xbc\\xf9&q\\x19 \\xf0*\\x8d\\x9c\\x93\\xdc\\\\\\x92X\\x90y\\xadc:D\\xa1:\\x9a6!\\xc8\\xe6\"\\x8ae\\xbah\\xb7\\x00;\\xd6\\xad\\xb2\\x94A\\xf5\\xefPO\\x19K\\xb7\\x94\\x02\\xc1\\xeax\\xe5\\x04\\x83\\x8e\\x07oJ\\x19\\x17-\\xc4\\xccN\\x0f8\\xad{8\\xdaA\\xc0\\xac\\xdbD2K\\x85\\x19\\xcfJ\\xec\\xb4\\xbd8\\xc5\\x01w\\x1c\\xfaT\\xd8\\xa4P\\x8fL\\x99c\\xdc\\x17>\\x99\\xaa\\xb7\\n\\xf0\\xe3*\\x14\\x8fZ\\xe8g\\x920\\x8a\\xb9*W\\x90+\\x03Q\\x98I7<\\xd5$Zf5\\xdd\\xa8\\x92Q7V\\xee)\\xc60W\\x81\\x8a\\x98\\x8c\\xf5\\xa4\\xee}\\xaa\\xd2\\x02\\x06\\x04\\x11\\xc95a\\x17\\x00SJ\\xf75*\\x0ei\\x88\\x91c\\'\\x93\\xd2\\x9d\\xb3\\'\\xa7\\x15\"\\x8e)\\xe0z\\xd3\\x02&\\x18\\x15\\x18\\xe0\\xe4\\xd4\\xd2-@\\xf9\\xc1\\xa8lh\\x0b\\x068\\x1dj)\\x1d\\x94\\x12\\x07\\x1f\\xce\\x9c\\x06\\xc8\\xc3\\x1f\\xbc\\xdf\\xca\\xa2\\x9aU\\x04|\\xc3\\xd2\\xa0\\x08\\xc4\\xac#%\\x878\\xe9X\\xc6\\xe0\\xddN\\xe4\\xe4c\\x80+VA\\xb8u\\xe2\\xa1[XQ\\xcb\\xaa|\\xc7\\x93M\\x01\\x83\\xabB\\x1a\\x05#\\x86\\x1dME\\x06\\x9c\\xedj%\\xe78\\xe6\\xb6\\xee,\\xd2`C\\x0e\\rX\\x82$Ku\\x8b\\x19\\x00c\\x9aw&\\xc3-\\x81\\x8e\\x14B\\x0f\\x03\\xbdM\\x92\\x0eH\\xebP\\xc9$\\x89:b0\\xd1\\xf4bMi8E\\x84\\x12:\\n\\x86#\\xb8W-\\xcei\\xce\\xfbW&\\xa9,\\xc3y\\xc7AI-\\xc1?.x\\xa7c@\\x9e^88\\xa2\\x02\\x1dy\\x1f\\x8d@\\xa4s\\xdf4\\xa2M\\xa0.0)\\x8c\\x92]\\xaa1U\\x88fa\\x83\\xc5H\\xc7wZL\\x05\\xe6\\x80*\\xea7F\\xd2\\xcd\\xdc\\x9c\\xb68\\xae\\x0e\\xeav\\x95\\xd9\\xd8\\x92I\\xae\\x97\\xc4W\\x914\\x02 \\xd9py\\xae^(\\xd6g#<\\xd5\\xa2Yz\\xd6M\\xb1\\r\\xa0\\x00z\\x9ak\\xb0g\\'<\\x83U\\xed\\xff\\x00\\x8e3\\xc3\\x03\\xd2\\xa4f\\xcb\\x88\\xc7S\\xd4\\xd4\\xb36(,\\xd2\\x81\\xd8U\\xcbx\\x15\\x9f8\\xeb\\xd6\\xaa\\xc4J\\x9f\\x98\\xf3\\xd3\\x9a\\xbb\\x03|\\xe3\\xd4R\\x12GC\\xa7\\xdaG\\x12\\x86\\x0b[+t\\xf1\\xc6UzVE\\xb5\\xc01\\x0e\\x05YY\\xb8\\xf6\\xa0\\xd5!\\x93L]\\x89\\'&\\xb2g\\xf9\\xa4\\'5r\\xe2]\\xbb\\xb1Y\\xdb\\x895`8S\\xd8\\x0e=\\x05\\n\\x062iq\\x91L\\x06\\x05\\xcbf\\xa6D\\xa1UOz\\x91\\x07\\xe5@\\x87\\x01\\xcf\\xd2\\x974Q\\xdb\\xda\\x81\\x8cg\\x07\\x8a\\x86\\xe1\\xd1b%\\xba\\x01\\xda\\xa4e\\xc1\\xf6\\xac\\xfdBWX\\x18 9=\\xc5&\\x86\\x8a\\xb2j\\xf1\\xe4!\\xe0\\x8e\\x01\\xaa\\x93_\\xa4\\xae8\\xc8\\x1d+&`\\xee\\xfe\\xe7\\xaf\\x15%\\xa6U\\xf2\\xc9\\xf2\\xf7\\xa5`f\\xf8}\\xb1\\xc7\\xdc5I\\x95\\'\\x19\\xcde]O\\'\\xd8\\x8f\\x94\\xbc\\x83\\x90Gj\\xa7m|\\xe5\\xb0Af\\xfa\\xd2\\xb1\\x06\\xf3\\xaf\\xcc8\\xe3\\xd6\\x98\\x08\\xdd\\xf2\\x9c\\xfd*\\x9cw24\\xd8\\x9b)\\x1fcKkpVwEC\\xb4\\xb7\\x0cGj@[eo\\xa8\\xa9\\x0c\\xcd\"l4\\x85\\xd3\\xee\\xe4g\\xd2\\x94\\x01\\xd7#\\x156\\x15\\x8f\\xff\\xd9'>"
      ]
     },
     "execution_count": 32,
     "metadata": {},
     "output_type": "execute_result"
    }
   ],
   "source": [
    "img_raw"
   ]
  },
  {
   "cell_type": "code",
   "execution_count": 33,
   "metadata": {},
   "outputs": [],
   "source": [
    "img_tensor = tf.image.decode_image(img_raw)"
   ]
  },
  {
   "cell_type": "code",
   "execution_count": 34,
   "metadata": {},
   "outputs": [
    {
     "data": {
      "text/plain": [
       "TensorShape([256, 256, 3])"
      ]
     },
     "execution_count": 34,
     "metadata": {},
     "output_type": "execute_result"
    }
   ],
   "source": [
    "img_tensor.shape"
   ]
  },
  {
   "cell_type": "code",
   "execution_count": 35,
   "metadata": {},
   "outputs": [
    {
     "data": {
      "text/plain": [
       "<tf.Tensor: shape=(256, 256, 3), dtype=uint8, numpy=\n",
       "array([[[134, 132, 137],\n",
       "        [135, 133, 138],\n",
       "        [135, 133, 136],\n",
       "        ...,\n",
       "        [ 73,  64,  67],\n",
       "        [ 73,  64,  67],\n",
       "        [ 73,  64,  67]],\n",
       "\n",
       "       [[134, 132, 137],\n",
       "        [135, 133, 138],\n",
       "        [135, 133, 136],\n",
       "        ...,\n",
       "        [ 74,  65,  68],\n",
       "        [ 74,  65,  68],\n",
       "        [ 73,  64,  67]],\n",
       "\n",
       "       [[137, 132, 138],\n",
       "        [137, 132, 138],\n",
       "        [136, 131, 135],\n",
       "        ...,\n",
       "        [ 75,  66,  69],\n",
       "        [ 75,  66,  69],\n",
       "        [ 75,  66,  69]],\n",
       "\n",
       "       ...,\n",
       "\n",
       "       [[127, 122, 118],\n",
       "        [122, 117, 113],\n",
       "        [118, 113, 109],\n",
       "        ...,\n",
       "        [ 71,  72,  64],\n",
       "        [ 71,  72,  64],\n",
       "        [ 71,  72,  64]],\n",
       "\n",
       "       [[122, 117, 114],\n",
       "        [117, 112, 109],\n",
       "        [114, 109, 106],\n",
       "        ...,\n",
       "        [ 70,  71,  65],\n",
       "        [ 68,  69,  63],\n",
       "        [ 67,  68,  62]],\n",
       "\n",
       "       [[118, 113, 110],\n",
       "        [115, 110, 107],\n",
       "        [112, 107, 104],\n",
       "        ...,\n",
       "        [ 66,  67,  61],\n",
       "        [ 64,  65,  59],\n",
       "        [ 62,  63,  57]]], dtype=uint8)>"
      ]
     },
     "execution_count": 35,
     "metadata": {},
     "output_type": "execute_result"
    }
   ],
   "source": [
    "img_tensor"
   ]
  },
  {
   "cell_type": "code",
   "execution_count": 36,
   "metadata": {},
   "outputs": [],
   "source": [
    "img_tensor = tf.cast(img_tensor, tf.float32)"
   ]
  },
  {
   "cell_type": "code",
   "execution_count": 37,
   "metadata": {},
   "outputs": [],
   "source": [
    "img_tensor = img_tensor / 255"
   ]
  },
  {
   "cell_type": "code",
   "execution_count": 38,
   "metadata": {},
   "outputs": [
    {
     "data": {
      "text/plain": [
       "1.0"
      ]
     },
     "execution_count": 38,
     "metadata": {},
     "output_type": "execute_result"
    }
   ],
   "source": [
    "img_tensor.numpy().max()"
   ]
  },
  {
   "cell_type": "code",
   "execution_count": 39,
   "metadata": {},
   "outputs": [
    {
     "data": {
      "text/plain": [
       "0.0"
      ]
     },
     "execution_count": 39,
     "metadata": {},
     "output_type": "execute_result"
    }
   ],
   "source": [
    "img_tensor.numpy().min()"
   ]
  },
  {
   "cell_type": "code",
   "execution_count": 40,
   "metadata": {},
   "outputs": [],
   "source": [
    "def load_preprosess_image(img_path):\n",
    "    img_raw = tf.io.read_file(img_path)\n",
    "    img_tensor = tf.image.decode_jpeg(img_raw, channels = 3)\n",
    "    img_tensor = tf.image.resize(img_tensor, [256, 256])\n",
    "    img_tensor = tf.cast(img_tensor, tf.float32)\n",
    "    img = img_tensor / 255\n",
    "    return img"
   ]
  },
  {
   "cell_type": "code",
   "execution_count": 41,
   "metadata": {},
   "outputs": [],
   "source": [
    "image_temp_path = all_image_path[100]"
   ]
  },
  {
   "cell_type": "code",
   "execution_count": 42,
   "metadata": {},
   "outputs": [
    {
     "data": {
      "text/plain": [
       "<matplotlib.image.AxesImage at 0x1904f2f8b08>"
      ]
     },
     "execution_count": 42,
     "metadata": {},
     "output_type": "execute_result"
    },
    {
     "data": {
      "image/png": "[encoded data removed]",
      "text/plain": [
       "<Figure size 432x288 with 1 Axes>"
      ]
     },
     "metadata": {
      "needs_background": "light"
     },
     "output_type": "display_data"
    }
   ],
   "source": [
    "plt.imshow(load_preprosess_image(image_temp_path))"
   ]
  },
  {
   "cell_type": "code",
   "execution_count": 43,
   "metadata": {},
   "outputs": [],
   "source": [
    "path_ds = tf.data.Dataset.from_tensor_slices(all_image_path)"
   ]
  },
  {
   "cell_type": "code",
   "execution_count": 44,
   "metadata": {},
   "outputs": [
    {
     "data": {
      "text/plain": [
       "<TensorSliceDataset shapes: (), types: tf.string>"
      ]
     },
     "execution_count": 44,
     "metadata": {},
     "output_type": "execute_result"
    }
   ],
   "source": [
    "path_ds"
   ]
  },
  {
   "cell_type": "code",
   "execution_count": 45,
   "metadata": {},
   "outputs": [],
   "source": [
    "image_dataset = path_ds.map(load_preprosess_image)"
   ]
  },
  {
   "cell_type": "code",
   "execution_count": 46,
   "metadata": {},
   "outputs": [],
   "source": [
    "label_dataset = tf.data.Dataset.from_tensor_slices(all_image_label)"
   ]
  },
  {
   "cell_type": "code",
   "execution_count": 47,
   "metadata": {},
   "outputs": [
    {
     "name": "stdout",
     "output_type": "stream",
     "text": [
      "0\n",
      "0\n",
      "0\n",
      "1\n",
      "1\n",
      "0\n",
      "0\n",
      "0\n",
      "0\n",
      "0\n"
     ]
    }
   ],
   "source": [
    "for label in label_dataset.take(10):\n",
    "    print(label.numpy())"
   ]
  },
  {
   "cell_type": "code",
   "execution_count": 48,
   "metadata": {},
   "outputs": [
    {
     "name": "stdout",
     "output_type": "stream",
     "text": [
      "[[[0.5254902  0.5176471  0.5372549 ]\n",
      "  [0.5294118  0.52156866 0.5411765 ]\n",
      "  [0.5294118  0.52156866 0.53333336]\n",
      "  ...\n",
      "  [0.28627452 0.2509804  0.2627451 ]\n",
      "  [0.28627452 0.2509804  0.2627451 ]\n",
      "  [0.28627452 0.2509804  0.2627451 ]]\n",
      "\n",
      " [[0.5254902  0.5176471  0.5372549 ]\n",
      "  [0.5294118  0.52156866 0.5411765 ]\n",
      "  [0.5294118  0.52156866 0.53333336]\n",
      "  ...\n",
      "  [0.2901961  0.25490198 0.26666668]\n",
      "  [0.2901961  0.25490198 0.26666668]\n",
      "  [0.28627452 0.2509804  0.2627451 ]]\n",
      "\n",
      " [[0.5372549  0.5176471  0.5411765 ]\n",
      "  [0.5372549  0.5176471  0.5411765 ]\n",
      "  [0.53333336 0.5137255  0.5294118 ]\n",
      "  ...\n",
      "  [0.29411766 0.25882354 0.27058825]\n",
      "  [0.29411766 0.25882354 0.27058825]\n",
      "  [0.29411766 0.25882354 0.27058825]]\n",
      "\n",
      " ...\n",
      "\n",
      " [[0.49803922 0.47843137 0.4627451 ]\n",
      "  [0.47843137 0.45882353 0.44313726]\n",
      "  [0.4627451  0.44313726 0.42745098]\n",
      "  ...\n",
      "  [0.2784314  0.28235295 0.2509804 ]\n",
      "  [0.2784314  0.28235295 0.2509804 ]\n",
      "  [0.2784314  0.28235295 0.2509804 ]]\n",
      "\n",
      " [[0.47843137 0.45882353 0.44705883]\n",
      "  [0.45882353 0.4392157  0.42745098]\n",
      "  [0.44705883 0.42745098 0.41568628]\n",
      "  ...\n",
      "  [0.27450982 0.2784314  0.25490198]\n",
      "  [0.26666668 0.27058825 0.24705882]\n",
      "  [0.2627451  0.26666668 0.24313726]]\n",
      "\n",
      " [[0.4627451  0.44313726 0.43137255]\n",
      "  [0.4509804  0.43137255 0.41960785]\n",
      "  [0.4392157  0.41960785 0.40784314]\n",
      "  ...\n",
      "  [0.25882354 0.2627451  0.23921569]\n",
      "  [0.2509804  0.25490198 0.23137255]\n",
      "  [0.24313726 0.24705882 0.22352941]]]\n"
     ]
    }
   ],
   "source": [
    "for img in image_dataset.take(1):\n",
    "    print(img.numpy())"
   ]
  },
  {
   "cell_type": "code",
   "execution_count": 49,
   "metadata": {},
   "outputs": [
    {
     "data": {
      "text/plain": [
       "<MapDataset shapes: (256, 256, 3), types: tf.float32>"
      ]
     },
     "execution_count": 49,
     "metadata": {},
     "output_type": "execute_result"
    }
   ],
   "source": [
    "image_dataset"
   ]
  },
  {
   "cell_type": "code",
   "execution_count": 50,
   "metadata": {},
   "outputs": [],
   "source": [
    "dataset = tf.data.Dataset.zip((image_dataset, label_dataset))"
   ]
  },
  {
   "cell_type": "code",
   "execution_count": 51,
   "metadata": {},
   "outputs": [
    {
     "data": {
      "text/plain": [
       "<ZipDataset shapes: ((256, 256, 3), ()), types: (tf.float32, tf.int32)>"
      ]
     },
     "execution_count": 51,
     "metadata": {},
     "output_type": "execute_result"
    }
   ],
   "source": [
    "dataset"
   ]
  },
  {
   "cell_type": "code",
   "execution_count": 52,
   "metadata": {},
   "outputs": [],
   "source": [
    "#划分测试数据和训练数据"
   ]
  },
  {
   "cell_type": "code",
   "execution_count": 53,
   "metadata": {},
   "outputs": [],
   "source": [
    "test_count = int(image_count * 0.2)\n",
    "train_count = image_count - test_count"
   ]
  },
  {
   "cell_type": "code",
   "execution_count": 54,
   "metadata": {},
   "outputs": [
    {
     "data": {
      "text/plain": [
       "(280, 1120)"
      ]
     },
     "execution_count": 54,
     "metadata": {},
     "output_type": "execute_result"
    }
   ],
   "source": [
    "test_count, train_count"
   ]
  },
  {
   "cell_type": "code",
   "execution_count": 55,
   "metadata": {},
   "outputs": [],
   "source": [
    "train_dataset = dataset.skip(test_count)"
   ]
  },
  {
   "cell_type": "code",
   "execution_count": 56,
   "metadata": {},
   "outputs": [],
   "source": [
    "test_dataset = dataset.take(test_count)"
   ]
  },
  {
   "cell_type": "code",
   "execution_count": 57,
   "metadata": {},
   "outputs": [],
   "source": [
    "BATCH_SIZE = 32"
   ]
  },
  {
   "cell_type": "code",
   "execution_count": 58,
   "metadata": {},
   "outputs": [],
   "source": [
    "train_dataset = train_dataset.repeat().shuffle(buffer_size = train_count).batch(BATCH_SIZE)"
   ]
  },
  {
   "cell_type": "code",
   "execution_count": 59,
   "metadata": {},
   "outputs": [],
   "source": [
    "test_dataset = test_dataset.batch(BATCH_SIZE)"
   ]
  },
  {
   "cell_type": "code",
   "execution_count": 60,
   "metadata": {},
   "outputs": [
    {
     "data": {
      "text/plain": [
       "\"\\n#增加批标准化优化方法层\\nmodel = tf.keras.Sequential()  #顺序模型\\nmodel.add(tf.keras.layers.Conv2D(64, (3, 3), input_shape = (256, 256, 3), padding = 'same'))\\nmodel.add(tf.keras.layers.BatchNormalization())\\nmodel.add(tf.keras.layers.Activation('relu'))\\nmodel.add(tf.keras.layers.Dropout(0.5))\\n          \\nmodel.add(tf.keras.layers.Conv2D(64, (3, 3), padding = 'same'))\\nmodel.add(tf.keras.layers.BatchNormalization())\\nmodel.add(tf.keras.layers.Activation('relu'))\\nmodel.add(tf.keras.layers.Dropout(0.5))\\n\\nmodel.add(tf.keras.layers.MaxPooling2D())\\nmodel.add(tf.keras.layers.Conv2D(128, (3, 3), padding = 'same'))\\nmodel.add(tf.keras.layers.BatchNormalization())\\nmodel.add(tf.keras.layers.Activation('relu'))\\nmodel.add(tf.keras.layers.Dropout(0.5))\\n\\nmodel.add(tf.keras.layers.MaxPooling2D())\\nmodel.add(tf.keras.layers.Conv2D(128, (3, 3), padding = 'same'))\\nmodel.add(tf.keras.layers.BatchNormalization())\\nmodel.add(tf.keras.layers.Activation('relu'))\\nmodel.add(tf.keras.layers.Dropout(0.5))\\n\\nmodel.add(tf.keras.layers.MaxPooling2D())\\nmodel.add(tf.keras.layers.Conv2D(256, (3, 3), padding = 'same'))\\nmodel.add(tf.keras.layers.BatchNormalization())\\nmodel.add(tf.keras.layers.Activation('relu'))\\nmodel.add(tf.keras.layers.Dropout(0.5))\\n\\nmodel.add(tf.keras.layers.MaxPooling2D())\\nmodel.add(tf.keras.layers.Conv2D(256, (3, 3), padding = 'same'))\\nmodel.add(tf.keras.layers.BatchNormalization())\\nmodel.add(tf.keras.layers.Activation('relu'))\\nmodel.add(tf.keras.layers.Dropout(0.5))\\n\\nmodel.add(tf.keras.layers.MaxPooling2D())\\nmodel.add(tf.keras.layers.Conv2D(512, (3, 3), padding = 'same'))\\nmodel.add(tf.keras.layers.BatchNormalization())\\nmodel.add(tf.keras.layers.Activation('relu'))\\nmodel.add(tf.keras.layers.Dropout(0.5))\\n\\nmodel.add(tf.keras.layers.MaxPooling2D())\\nmodel.add(tf.keras.layers.Conv2D(512, (3, 3), padding = 'same'))\\nmodel.add(tf.keras.layers.BatchNormalization())\\nmodel.add(tf.keras.layers.Activation('relu'))\\nmodel.add(tf.keras.layers.Dropout(0.5))\\n\\nmodel.add(tf.keras.layers.MaxPooling2D())\\nmodel.add(tf.keras.layers.Conv2D(1024, (3, 3), padding = 'same'))\\nmodel.add(tf.keras.layers.BatchNormalization())\\nmodel.add(tf.keras.layers.Activation('relu'))\\nmodel.add(tf.keras.layers.Dropout(0.5))\\n\\nmodel.add(tf.keras.layers.GlobalAveragePooling2D())\\nmodel.add(tf.keras.layers.Dense(1024))\\nmodel.add(tf.keras.layers.BatchNormalization())\\nmodel.add(tf.keras.layers.Activation('relu'))\\nmodel.add(tf.keras.layers.Dropout(0.5))\\n\\nmodel.add(tf.keras.layers.Dense(256))\\nmodel.add(tf.keras.layers.BatchNormalization())\\nmodel.add(tf.keras.layers.Activation('relu'))\\nmodel.add(tf.keras.layers.Dropout(0.5))\\n\\nmodel.add(tf.keras.layers.Dense(1, activation = 'sigmoid'))\\n\""
      ]
     },
     "execution_count": 60,
     "metadata": {},
     "output_type": "execute_result"
    }
   ],
   "source": [
    "'''\n",
    "#增加批标准化优化方法层\n",
    "model = tf.keras.Sequential()  #顺序模型\n",
    "model.add(tf.keras.layers.Conv2D(64, (3, 3), input_shape = (256, 256, 3), padding = 'same'))\n",
    "model.add(tf.keras.layers.BatchNormalization())\n",
    "model.add(tf.keras.layers.Activation('relu'))\n",
    "model.add(tf.keras.layers.Dropout(0.5))\n",
    "          \n",
    "model.add(tf.keras.layers.Conv2D(64, (3, 3), padding = 'same'))\n",
    "model.add(tf.keras.layers.BatchNormalization())\n",
    "model.add(tf.keras.layers.Activation('relu'))\n",
    "model.add(tf.keras.layers.Dropout(0.5))\n",
    "\n",
    "model.add(tf.keras.layers.MaxPooling2D())\n",
    "model.add(tf.keras.layers.Conv2D(128, (3, 3), padding = 'same'))\n",
    "model.add(tf.keras.layers.BatchNormalization())\n",
    "model.add(tf.keras.layers.Activation('relu'))\n",
    "model.add(tf.keras.layers.Dropout(0.5))\n",
    "\n",
    "model.add(tf.keras.layers.MaxPooling2D())\n",
    "model.add(tf.keras.layers.Conv2D(128, (3, 3), padding = 'same'))\n",
    "model.add(tf.keras.layers.BatchNormalization())\n",
    "model.add(tf.keras.layers.Activation('relu'))\n",
    "model.add(tf.keras.layers.Dropout(0.5))\n",
    "\n",
    "model.add(tf.keras.layers.MaxPooling2D())\n",
    "model.add(tf.keras.layers.Conv2D(256, (3, 3), padding = 'same'))\n",
    "model.add(tf.keras.layers.BatchNormalization())\n",
    "model.add(tf.keras.layers.Activation('relu'))\n",
    "model.add(tf.keras.layers.Dropout(0.5))\n",
    "\n",
    "model.add(tf.keras.layers.MaxPooling2D())\n",
    "model.add(tf.keras.layers.Conv2D(256, (3, 3), padding = 'same'))\n",
    "model.add(tf.keras.layers.BatchNormalization())\n",
    "model.add(tf.keras.layers.Activation('relu'))\n",
    "model.add(tf.keras.layers.Dropout(0.5))\n",
    "\n",
    "model.add(tf.keras.layers.MaxPooling2D())\n",
    "model.add(tf.keras.layers.Conv2D(512, (3, 3), padding = 'same'))\n",
    "model.add(tf.keras.layers.BatchNormalization())\n",
    "model.add(tf.keras.layers.Activation('relu'))\n",
    "model.add(tf.keras.layers.Dropout(0.5))\n",
    "\n",
    "model.add(tf.keras.layers.MaxPooling2D())\n",
    "model.add(tf.keras.layers.Conv2D(512, (3, 3), padding = 'same'))\n",
    "model.add(tf.keras.layers.BatchNormalization())\n",
    "model.add(tf.keras.layers.Activation('relu'))\n",
    "model.add(tf.keras.layers.Dropout(0.5))\n",
    "\n",
    "model.add(tf.keras.layers.MaxPooling2D())\n",
    "model.add(tf.keras.layers.Conv2D(1024, (3, 3), padding = 'same'))\n",
    "model.add(tf.keras.layers.BatchNormalization())\n",
    "model.add(tf.keras.layers.Activation('relu'))\n",
    "model.add(tf.keras.layers.Dropout(0.5))\n",
    "\n",
    "model.add(tf.keras.layers.GlobalAveragePooling2D())\n",
    "model.add(tf.keras.layers.Dense(1024))\n",
    "model.add(tf.keras.layers.BatchNormalization())\n",
    "model.add(tf.keras.layers.Activation('relu'))\n",
    "model.add(tf.keras.layers.Dropout(0.5))\n",
    "\n",
    "model.add(tf.keras.layers.Dense(256))\n",
    "model.add(tf.keras.layers.BatchNormalization())\n",
    "model.add(tf.keras.layers.Activation('relu'))\n",
    "model.add(tf.keras.layers.Dropout(0.5))\n",
    "\n",
    "model.add(tf.keras.layers.Dense(1, activation = 'sigmoid'))\n",
    "'''"
   ]
  },
  {
   "cell_type": "code",
   "execution_count": 61,
   "metadata": {},
   "outputs": [],
   "source": [
    "\n",
    "model = tf.keras.Sequential()  #顺序模型\n",
    "model.add(tf.keras.layers.Conv2D(64, (3, 3), input_shape = (256, 256, 3), activation = 'relu'))\n",
    "model.add(tf.keras.layers.Conv2D(64, (3, 3), activation = 'relu'))\n",
    "model.add(tf.keras.layers.MaxPooling2D())\n",
    "model.add(tf.keras.layers.Conv2D(128, (3, 3), activation = 'relu'))\n",
    "model.add(tf.keras.layers.Conv2D(128, (3, 3), activation = 'relu'))\n",
    "model.add(tf.keras.layers.MaxPooling2D())\n",
    "model.add(tf.keras.layers.Conv2D(256, (3, 3), activation = 'relu'))\n",
    "model.add(tf.keras.layers.Conv2D(256, (3, 3), activation = 'relu'))\n",
    "model.add(tf.keras.layers.MaxPooling2D())\n",
    "model.add(tf.keras.layers.Conv2D(512, (3, 3), activation = 'relu'))\n",
    "#model.add(tf.keras.layers.MaxPooling2D())\n",
    "model.add(tf.keras.layers.Conv2D(512, (3, 3), activation = 'relu'))\n",
    "model.add(tf.keras.layers.MaxPooling2D())\n",
    "model.add(tf.keras.layers.Conv2D(1024, (3, 3), activation = 'relu'))\n",
    "model.add(tf.keras.layers.Dropout(0.5))\n",
    "model.add(tf.keras.layers.GlobalAveragePooling2D())\n",
    "model.add(tf.keras.layers.Dense(1024, activation = 'relu'))\n",
    "model.add(tf.keras.layers.Dense(256, activation = 'relu'))\n",
    "model.add(tf.keras.layers.Dense(64, activation = 'relu'))\n",
    "model.add(tf.keras.layers.Dense(1, activation = 'sigmoid'))\n"
   ]
  },
  {
   "cell_type": "code",
   "execution_count": 62,
   "metadata": {},
   "outputs": [
    {
     "name": "stdout",
     "output_type": "stream",
     "text": [
      "Model: \"sequential\"\n",
      "_________________________________________________________________\n",
      "Layer (type)                 Output Shape              Param #   \n",
      "=================================================================\n",
      "conv2d (Conv2D)              (None, 254, 254, 64)      1792      \n",
      "_________________________________________________________________\n",
      "conv2d_1 (Conv2D)            (None, 252, 252, 64)      36928     \n",
      "_________________________________________________________________\n",
      "max_pooling2d (MaxPooling2D) (None, 126, 126, 64)      0         \n",
      "_________________________________________________________________\n",
      "conv2d_2 (Conv2D)            (None, 124, 124, 128)     73856     \n",
      "_________________________________________________________________\n",
      "conv2d_3 (Conv2D)            (None, 122, 122, 128)     147584    \n",
      "_________________________________________________________________\n",
      "max_pooling2d_1 (MaxPooling2 (None, 61, 61, 128)       0         \n",
      "_________________________________________________________________\n",
      "conv2d_4 (Conv2D)            (None, 59, 59, 256)       295168    \n",
      "_________________________________________________________________\n",
      "conv2d_5 (Conv2D)            (None, 57, 57, 256)       590080    \n",
      "_________________________________________________________________\n",
      "max_pooling2d_2 (MaxPooling2 (None, 28, 28, 256)       0         \n",
      "_________________________________________________________________\n",
      "conv2d_6 (Conv2D)            (None, 26, 26, 512)       1180160   \n",
      "_________________________________________________________________\n",
      "conv2d_7 (Conv2D)            (None, 24, 24, 512)       2359808   \n",
      "_________________________________________________________________\n",
      "max_pooling2d_3 (MaxPooling2 (None, 12, 12, 512)       0         \n",
      "_________________________________________________________________\n",
      "conv2d_8 (Conv2D)            (None, 10, 10, 1024)      4719616   \n",
      "_________________________________________________________________\n",
      "dropout (Dropout)            (None, 10, 10, 1024)      0         \n",
      "_________________________________________________________________\n",
      "global_average_pooling2d (Gl (None, 1024)              0         \n",
      "_________________________________________________________________\n",
      "dense (Dense)                (None, 1024)              1049600   \n",
      "_________________________________________________________________\n",
      "dense_1 (Dense)              (None, 256)               262400    \n",
      "_________________________________________________________________\n",
      "dense_2 (Dense)              (None, 64)                16448     \n",
      "_________________________________________________________________\n",
      "dense_3 (Dense)              (None, 1)                 65        \n",
      "=================================================================\n",
      "Total params: 10,733,505\n",
      "Trainable params: 10,733,505\n",
      "Non-trainable params: 0\n",
      "_________________________________________________________________\n"
     ]
    }
   ],
   "source": [
    "model.summary()"
   ]
  },
  {
   "cell_type": "code",
   "execution_count": 63,
   "metadata": {},
   "outputs": [],
   "source": [
    "model.compile(optimizer = 'adam',\n",
    "             loss = 'binary_crossentropy',\n",
    "             metrics = ['acc'])"
   ]
  },
  {
   "cell_type": "code",
   "execution_count": 64,
   "metadata": {},
   "outputs": [],
   "source": [
    "steps_per_epoch = train_count//BATCH_SIZE\n",
    "validation_steps = test_count//BATCH_SIZE"
   ]
  },
  {
   "cell_type": "code",
   "execution_count": 65,
   "metadata": {},
   "outputs": [
    {
     "name": "stdout",
     "output_type": "stream",
     "text": [
      "Train for 35 steps, validate for 8 steps\n",
      "Epoch 1/30\n",
      "35/35 [==============================] - 36s 1s/step - loss: 0.6540 - acc: 0.5893 - val_loss: 0.4359 - val_acc: 0.7617\n",
      "Epoch 2/30\n",
      "35/35 [==============================] - 10s 298ms/step - loss: 0.3753 - acc: 0.8705 - val_loss: 1.2050 - val_acc: 0.8086\n",
      "Epoch 3/30\n",
      "35/35 [==============================] - 10s 295ms/step - loss: 0.4375 - acc: 0.8643 - val_loss: 0.2531 - val_acc: 0.9414\n",
      "Epoch 4/30\n",
      "35/35 [==============================] - 10s 300ms/step - loss: 0.1459 - acc: 0.9670 - val_loss: 0.1470 - val_acc: 0.9453\n",
      "Epoch 5/30\n",
      "35/35 [==============================] - 11s 322ms/step - loss: 0.1757 - acc: 0.9366 - val_loss: 0.1162 - val_acc: 0.9570\n",
      "Epoch 6/30\n",
      "35/35 [==============================] - 12s 348ms/step - loss: 0.1768 - acc: 0.9455 - val_loss: 0.1483 - val_acc: 0.9688\n",
      "Epoch 7/30\n",
      "35/35 [==============================] - 12s 350ms/step - loss: 0.1367 - acc: 0.9589 - val_loss: 0.0924 - val_acc: 0.9688\n",
      "Epoch 8/30\n",
      "35/35 [==============================] - 12s 344ms/step - loss: 0.2030 - acc: 0.9527 - val_loss: 0.1376 - val_acc: 0.9492\n",
      "Epoch 9/30\n",
      "35/35 [==============================] - 12s 356ms/step - loss: 0.0877 - acc: 0.9705 - val_loss: 0.0876 - val_acc: 0.9727\n",
      "Epoch 10/30\n",
      "35/35 [==============================] - 12s 356ms/step - loss: 0.1132 - acc: 0.9634 - val_loss: 0.1245 - val_acc: 0.9570\n",
      "Epoch 11/30\n",
      "35/35 [==============================] - 12s 349ms/step - loss: 0.1113 - acc: 0.9625 - val_loss: 0.0856 - val_acc: 0.9609\n",
      "Epoch 12/30\n",
      "35/35 [==============================] - 12s 349ms/step - loss: 0.1337 - acc: 0.9563 - val_loss: 0.1350 - val_acc: 0.9492\n",
      "Epoch 13/30\n",
      "35/35 [==============================] - 12s 350ms/step - loss: 0.1469 - acc: 0.9473 - val_loss: 0.0934 - val_acc: 0.9688\n",
      "Epoch 14/30\n",
      "35/35 [==============================] - 12s 349ms/step - loss: 0.1008 - acc: 0.9661 - val_loss: 0.1219 - val_acc: 0.9531\n",
      "Epoch 15/30\n",
      "35/35 [==============================] - 12s 350ms/step - loss: 0.1295 - acc: 0.9643 - val_loss: 0.1392 - val_acc: 0.9453\n",
      "Epoch 16/30\n",
      "35/35 [==============================] - 12s 354ms/step - loss: 0.1172 - acc: 0.9661 - val_loss: 0.0803 - val_acc: 0.9727\n",
      "Epoch 17/30\n",
      "35/35 [==============================] - 12s 353ms/step - loss: 0.1078 - acc: 0.9652 - val_loss: 0.0735 - val_acc: 0.9766\n",
      "Epoch 18/30\n",
      "35/35 [==============================] - 12s 349ms/step - loss: 0.1491 - acc: 0.9679 - val_loss: 0.2234 - val_acc: 0.9609\n",
      "Epoch 19/30\n",
      "35/35 [==============================] - 12s 351ms/step - loss: 0.1833 - acc: 0.9589 - val_loss: 0.2322 - val_acc: 0.9023\n",
      "Epoch 20/30\n",
      "35/35 [==============================] - 11s 321ms/step - loss: 0.1913 - acc: 0.9366 - val_loss: 0.1037 - val_acc: 0.9727\n",
      "Epoch 21/30\n",
      "35/35 [==============================] - 12s 351ms/step - loss: 0.0950 - acc: 0.9723 - val_loss: 0.1026 - val_acc: 0.9766\n",
      "Epoch 22/30\n",
      "35/35 [==============================] - 10s 294ms/step - loss: 0.0764 - acc: 0.9759 - val_loss: 0.0955 - val_acc: 0.9648\n",
      "Epoch 23/30\n",
      "35/35 [==============================] - 11s 310ms/step - loss: 0.0738 - acc: 0.9750 - val_loss: 0.0786 - val_acc: 0.9727\n",
      "Epoch 24/30\n",
      "35/35 [==============================] - 12s 350ms/step - loss: 0.1260 - acc: 0.9688 - val_loss: 0.1274 - val_acc: 0.9609\n",
      "Epoch 25/30\n",
      "35/35 [==============================] - 12s 350ms/step - loss: 0.0830 - acc: 0.9741 - val_loss: 0.0808 - val_acc: 0.9688\n",
      "Epoch 26/30\n",
      "35/35 [==============================] - 12s 350ms/step - loss: 0.0659 - acc: 0.9804 - val_loss: 0.0926 - val_acc: 0.9766\n",
      "Epoch 27/30\n",
      "35/35 [==============================] - 12s 349ms/step - loss: 0.1048 - acc: 0.9696 - val_loss: 0.0645 - val_acc: 0.9844\n",
      "Epoch 28/30\n",
      "35/35 [==============================] - 12s 350ms/step - loss: 0.0639 - acc: 0.9804 - val_loss: 0.1465 - val_acc: 0.9375\n",
      "Epoch 29/30\n",
      "35/35 [==============================] - 12s 350ms/step - loss: 0.0720 - acc: 0.9786 - val_loss: 0.0595 - val_acc: 0.9883\n",
      "Epoch 30/30\n",
      "35/35 [==============================] - 12s 349ms/step - loss: 0.0696 - acc: 0.9777 - val_loss: 0.0793 - val_acc: 0.9844\n"
     ]
    }
   ],
   "source": [
    "history = model.fit(train_dataset, \n",
    "                    epochs= 30,\n",
    "                    steps_per_epoch = steps_per_epoch,\n",
    "                    validation_data = test_dataset,\n",
    "                    validation_steps = validation_steps)"
   ]
  },
  {
   "cell_type": "code",
   "execution_count": 66,
   "metadata": {},
   "outputs": [
    {
     "data": {
      "text/plain": [
       "dict_keys(['loss', 'acc', 'val_loss', 'val_acc'])"
      ]
     },
     "execution_count": 66,
     "metadata": {},
     "output_type": "execute_result"
    }
   ],
   "source": [
    "history.history.keys()"
   ]
  },
  {
   "cell_type": "code",
   "execution_count": 67,
   "metadata": {},
   "outputs": [
    {
     "data": {
      "text/plain": [
       "<matplotlib.legend.Legend at 0x1905a471948>"
      ]
     },
     "execution_count": 67,
     "metadata": {},
     "output_type": "execute_result"
    },
    {
     "data": {
      "image/png": "[encoded data removed]",
      "text/plain": [
       "<Figure size 432x288 with 1 Axes>"
      ]
     },
     "metadata": {
      "needs_background": "light"
     },
     "output_type": "display_data"
    }
   ],
   "source": [
    "plt.plot(history.epoch, history.history.get('acc'), label = 'acc')\n",
    "plt.plot(history.epoch, history.history.get('val_acc'), label = 'val_acc')\n",
    "plt.legend()"
   ]
  },
  {
   "cell_type": "code",
   "execution_count": 68,
   "metadata": {},
   "outputs": [
    {
     "data": {
      "text/plain": [
       "<matplotlib.legend.Legend at 0x19048f48d08>"
      ]
     },
     "execution_count": 68,
     "metadata": {},
     "output_type": "execute_result"
    },
    {
     "data": {
      "image/png": "[encoded data removed]",
      "text/plain": [
       "<Figure size 432x288 with 1 Axes>"
      ]
     },
     "metadata": {
      "needs_background": "light"
     },
     "output_type": "display_data"
    }
   ],
   "source": [
    "plt.plot(history.epoch, history.history.get('loss'), label = 'loss')\n",
    "plt.plot(history.epoch, history.history.get('val_loss'), label = 'val_loss')\n",
    "plt.legend()"
   ]
  },
  {
   "cell_type": "code",
   "execution_count": 69,
   "metadata": {},
   "outputs": [
    {
     "name": "stdout",
     "output_type": "stream",
     "text": [
      "9/9 - 2s - loss: 0.0753 - acc: 0.9821\n",
      "\n",
      " Test accuracy: 0.98214287\n"
     ]
    }
   ],
   "source": [
    "test_loss, test_acc = model.evaluate(test_dataset, verbose = 2)\n",
    "print('\\n Test accuracy:', test_acc)"
   ]
  },
  {
   "cell_type": "code",
   "execution_count": 70,
   "metadata": {},
   "outputs": [],
   "source": [
    "predict = model.predict(test_dataset)"
   ]
  },
  {
   "cell_type": "code",
   "execution_count": 71,
   "metadata": {},
   "outputs": [
    {
     "data": {
      "text/plain": [
       "<BatchDataset shapes: ((None, 256, 256, 3), (None,)), types: (tf.float32, tf.int32)>"
      ]
     },
     "execution_count": 71,
     "metadata": {},
     "output_type": "execute_result"
    }
   ],
   "source": [
    "test_dataset"
   ]
  },
  {
   "cell_type": "markdown",
   "metadata": {},
   "source": [
    "# 保存模型"
   ]
  },
  {
   "cell_type": "code",
   "execution_count": 74,
   "metadata": {},
   "outputs": [],
   "source": [
    "# 1.保存整个模型(包含：权重、配置（架构）、优化器)\n",
    "model.save('E:/TF_project/learn/model/two_class.h5')"
   ]
  },
  {
   "cell_type": "code",
   "execution_count": 75,
   "metadata": {},
   "outputs": [],
   "source": [
    "new_model = tf.keras.models.load_model('E:/TF_project/learn/model/two_class.h5')"
   ]
  },
  {
   "cell_type": "code",
   "execution_count": 76,
   "metadata": {},
   "outputs": [
    {
     "name": "stdout",
     "output_type": "stream",
     "text": [
      "9/9 [==============================] - 1s 116ms/step - loss: 0.0753 - acc: 0.9821\n"
     ]
    },
    {
     "data": {
      "text/plain": [
       "[0.07530602305713627, 0.98214287]"
      ]
     },
     "execution_count": 76,
     "metadata": {},
     "output_type": "execute_result"
    }
   ],
   "source": [
    "new_model.evaluate(test_dataset)"
   ]
  },
  {
   "cell_type": "code",
   "execution_count": null,
   "metadata": {},
   "outputs": [],
   "source": []
  },
  {
   "cell_type": "code",
   "execution_count": 91,
   "metadata": {},
   "outputs": [],
   "source": [
    "# 2.仅保存架构（不保存权重、优化器）\n",
    "json_config = model.to_json()"
   ]
  },
  {
   "cell_type": "code",
   "execution_count": 92,
   "metadata": {},
   "outputs": [],
   "source": [
    "reinitialized_model = tf.keras.models.model_from_json(json_config)"
   ]
  },
  {
   "cell_type": "code",
   "execution_count": 93,
   "metadata": {
    "scrolled": true
   },
   "outputs": [
    {
     "name": "stdout",
     "output_type": "stream",
     "text": [
      "Model: \"sequential\"\n",
      "_________________________________________________________________\n",
      "Layer (type)                 Output Shape              Param #   \n",
      "=================================================================\n",
      "conv2d (Conv2D)              (None, 254, 254, 64)      1792      \n",
      "_________________________________________________________________\n",
      "conv2d_1 (Conv2D)            (None, 252, 252, 64)      36928     \n",
      "_________________________________________________________________\n",
      "max_pooling2d (MaxPooling2D) (None, 126, 126, 64)      0         \n",
      "_________________________________________________________________\n",
      "conv2d_2 (Conv2D)            (None, 124, 124, 128)     73856     \n",
      "_________________________________________________________________\n",
      "conv2d_3 (Conv2D)            (None, 122, 122, 128)     147584    \n",
      "_________________________________________________________________\n",
      "max_pooling2d_1 (MaxPooling2 (None, 61, 61, 128)       0         \n",
      "_________________________________________________________________\n",
      "conv2d_4 (Conv2D)            (None, 59, 59, 256)       295168    \n",
      "_________________________________________________________________\n",
      "conv2d_5 (Conv2D)            (None, 57, 57, 256)       590080    \n",
      "_________________________________________________________________\n",
      "max_pooling2d_2 (MaxPooling2 (None, 28, 28, 256)       0         \n",
      "_________________________________________________________________\n",
      "conv2d_6 (Conv2D)            (None, 26, 26, 512)       1180160   \n",
      "_________________________________________________________________\n",
      "conv2d_7 (Conv2D)            (None, 24, 24, 512)       2359808   \n",
      "_________________________________________________________________\n",
      "max_pooling2d_3 (MaxPooling2 (None, 12, 12, 512)       0         \n",
      "_________________________________________________________________\n",
      "conv2d_8 (Conv2D)            (None, 10, 10, 1024)      4719616   \n",
      "_________________________________________________________________\n",
      "dropout (Dropout)            (None, 10, 10, 1024)      0         \n",
      "_________________________________________________________________\n",
      "global_average_pooling2d (Gl (None, 1024)              0         \n",
      "_________________________________________________________________\n",
      "dense (Dense)                (None, 1024)              1049600   \n",
      "_________________________________________________________________\n",
      "dense_1 (Dense)              (None, 256)               262400    \n",
      "_________________________________________________________________\n",
      "dense_2 (Dense)              (None, 64)                16448     \n",
      "_________________________________________________________________\n",
      "dense_3 (Dense)              (None, 1)                 65        \n",
      "=================================================================\n",
      "Total params: 10,733,505\n",
      "Trainable params: 10,733,505\n",
      "Non-trainable params: 0\n",
      "_________________________________________________________________\n"
     ]
    }
   ],
   "source": [
    "reinitialized_model.summary()"
   ]
  },
  {
   "cell_type": "code",
   "execution_count": 94,
   "metadata": {},
   "outputs": [],
   "source": [
    "reinitialized_model.compile(optimizer = 'adam',\n",
    "                            loss = 'binary_crossentropy',\n",
    "                            metrics = ['acc'])"
   ]
  },
  {
   "cell_type": "code",
   "execution_count": 95,
   "metadata": {},
   "outputs": [
    {
     "name": "stdout",
     "output_type": "stream",
     "text": [
      "9/9 [==============================] - 1s 112ms/step - loss: 0.6937 - acc: 0.4857\n"
     ]
    },
    {
     "data": {
      "text/plain": [
       "[0.6937317053476969, 0.4857143]"
      ]
     },
     "execution_count": 95,
     "metadata": {},
     "output_type": "execute_result"
    }
   ],
   "source": [
    "reinitialized_model.evaluate(test_dataset)"
   ]
  },
  {
   "cell_type": "code",
   "execution_count": 96,
   "metadata": {},
   "outputs": [],
   "source": [
    "# 3.仅保存权重\n",
    "weights = model.get_weights()\n",
    "reinitialized_model.set_weights(weights)"
   ]
  },
  {
   "cell_type": "code",
   "execution_count": 97,
   "metadata": {},
   "outputs": [],
   "source": [
    "model.save_weights('E:/TF_project/learn/model/two_class_weights.h5')"
   ]
  },
  {
   "cell_type": "code",
   "execution_count": 98,
   "metadata": {},
   "outputs": [
    {
     "name": "stdout",
     "output_type": "stream",
     "text": [
      "9/9 [==============================] - 1s 103ms/step - loss: 0.0753 - acc: 0.9821\n"
     ]
    },
    {
     "data": {
      "text/plain": [
       "[0.07530602305713627, 0.98214287]"
      ]
     },
     "execution_count": 98,
     "metadata": {},
     "output_type": "execute_result"
    }
   ],
   "source": [
    "reinitialized_model.evaluate(test_dataset)"
   ]
  },
  {
   "cell_type": "code",
   "execution_count": null,
   "metadata": {},
   "outputs": [],
   "source": []
  },
  {
   "cell_type": "markdown",
   "metadata": {},
   "source": [
    "# 在训练期间保存检查点"
   ]
  },
  {
   "cell_type": "code",
   "execution_count": 99,
   "metadata": {},
   "outputs": [],
   "source": [
    "checkpoint_path = './training_checkpoint/two_class.cpkt'"
   ]
  },
  {
   "cell_type": "code",
   "execution_count": 100,
   "metadata": {},
   "outputs": [],
   "source": [
    "cp_callback = tf.keras.callbacks.ModelCheckpoint(checkpoint_path,\n",
    "                                                 save_weights_only = True)"
   ]
  },
  {
   "cell_type": "code",
   "execution_count": 110,
   "metadata": {},
   "outputs": [],
   "source": [
    "reinitialized_model = tf.keras.Sequential()\n",
    "reinitialized_model.add(tf.keras.layers.Flatten(input_shape = (256, 256, 3)))\n",
    "reinitialized_model.add(tf.keras.layers.Dense(128, activation = 'relu'))\n",
    "reinitialized_model.add(tf.keras.layers.Dense(1, activation = 'sigmoid'))"
   ]
  },
  {
   "cell_type": "code",
   "execution_count": 111,
   "metadata": {},
   "outputs": [],
   "source": [
    "reinitialized_model.compile(optimizer = 'adam',\n",
    "                            loss = 'sparse_categorical_crossentropy',\n",
    "                            metrics = ['acc'])"
   ]
  },
  {
   "cell_type": "code",
   "execution_count": 112,
   "metadata": {},
   "outputs": [
    {
     "name": "stdout",
     "output_type": "stream",
     "text": [
      "9/9 [==============================] - 0s 47ms/step - loss: nan - acc: 0.4643\n"
     ]
    },
    {
     "data": {
      "text/plain": [
       "[nan, 0.4642857]"
      ]
     },
     "execution_count": 112,
     "metadata": {},
     "output_type": "execute_result"
    }
   ],
   "source": [
    "reinitialized_model.evaluate(test_dataset)"
   ]
  },
  {
   "cell_type": "code",
   "execution_count": 106,
   "metadata": {},
   "outputs": [
    {
     "name": "stdout",
     "output_type": "stream",
     "text": [
      "Train for 35 steps, validate for 8 steps\n",
      "Epoch 1/3\n",
      "35/35 [==============================] - 6s 179ms/step - loss: nan - acc: 0.4991 - val_loss: nan - val_acc: 0.5234\n",
      "Epoch 2/3\n",
      "35/35 [==============================] - 4s 119ms/step - loss: nan - acc: 0.5152 - val_loss: nan - val_acc: 0.5234\n",
      "Epoch 3/3\n",
      "35/35 [==============================] - 4s 116ms/step - loss: nan - acc: 0.4714 - val_loss: nan - val_acc: 0.5234\n"
     ]
    },
    {
     "data": {
      "text/plain": [
       "<tensorflow.python.keras.callbacks.History at 0x192d4023808>"
      ]
     },
     "execution_count": 106,
     "metadata": {},
     "output_type": "execute_result"
    }
   ],
   "source": [
    "reinitialized_model.fit(train_dataset, \n",
    "                        epochs= 3,\n",
    "                        steps_per_epoch = steps_per_epoch,\n",
    "                        validation_data = test_dataset,\n",
    "                        validation_steps = validation_steps,\n",
    "                        callbacks = [cp_callback])"
   ]
  },
  {
   "cell_type": "code",
   "execution_count": 113,
   "metadata": {},
   "outputs": [
    {
     "data": {
      "text/plain": [
       "<tensorflow.python.training.tracking.util.CheckpointLoadStatus at 0x192d4fa3dc8>"
      ]
     },
     "execution_count": 113,
     "metadata": {},
     "output_type": "execute_result"
    }
   ],
   "source": [
    "reinitialized_model.load_weights(checkpoint_path)"
   ]
  },
  {
   "cell_type": "code",
   "execution_count": 114,
   "metadata": {},
   "outputs": [
    {
     "name": "stdout",
     "output_type": "stream",
     "text": [
      "9/9 [==============================] - 0s 40ms/step - loss: nan - acc: 0.5143\n"
     ]
    },
    {
     "data": {
      "text/plain": [
       "[nan, 0.51428574]"
      ]
     },
     "execution_count": 114,
     "metadata": {},
     "output_type": "execute_result"
    }
   ],
   "source": [
    "reinitialized_model.evaluate(test_dataset)"
   ]
  },
  {
   "cell_type": "code",
   "execution_count": null,
   "metadata": {},
   "outputs": [],
   "source": []
  }
 ],
 "metadata": {
  "kernelspec": {
   "display_name": "Python 3",
   "language": "python",
   "name": "python3"
  },
  "language_info": {
   "codemirror_mode": {
    "name": "ipython",
    "version": 3
   },
   "file_extension": ".py",
   "mimetype": "text/x-python",
   "name": "python",
   "nbconvert_exporter": "python",
   "pygments_lexer": "ipython3",
   "version": "3.7.6"
  }
 },
 "nbformat": 4,
 "nbformat_minor": 4
}
